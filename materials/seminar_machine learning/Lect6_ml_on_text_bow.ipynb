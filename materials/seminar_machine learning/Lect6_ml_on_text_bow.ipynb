{
 "cells": [
  {
   "cell_type": "code",
   "execution_count": 1,
   "metadata": {},
   "outputs": [
    {
     "name": "stderr",
     "output_type": "stream",
     "text": [
      "/opt/anaconda/envs/bd9/lib/python3.6/site-packages/sklearn/cross_validation.py:41: DeprecationWarning: This module was deprecated in version 0.18 in favor of the model_selection module into which all the refactored classes and functions are moved. Also note that the interface of the new CV iterators are different from that of this module. This module will be removed in 0.20.\n",
      "  \"This module will be removed in 0.20.\", DeprecationWarning)\n",
      "/opt/anaconda/envs/bd9/lib/python3.6/site-packages/sklearn/grid_search.py:42: DeprecationWarning: This module was deprecated in version 0.18 in favor of the model_selection module into which all the refactored classes and functions are moved. This module will be removed in 0.20.\n",
      "  DeprecationWarning)\n"
     ]
    }
   ],
   "source": [
    "%matplotlib inline\n",
    "\n",
    "import json\n",
    "import math\n",
    "\n",
    "import numpy\n",
    "import matplotlib.pyplot as plot\n",
    "import pandas as pd\n",
    "\n",
    "from sklearn.feature_extraction.text import CountVectorizer, TfidfVectorizer\n",
    "from sklearn.linear_model import LogisticRegression\n",
    "from sklearn.cross_validation import train_test_split\n",
    "from sklearn import metrics\n",
    "from sklearn.grid_search import GridSearchCV#, RandomizedSearchCV"
   ]
  },
  {
   "cell_type": "code",
   "execution_count": 2,
   "metadata": {},
   "outputs": [],
   "source": [
    "with open('./sentiment_data/pos_reviews.json') as data_file:    \n",
    "    data_pos = json.load(data_file)\n",
    "with open('./sentiment_data/neg_reviews.json') as data_file:    \n",
    "    data_neg = json.load(data_file)"
   ]
  },
  {
   "cell_type": "code",
   "execution_count": 3,
   "metadata": {},
   "outputs": [],
   "source": [
    "pos_texts = list(data_pos.keys())\n",
    "neg_texts = list(data_neg.keys())\n",
    "all_texts = pos_texts + neg_texts"
   ]
  },
  {
   "cell_type": "code",
   "execution_count": 4,
   "metadata": {},
   "outputs": [],
   "source": [
    "target = [1]*1000 + [0]*1000"
   ]
  },
  {
   "cell_type": "code",
   "execution_count": 5,
   "metadata": {},
   "outputs": [],
   "source": [
    "count_vect = CountVectorizer()\n",
    "matrix_count = count_vect.fit_transform(all_texts).toarray()"
   ]
  },
  {
   "cell_type": "code",
   "execution_count": 27,
   "metadata": {},
   "outputs": [
    {
     "data": {
      "text/plain": [
       "(2000, 39659)"
      ]
     },
     "execution_count": 27,
     "metadata": {},
     "output_type": "execute_result"
    }
   ],
   "source": [
    "matrix_count.shape"
   ]
  },
  {
   "cell_type": "code",
   "execution_count": 7,
   "metadata": {},
   "outputs": [
    {
     "data": {
      "text/html": [
       "<div>\n",
       "<style scoped>\n",
       "    .dataframe tbody tr th:only-of-type {\n",
       "        vertical-align: middle;\n",
       "    }\n",
       "\n",
       "    .dataframe tbody tr th {\n",
       "        vertical-align: top;\n",
       "    }\n",
       "\n",
       "    .dataframe thead th {\n",
       "        text-align: right;\n",
       "    }\n",
       "</style>\n",
       "<table border=\"1\" class=\"dataframe\">\n",
       "  <thead>\n",
       "    <tr style=\"text-align: right;\">\n",
       "      <th></th>\n",
       "      <th>00</th>\n",
       "      <th>000</th>\n",
       "      <th>0009f</th>\n",
       "      <th>007</th>\n",
       "      <th>00s</th>\n",
       "      <th>03</th>\n",
       "      <th>04</th>\n",
       "      <th>05</th>\n",
       "      <th>05425</th>\n",
       "      <th>10</th>\n",
       "      <th>...</th>\n",
       "      <th>zukovsky</th>\n",
       "      <th>zulu</th>\n",
       "      <th>zundel</th>\n",
       "      <th>zurg</th>\n",
       "      <th>zus</th>\n",
       "      <th>zweibel</th>\n",
       "      <th>zwick</th>\n",
       "      <th>zwigoff</th>\n",
       "      <th>zycie</th>\n",
       "      <th>zzzzzzz</th>\n",
       "    </tr>\n",
       "  </thead>\n",
       "  <tbody>\n",
       "    <tr>\n",
       "      <th>0</th>\n",
       "      <td>0</td>\n",
       "      <td>0</td>\n",
       "      <td>0</td>\n",
       "      <td>0</td>\n",
       "      <td>0</td>\n",
       "      <td>0</td>\n",
       "      <td>0</td>\n",
       "      <td>0</td>\n",
       "      <td>0</td>\n",
       "      <td>0</td>\n",
       "      <td>...</td>\n",
       "      <td>0</td>\n",
       "      <td>0</td>\n",
       "      <td>0</td>\n",
       "      <td>0</td>\n",
       "      <td>0</td>\n",
       "      <td>0</td>\n",
       "      <td>0</td>\n",
       "      <td>0</td>\n",
       "      <td>0</td>\n",
       "      <td>0</td>\n",
       "    </tr>\n",
       "    <tr>\n",
       "      <th>1</th>\n",
       "      <td>0</td>\n",
       "      <td>0</td>\n",
       "      <td>0</td>\n",
       "      <td>0</td>\n",
       "      <td>0</td>\n",
       "      <td>0</td>\n",
       "      <td>0</td>\n",
       "      <td>0</td>\n",
       "      <td>0</td>\n",
       "      <td>0</td>\n",
       "      <td>...</td>\n",
       "      <td>0</td>\n",
       "      <td>0</td>\n",
       "      <td>0</td>\n",
       "      <td>0</td>\n",
       "      <td>0</td>\n",
       "      <td>0</td>\n",
       "      <td>0</td>\n",
       "      <td>0</td>\n",
       "      <td>0</td>\n",
       "      <td>0</td>\n",
       "    </tr>\n",
       "    <tr>\n",
       "      <th>2</th>\n",
       "      <td>0</td>\n",
       "      <td>0</td>\n",
       "      <td>0</td>\n",
       "      <td>0</td>\n",
       "      <td>0</td>\n",
       "      <td>0</td>\n",
       "      <td>0</td>\n",
       "      <td>0</td>\n",
       "      <td>0</td>\n",
       "      <td>0</td>\n",
       "      <td>...</td>\n",
       "      <td>0</td>\n",
       "      <td>0</td>\n",
       "      <td>0</td>\n",
       "      <td>0</td>\n",
       "      <td>0</td>\n",
       "      <td>0</td>\n",
       "      <td>0</td>\n",
       "      <td>0</td>\n",
       "      <td>0</td>\n",
       "      <td>0</td>\n",
       "    </tr>\n",
       "    <tr>\n",
       "      <th>3</th>\n",
       "      <td>0</td>\n",
       "      <td>0</td>\n",
       "      <td>0</td>\n",
       "      <td>0</td>\n",
       "      <td>0</td>\n",
       "      <td>0</td>\n",
       "      <td>0</td>\n",
       "      <td>0</td>\n",
       "      <td>0</td>\n",
       "      <td>0</td>\n",
       "      <td>...</td>\n",
       "      <td>0</td>\n",
       "      <td>0</td>\n",
       "      <td>0</td>\n",
       "      <td>0</td>\n",
       "      <td>0</td>\n",
       "      <td>0</td>\n",
       "      <td>0</td>\n",
       "      <td>0</td>\n",
       "      <td>0</td>\n",
       "      <td>0</td>\n",
       "    </tr>\n",
       "    <tr>\n",
       "      <th>4</th>\n",
       "      <td>0</td>\n",
       "      <td>0</td>\n",
       "      <td>0</td>\n",
       "      <td>0</td>\n",
       "      <td>0</td>\n",
       "      <td>0</td>\n",
       "      <td>0</td>\n",
       "      <td>0</td>\n",
       "      <td>0</td>\n",
       "      <td>0</td>\n",
       "      <td>...</td>\n",
       "      <td>0</td>\n",
       "      <td>0</td>\n",
       "      <td>0</td>\n",
       "      <td>0</td>\n",
       "      <td>0</td>\n",
       "      <td>0</td>\n",
       "      <td>0</td>\n",
       "      <td>0</td>\n",
       "      <td>0</td>\n",
       "      <td>0</td>\n",
       "    </tr>\n",
       "    <tr>\n",
       "      <th>5</th>\n",
       "      <td>0</td>\n",
       "      <td>0</td>\n",
       "      <td>0</td>\n",
       "      <td>0</td>\n",
       "      <td>0</td>\n",
       "      <td>0</td>\n",
       "      <td>0</td>\n",
       "      <td>0</td>\n",
       "      <td>0</td>\n",
       "      <td>0</td>\n",
       "      <td>...</td>\n",
       "      <td>0</td>\n",
       "      <td>0</td>\n",
       "      <td>0</td>\n",
       "      <td>0</td>\n",
       "      <td>0</td>\n",
       "      <td>0</td>\n",
       "      <td>0</td>\n",
       "      <td>0</td>\n",
       "      <td>0</td>\n",
       "      <td>0</td>\n",
       "    </tr>\n",
       "    <tr>\n",
       "      <th>6</th>\n",
       "      <td>0</td>\n",
       "      <td>0</td>\n",
       "      <td>0</td>\n",
       "      <td>0</td>\n",
       "      <td>0</td>\n",
       "      <td>0</td>\n",
       "      <td>0</td>\n",
       "      <td>0</td>\n",
       "      <td>0</td>\n",
       "      <td>0</td>\n",
       "      <td>...</td>\n",
       "      <td>0</td>\n",
       "      <td>0</td>\n",
       "      <td>0</td>\n",
       "      <td>0</td>\n",
       "      <td>0</td>\n",
       "      <td>0</td>\n",
       "      <td>0</td>\n",
       "      <td>0</td>\n",
       "      <td>0</td>\n",
       "      <td>0</td>\n",
       "    </tr>\n",
       "    <tr>\n",
       "      <th>7</th>\n",
       "      <td>0</td>\n",
       "      <td>0</td>\n",
       "      <td>0</td>\n",
       "      <td>0</td>\n",
       "      <td>0</td>\n",
       "      <td>0</td>\n",
       "      <td>0</td>\n",
       "      <td>0</td>\n",
       "      <td>0</td>\n",
       "      <td>0</td>\n",
       "      <td>...</td>\n",
       "      <td>0</td>\n",
       "      <td>0</td>\n",
       "      <td>0</td>\n",
       "      <td>0</td>\n",
       "      <td>0</td>\n",
       "      <td>0</td>\n",
       "      <td>0</td>\n",
       "      <td>0</td>\n",
       "      <td>0</td>\n",
       "      <td>0</td>\n",
       "    </tr>\n",
       "    <tr>\n",
       "      <th>8</th>\n",
       "      <td>0</td>\n",
       "      <td>0</td>\n",
       "      <td>0</td>\n",
       "      <td>0</td>\n",
       "      <td>0</td>\n",
       "      <td>0</td>\n",
       "      <td>0</td>\n",
       "      <td>0</td>\n",
       "      <td>0</td>\n",
       "      <td>0</td>\n",
       "      <td>...</td>\n",
       "      <td>0</td>\n",
       "      <td>0</td>\n",
       "      <td>0</td>\n",
       "      <td>0</td>\n",
       "      <td>0</td>\n",
       "      <td>0</td>\n",
       "      <td>0</td>\n",
       "      <td>0</td>\n",
       "      <td>0</td>\n",
       "      <td>0</td>\n",
       "    </tr>\n",
       "    <tr>\n",
       "      <th>9</th>\n",
       "      <td>0</td>\n",
       "      <td>0</td>\n",
       "      <td>0</td>\n",
       "      <td>0</td>\n",
       "      <td>0</td>\n",
       "      <td>0</td>\n",
       "      <td>0</td>\n",
       "      <td>0</td>\n",
       "      <td>0</td>\n",
       "      <td>0</td>\n",
       "      <td>...</td>\n",
       "      <td>0</td>\n",
       "      <td>0</td>\n",
       "      <td>0</td>\n",
       "      <td>0</td>\n",
       "      <td>0</td>\n",
       "      <td>0</td>\n",
       "      <td>0</td>\n",
       "      <td>0</td>\n",
       "      <td>0</td>\n",
       "      <td>0</td>\n",
       "    </tr>\n",
       "    <tr>\n",
       "      <th>10</th>\n",
       "      <td>0</td>\n",
       "      <td>0</td>\n",
       "      <td>0</td>\n",
       "      <td>0</td>\n",
       "      <td>0</td>\n",
       "      <td>0</td>\n",
       "      <td>0</td>\n",
       "      <td>0</td>\n",
       "      <td>0</td>\n",
       "      <td>0</td>\n",
       "      <td>...</td>\n",
       "      <td>0</td>\n",
       "      <td>0</td>\n",
       "      <td>0</td>\n",
       "      <td>0</td>\n",
       "      <td>0</td>\n",
       "      <td>0</td>\n",
       "      <td>0</td>\n",
       "      <td>0</td>\n",
       "      <td>0</td>\n",
       "      <td>0</td>\n",
       "    </tr>\n",
       "    <tr>\n",
       "      <th>11</th>\n",
       "      <td>0</td>\n",
       "      <td>0</td>\n",
       "      <td>0</td>\n",
       "      <td>0</td>\n",
       "      <td>0</td>\n",
       "      <td>0</td>\n",
       "      <td>0</td>\n",
       "      <td>0</td>\n",
       "      <td>0</td>\n",
       "      <td>0</td>\n",
       "      <td>...</td>\n",
       "      <td>0</td>\n",
       "      <td>0</td>\n",
       "      <td>0</td>\n",
       "      <td>0</td>\n",
       "      <td>0</td>\n",
       "      <td>0</td>\n",
       "      <td>0</td>\n",
       "      <td>0</td>\n",
       "      <td>0</td>\n",
       "      <td>0</td>\n",
       "    </tr>\n",
       "    <tr>\n",
       "      <th>12</th>\n",
       "      <td>0</td>\n",
       "      <td>0</td>\n",
       "      <td>0</td>\n",
       "      <td>1</td>\n",
       "      <td>0</td>\n",
       "      <td>0</td>\n",
       "      <td>0</td>\n",
       "      <td>0</td>\n",
       "      <td>0</td>\n",
       "      <td>0</td>\n",
       "      <td>...</td>\n",
       "      <td>0</td>\n",
       "      <td>0</td>\n",
       "      <td>0</td>\n",
       "      <td>0</td>\n",
       "      <td>0</td>\n",
       "      <td>0</td>\n",
       "      <td>0</td>\n",
       "      <td>0</td>\n",
       "      <td>0</td>\n",
       "      <td>0</td>\n",
       "    </tr>\n",
       "    <tr>\n",
       "      <th>13</th>\n",
       "      <td>0</td>\n",
       "      <td>0</td>\n",
       "      <td>0</td>\n",
       "      <td>0</td>\n",
       "      <td>0</td>\n",
       "      <td>0</td>\n",
       "      <td>0</td>\n",
       "      <td>0</td>\n",
       "      <td>0</td>\n",
       "      <td>0</td>\n",
       "      <td>...</td>\n",
       "      <td>0</td>\n",
       "      <td>0</td>\n",
       "      <td>0</td>\n",
       "      <td>0</td>\n",
       "      <td>0</td>\n",
       "      <td>0</td>\n",
       "      <td>0</td>\n",
       "      <td>0</td>\n",
       "      <td>0</td>\n",
       "      <td>0</td>\n",
       "    </tr>\n",
       "    <tr>\n",
       "      <th>14</th>\n",
       "      <td>0</td>\n",
       "      <td>0</td>\n",
       "      <td>0</td>\n",
       "      <td>0</td>\n",
       "      <td>0</td>\n",
       "      <td>0</td>\n",
       "      <td>0</td>\n",
       "      <td>0</td>\n",
       "      <td>0</td>\n",
       "      <td>0</td>\n",
       "      <td>...</td>\n",
       "      <td>0</td>\n",
       "      <td>0</td>\n",
       "      <td>0</td>\n",
       "      <td>0</td>\n",
       "      <td>0</td>\n",
       "      <td>0</td>\n",
       "      <td>0</td>\n",
       "      <td>0</td>\n",
       "      <td>0</td>\n",
       "      <td>0</td>\n",
       "    </tr>\n",
       "  </tbody>\n",
       "</table>\n",
       "<p>15 rows × 39659 columns</p>\n",
       "</div>"
      ],
      "text/plain": [
       "    00  000  0009f  007  00s  03  04  05  05425  10   ...     zukovsky  zulu  \\\n",
       "0    0    0      0    0    0   0   0   0      0   0   ...            0     0   \n",
       "1    0    0      0    0    0   0   0   0      0   0   ...            0     0   \n",
       "2    0    0      0    0    0   0   0   0      0   0   ...            0     0   \n",
       "3    0    0      0    0    0   0   0   0      0   0   ...            0     0   \n",
       "4    0    0      0    0    0   0   0   0      0   0   ...            0     0   \n",
       "5    0    0      0    0    0   0   0   0      0   0   ...            0     0   \n",
       "6    0    0      0    0    0   0   0   0      0   0   ...            0     0   \n",
       "7    0    0      0    0    0   0   0   0      0   0   ...            0     0   \n",
       "8    0    0      0    0    0   0   0   0      0   0   ...            0     0   \n",
       "9    0    0      0    0    0   0   0   0      0   0   ...            0     0   \n",
       "10   0    0      0    0    0   0   0   0      0   0   ...            0     0   \n",
       "11   0    0      0    0    0   0   0   0      0   0   ...            0     0   \n",
       "12   0    0      0    1    0   0   0   0      0   0   ...            0     0   \n",
       "13   0    0      0    0    0   0   0   0      0   0   ...            0     0   \n",
       "14   0    0      0    0    0   0   0   0      0   0   ...            0     0   \n",
       "\n",
       "    zundel  zurg  zus  zweibel  zwick  zwigoff  zycie  zzzzzzz  \n",
       "0        0     0    0        0      0        0      0        0  \n",
       "1        0     0    0        0      0        0      0        0  \n",
       "2        0     0    0        0      0        0      0        0  \n",
       "3        0     0    0        0      0        0      0        0  \n",
       "4        0     0    0        0      0        0      0        0  \n",
       "5        0     0    0        0      0        0      0        0  \n",
       "6        0     0    0        0      0        0      0        0  \n",
       "7        0     0    0        0      0        0      0        0  \n",
       "8        0     0    0        0      0        0      0        0  \n",
       "9        0     0    0        0      0        0      0        0  \n",
       "10       0     0    0        0      0        0      0        0  \n",
       "11       0     0    0        0      0        0      0        0  \n",
       "12       0     0    0        0      0        0      0        0  \n",
       "13       0     0    0        0      0        0      0        0  \n",
       "14       0     0    0        0      0        0      0        0  \n",
       "\n",
       "[15 rows x 39659 columns]"
      ]
     },
     "execution_count": 7,
     "metadata": {},
     "output_type": "execute_result"
    }
   ],
   "source": [
    "words = [x[0] for x in sorted(count_vect.vocabulary_.items(), key=lambda x: x[1])]\n",
    "pd.DataFrame(matrix_count, columns=words).head(15)"
   ]
  },
  {
   "cell_type": "code",
   "execution_count": 53,
   "metadata": {},
   "outputs": [],
   "source": [
    "def cross_valid(matrix_counts, target, test_size=0.3, random_state=7):\n",
    "    X_train, X_test, Y_train, Y_test = train_test_split(matrix_counts, target, \n",
    "                                                        test_size=test_size,\n",
    "                                                        random_state=random_state)\n",
    "    return (X_train, X_test, Y_train, Y_test)"
   ]
  },
  {
   "cell_type": "code",
   "execution_count": 76,
   "metadata": {},
   "outputs": [],
   "source": [
    "X_train, X_test, Y_train, Y_test = cross_valid(matrix_count, target, test_size=0.1)"
   ]
  },
  {
   "cell_type": "code",
   "execution_count": 56,
   "metadata": {},
   "outputs": [
    {
     "data": {
      "text/plain": [
       "1800"
      ]
     },
     "execution_count": 56,
     "metadata": {},
     "output_type": "execute_result"
    }
   ],
   "source": [
    "sum(Y_train)"
   ]
  },
  {
   "cell_type": "code",
   "execution_count": 57,
   "metadata": {},
   "outputs": [
    {
     "data": {
      "text/plain": [
       "LogisticRegression(C=1.0, class_weight=None, dual=False, fit_intercept=True,\n",
       "          intercept_scaling=1, max_iter=100, multi_class='ovr', n_jobs=1,\n",
       "          penalty='l2', random_state=None, solver='liblinear', tol=0.0001,\n",
       "          verbose=0, warm_start=False)"
      ]
     },
     "execution_count": 57,
     "metadata": {},
     "output_type": "execute_result"
    }
   ],
   "source": [
    "model = LogisticRegression()\n",
    "model.fit(X_train, Y_train)"
   ]
  },
  {
   "cell_type": "code",
   "execution_count": null,
   "metadata": {},
   "outputs": [],
   "source": []
  },
  {
   "cell_type": "code",
   "execution_count": 58,
   "metadata": {},
   "outputs": [],
   "source": [
    "predict = model.predict_proba(X_test)"
   ]
  },
  {
   "cell_type": "code",
   "execution_count": 59,
   "metadata": {},
   "outputs": [],
   "source": [
    "precision, recall, _ = metrics.precision_recall_curve(Y_test, predict[:,1])"
   ]
  },
  {
   "cell_type": "code",
   "execution_count": 60,
   "metadata": {},
   "outputs": [
    {
     "data": {
      "text/plain": [
       "(0.0, 1)"
      ]
     },
     "execution_count": 60,
     "metadata": {},
     "output_type": "execute_result"
    },
    {
     "data": {
      "image/png": "[encoded data removed]",
      "text/plain": [
       "<Figure size 648x648 with 1 Axes>"
      ]
     },
     "metadata": {},
     "output_type": "display_data"
    }
   ],
   "source": [
    "plot.figure(figsize = (9,9))\n",
    "plot.plot(recall, precision, label='R-P')\n",
    "\n",
    "plot.xlim([0.0, 1.0])\n",
    "plot.ylim([0.0, 1])"
   ]
  },
  {
   "cell_type": "code",
   "execution_count": 61,
   "metadata": {},
   "outputs": [],
   "source": [
    "def roc_curve(title, Y_test, predicted, label='?'):\n",
    "    fpr, tpr, th = metrics.roc_curve(Y_test, predicted[:,1])\n",
    "    plot.plot(fpr, tpr, label=label);\n",
    "    plot.xlabel('False Positive'); plot.ylabel('True Positive'); plot.title(title)\n",
    "    plot.legend(bbox_to_anchor=(1, 1), loc=2); plot.xlim([0.0, 1.0]); plot.ylim([0.0, 1]);\n",
    "    print ('(Logistic Regression (', label, ') AUC = ', metrics.auc(fpr, tpr))"
   ]
  },
  {
   "cell_type": "code",
   "execution_count": 62,
   "metadata": {},
   "outputs": [
    {
     "name": "stdout",
     "output_type": "stream",
     "text": [
      "(Logistic Regression ( ? ) AUC =  0.9517227564102564\n"
     ]
    },
    {
     "data": {
      "image/png": "[encoded data removed]",
      "text/plain": [
       "<Figure size 432x288 with 1 Axes>"
      ]
     },
     "metadata": {},
     "output_type": "display_data"
    }
   ],
   "source": [
    "roc_curve('Simple log reg, ROC', Y_test, predict)"
   ]
  },
  {
   "cell_type": "markdown",
   "metadata": {},
   "source": [
    "Как же объединить COuntVectorizer и модель воедино? Авторы sklearn и тут нам помогут"
   ]
  },
  {
   "cell_type": "code",
   "execution_count": 63,
   "metadata": {},
   "outputs": [],
   "source": [
    "from sklearn.pipeline import Pipeline# , FeatureUnion\n"
   ]
  },
  {
   "cell_type": "code",
   "execution_count": 64,
   "metadata": {},
   "outputs": [
    {
     "data": {
      "text/plain": [
       "Pipeline(memory=None,\n",
       "     steps=[('cv', CountVectorizer(analyzer='word', binary=False, decode_error='strict',\n",
       "        dtype=<class 'numpy.int64'>, encoding='utf-8', input='content',\n",
       "        lowercase=True, max_df=1.0, max_features=None, min_df=1,\n",
       "        ngram_range=(1, 1), preprocessor=None, stop_words=None,\n",
       "        strip_a...ty='l2', random_state=None, solver='liblinear', tol=0.0001,\n",
       "          verbose=0, warm_start=False))])"
      ]
     },
     "execution_count": 64,
     "metadata": {},
     "output_type": "execute_result"
    }
   ],
   "source": [
    "p = Pipeline(\n",
    "    [('cv', CountVectorizer()),\n",
    "    ('logreg', LogisticRegression())])\n",
    "p"
   ]
  },
  {
   "cell_type": "code",
   "execution_count": 69,
   "metadata": {},
   "outputs": [],
   "source": [
    "X_train, X_test, Y_train, Y_test = cross_valid(all_texts, target, test_size=0.1)"
   ]
  },
  {
   "cell_type": "code",
   "execution_count": 70,
   "metadata": {},
   "outputs": [
    {
     "data": {
      "text/plain": [
       "Pipeline(memory=None,\n",
       "     steps=[('cv', CountVectorizer(analyzer='word', binary=False, decode_error='strict',\n",
       "        dtype=<class 'numpy.int64'>, encoding='utf-8', input='content',\n",
       "        lowercase=True, max_df=1.0, max_features=None, min_df=1,\n",
       "        ngram_range=(1, 1), preprocessor=None, stop_words=None,\n",
       "        strip_a...ty='l2', random_state=None, solver='liblinear', tol=0.0001,\n",
       "          verbose=0, warm_start=False))])"
      ]
     },
     "execution_count": 70,
     "metadata": {},
     "output_type": "execute_result"
    }
   ],
   "source": [
    "p.fit(X_train, Y_train)"
   ]
  },
  {
   "cell_type": "code",
   "execution_count": 71,
   "metadata": {},
   "outputs": [],
   "source": [
    "predict = p.predict_proba(X_test)"
   ]
  },
  {
   "cell_type": "code",
   "execution_count": 72,
   "metadata": {},
   "outputs": [
    {
     "name": "stdout",
     "output_type": "stream",
     "text": [
      "(Logistic Regression ( ? ) AUC =  0.9517227564102564\n"
     ]
    },
    {
     "data": {
      "image/png": "[encoded data removed]",
      "text/plain": [
       "<Figure size 432x288 with 1 Axes>"
      ]
     },
     "metadata": {},
     "output_type": "display_data"
    }
   ],
   "source": [
    "roc_curve('log reg, ROC', Y_test, predict)\n"
   ]
  },
  {
   "cell_type": "markdown",
   "metadata": {},
   "source": [
    "Регуляризация логрег"
   ]
  },
  {
   "cell_type": "code",
   "execution_count": 77,
   "metadata": {},
   "outputs": [],
   "source": [
    "model_l1 = LogisticRegression(penalty='l1')\n",
    "model_l1.fit(X_train, Y_train)\n",
    "predict_l1 = model_l1.predict_proba(X_test)"
   ]
  },
  {
   "cell_type": "code",
   "execution_count": 78,
   "metadata": {},
   "outputs": [],
   "source": [
    "model_l2 = LogisticRegression(penalty='l2')\n",
    "model_l2.fit(X_train, Y_train)\n",
    "predict_l2 = model_l2.predict_proba(X_test)"
   ]
  },
  {
   "cell_type": "code",
   "execution_count": 79,
   "metadata": {},
   "outputs": [
    {
     "name": "stdout",
     "output_type": "stream",
     "text": [
      "(Logistic Regression ( l2 ) AUC =  0.9517227564102564\n",
      "(Logistic Regression ( l1 ) AUC =  0.9251802884615384\n"
     ]
    },
    {
     "data": {
      "image/png": "[encoded data removed]",
      "text/plain": [
       "<Figure size 432x288 with 1 Axes>"
      ]
     },
     "metadata": {},
     "output_type": "display_data"
    }
   ],
   "source": [
    "roc_curve('log reg, ROC', Y_test, predict_l2, label='l2')\n",
    "roc_curve('log reg, ROC', Y_test, predict_l1, label='l1')"
   ]
  },
  {
   "cell_type": "code",
   "execution_count": 80,
   "metadata": {},
   "outputs": [],
   "source": [
    "def report_cross_validation(grid_searcher, X_test, Y_test):\n",
    "    print ('train score is {:.5f}'.format(grid_searcher.best_score_))\n",
    "    print ('test score is {:.5f}'.format(grid_searcher.score(X_test, Y_test)))\n",
    "    print ('best parameter set:')\n",
    "    for k in sorted(grid_searcher.best_params_):\n",
    "        print (' * {}={}'.format(k, grid_searcher.best_params_[k]))"
   ]
  },
  {
   "cell_type": "code",
   "execution_count": 103,
   "metadata": {},
   "outputs": [],
   "source": [
    "count_vect = CountVectorizer()\n",
    "matrix_count = count_vect.fit_transform(all_texts).toarray()\n",
    "X_train, X_test, Y_train, Y_test = cross_valid(matrix_count, target, test_size=0.3)"
   ]
  },
  {
   "cell_type": "code",
   "execution_count": 104,
   "metadata": {},
   "outputs": [
    {
     "name": "stdout",
     "output_type": "stream",
     "text": [
      "train score is 0.89671\n",
      "test score is 0.92424\n",
      "best parameter set:\n",
      " * C=1024.0\n",
      " * penalty=l1\n",
      "CPU times: user 45.1 s, sys: 1.58 s, total: 46.7 s\n",
      "Wall time: 52.6 s\n"
     ]
    }
   ],
   "source": [
    "%%time\n",
    "c = [2**(x/10.0) for x in range(-100, 150, 50)]\n",
    "\n",
    "grid_searcher = GridSearchCV(\n",
    "    estimator=LogisticRegression(), \n",
    "    param_grid={\n",
    "        'C': c,\n",
    "        'penalty': ['l1', 'l2']\n",
    "    }, \n",
    "    scoring='roc_auc', cv=5, n_jobs=4).fit(X_train, Y_train)\n",
    "report_cross_validation(grid_searcher, X_test, Y_test)"
   ]
  },
  {
   "cell_type": "code",
   "execution_count": 123,
   "metadata": {},
   "outputs": [
    {
     "name": "stdout",
     "output_type": "stream",
     "text": [
      "L1 max auc = 0.8967093401333782 with c =  1024.0 2^ 10.0\n",
      "L2 max auc = 0.8898588746400139 with c =  0.03125 2^ -5.0\n"
     ]
    },
    {
     "data": {
      "image/png": "[encoded data removed]",
      "text/plain": [
       "<Figure size 432x288 with 1 Axes>"
      ]
     },
     "metadata": {},
     "output_type": "display_data"
    }
   ],
   "source": [
    "l1_mean = numpy.array([x.mean_validation_score for x in grid_searcher.grid_scores_ if x.parameters['penalty'] == 'l1'])\n",
    "l2_mean = numpy.array([x.mean_validation_score for x in grid_searcher.grid_scores_ if x.parameters['penalty'] == 'l2'])\n",
    "l1_std = numpy.array([x.cv_validation_scores.std() for x in grid_searcher.grid_scores_ if x.parameters['penalty'] == 'l1'])\n",
    "l2_std = numpy.array([x.cv_validation_scores.std() for x in grid_searcher.grid_scores_ if x.parameters['penalty'] == 'l2'])\n",
    "print (\"L1 max auc =\", l1_mean.max(), \"with c = \", c[numpy.where(l1_mean==l1_mean.max())[0][0]], \"2^\", math.log(c[numpy.where(l1_mean==l1_mean.max())[0][0]], 2))\n",
    "print (\"L2 max auc =\", l2_mean.max(), \"with c = \", c[numpy.where(l2_mean==l2_mean.max())[0][0]], \"2^\", math.log(c[numpy.where(l2_mean==l2_mean.max())[0][0]], 2))\n",
    "plot.fill_between(c, l1_mean - l1_std, l1_mean + l1_std, color = 'steelblue', alpha = .4)\n",
    "plot.plot(c, l1_mean, label='Avg. AUC for L1')\n",
    "plot.xscale('log', basex=2); plot.legend(loc=4);\n",
    "plot.xlabel('C (regularization parameter)'); plot.ylabel('AUC'); \n",
    "plot.fill_between(c, l2_mean - l2_std, l2_mean + l2_std, color = 'springgreen', alpha = .4)\n",
    "plot.plot(c, l2_mean, label='Avg. AUC for L2')\n",
    "plot.xscale('log', basex=2); plot.legend(loc=4);\n",
    "plot.xlabel('C (regularization parameter)'); plot.ylabel('AUC'); "
   ]
  },
  {
   "cell_type": "markdown",
   "metadata": {},
   "source": [
    "Интерпретируемость моделей в применении к анализу текстов"
   ]
  },
  {
   "cell_type": "code",
   "execution_count": 140,
   "metadata": {},
   "outputs": [
    {
     "name": "stdout",
     "output_type": "stream",
     "text": [
      "\n",
      " TOP 10 pos\n",
      "excellent, importance = 0.42114\n",
      "great, importance = 0.40280\n",
      "fun, importance = 0.39653\n",
      "seen, importance = 0.37160\n",
      "son, importance = 0.36178\n",
      "job, importance = 0.35877\n",
      "perfectly, importance = 0.33071\n",
      "yet, importance = 0.31313\n",
      "makes, importance = 0.31165\n",
      "head, importance = 0.31096\n",
      "\n",
      " TOP 10 neg\n",
      "bad, importance = -0.74266\n",
      "only, importance = -0.50009\n",
      "worst, importance = -0.48020\n",
      "unfortunately, importance = -0.48003\n",
      "waste, importance = -0.41759\n",
      "boring, importance = -0.40629\n",
      "nothing, importance = -0.38563\n",
      "plot, importance = -0.38007\n",
      "script, importance = -0.36052\n",
      "poor, importance = -0.35729\n"
     ]
    }
   ],
   "source": [
    "import numpy\n",
    "\n",
    "print ('\\n', 'TOP 10 pos')\n",
    "for idx in numpy.argsort(model.coef_)[0][::-1][:10]: # последние 10 с максимальным коэфициентом\n",
    "    print ('{}, importance = {:.5f}'.format(words[idx], model.coef_[0][idx]))\n",
    "print ('\\n', 'TOP 10 neg')\n",
    "for idx in numpy.argsort(model.coef_)[0][:10]: # последние 10 с минимальным коэфициентом\n",
    "    print ('{}, importance = {:.5f}'.format(words[idx], model.coef_[0][idx]))"
   ]
  },
  {
   "cell_type": "markdown",
   "metadata": {},
   "source": [
    "Удалим стоп-слова"
   ]
  },
  {
   "cell_type": "code",
   "execution_count": 114,
   "metadata": {},
   "outputs": [],
   "source": [
    "count_vect_WOSW = CountVectorizer(stop_words='english')\n",
    "matrix_count_WOSW = count_vect_WOSW.fit_transform(all_texts).toarray()\n",
    "\n",
    "X_train_WOSW, X_test_WOSW, Y_train_WOSW, Y_test_WOSW = cross_valid(matrix_count_WOSW, target, test_size=0.3)\n",
    "\n",
    "model_WOSW = LogisticRegression()\n",
    "model = LogisticRegression()\n",
    "\n",
    "\n",
    "model_WOSW.fit(X_train_WOSW, Y_train_WOSW)\n",
    "model.fit(X_train, Y_train)\n",
    "predict = model.predict_proba(X_test)\n",
    "predict_WOSW = model_WOSW.predict_proba(X_test_WOSW)"
   ]
  },
  {
   "cell_type": "code",
   "execution_count": 115,
   "metadata": {},
   "outputs": [
    {
     "data": {
      "text/plain": [
       "(2000, 39354)"
      ]
     },
     "execution_count": 115,
     "metadata": {},
     "output_type": "execute_result"
    }
   ],
   "source": [
    "matrix_count_WOSW.shape"
   ]
  },
  {
   "cell_type": "code",
   "execution_count": 116,
   "metadata": {},
   "outputs": [
    {
     "name": "stdout",
     "output_type": "stream",
     "text": [
      "(Logistic Regression ( l2 ) AUC =  0.9213107098381069\n",
      "(Logistic Regression ( l2 WOSW ) AUC =  0.9199986657178438\n"
     ]
    },
    {
     "data": {
      "image/png": "[encoded data removed]",
      "text/plain": [
       "<Figure size 432x288 with 1 Axes>"
      ]
     },
     "metadata": {},
     "output_type": "display_data"
    }
   ],
   "source": [
    "roc_curve('log reg, ROC', Y_test, predict, label='l2')\n",
    "roc_curve('log reg, ROC', Y_test_WOSW, predict_WOSW, label='l2 WOSW')"
   ]
  },
  {
   "cell_type": "code",
   "execution_count": 57,
   "metadata": {},
   "outputs": [
    {
     "data": {
      "text/plain": [
       "308"
      ]
     },
     "execution_count": 57,
     "metadata": {},
     "output_type": "execute_result"
    }
   ],
   "source": [
    "sum(Y_test)"
   ]
  },
  {
   "cell_type": "code",
   "execution_count": 117,
   "metadata": {},
   "outputs": [],
   "source": [
    "def logistic_reg(X_train, X_test, Y_train, **kwargs):\n",
    "    model_logistic = LogisticRegression(**kwargs)\n",
    "    model_logistic.fit(X_train, Y_train)\n",
    "    predicted = model_logistic.predict_proba(X_test)\n",
    "    return predicted, model_logistic"
   ]
  },
  {
   "cell_type": "code",
   "execution_count": 118,
   "metadata": {},
   "outputs": [],
   "source": [
    "def get_auc(Y_test, predicted):\n",
    "    fpr, tpr, _ = metrics.roc_curve(Y_test, predicted[:,1])\n",
    "    return metrics.auc(fpr, tpr)"
   ]
  },
  {
   "cell_type": "markdown",
   "metadata": {},
   "source": [
    "Можно варьировать max_features"
   ]
  },
  {
   "cell_type": "code",
   "execution_count": 124,
   "metadata": {},
   "outputs": [
    {
     "data": {
      "image/png": "[encoded data removed]",
      "text/plain": [
       "<Figure size 432x288 with 1 Axes>"
      ]
     },
     "metadata": {},
     "output_type": "display_data"
    }
   ],
   "source": [
    "auc_map = {}\n",
    "for i in range(500,30000,2000):\n",
    "    count_vect_top_temp = CountVectorizer(max_features=i)\n",
    "    matrix_counts_top_temp = count_vect_top_temp.fit_transform(all_texts).toarray()\n",
    "    X_train, X_test, Y_train, Y_test = cross_valid(matrix_counts_top_temp, target)\n",
    "    logreg_count_top_temp_predicted, _ = logistic_reg(X_train, X_test, Y_train, penalty='l1', C=1024)\n",
    "    auc_map[i] = get_auc(Y_test, logreg_count_top_temp_predicted)\n",
    "    \n",
    "auc_map2 = {}\n",
    "for i in range(500,30000,2000):\n",
    "    count_vect_top_temp = CountVectorizer(max_features=i)\n",
    "    matrix_counts_top_temp = count_vect_top_temp.fit_transform(all_texts).toarray()\n",
    "    X_train, X_test, Y_train, Y_test = cross_valid(matrix_counts_top_temp, target)\n",
    "    logreg_count_top_temp_predicted, _ = logistic_reg(X_train, X_test, Y_train, C=0.03125)\n",
    "    auc_map2[i] = get_auc(Y_test, logreg_count_top_temp_predicted)\n",
    "    \n",
    "plot.plot(auc_map2.keys(), auc_map2.values(), '.', label='Logistic Regression (L2-regularization)')\n",
    "plot.plot(auc_map.keys(), auc_map.values(), '.', label='Logistic Regression (L1-regularization)')\n",
    "plot.xlabel('Number of features'); plot.ylabel('AUC'); \n",
    "plot.legend(loc=0);"
   ]
  },
  {
   "cell_type": "markdown",
   "metadata": {},
   "source": [
    "Можно бинаризовать вектора, можно брать логарифмы частот вместо частот, можно TF-IDF. Сравним эти подходы."
   ]
  },
  {
   "cell_type": "code",
   "execution_count": 127,
   "metadata": {},
   "outputs": [],
   "source": [
    "matrix_counts = matrix_count\n",
    "X_train, X_test, Y_train, Y_test = cross_valid(matrix_counts, target)\n",
    "logreg_counts_l2_predicted, _ = logistic_reg(X_train, X_test, Y_train, C=0.03125)\n",
    "\n",
    "def bin_f(x):\n",
    "    return 1 if x > 0 else 0\n",
    "n_vec_bin = numpy.vectorize(bin_f)\n",
    "matrix_counts_bin = n_vec_bin(matrix_counts)\n",
    "X_train, X_test, Y_train, Y_test = cross_valid(matrix_counts_bin, target)\n",
    "binreg_bincounts_l2_predicted, _ = logistic_reg(X_train, X_test, Y_train, C=0.03125)\n",
    "\n",
    "import math\n",
    "\n",
    "def log_f(x):\n",
    "    return math.log(x+1)\n",
    "n_vec_log = numpy.vectorize(log_f)\n",
    "matrix_counts_log = n_vec_log(matrix_counts)\n",
    "X_train, X_test, Y_train, Y_test = cross_valid(matrix_counts_log, target)\n",
    "logreg_logcounts_l2_predicted, _ = logistic_reg(X_train, X_test, Y_train, C=0.03125)\n",
    "\n",
    "tfidf_vec = TfidfVectorizer()\n",
    "matrix_tfidf = tfidf_vec.fit_transform(all_texts).toarray()\n",
    "X_train, X_test, Y_train, Y_test = cross_valid(matrix_tfidf, target)\n",
    "logreg_counts_l2_predicted_tfidf, _ = logistic_reg(X_train, X_test, Y_train, C=0.03125)"
   ]
  },
  {
   "cell_type": "code",
   "execution_count": 126,
   "metadata": {},
   "outputs": [
    {
     "name": "stdout",
     "output_type": "stream",
     "text": [
      "(Logistic Regression ( freq ) AUC =  0.9249577477317202\n",
      "(Logistic Regression ( binary ) AUC =  0.9524550791674079\n",
      "(Logistic Regression ( logfreq ) AUC =  0.948719089130048\n",
      "(Logistic Regression ( tf-idf ) AUC =  0.8618239637075253\n"
     ]
    },
    {
     "data": {
      "image/png": "[encoded data removed]",
      "text/plain": [
       "<Figure size 432x288 with 1 Axes>"
      ]
     },
     "metadata": {},
     "output_type": "display_data"
    }
   ],
   "source": [
    "roc_curve('', Y_test, logreg_counts_l2_predicted, label='freq')\n",
    "roc_curve('', Y_test, binreg_bincounts_l2_predicted, label='binary')\n",
    "roc_curve('', Y_test, logreg_logcounts_l2_predicted, label='logfreq')\n",
    "roc_curve('', Y_test, logreg_counts_l2_predicted_tfidf, label='tf-idf')"
   ]
  },
  {
   "cell_type": "markdown",
   "metadata": {},
   "source": [
    "Не забываем про стемминг и морфоанализ"
   ]
  },
  {
   "cell_type": "code",
   "execution_count": 129,
   "metadata": {},
   "outputs": [
    {
     "name": "stdout",
     "output_type": "stream",
     "text": [
      "(Logistic Regression ( all ) AUC =  0.9249577477317202\n",
      "(Logistic Regression ( w/o stop-words ) AUC =  0.9232231809286604\n",
      "(Logistic Regression ( w/ stemming ) AUC =  0.9256026507738837\n",
      "(Logistic Regression ( w/ stemming\n",
      "w/o stop-words ) AUC =  0.9268035047144636\n"
     ]
    },
    {
     "data": {
      "image/png": "[encoded data removed]",
      "text/plain": [
       "<Figure size 432x288 with 1 Axes>"
      ]
     },
     "metadata": {},
     "output_type": "display_data"
    }
   ],
   "source": [
    "from nltk import word_tokenize\n",
    "from nltk.stem.porter import PorterStemmer\n",
    "import string\n",
    "stemmer = PorterStemmer()\n",
    "\n",
    "def stem_tokens(tokens, stemmer):\n",
    "    stemmed = []\n",
    "    for item in tokens:\n",
    "        stemmed.append(stemmer.stem(item))\n",
    "    return stemmed\n",
    "\n",
    "def tokenize(text):\n",
    "    tokens = word_tokenize(text)\n",
    "    tokens = [i for i in tokens if i not in string.punctuation]\n",
    "    stems = stem_tokens(tokens, stemmer)\n",
    "    return stems\n",
    "\n",
    "\n",
    "count_vect_without_stopwords = CountVectorizer(stop_words='english')\n",
    "matrix_counts_without_stopwords = count_vect_without_stopwords.fit_transform(all_texts).toarray()\n",
    "\n",
    "count_vect_with_lemm = CountVectorizer(tokenizer=tokenize)\n",
    "matrix_counts_with_lemm = count_vect_with_lemm.fit_transform(all_texts).toarray()\n",
    "\n",
    "count_vect_with_lemm_without_stopwords = CountVectorizer(stop_words='english', tokenizer=tokenize)\n",
    "matrix_counts_with_lemm_without_stopwords = count_vect_with_lemm_without_stopwords.fit_transform(all_texts).toarray()\n",
    "\n",
    "\n",
    "X_train, X_test, Y_train, Y_test = cross_valid(matrix_counts, target)\n",
    "logreg_counts_l2_predicted, _ = logistic_reg(X_train, X_test, Y_train, C=0.02915728098552524)\n",
    "\n",
    "X_train, X_test, Y_train, Y_test = cross_valid(matrix_counts_without_stopwords, target)\n",
    "logreg_counts_l2_predicted_without_stopwords, _ = logistic_reg(X_train, X_test, Y_train, C=0.02915728098552524)\n",
    "\n",
    "X_train, X_test, Y_train, Y_test = cross_valid(matrix_counts_with_lemm, target)\n",
    "logreg_counts_l2_predicted_with_lemm, _ = logistic_reg(X_train, X_test, Y_train, C=0.02915728098552524)\n",
    "\n",
    "X_train, X_test, Y_train, Y_test = cross_valid(matrix_counts_with_lemm_without_stopwords, target)\n",
    "logreg_counts_l2_predicted_with_lemm_without_stopwords, _ = logistic_reg(X_train, X_test, Y_train, C=0.02915728098552524)\n",
    "\n",
    "roc_curve('',Y_test, logreg_counts_l2_predicted, label='all')\n",
    "roc_curve('',Y_test, logreg_counts_l2_predicted_without_stopwords, label='w/o stop-words')\n",
    "roc_curve('',Y_test, logreg_counts_l2_predicted_with_lemm, label='w/ stemming')\n",
    "roc_curve('',Y_test, logreg_counts_l2_predicted_with_lemm_without_stopwords, label='w/ stemming\\nw/o stop-words')"
   ]
  }
 ],
 "metadata": {
  "kernelspec": {
   "display_name": "Python 3",
   "language": "python",
   "name": "python3"
  },
  "language_info": {
   "codemirror_mode": {
    "name": "ipython",
    "version": 3
   },
   "file_extension": ".py",
   "mimetype": "text/x-python",
   "name": "python",
   "nbconvert_exporter": "python",
   "pygments_lexer": "ipython3",
   "version": "3.6.5"
  }
 },
 "nbformat": 4,
 "nbformat_minor": 1
}
