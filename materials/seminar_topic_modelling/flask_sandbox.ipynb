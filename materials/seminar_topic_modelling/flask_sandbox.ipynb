{
 "cells": [
  {
   "cell_type": "code",
   "execution_count": null,
   "metadata": {},
   "outputs": [],
   "source": [
    "import os\n",
    "! python NewProLab\\flask1.py\n"
   ]
  },
  {
   "cell_type": "code",
   "execution_count": 1,
   "metadata": {},
   "outputs": [
    {
     "data": {
      "text/plain": [
       "0.18246080029173298"
      ]
     },
     "execution_count": 1,
     "metadata": {},
     "output_type": "execute_result"
    }
   ],
   "source": [
    "import requests\n",
    "requests.get('http://127.0.0.1:5000/predict_mov?text=awful+movie+stupid+plot').json()"
   ]
  },
  {
   "cell_type": "code",
   "execution_count": 2,
   "metadata": {},
   "outputs": [
    {
     "data": {
      "text/plain": [
       "{'proba': 0.125313789698529, 'text': 'Very bad movie, awful stupid plot'}"
      ]
     },
     "execution_count": 2,
     "metadata": {},
     "output_type": "execute_result"
    }
   ],
   "source": [
    "q = {'text': 'Very bad movie, awful stupid plot'}\n",
    "requests.post('http://127.0.0.1:5000/predict_new', data=q).json()"
   ]
  },
  {
   "cell_type": "code",
   "execution_count": 5,
   "metadata": {},
   "outputs": [
    {
     "data": {
      "text/plain": [
       "['$Recycle.Bin',\n",
       " '7ZRRVIEW',\n",
       " 'Anaconda3',\n",
       " 'ASUS.md5',\n",
       " 'AsusVibeData',\n",
       " 'BCS_Work',\n",
       " 'Boot',\n",
       " 'bootmgr',\n",
       " 'BOOTSECT.BAK',\n",
       " 'devlist.txt',\n",
       " 'Documents and Settings',\n",
       " 'Dropbox',\n",
       " 'eSupport',\n",
       " 'Finish.log',\n",
       " 'hiberfil.sys',\n",
       " 'Intel',\n",
       " 'K+Work',\n",
       " 'MSOCache',\n",
       " 'pagefile.sys',\n",
       " 'Pass.txt',\n",
       " 'PerfLogs',\n",
       " 'Program Files',\n",
       " 'Program Files (x86)',\n",
       " 'ProgramData',\n",
       " 'Python27',\n",
       " 'Recovery',\n",
       " 'RECOVERY.DAT',\n",
       " 'RHDSetup.log',\n",
       " 'setup.log',\n",
       " 'System Volume Information',\n",
       " 'Temp',\n",
       " 'U24E.BIN',\n",
       " 'U24E_WIN7.20',\n",
       " 'Users',\n",
       " 'Windows',\n",
       " '_smth']"
      ]
     },
     "execution_count": 5,
     "metadata": {},
     "output_type": "execute_result"
    }
   ],
   "source": []
  },
  {
   "cell_type": "code",
   "execution_count": null,
   "metadata": {},
   "outputs": [],
   "source": []
  }
 ],
 "metadata": {
  "kernelspec": {
   "display_name": "Python 3",
   "language": "python",
   "name": "python3"
  }
 },
 "nbformat": 4,
 "nbformat_minor": 2
}
