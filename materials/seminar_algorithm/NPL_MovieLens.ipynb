{
  "nbformat": 4,
  "nbformat_minor": 0,
  "metadata": {
    "colab": {
      "name": "NPL_MovieLens.ipynb",
      "version": "0.3.2",
      "provenance": [],
      "collapsed_sections": []
    },
    "language_info": {
      "codemirror_mode": {
        "name": "ipython",
        "version": 2
      },
      "file_extension": ".py",
      "mimetype": "text/x-python",
      "name": "python",
      "nbconvert_exporter": "python",
      "pygments_lexer": "ipython2",
      "version": "2.7.9"
    },
    "kernelspec": {
      "display_name": "Python 2",
      "language": "python",
      "name": "python2"
    }
  },
  "cells": [
    {
      "cell_type": "markdown",
      "metadata": {
        "id": "XapH5fhey9N_",
        "colab_type": "text"
      },
      "source": [
        "# MovieLens рекомендации"
      ]
    },
    {
      "cell_type": "code",
      "metadata": {
        "id": "PC5bJ7_rymof",
        "colab_type": "code",
        "colab": {}
      },
      "source": [
        "import zipfile\n",
        "from collections import defaultdict, Counter\n",
        "import datetime\n",
        "\n",
        "from scipy import linalg\n",
        "import scipy.sparse as sps\n",
        "import numpy as np\n",
        "import matplotlib.pyplot as plt"
      ],
      "execution_count": 0,
      "outputs": []
    },
    {
      "cell_type": "markdown",
      "metadata": {
        "id": "Hp5rbWbq1RoO",
        "colab_type": "text"
      },
      "source": [
        "## Готовим данные"
      ]
    },
    {
      "cell_type": "markdown",
      "metadata": {
        "id": "svC5kx4b1hnv",
        "colab_type": "text"
      },
      "source": [
        "Выборка представляет собой тройки $(u, i, r_{u,i})$, где $u$ -- пользователь, $i$ -- фильм, $r_{u,i}$ -- рейтинг. Нормализуем рейтинги на отрезок $[0, 1]$."
      ]
    },
    {
      "cell_type": "code",
      "metadata": {
        "id": "_dXtFy19zDM3",
        "colab_type": "code",
        "outputId": "c584830c-d203-4c95-b9b4-74ad6e38d09d",
        "colab": {
          "base_uri": "https://localhost:8080/",
          "height": 204
        }
      },
      "source": [
        "# download data\n",
        "! wget http://files.grouplens.org/datasets/movielens/ml-1m.zip"
      ],
      "execution_count": 0,
      "outputs": [
        {
          "output_type": "stream",
          "text": [
            "--2019-06-06 22:52:23--  http://files.grouplens.org/datasets/movielens/ml-1m.zip\n",
            "Resolving files.grouplens.org (files.grouplens.org)... 128.101.65.152\n",
            "Connecting to files.grouplens.org (files.grouplens.org)|128.101.65.152|:80... connected.\n",
            "HTTP request sent, awaiting response... 200 OK\n",
            "Length: 5917549 (5.6M) [application/zip]\n",
            "Saving to: ‘ml-1m.zip’\n",
            "\n",
            "\rml-1m.zip             0%[                    ]       0  --.-KB/s               \rml-1m.zip            14%[=>                  ] 858.01K  3.72MB/s               \rml-1m.zip           100%[===================>]   5.64M  16.6MB/s    in 0.3s    \n",
            "\n",
            "2019-06-06 22:52:24 (16.6 MB/s) - ‘ml-1m.zip’ saved [5917549/5917549]\n",
            "\n"
          ],
          "name": "stdout"
        }
      ]
    },
    {
      "cell_type": "code",
      "metadata": {
        "id": "XUHwOloeymoj",
        "colab_type": "code",
        "outputId": "6f58ca50-0b87-4822-d0f6-ebf60c104bab",
        "colab": {
          "base_uri": "https://localhost:8080/",
          "height": 187
        }
      },
      "source": [
        "%%time\n",
        "# read data\n",
        "movies = {} # id\n",
        "users = {} # id\n",
        "ratings = defaultdict(list) # user-id\n",
        "\n",
        "with zipfile.ZipFile(\"ml-1m.zip\", \"r\") as z:\n",
        "    # archive overview\n",
        "    print \"files in archive\"\n",
        "    print z.namelist()\n",
        "    #print \"README\"\n",
        "    #print z.read(\"ml-1m/README\")\n",
        "    print \"movies\"\n",
        "    with z.open(\"ml-1m/movies.dat\") as m:\n",
        "        print m.readline(),\n",
        "    print \"ratings\"\n",
        "    with z.open(\"ml-1m/ratings.dat\") as m:\n",
        "        print m.readline(),\n",
        "    print \"users\"\n",
        "    with z.open(\"ml-1m/users.dat\") as m:\n",
        "        print m.readline(),\n",
        "    \n",
        "    # parse movies\n",
        "    with z.open(\"ml-1m/movies.dat\") as m:\n",
        "        for line in m:\n",
        "            MovieID, Title, Genres = line.strip().split(\"::\")\n",
        "            MovieID = long(MovieID)\n",
        "            Genres = Genres.split(\"|\")\n",
        "            movies[MovieID] = {\"Title\": Title, \"Genres\": Genres}\n",
        "    \n",
        "    # parse users\n",
        "    with z.open(\"ml-1m/users.dat\") as m:\n",
        "        fields = [\"UserID\", \"Gender\", \"Age\", \"Occupation\", \"Zip-code\"]\n",
        "        for line in m:\n",
        "            row = zip(fields, line.strip().split(\"::\"))\n",
        "            data = dict(row[1:])\n",
        "            data[\"Occupation\"] = int(data[\"Occupation\"])\n",
        "            users[long(row[0][1])] = data\n",
        "    \n",
        "    # parse ratings\n",
        "    with z.open(\"ml-1m/ratings.dat\") as m:\n",
        "        for line in m:\n",
        "            UserID, MovieID, Rating, Timestamp = line.strip().split(\"::\")\n",
        "            UserID = long(UserID)\n",
        "            MovieID = long(MovieID)\n",
        "            Rating = int(Rating)\n",
        "            Timestamp = long(Timestamp)\n",
        "            ratings[UserID].append((MovieID, Rating, datetime.datetime.fromtimestamp(Timestamp)))"
      ],
      "execution_count": 0,
      "outputs": [
        {
          "output_type": "stream",
          "text": [
            "files in archive\n",
            "['ml-1m/', 'ml-1m/movies.dat', 'ml-1m/ratings.dat', 'ml-1m/README', 'ml-1m/users.dat']\n",
            "movies\n",
            "1::Toy Story (1995)::Animation|Children's|Comedy\n",
            "ratings\n",
            "1::1193::5::978300760\n",
            "users\n",
            "1::F::1::10::48067\n",
            "CPU times: user 5.28 s, sys: 3.18 s, total: 8.46 s\n",
            "Wall time: 8.46 s\n"
          ],
          "name": "stdout"
        }
      ]
    },
    {
      "cell_type": "code",
      "metadata": {
        "id": "b8zxF25nymon",
        "colab_type": "code",
        "outputId": "6bd3ad37-bbb0-436e-efb4-a0035b8cbe2a",
        "colab": {
          "base_uri": "https://localhost:8080/",
          "height": 51
        }
      },
      "source": [
        "# train - test split\n",
        "import math\n",
        "train_frac = 0.8\n",
        "train = []\n",
        "test = []\n",
        "for u, itemList in ratings.iteritems():\n",
        "    # itemList = [(i, r, t), ...]\n",
        "    all = sorted(itemList, key=lambda x: x[2])\n",
        "    thr = int(math.floor(len(all) * train_frac))\n",
        "    train.extend(map(lambda x: (u, x[0], x[1] / 5.0), all[:thr]))\n",
        "    test.extend(map(lambda x: (u, x[0], x[1] / 5.0), all[thr:]))\n",
        "print \"ratings in train:\", len(train)\n",
        "print \"ratings in test:\", len(test)"
      ],
      "execution_count": 0,
      "outputs": [
        {
          "output_type": "stream",
          "text": [
            "ratings in train: 797758\n",
            "ratings in test: 202451\n"
          ],
          "name": "stdout"
        }
      ]
    },
    {
      "cell_type": "markdown",
      "metadata": {
        "id": "1_cUlJG81W4D",
        "colab_type": "text"
      },
      "source": [
        "## Item-based CF"
      ]
    },
    {
      "cell_type": "markdown",
      "metadata": {
        "id": "somc-MkL1zrr",
        "colab_type": "text"
      },
      "source": [
        "Имея матрицу user-item из оценок пользователей можно определить меру adjusted cosine similarity похожести товаров $i$ и $j$ как векторов в пространстве пользователей: \n",
        "\n",
        "$sim(i, j) = \\frac{\\sum_{u \\in U} (r_{u,i} - \\overline{r_u}) (r_{u,j} - \\overline{r_u}) }{\\sqrt{\\sum_{u \\in U} (r_{u,i} - \\overline{r_u})^2} \\sqrt{\\sum_{u \\in U} (r_{u,j} - \\overline{r_u})^2}}$,\n",
        "\n",
        "где $U$ -- множество всех пользователей, $\\overline{r_u}$ -- средний рейтинг пользователя $u$.\n",
        "    \n",
        "Рейтинги для неизвестных фильмов считаются по следующей формуле:\n",
        " \n",
        "$\\hat{r}_{u,i} = \\sum_{j: \\  r_{u,j} \\ne 0} sim(i, j) r_{u,j} \\bigg/ \\sum_{j: \\  r_{u,j} \\ne 0} sim(i, j)$\n",
        "    \n",
        "Такой подход называется item-based. Обратим внимание на то, что $sim(i, j) \\in [-1, 1]$. Это может привести к делению на ноль или значениям $\\hat{r}_{u,i}$ вне диапазона $[0, 1]$. Избавиться от этой проблемы можно, например, положив равными нулю отрицательные значения $sim(i, j)$."
      ]
    },
    {
      "cell_type": "code",
      "metadata": {
        "id": "AonBdvkyymor",
        "colab_type": "code",
        "outputId": "9873a1e7-90d1-41c5-aca6-ead2584b8de1",
        "colab": {
          "base_uri": "https://localhost:8080/",
          "height": 51
        }
      },
      "source": [
        "%%time\n",
        "# CF step 1\n",
        "# user avg\n",
        "userAverage = defaultdict(list)\n",
        "for u, i, r in train:\n",
        "    userAverage[u].append(r)\n",
        "for u in userAverage.iterkeys():\n",
        "    userAverage[u] = min(np.mean(userAverage[u]), 0.99)\n",
        "userAverage = dict(userAverage)\n",
        "\n",
        "# norms\n",
        "itemNorms = defaultdict(float)\n",
        "for u, i, r in train:\n",
        "    itemNorms[i] += (r - userAverage[u]) ** 2\n",
        "for i in itemNorms.iterkeys():\n",
        "    itemNorms[i] = np.sqrt(itemNorms[i])\n",
        "itemNorms = dict(itemNorms)\n",
        "\n",
        "# new ratings\n",
        "itemUser = sps.csc_matrix(\n",
        "    ([(r - userAverage[u]) / (itemNorms[i] + 1e-6) for u, i, r in train],\n",
        "    ([e[1] for e in train], [e[0] for e in train]))\n",
        ")\n",
        "# item - item sim\n",
        "itemItemSimilarity = itemUser.dot(itemUser.transpose())"
      ],
      "execution_count": 0,
      "outputs": [
        {
          "output_type": "stream",
          "text": [
            "CPU times: user 3.53 s, sys: 140 ms, total: 3.67 s\n",
            "Wall time: 3.68 s\n"
          ],
          "name": "stdout"
        }
      ]
    },
    {
      "cell_type": "code",
      "metadata": {
        "id": "m5O5jb2Bymou",
        "colab_type": "code",
        "outputId": "6797d437-fedc-4a8e-e673-4998da150097",
        "colab": {
          "base_uri": "https://localhost:8080/",
          "height": 85
        }
      },
      "source": [
        "# test cos\n",
        "print np.min(itemItemSimilarity.todense())\n",
        "print np.max(itemItemSimilarity.todense())\n",
        "print (itemUser[1, :] * itemUser[14, :].transpose())[0, 0]\n",
        "print itemItemSimilarity[1, 14]"
      ],
      "execution_count": 0,
      "outputs": [
        {
          "output_type": "stream",
          "text": [
            "-0.9999922465208185\n",
            "0.9999998462832396\n",
            "0.001901025652624686\n",
            "0.001901025652624686\n"
          ],
          "name": "stdout"
        }
      ]
    },
    {
      "cell_type": "code",
      "metadata": {
        "id": "bt8yOIWBymox",
        "colab_type": "code",
        "colab": {}
      },
      "source": [
        "# do not take top K for every item, so delete < 0\n",
        "itemItemSimilarity[itemItemSimilarity < 0] = 0"
      ],
      "execution_count": 0,
      "outputs": []
    },
    {
      "cell_type": "code",
      "metadata": {
        "id": "uWoIxLEGymoz",
        "colab_type": "code",
        "outputId": "9c669bd9-674d-4bed-991d-2baaddad45d0",
        "colab": {
          "base_uri": "https://localhost:8080/",
          "height": 272
        }
      },
      "source": [
        "%%time\n",
        "# CF step 2\n",
        "trainByUser = defaultdict(list)\n",
        "testByUser = defaultdict(list)\n",
        "for u, i, r in train:\n",
        "    trainByUser[u].append((i, r))\n",
        "for u, i, r in test:\n",
        "    testByUser[u].append((i, r))\n",
        "    \n",
        "mse = 0\n",
        "counter = 0 \n",
        "NUM = 7000\n",
        "COUNT = 0\n",
        "for u, l in trainByUser.items()[0:NUM]:\n",
        "    userRatedItems = [e[0] for e in l]\n",
        "    userRatedRatings = sps.csr_matrix([[e[1]] for e in l])\n",
        "    similarItems = itemItemSimilarity[:, userRatedItems]\n",
        "    recoms = similarItems.dot(userRatedRatings) / (similarItems.sum(axis=1) + 1e-6)\n",
        "    tbu = testByUser[u]\n",
        "    testItems = [e[0] for e in tbu]\n",
        "    testRatings = np.array([[e[1]] for e in tbu])\n",
        "    errors = np.square(recoms[testItems, :] - testRatings)\n",
        "    mse += sum(errors)\n",
        "    COUNT += len(errors)\n",
        "    counter += 1\n",
        "    if counter % 500 == 0:\n",
        "        print counter\n",
        "print mse / COUNT"
      ],
      "execution_count": 0,
      "outputs": [
        {
          "output_type": "stream",
          "text": [
            "500\n",
            "1000\n",
            "1500\n",
            "2000\n",
            "2500\n",
            "3000\n",
            "3500\n",
            "4000\n",
            "4500\n",
            "5000\n",
            "5500\n",
            "6000\n",
            "[[0.0342228]]\n",
            "CPU times: user 1min 7s, sys: 945 ms, total: 1min 8s\n",
            "Wall time: 1min 8s\n"
          ],
          "name": "stdout"
        }
      ]
    },
    {
      "cell_type": "markdown",
      "metadata": {
        "id": "OkUw_nvg4Xpt",
        "colab_type": "text"
      },
      "source": [
        "## ALS факторизация"
      ]
    },
    {
      "cell_type": "markdown",
      "metadata": {
        "id": "4X1kU4-F4Zrw",
        "colab_type": "text"
      },
      "source": [
        "В этом подходе оценка $r_{ui}$ пользователя $u$, поставленная фильму $i$, ищется как скалярное произведение векторов $p_u$ и $q_i$ в некотором пространстве $\\mathbb{R}^K$ латентных признаков:\n",
        "\n",
        "$$\n",
        "\t\\hat{r}_{ui} = p_u^T q_i \n",
        "$$\n",
        "\n",
        "Иными словами, модель находит пространство признаков, в котором мы описываем и фильмы и пользователей и в котором рейтинг является мерой близости между фильмами и пользователями.\n",
        "\t\n",
        "Для настройки модели будем минимизировать следующую ошибку:\n",
        "\t$$\n",
        "\t\\sum_{(u, i, r_{ui})} (r_{ui} - p_u^T q_i)^2 + \\lambda_{p} p_u^T p_u + \\lambda_{q} q_i^T q_i,\n",
        "\t$$\n",
        "\tгде суммирование ведется по всем тройкам $(u, i, r_{ui})$ выборки, слагаемые с $\\lambda_{p}$ и $\\lambda_{q}$ добавлены для регуляризации.\n",
        "\t\n",
        "В методе  ALS проводятся $N$ итераций, в рамках каждой итерации сначала оптимизируется $p$ при фиксированном $q$, затем $q$ при фиксированном $p$.\n",
        "\t\n",
        "Составим матрицу $P$ из векторов $p_u$ и матрицу $Q$ из векторов $q_i$. Матрицей $Q[u] \\in \\mathbb{R}^{n_u \\times K}$ будем обозначать подматрицу матрицы $Q$ только для товаров, оцененных пользователем $u$, где $n_u$ -- количество оценок пользователя $u$.\n",
        "\t\n",
        "Шаг перенастройки $p_u$ при фиксированной матрице $Q$ сводится к настройке ridge-регрессии и выглядит так:\n",
        "\t$$\n",
        "\tA_u = Q[u]^T Q[u] \\\\\n",
        "\td_u = Q[u]^T r_u \\\\\n",
        "\tp_u = (\\lambda_p n_u I + A_u)^{-1} d_u\n",
        "\t$$\n",
        "\t\n",
        "Формулы для перенастройки $q_i$ при фиксированной матрице $P$ выглядят аналогично."
      ]
    },
    {
      "cell_type": "code",
      "metadata": {
        "id": "1JFP_boUymo3",
        "colab_type": "code",
        "outputId": "b73ca52c-b4ee-4235-d28a-dd9bb67976e4",
        "colab": {
          "base_uri": "https://localhost:8080/",
          "height": 391
        }
      },
      "source": [
        "%%time\n",
        "LATENT_SIZE = 10\n",
        "N_ITER = 20\n",
        "lam_p = 0.2\n",
        "lam_q = 0.001\n",
        "\n",
        "n_users = max([e[0] for e in train]) + 1\n",
        "n_items = max([e[1] for e in train]) + 1\n",
        "\n",
        "p = 0.1 * np.random.random((n_users, LATENT_SIZE))\n",
        "q = 0.1 * np.random.random((n_items, LATENT_SIZE))\n",
        "\n",
        "ratedByUser = defaultdict(list)\n",
        "for u, i, r in train:\n",
        "    ratedByUser[u].append((i, r))\n",
        "    \n",
        "ratedByItem = defaultdict(list)\n",
        "for u, i, r in train:\n",
        "    ratedByItem[i].append((u, r))\n",
        "\n",
        "def train_error(predictions):\n",
        "    return np.mean([(predictions[u, i] - r) ** 2 for u, i, r in train])\n",
        "\n",
        "def test_error(predictions):\n",
        "    return np.mean([(predictions[u, i] - r) ** 2 for u, i, r in test])\n",
        "    \n",
        "for iter in range(N_ITER):\n",
        "    for u, rated in ratedByUser.iteritems():\n",
        "        ratedItems = [j for j, _ in rated]\n",
        "        ratedScores = np.array([s for _, s in rated])\n",
        "        Q = q[ratedItems, :]\n",
        "        A = Q.transpose().dot(Q)\n",
        "        d = Q.transpose().dot(ratedScores)\n",
        "        p[u, :] = np.linalg.solve(lam_p * len(ratedItems) * np.eye(LATENT_SIZE) + A, d)\n",
        "    for i, rated in ratedByItem.iteritems():\n",
        "        ratedUsers = [j for j, _ in rated]\n",
        "        ratedScores = np.array([s for _, s in rated])\n",
        "        P = p[ratedUsers, :]\n",
        "        A = P.transpose().dot(P)\n",
        "        d = P.transpose().dot(ratedScores)\n",
        "        q[i, :] = np.linalg.solve(lam_q * len(ratedUsers) * np.eye(LATENT_SIZE) + A, d)\n",
        "    predictions = p.dot(q.transpose())\n",
        "    print iter, train_error(predictions), test_error(predictions)"
      ],
      "execution_count": 0,
      "outputs": [
        {
          "output_type": "stream",
          "text": [
            "0 0.03378055930882804 0.035712124988088685\n",
            "1 0.03042918950354409 0.03333912193357494\n",
            "2 0.026814012227120657 0.03152228821975026\n",
            "3 0.02549154978543663 0.031131746259699368\n",
            "4 0.02498126976097821 0.030922431935166514\n",
            "5 0.024728539708377795 0.03078170152152855\n",
            "6 0.02458374288241625 0.030686782853145442\n",
            "7 0.024490695149671508 0.030619868840279577\n",
            "8 0.024425860568585225 0.030570491943186798\n",
            "9 0.024378458622142885 0.03053248593758612\n",
            "10 0.02434296175259042 0.030502173859928223\n",
            "11 0.024316115044486237 0.03047732557980402\n",
            "12 0.024295698713775554 0.030456651663776722\n",
            "13 0.024280089342611638 0.030439404323065352\n",
            "14 0.024268111313652883 0.030425034737680278\n",
            "15 0.024258930294940494 0.030413062091810893\n",
            "16 0.02425195605669319 0.03040305959089044\n",
            "17 0.024246757999584503 0.03039464633023862\n",
            "18 0.024242992293977424 0.030387502970100348\n",
            "19 0.024240363609183992 0.030381391457814773\n",
            "CPU times: user 1min 5s, sys: 30.7 s, total: 1min 36s\n",
            "Wall time: 56.1 s\n"
          ],
          "name": "stdout"
        }
      ]
    },
    {
      "cell_type": "markdown",
      "metadata": {
        "id": "LFXR-X5J5Ufn",
        "colab_type": "text"
      },
      "source": [
        "## Content-based"
      ]
    },
    {
      "cell_type": "markdown",
      "metadata": {
        "id": "tX7iLls15oSd",
        "colab_type": "text"
      },
      "source": [
        "В таком подходе рекомендательная система пытается найти фильмы на основе: характеристик фильмов (например, жанр, режиссер, год выхода), профиля каждого пользователя в терминах характеристик фильмов, характеристик пользователей (например, пол, профессия).\n",
        "    \n",
        "Для каждой пары $u, i$ необходимо придумать признаки $f^n_{u, i}$, основанные на профиле пользователя, собранном на обучении, и характеристиках пользователей и фильмов, известных даже для новых пользователей и фильмов.\n",
        "    \n",
        "Следующий набор признаков можно использовать для рекомендательной системы:\n",
        "* $f^1_{u, i}$ -- категориальный признак, возраст пользователя\n",
        "* $f^2_{u, i}$ -- категориальный признак, профессия пользователя\n",
        "* $f^3_{u, i}$ -- набор булевых признаков, по одному на каждый жанр, к которому отнесен фильм\n",
        "* $f^4_{u, i}$ -- категориальный признак, пол пользователя\n",
        "* $f^5_{u, i}$ -- $(u_g \\, \\cdot \\, m_g) / n_g$, где $u_g$ -- вектор средних оценок пользователя в пространстве жанров, $m_g$ -- булевый вектор для фильма в пространстве жанров, $n_g$ -- количество жанров, указанных для фильма\n",
        "* $f^6_{u, i}$ -- средний рейтинг пользователя\n",
        "* $f^7_{u, i}$ -- средний рейтинг фильма\n",
        "* $f^8_{u, i}$ -- константный признак\n",
        "    \n",
        "Категориальные признаки необходимо закодировать набором булевых векторов, по одному на каждое значение признака. Полученные признаки обозначим как $\\{g^n_{u,i}\\}_{n = 1 .. N}$.\n",
        "\t\n",
        "Далее предлагается искать рейтинг как линейную комбинацию числовых признаков:\n",
        "    $$\n",
        "    \\hat{r}_{u,i} = \\sum_{n = 1}^{N} g^n_{u, i} \\theta_n\n",
        "    $$\n",
        "    \n",
        "Для настройки весов предлагается воспользоваться Ridge-регрессией. Для проверки реализации предлагается воспользоваться $\\lambda = 0.2$."
      ]
    },
    {
      "cell_type": "code",
      "metadata": {
        "id": "f3cRbg6qymo6",
        "colab_type": "code",
        "outputId": "a66dcd3a-1211-4f02-f649-fc3e72004d3e",
        "colab": {
          "base_uri": "https://localhost:8080/",
          "height": 51
        }
      },
      "source": [
        "print users[1]\n",
        "print movies[1]"
      ],
      "execution_count": 0,
      "outputs": [
        {
          "output_type": "stream",
          "text": [
            "{'Gender': 'F', 'Age': '1', 'Zip-code': '48067', 'Occupation': 10}\n",
            "{'Genres': ['Animation', \"Children's\", 'Comedy'], 'Title': 'Toy Story (1995)'}\n"
          ],
          "name": "stdout"
        }
      ]
    },
    {
      "cell_type": "code",
      "metadata": {
        "id": "xxgnrHm4ymo-",
        "colab_type": "code",
        "outputId": "d6a027e6-a887-4b03-ad5a-0f08462825aa",
        "colab": {
          "base_uri": "https://localhost:8080/",
          "height": 51
        }
      },
      "source": [
        "%%time\n",
        "# content-based step 1\n",
        "genres = [\n",
        "    \"Action\",\n",
        "    \"Adventure\",\n",
        "    \"Animation\",\n",
        "    \"Children's\",\n",
        "    \"Comedy\",\n",
        "    \"Crime\",\n",
        "    \"Documentary\",\n",
        "    \"Drama\",\n",
        "    \"Fantasy\",\n",
        "    \"Film-Noir\",\n",
        "    \"Horror\",\n",
        "    \"Musical\",\n",
        "    \"Mystery\",\n",
        "    \"Romance\",\n",
        "    \"Sci-Fi\",\n",
        "    \"Thriller\",\n",
        "    \"War\",\n",
        "    \"Western\"\n",
        "]\n",
        "genres = {k: v for v, k in enumerate(genres)}\n",
        "\n",
        "sex = [\"F\", \"M\"]\n",
        "sex = {k: v for v, k in enumerate(sex)}\n",
        "\n",
        "age = [\"1\", \"18\", \"25\", \"35\", \"45\", \"50\", \"56\"]\n",
        "age = {k: v for v, k in enumerate(age)}\n",
        "\n",
        "profileByUser = {}\n",
        "for u, il in ratedByUser.iteritems():\n",
        "    temp = [0] * len(genres)\n",
        "    for g in range(len(genres)):\n",
        "        ll = []\n",
        "        for i, r in il:\n",
        "            for mg in movies[i][\"Genres\"]:\n",
        "                if genres[mg] == g:\n",
        "                    ll.append(r)\n",
        "        if ll != []:\n",
        "            temp[g] = np.mean(ll)\n",
        "        else:\n",
        "            temp[g] = 0\n",
        "    profileByUser[u] = temp\n",
        "meanByUser = {}\n",
        "for u, il in ratedByUser.iteritems():\n",
        "    meanByUser[u] = np.mean([v for _, v in il])\n",
        "meanByItem = {}\n",
        "for i, ul in ratedByItem.iteritems():\n",
        "    meanByItem[i] = np.mean([v for _, v in ul])\n",
        "\n",
        "fs = []\n",
        "for u, i, r in train:\n",
        "    f = []\n",
        "    # age\n",
        "    temp = [0] * len(age)\n",
        "    temp[age[users[u]['Age']]] = 1\n",
        "    f.extend(temp)\n",
        "    # occ\n",
        "    temp = [0] * 21\n",
        "    temp[users[u]['Occupation']] = 1\n",
        "    f.extend(temp)\n",
        "    # movie genres\n",
        "    temp = [0] * len(genres)\n",
        "    for g in movies[i][\"Genres\"]:\n",
        "        temp[genres[g]] = 1\n",
        "    profileByItem = [t / len(movies[i][\"Genres\"]) for t in temp]\n",
        "    f.extend(temp)\n",
        "    # sex?\n",
        "    temp = [0] * 2\n",
        "    temp[sex[users[u]['Gender']]] = 1\n",
        "    f.extend(temp)\n",
        "    # fucking dot\n",
        "    t = np.array(profileByUser[u]).dot(np.array(profileByItem))\n",
        "    f.extend([t])\n",
        "    # avg rate u\n",
        "    f.extend([meanByUser[u]])\n",
        "    # avg rate i\n",
        "    f.extend([meanByItem[i]])\n",
        "    # 1\n",
        "    f.extend([1])\n",
        "    fs.append(f)\n",
        "fs = np.array(fs)"
      ],
      "execution_count": 0,
      "outputs": [
        {
          "output_type": "stream",
          "text": [
            "CPU times: user 25.5 s, sys: 1.63 s, total: 27.2 s\n",
            "Wall time: 27.2 s\n"
          ],
          "name": "stdout"
        }
      ]
    },
    {
      "cell_type": "code",
      "metadata": {
        "id": "rMp2sz3XympD",
        "colab_type": "code",
        "outputId": "b14b0854-24bf-4587-bec2-d7086e3fd1cb",
        "colab": {
          "base_uri": "https://localhost:8080/",
          "height": 204
        }
      },
      "source": [
        "# test\n",
        "fs[0, :]"
      ],
      "execution_count": 0,
      "outputs": [
        {
          "output_type": "execute_result",
          "data": {
            "text/plain": [
              "array([1.        , 0.        , 0.        , 0.        , 0.        ,\n",
              "       0.        , 0.        , 0.        , 0.        , 0.        ,\n",
              "       0.        , 0.        , 0.        , 0.        , 0.        ,\n",
              "       0.        , 0.        , 1.        , 0.        , 0.        ,\n",
              "       0.        , 0.        , 0.        , 0.        , 0.        ,\n",
              "       0.        , 0.        , 0.        , 0.        , 0.        ,\n",
              "       0.        , 0.        , 0.        , 0.        , 0.        ,\n",
              "       1.        , 0.        , 0.        , 0.        , 0.        ,\n",
              "       0.        , 0.        , 0.        , 0.        , 0.        ,\n",
              "       0.        , 1.        , 0.        , 0.88571429, 0.83809524,\n",
              "       0.69436202, 1.        ])"
            ]
          },
          "metadata": {
            "tags": []
          },
          "execution_count": 12
        }
      ]
    },
    {
      "cell_type": "code",
      "metadata": {
        "id": "38dmybwOympG",
        "colab_type": "code",
        "outputId": "321011f5-7512-4006-bc5a-0ad497a51c1d",
        "colab": {
          "base_uri": "https://localhost:8080/",
          "height": 85
        }
      },
      "source": [
        "%%time\n",
        "from sklearn.linear_model import Ridge\n",
        "clf = Ridge(alpha=0.2)\n",
        "y = np.array([[r] for _, _, r in train])\n",
        "clf.fit(fs, y)\n",
        "yy = clf.predict(fs)\n",
        "print \"train\", np.mean(np.square(yy - y))\n",
        "\n",
        "ffs = []\n",
        "# test\n",
        "for u, i, r in test:\n",
        "    f = []\n",
        "    # age\n",
        "    temp = [0] * len(age)\n",
        "    temp[age[users[u]['Age']]] = 1\n",
        "    f.extend(temp)\n",
        "    # occ\n",
        "    temp = [0] * 21\n",
        "    temp[users[u]['Occupation']] = 1\n",
        "    f.extend(temp)\n",
        "    # movie genres\n",
        "    temp = [0] * len(genres)\n",
        "    for g in movies[i][\"Genres\"]:\n",
        "        temp[genres[g]] = 1\n",
        "    profileByItem = [t / len(movies[i][\"Genres\"]) for t in temp]\n",
        "    f.extend(temp)\n",
        "    # sex?\n",
        "    temp = [0] * 2\n",
        "    temp[sex[users[u]['Gender']]] = 1\n",
        "    f.extend(temp)\n",
        "    # fucking dot\n",
        "    t = np.array(profileByUser[u]).dot(np.array(profileByItem))\n",
        "    f.extend([t])\n",
        "    # avg rate u\n",
        "    f.extend([meanByUser[u]])\n",
        "    # avg rate i\n",
        "    movr = 0\n",
        "    if i in meanByItem:\n",
        "        movr = meanByItem[i]\n",
        "    f.extend([movr])\n",
        "    # 1\n",
        "    f.extend([1])\n",
        "    ffs.append(f)\n",
        "ffs = np.array(ffs)\n",
        "y = np.array([[r] for _, _, r in test])\n",
        "yyy = clf.predict(ffs)\n",
        "print \"test\", np.mean(np.square(yyy - y))"
      ],
      "execution_count": 0,
      "outputs": [
        {
          "output_type": "stream",
          "text": [
            "train 0.03328043707497794\n",
            "test 0.03497850859895244\n",
            "CPU times: user 7.68 s, sys: 702 ms, total: 8.39 s\n",
            "Wall time: 8.39 s\n"
          ],
          "name": "stdout"
        }
      ]
    },
    {
      "cell_type": "markdown",
      "metadata": {
        "id": "JxnaaYJT7zVw",
        "colab_type": "text"
      },
      "source": [
        "## ALS in Spark"
      ]
    },
    {
      "cell_type": "code",
      "metadata": {
        "id": "ainW9Oqt7yum",
        "colab_type": "code",
        "colab": {}
      },
      "source": [
        "# install spark (https://towardsdatascience.com/pyspark-in-google-colab-6821c2faf41c)\n",
        "!apt-get install openjdk-8-jdk-headless -qq > /dev/null\n",
        "!wget -q http://archive.apache.org/dist/spark/spark-2.4.1/spark-2.4.1-bin-hadoop2.7.tgz\n",
        "!tar xf spark-2.4.1-bin-hadoop2.7.tgz\n",
        "!pip install -q findspark"
      ],
      "execution_count": 0,
      "outputs": []
    },
    {
      "cell_type": "code",
      "metadata": {
        "id": "eqDnMKKG8OIV",
        "colab_type": "code",
        "colab": {}
      },
      "source": [
        "import os\n",
        "os.environ[\"JAVA_HOME\"] = \"/usr/lib/jvm/java-8-openjdk-amd64\"\n",
        "os.environ[\"SPARK_HOME\"] = \"/content/spark-2.4.1-bin-hadoop2.7\""
      ],
      "execution_count": 0,
      "outputs": []
    },
    {
      "cell_type": "code",
      "metadata": {
        "id": "4NUsLN5t8Q6Y",
        "colab_type": "code",
        "colab": {}
      },
      "source": [
        "import findspark\n",
        "findspark.init('/content/spark-2.4.1-bin-hadoop2.7')\n",
        "from pyspark import SparkContext\n",
        "sc = SparkContext(\"local\", \"my app\")"
      ],
      "execution_count": 0,
      "outputs": []
    },
    {
      "cell_type": "code",
      "metadata": {
        "id": "xeXg5LuxympJ",
        "colab_type": "code",
        "outputId": "8a58f5df-09d1-4afb-8be1-d561f74eaa73",
        "colab": {
          "base_uri": "https://localhost:8080/",
          "height": 85
        }
      },
      "source": [
        "%%time\n",
        "# ALS in spark mllib\n",
        "from pyspark.mllib.recommendation import ALS, Rating\n",
        "\n",
        "train = sc.parallelize(train)\n",
        "test = sc.parallelize(test)\n",
        "testPairs = test.map(lambda x: (x[0], x[1]))\n",
        "trainPairs = train.map(lambda x: (x[0], x[1]))\n",
        "\n",
        "rank = 10\n",
        "numIterations = 20\n",
        "model = ALS.train(train, rank, numIterations)\n",
        "\n",
        "# performance on train set\n",
        "predictions = model.predictAll(trainPairs).map(lambda r: ((r[0], r[1]), r[2]))\n",
        "ratesAndPreds = train.map(lambda r: ((r[0], r[1]), r[2])).join(predictions)\n",
        "MSE = ratesAndPreds.map(lambda r: (r[1][0] - r[1][1])**2).reduce(lambda x, y: x + y) / ratesAndPreds.count()\n",
        "print(\"Mean Squared Error on train = \" + str(MSE))\n",
        "\n",
        "# performance on test set\n",
        "predictions = model.predictAll(testPairs).map(lambda r: ((r[0], r[1]), r[2]))\n",
        "ratesAndPreds = test.map(lambda r: ((r[0], r[1]), r[2])).join(predictions)\n",
        "MSE = ratesAndPreds.map(lambda r: (r[1][0] - r[1][1])**2).reduce(lambda x, y: x + y) / ratesAndPreds.count()\n",
        "print(\"Mean Squared Error on test = \" + str(MSE))"
      ],
      "execution_count": 0,
      "outputs": [
        {
          "output_type": "stream",
          "text": [
            "Mean Squared Error on train = 0.0234785805574\n",
            "Mean Squared Error on test = 0.0308082765621\n",
            "CPU times: user 839 ms, sys: 92.5 ms, total: 932 ms\n",
            "Wall time: 1min 28s\n"
          ],
          "name": "stdout"
        }
      ]
    },
    {
      "cell_type": "code",
      "metadata": {
        "id": "1FZvMO_H-8d_",
        "colab_type": "code",
        "colab": {}
      },
      "source": [
        ""
      ],
      "execution_count": 0,
      "outputs": []
    }
  ]
}