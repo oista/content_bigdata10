{
 "cells": [
  {
   "cell_type": "markdown",
   "metadata": {},
   "source": [
    "В задаче необходимо научиться определять, утонет ли посетитель Титаника или нет по наличию (не всегда хорошо заполненных) признаков.\n",
    "\n",
    "train.csv — набор данных на основании которого будет строиться модель (обучающая выборка)<br>\n",
    "test.csv — набор данных для проверки модели\n",
    "\n",
    "Для каждого пассажира известны следующие признаки\n",
    "\n",
    "PassengerId — идентификатор пассажира<br>\n",
    "Survival — поле в котором указано спасся человек (1) или нет (0)<br>\n",
    "Pclass — содержит социально-экономический статус (высокий, средний, низкий)<br>\n",
    "Name — имя пассажира<br>\n",
    "Sex — пол пассажира<br>\n",
    "Age — возраст<br>\n",
    "SibSp — содержит информацию о количестве родственников 2-го порядка (муж, жена, братья, сетры)<br>\n",
    "Parch — содержит информацию о количестве родственников на борту 1-го порядка (мать, отец, дети)<br>\n",
    "Ticket — номер билета<br>\n",
    "Fare — цена билета<br>\n",
    "Cabin — каюта<br>\n",
    "Embarked — порт посадки (C — Cherbourg, Q — Queenstown, S — Southampton)<br>\n",
    "\n",
    "Для начала с помощью Pandas посмотрим на данные"
   ]
  },
  {
   "cell_type": "code",
   "execution_count": 14,
   "metadata": {},
   "outputs": [
    {
     "data": {
      "text/plain": [
       "0.8868449729600592"
      ]
     },
     "execution_count": 14,
     "metadata": {},
     "output_type": "execute_result"
    }
   ],
   "source": [
    "y_true = [1,1,0,1]\n",
    "y_pred = [0.9, 0.4, 0.2, 0.1]\n",
    "logloss = 0\n",
    "from math import log\n",
    "for i in range(4):\n",
    "    logloss += y_true[i]*log(y_pred[i]) + (1 - y_true[i])*log(1 - y_pred[i])\n",
    "    \n",
    "-logloss/4"
   ]
  },
  {
   "cell_type": "code",
   "execution_count": 15,
   "metadata": {},
   "outputs": [
    {
     "data": {
      "text/plain": [
       "0.8868449729600592"
      ]
     },
     "execution_count": 15,
     "metadata": {},
     "output_type": "execute_result"
    }
   ],
   "source": [
    "from sklearn.metrics import log_loss\n",
    "log_loss(y_true, y_pred)"
   ]
  },
  {
   "cell_type": "code",
   "execution_count": 1,
   "metadata": {},
   "outputs": [],
   "source": [
    "import pandas as pd\n",
    "import os\n",
    "\n",
    "titanic_data = '/data/share/text4/'\n",
    "\n",
    "train = pd.read_csv(os.path.join(titanic_data,'train.csv'))\n",
    "test = pd.read_csv(os.path.join(titanic_data,'test.csv'))"
   ]
  },
  {
   "cell_type": "code",
   "execution_count": 2,
   "metadata": {},
   "outputs": [],
   "source": [
    "# сохраним исходную выборку ещё раз\n",
    "train_raw = pd.read_csv(os.path.join(titanic_data,'train.csv'))\n",
    "test_raw = pd.read_csv(os.path.join(titanic_data,'test.csv'))"
   ]
  },
  {
   "cell_type": "code",
   "execution_count": 3,
   "metadata": {},
   "outputs": [],
   "source": [
    "def make_features(features):\n",
    "    features.Age[features.Age.isnull()] = features.Age.median()\n",
    "    features.Fare[features.Fare.isnull()] = features.Fare.median() #заполняем пустые значения средней ценой билета\n",
    "    features = pd.get_dummies(features, columns=['Sex', 'Embarked'])\n",
    "    features = features.drop(['Name','Ticket','Cabin','PassengerId'],axis=1)\n",
    "    return features"
   ]
  },
  {
   "cell_type": "code",
   "execution_count": 4,
   "metadata": {
    "scrolled": true
   },
   "outputs": [
    {
     "name": "stderr",
     "output_type": "stream",
     "text": [
      "/opt/anaconda/envs/bd9/lib/python3.6/site-packages/ipykernel_launcher.py:2: SettingWithCopyWarning: \n",
      "A value is trying to be set on a copy of a slice from a DataFrame\n",
      "\n",
      "See the caveats in the documentation: http://pandas.pydata.org/pandas-docs/stable/indexing.html#indexing-view-versus-copy\n",
      "  \n",
      "/opt/anaconda/envs/bd9/lib/python3.6/site-packages/ipykernel_launcher.py:3: SettingWithCopyWarning: \n",
      "A value is trying to be set on a copy of a slice from a DataFrame\n",
      "\n",
      "See the caveats in the documentation: http://pandas.pydata.org/pandas-docs/stable/indexing.html#indexing-view-versus-copy\n",
      "  This is separate from the ipykernel package so we can avoid doing imports until\n"
     ]
    }
   ],
   "source": [
    "train = make_features(train)\n",
    "test = make_features(test)"
   ]
  },
  {
   "cell_type": "code",
   "execution_count": 5,
   "metadata": {},
   "outputs": [],
   "source": [
    "target_col = 'Survived'\n",
    "features = list(train.columns)\n",
    "features.remove('Sex_female')\n",
    "features.remove(target_col)"
   ]
  },
  {
   "cell_type": "code",
   "execution_count": 19,
   "metadata": {},
   "outputs": [
    {
     "data": {
      "text/html": [
       "<div>\n",
       "<style scoped>\n",
       "    .dataframe tbody tr th:only-of-type {\n",
       "        vertical-align: middle;\n",
       "    }\n",
       "\n",
       "    .dataframe tbody tr th {\n",
       "        vertical-align: top;\n",
       "    }\n",
       "\n",
       "    .dataframe thead th {\n",
       "        text-align: right;\n",
       "    }\n",
       "</style>\n",
       "<table border=\"1\" class=\"dataframe\">\n",
       "  <thead>\n",
       "    <tr style=\"text-align: right;\">\n",
       "      <th></th>\n",
       "      <th>PassengerId</th>\n",
       "      <th>Pclass</th>\n",
       "      <th>Name</th>\n",
       "      <th>Sex</th>\n",
       "      <th>Age</th>\n",
       "      <th>SibSp</th>\n",
       "      <th>Parch</th>\n",
       "      <th>Ticket</th>\n",
       "      <th>Fare</th>\n",
       "      <th>Cabin</th>\n",
       "      <th>Embarked</th>\n",
       "    </tr>\n",
       "  </thead>\n",
       "  <tbody>\n",
       "    <tr>\n",
       "      <th>0</th>\n",
       "      <td>892</td>\n",
       "      <td>3</td>\n",
       "      <td>Kelly, Mr. James</td>\n",
       "      <td>male</td>\n",
       "      <td>34.5</td>\n",
       "      <td>0</td>\n",
       "      <td>0</td>\n",
       "      <td>330911</td>\n",
       "      <td>7.8292</td>\n",
       "      <td>NaN</td>\n",
       "      <td>Q</td>\n",
       "    </tr>\n",
       "    <tr>\n",
       "      <th>1</th>\n",
       "      <td>893</td>\n",
       "      <td>3</td>\n",
       "      <td>Wilkes, Mrs. James (Ellen Needs)</td>\n",
       "      <td>female</td>\n",
       "      <td>47.0</td>\n",
       "      <td>1</td>\n",
       "      <td>0</td>\n",
       "      <td>363272</td>\n",
       "      <td>7.0000</td>\n",
       "      <td>NaN</td>\n",
       "      <td>S</td>\n",
       "    </tr>\n",
       "    <tr>\n",
       "      <th>2</th>\n",
       "      <td>894</td>\n",
       "      <td>2</td>\n",
       "      <td>Myles, Mr. Thomas Francis</td>\n",
       "      <td>male</td>\n",
       "      <td>62.0</td>\n",
       "      <td>0</td>\n",
       "      <td>0</td>\n",
       "      <td>240276</td>\n",
       "      <td>9.6875</td>\n",
       "      <td>NaN</td>\n",
       "      <td>Q</td>\n",
       "    </tr>\n",
       "    <tr>\n",
       "      <th>3</th>\n",
       "      <td>895</td>\n",
       "      <td>3</td>\n",
       "      <td>Wirz, Mr. Albert</td>\n",
       "      <td>male</td>\n",
       "      <td>27.0</td>\n",
       "      <td>0</td>\n",
       "      <td>0</td>\n",
       "      <td>315154</td>\n",
       "      <td>8.6625</td>\n",
       "      <td>NaN</td>\n",
       "      <td>S</td>\n",
       "    </tr>\n",
       "    <tr>\n",
       "      <th>4</th>\n",
       "      <td>896</td>\n",
       "      <td>3</td>\n",
       "      <td>Hirvonen, Mrs. Alexander (Helga E Lindqvist)</td>\n",
       "      <td>female</td>\n",
       "      <td>22.0</td>\n",
       "      <td>1</td>\n",
       "      <td>1</td>\n",
       "      <td>3101298</td>\n",
       "      <td>12.2875</td>\n",
       "      <td>NaN</td>\n",
       "      <td>S</td>\n",
       "    </tr>\n",
       "  </tbody>\n",
       "</table>\n",
       "</div>"
      ],
      "text/plain": [
       "   PassengerId  Pclass                                          Name     Sex  \\\n",
       "0          892       3                              Kelly, Mr. James    male   \n",
       "1          893       3              Wilkes, Mrs. James (Ellen Needs)  female   \n",
       "2          894       2                     Myles, Mr. Thomas Francis    male   \n",
       "3          895       3                              Wirz, Mr. Albert    male   \n",
       "4          896       3  Hirvonen, Mrs. Alexander (Helga E Lindqvist)  female   \n",
       "\n",
       "    Age  SibSp  Parch   Ticket     Fare Cabin Embarked  \n",
       "0  34.5      0      0   330911   7.8292   NaN        Q  \n",
       "1  47.0      1      0   363272   7.0000   NaN        S  \n",
       "2  62.0      0      0   240276   9.6875   NaN        Q  \n",
       "3  27.0      0      0   315154   8.6625   NaN        S  \n",
       "4  22.0      1      1  3101298  12.2875   NaN        S  "
      ]
     },
     "execution_count": 19,
     "metadata": {},
     "output_type": "execute_result"
    }
   ],
   "source": [
    "test.head()"
   ]
  },
  {
   "cell_type": "markdown",
   "metadata": {},
   "source": [
    "Быстрый старт. Попробуем взять быка за рога"
   ]
  },
  {
   "cell_type": "markdown",
   "metadata": {},
   "source": [
    "Помним, что модели машинного обучения принимают на вход только числа. Удалим всё, что не число."
   ]
  },
  {
   "cell_type": "code",
   "execution_count": 17,
   "metadata": {},
   "outputs": [],
   "source": [
    "y = train['Survived']"
   ]
  },
  {
   "cell_type": "code",
   "execution_count": 20,
   "metadata": {},
   "outputs": [
    {
     "name": "stdout",
     "output_type": "stream",
     "text": [
      "<class 'pandas.core.frame.DataFrame'>\n",
      "RangeIndex: 891 entries, 0 to 890\n",
      "Data columns (total 12 columns):\n",
      "PassengerId    891 non-null int64\n",
      "Survived       891 non-null int64\n",
      "Pclass         891 non-null int64\n",
      "Name           891 non-null object\n",
      "Sex            891 non-null object\n",
      "Age            714 non-null float64\n",
      "SibSp          891 non-null int64\n",
      "Parch          891 non-null int64\n",
      "Ticket         891 non-null object\n",
      "Fare           891 non-null float64\n",
      "Cabin          204 non-null object\n",
      "Embarked       889 non-null object\n",
      "dtypes: float64(2), int64(5), object(5)\n",
      "memory usage: 83.6+ KB\n"
     ]
    }
   ],
   "source": [
    "train.info()"
   ]
  },
  {
   "cell_type": "code",
   "execution_count": 34,
   "metadata": {},
   "outputs": [
    {
     "data": {
      "text/html": [
       "<div>\n",
       "<style scoped>\n",
       "    .dataframe tbody tr th:only-of-type {\n",
       "        vertical-align: middle;\n",
       "    }\n",
       "\n",
       "    .dataframe tbody tr th {\n",
       "        vertical-align: top;\n",
       "    }\n",
       "\n",
       "    .dataframe thead th {\n",
       "        text-align: right;\n",
       "    }\n",
       "</style>\n",
       "<table border=\"1\" class=\"dataframe\">\n",
       "  <thead>\n",
       "    <tr style=\"text-align: right;\">\n",
       "      <th></th>\n",
       "      <th>PassengerId</th>\n",
       "      <th>Survived</th>\n",
       "      <th>Pclass</th>\n",
       "      <th>SibSp</th>\n",
       "      <th>Parch</th>\n",
       "      <th>Fare</th>\n",
       "    </tr>\n",
       "  </thead>\n",
       "  <tbody>\n",
       "    <tr>\n",
       "      <th>count</th>\n",
       "      <td>891.000000</td>\n",
       "      <td>891.000000</td>\n",
       "      <td>891.000000</td>\n",
       "      <td>891.000000</td>\n",
       "      <td>891.000000</td>\n",
       "      <td>891.000000</td>\n",
       "    </tr>\n",
       "    <tr>\n",
       "      <th>mean</th>\n",
       "      <td>446.000000</td>\n",
       "      <td>0.383838</td>\n",
       "      <td>2.308642</td>\n",
       "      <td>0.523008</td>\n",
       "      <td>0.381594</td>\n",
       "      <td>32.204208</td>\n",
       "    </tr>\n",
       "    <tr>\n",
       "      <th>std</th>\n",
       "      <td>257.353842</td>\n",
       "      <td>0.486592</td>\n",
       "      <td>0.836071</td>\n",
       "      <td>1.102743</td>\n",
       "      <td>0.806057</td>\n",
       "      <td>49.693429</td>\n",
       "    </tr>\n",
       "    <tr>\n",
       "      <th>min</th>\n",
       "      <td>1.000000</td>\n",
       "      <td>0.000000</td>\n",
       "      <td>1.000000</td>\n",
       "      <td>0.000000</td>\n",
       "      <td>0.000000</td>\n",
       "      <td>0.000000</td>\n",
       "    </tr>\n",
       "    <tr>\n",
       "      <th>25%</th>\n",
       "      <td>223.500000</td>\n",
       "      <td>0.000000</td>\n",
       "      <td>2.000000</td>\n",
       "      <td>0.000000</td>\n",
       "      <td>0.000000</td>\n",
       "      <td>7.910400</td>\n",
       "    </tr>\n",
       "    <tr>\n",
       "      <th>50%</th>\n",
       "      <td>446.000000</td>\n",
       "      <td>0.000000</td>\n",
       "      <td>3.000000</td>\n",
       "      <td>0.000000</td>\n",
       "      <td>0.000000</td>\n",
       "      <td>14.454200</td>\n",
       "    </tr>\n",
       "    <tr>\n",
       "      <th>75%</th>\n",
       "      <td>668.500000</td>\n",
       "      <td>1.000000</td>\n",
       "      <td>3.000000</td>\n",
       "      <td>1.000000</td>\n",
       "      <td>0.000000</td>\n",
       "      <td>31.000000</td>\n",
       "    </tr>\n",
       "    <tr>\n",
       "      <th>max</th>\n",
       "      <td>891.000000</td>\n",
       "      <td>1.000000</td>\n",
       "      <td>3.000000</td>\n",
       "      <td>8.000000</td>\n",
       "      <td>6.000000</td>\n",
       "      <td>512.329200</td>\n",
       "    </tr>\n",
       "  </tbody>\n",
       "</table>\n",
       "</div>"
      ],
      "text/plain": [
       "       PassengerId    Survived      Pclass       SibSp       Parch        Fare\n",
       "count   891.000000  891.000000  891.000000  891.000000  891.000000  891.000000\n",
       "mean    446.000000    0.383838    2.308642    0.523008    0.381594   32.204208\n",
       "std     257.353842    0.486592    0.836071    1.102743    0.806057   49.693429\n",
       "min       1.000000    0.000000    1.000000    0.000000    0.000000    0.000000\n",
       "25%     223.500000    0.000000    2.000000    0.000000    0.000000    7.910400\n",
       "50%     446.000000    0.000000    3.000000    0.000000    0.000000   14.454200\n",
       "75%     668.500000    1.000000    3.000000    1.000000    0.000000   31.000000\n",
       "max     891.000000    1.000000    3.000000    8.000000    6.000000  512.329200"
      ]
     },
     "execution_count": 34,
     "metadata": {},
     "output_type": "execute_result"
    }
   ],
   "source": [
    "train_small.describe()"
   ]
  },
  {
   "cell_type": "code",
   "execution_count": 71,
   "metadata": {},
   "outputs": [],
   "source": [
    "train_small = train.drop(columns=['Name', 'Sex', 'Ticket', 'Cabin', 'Embarked', 'Survived'])"
   ]
  },
  {
   "cell_type": "code",
   "execution_count": 72,
   "metadata": {},
   "outputs": [],
   "source": [
    "from sklearn.model_selection import train_test_split\n",
    "X_train, X_test, y_train, y_test = train_test_split(train_small, y, test_size=0.2)"
   ]
  },
  {
   "cell_type": "code",
   "execution_count": 73,
   "metadata": {},
   "outputs": [],
   "source": [
    "from sklearn.linear_model import LogisticRegression\n",
    "model = LogisticRegression()\n",
    "model.fit(X_train, y_train)\n",
    "predict = model.predict(X_test)"
   ]
  },
  {
   "cell_type": "code",
   "execution_count": 41,
   "metadata": {},
   "outputs": [
    {
     "data": {
      "text/plain": [
       "array([[0.41746116, 0.58253884],\n",
       "       [0.69526598, 0.30473402],\n",
       "       [0.3619589 , 0.6380411 ],\n",
       "       [0.75744848, 0.24255152],\n",
       "       [0.74914465, 0.25085535],\n",
       "       [0.70010801, 0.29989199],\n",
       "       [0.60882384, 0.39117616],\n",
       "       [0.73191704, 0.26808296],\n",
       "       [0.74889332, 0.25110668],\n",
       "       [0.35902935, 0.64097065],\n",
       "       [0.39998046, 0.60001954],\n",
       "       [0.75329234, 0.24670766],\n",
       "       [0.75083405, 0.24916595],\n",
       "       [0.4242836 , 0.5757164 ],\n",
       "       [0.75252829, 0.24747171],\n",
       "       [0.02898858, 0.97101142],\n",
       "       [0.39809577, 0.60190423],\n",
       "       [0.39504316, 0.60495684],\n",
       "       [0.26954392, 0.73045608],\n",
       "       [0.37245738, 0.62754262],\n",
       "       [0.65523577, 0.34476423],\n",
       "       [0.75920581, 0.24079419],\n",
       "       [0.62394625, 0.37605375],\n",
       "       [0.60726983, 0.39273017],\n",
       "       [0.7432893 , 0.2567107 ],\n",
       "       [0.75178266, 0.24821734],\n",
       "       [0.75056315, 0.24943685],\n",
       "       [0.10796105, 0.89203895],\n",
       "       [0.61221727, 0.38778273],\n",
       "       [0.02289707, 0.97710293],\n",
       "       [0.73928555, 0.26071445],\n",
       "       [0.7790527 , 0.2209473 ],\n",
       "       [0.74825183, 0.25174817],\n",
       "       [0.40688238, 0.59311762],\n",
       "       [0.75811778, 0.24188222],\n",
       "       [0.60093488, 0.39906512],\n",
       "       [0.34916972, 0.65083028],\n",
       "       [0.75207289, 0.24792711],\n",
       "       [0.59898145, 0.40101855],\n",
       "       [0.59850648, 0.40149352],\n",
       "       [0.69929227, 0.30070773],\n",
       "       [0.77301581, 0.22698419],\n",
       "       [0.31694974, 0.68305026],\n",
       "       [0.72384693, 0.27615307],\n",
       "       [0.60716999, 0.39283001],\n",
       "       [0.61555203, 0.38444797],\n",
       "       [0.56463087, 0.43536913],\n",
       "       [0.27294413, 0.72705587],\n",
       "       [0.75821676, 0.24178324],\n",
       "       [0.32092793, 0.67907207],\n",
       "       [0.61147215, 0.38852785],\n",
       "       [0.75051032, 0.24948968],\n",
       "       [0.75908451, 0.24091549],\n",
       "       [0.7507326 , 0.2492674 ],\n",
       "       [0.50999552, 0.49000448],\n",
       "       [0.75561593, 0.24438407],\n",
       "       [0.39725856, 0.60274144],\n",
       "       [0.75488371, 0.24511629],\n",
       "       [0.74890629, 0.25109371],\n",
       "       [0.71861775, 0.28138225],\n",
       "       [0.55081596, 0.44918404],\n",
       "       [0.75534444, 0.24465556],\n",
       "       [0.7544803 , 0.2455197 ],\n",
       "       [0.4155141 , 0.5844859 ],\n",
       "       [0.75367806, 0.24632194],\n",
       "       [0.59889907, 0.40110093],\n",
       "       [0.14528649, 0.85471351],\n",
       "       [0.6204308 , 0.3795692 ],\n",
       "       [0.75170227, 0.24829773],\n",
       "       [0.76085402, 0.23914598],\n",
       "       [0.74680318, 0.25319682],\n",
       "       [0.72846722, 0.27153278],\n",
       "       [0.75212879, 0.24787121],\n",
       "       [0.42714883, 0.57285117],\n",
       "       [0.74875471, 0.25124529],\n",
       "       [0.75231042, 0.24768958],\n",
       "       [0.42188349, 0.57811651],\n",
       "       [0.77056336, 0.22943664],\n",
       "       [0.18712721, 0.81287279],\n",
       "       [0.75004891, 0.24995109],\n",
       "       [0.33427282, 0.66572718],\n",
       "       [0.75815333, 0.24184667],\n",
       "       [0.74823644, 0.25176356],\n",
       "       [0.73902308, 0.26097692],\n",
       "       [0.74995567, 0.25004433],\n",
       "       [0.60669018, 0.39330982],\n",
       "       [0.755951  , 0.244049  ],\n",
       "       [0.75724477, 0.24275523],\n",
       "       [0.47807619, 0.52192381],\n",
       "       [0.75269729, 0.24730271],\n",
       "       [0.72878299, 0.27121701],\n",
       "       [0.6113909 , 0.3886091 ],\n",
       "       [0.75051447, 0.24948553],\n",
       "       [0.76723709, 0.23276291],\n",
       "       [0.74780695, 0.25219305],\n",
       "       [0.75886028, 0.24113972],\n",
       "       [0.6057664 , 0.3942336 ],\n",
       "       [0.42002133, 0.57997867],\n",
       "       [0.75301346, 0.24698654],\n",
       "       [0.61514025, 0.38485975],\n",
       "       [0.75641888, 0.24358112],\n",
       "       [0.40553009, 0.59446991],\n",
       "       [0.74681863, 0.25318137],\n",
       "       [0.32211543, 0.67788457],\n",
       "       [0.74596721, 0.25403279],\n",
       "       [0.7559445 , 0.2440555 ],\n",
       "       [0.75311515, 0.24688485],\n",
       "       [0.60604617, 0.39395383],\n",
       "       [0.75400275, 0.24599725],\n",
       "       [0.67803571, 0.32196429],\n",
       "       [0.75177285, 0.24822715],\n",
       "       [0.80342534, 0.19657466],\n",
       "       [0.60780727, 0.39219273],\n",
       "       [0.28798705, 0.71201295],\n",
       "       [0.7445708 , 0.2554292 ],\n",
       "       [0.73565386, 0.26434614],\n",
       "       [0.39173765, 0.60826235],\n",
       "       [0.73742665, 0.26257335],\n",
       "       [0.7495985 , 0.2504015 ],\n",
       "       [0.72953738, 0.27046262],\n",
       "       [0.32699751, 0.67300249],\n",
       "       [0.12335783, 0.87664217],\n",
       "       [0.51321034, 0.48678966],\n",
       "       [0.77821842, 0.22178158],\n",
       "       [0.6010129 , 0.3989871 ],\n",
       "       [0.70106168, 0.29893832],\n",
       "       [0.53839378, 0.46160622],\n",
       "       [0.54318446, 0.45681554],\n",
       "       [0.75625143, 0.24374857],\n",
       "       [0.61193582, 0.38806418],\n",
       "       [0.70579898, 0.29420102],\n",
       "       [0.75576954, 0.24423046],\n",
       "       [0.77283885, 0.22716115],\n",
       "       [0.72998793, 0.27001207],\n",
       "       [0.38494974, 0.61505026],\n",
       "       [0.74904599, 0.25095401],\n",
       "       [0.76039903, 0.23960097],\n",
       "       [0.7483873 , 0.2516127 ],\n",
       "       [0.38672668, 0.61327332],\n",
       "       [0.20439321, 0.79560679],\n",
       "       [0.74837032, 0.25162968],\n",
       "       [0.76415988, 0.23584012],\n",
       "       [0.75767081, 0.24232919],\n",
       "       [0.47309091, 0.52690909],\n",
       "       [0.16544357, 0.83455643],\n",
       "       [0.75451665, 0.24548335],\n",
       "       [0.55756216, 0.44243784],\n",
       "       [0.7583554 , 0.2416446 ],\n",
       "       [0.41258344, 0.58741656],\n",
       "       [0.77011935, 0.22988065],\n",
       "       [0.75901689, 0.24098311],\n",
       "       [0.7301668 , 0.2698332 ],\n",
       "       [0.31256247, 0.68743753],\n",
       "       [0.6086617 , 0.3913383 ],\n",
       "       [0.74814756, 0.25185244],\n",
       "       [0.74919996, 0.25080004],\n",
       "       [0.41274293, 0.58725707],\n",
       "       [0.41455771, 0.58544229],\n",
       "       [0.61003012, 0.38996988],\n",
       "       [0.20845414, 0.79154586],\n",
       "       [0.75082349, 0.24917651],\n",
       "       [0.73641795, 0.26358205],\n",
       "       [0.75407374, 0.24592626],\n",
       "       [0.616195  , 0.383805  ],\n",
       "       [0.74707598, 0.25292402],\n",
       "       [0.74892051, 0.25107949],\n",
       "       [0.72526593, 0.27473407],\n",
       "       [0.75764187, 0.24235813],\n",
       "       [0.75810001, 0.24189999],\n",
       "       [0.248389  , 0.751611  ],\n",
       "       [0.26780503, 0.73219497],\n",
       "       [0.7585553 , 0.2414447 ],\n",
       "       [0.74965865, 0.25034135],\n",
       "       [0.41306922, 0.58693078],\n",
       "       [0.3911259 , 0.6088741 ],\n",
       "       [0.75925523, 0.24074477],\n",
       "       [0.59661721, 0.40338279],\n",
       "       [0.33201508, 0.66798492],\n",
       "       [0.75082593, 0.24917407]])"
      ]
     },
     "execution_count": 41,
     "metadata": {},
     "output_type": "execute_result"
    }
   ],
   "source": [
    "predict"
   ]
  },
  {
   "cell_type": "code",
   "execution_count": 74,
   "metadata": {},
   "outputs": [
    {
     "data": {
      "text/plain": [
       "0.6927374301675978"
      ]
     },
     "execution_count": 74,
     "metadata": {},
     "output_type": "execute_result"
    }
   ],
   "source": [
    "from sklearn.metrics import accuracy_score\n",
    "accuracy_score(y_test, predict)"
   ]
  },
  {
   "cell_type": "code",
   "execution_count": 76,
   "metadata": {},
   "outputs": [
    {
     "data": {
      "text/plain": [
       "Index(['PassengerId', 'Pclass', 'Age', 'SibSp', 'Parch', 'Fare'], dtype='object')"
      ]
     },
     "execution_count": 76,
     "metadata": {},
     "output_type": "execute_result"
    }
   ],
   "source": [
    "train_small.columns"
   ]
  },
  {
   "cell_type": "code",
   "execution_count": 75,
   "metadata": {},
   "outputs": [
    {
     "data": {
      "text/plain": [
       "array([[ 2.42584491e-04, -7.55911569e-01, -3.70052172e-02,\n",
       "        -2.31158952e-01,  2.57523344e-01,  7.92641800e-03]])"
      ]
     },
     "execution_count": 75,
     "metadata": {},
     "output_type": "execute_result"
    }
   ],
   "source": [
    "model.coef_"
   ]
  },
  {
   "cell_type": "code",
   "execution_count": 45,
   "metadata": {
    "scrolled": false
   },
   "outputs": [
    {
     "name": "stdout",
     "output_type": "stream",
     "text": [
      "0.7061141304347825\n"
     ]
    },
    {
     "data": {
      "image/png": "[encoded data removed]",
      "text/plain": [
       "<Figure size 1224x720 with 1 Axes>"
      ]
     },
     "metadata": {},
     "output_type": "display_data"
    }
   ],
   "source": [
    "from sklearn.metrics import roc_curve, roc_auc_score\n",
    "from random import random\n",
    "from matplotlib import pyplot as plt\n",
    "fpr, tpr, thresholds = roc_curve(y_test, predict[:,1])\n",
    "\n",
    "plt.figure(figsize=(17,10))\n",
    "plt.plot(fpr, tpr)\n",
    "plt.plot([0,1], [0,1])\n",
    "print(roc_auc_score(y_test, predict[:,1]))"
   ]
  },
  {
   "cell_type": "markdown",
   "metadata": {},
   "source": [
    "Начнём с самого простого - baseline-модели. Например, предположим, что спаслись богатеи из 1 и 2 класса\n"
   ]
  },
  {
   "cell_type": "code",
   "execution_count": 50,
   "metadata": {},
   "outputs": [],
   "source": [
    "predict = []\n",
    "for i in range(len(train)):\n",
    "    predict = train['Sex'].apply(lambda x: int(x == 'female'))\n",
    "    #predict = train['Pclass'].apply(lambda x: int(x < 3))\n",
    "#predict"
   ]
  },
  {
   "cell_type": "code",
   "execution_count": 52,
   "metadata": {},
   "outputs": [
    {
     "data": {
      "text/plain": [
       "0.7867564534231201"
      ]
     },
     "execution_count": 52,
     "metadata": {},
     "output_type": "execute_result"
    }
   ],
   "source": [
    "accuracy_score(y, predict)"
   ]
  },
  {
   "cell_type": "code",
   "execution_count": 51,
   "metadata": {
    "scrolled": false
   },
   "outputs": [
    {
     "name": "stdout",
     "output_type": "stream",
     "text": [
      "0.7668727830505226\n"
     ]
    },
    {
     "data": {
      "image/png": "[encoded data removed]",
      "text/plain": [
       "<Figure size 1224x720 with 1 Axes>"
      ]
     },
     "metadata": {},
     "output_type": "display_data"
    }
   ],
   "source": [
    "from sklearn.metrics import roc_curve, roc_auc_score\n",
    "from matplotlib import pyplot as plt\n",
    "fpr, tpr, thresholds = roc_curve(y, predict)\n",
    "\n",
    "plt.figure(figsize=(17,10))\n",
    "plt.plot(fpr, tpr)\n",
    "plt.plot([0,1], [0,1])\n",
    "print(roc_auc_score(y, predict))"
   ]
  },
  {
   "cell_type": "code",
   "execution_count": null,
   "metadata": {},
   "outputs": [],
   "source": []
  },
  {
   "cell_type": "markdown",
   "metadata": {},
   "source": [
    "Посмотрим теперь, все ли хорошо с данными, есть ли в них пропуски. Очень полезно для этого использовать info() и describe()"
   ]
  },
  {
   "cell_type": "code",
   "execution_count": 64,
   "metadata": {},
   "outputs": [
    {
     "name": "stdout",
     "output_type": "stream",
     "text": [
      "<class 'pandas.core.frame.DataFrame'>\n",
      "RangeIndex: 891 entries, 0 to 890\n",
      "Data columns (total 12 columns):\n",
      "PassengerId    891 non-null int64\n",
      "Survived       891 non-null int64\n",
      "Pclass         891 non-null int64\n",
      "Name           891 non-null object\n",
      "Sex            891 non-null object\n",
      "Age            891 non-null float64\n",
      "SibSp          891 non-null int64\n",
      "Parch          891 non-null int64\n",
      "Ticket         891 non-null object\n",
      "Fare           891 non-null float64\n",
      "Cabin          204 non-null object\n",
      "Embarked       891 non-null object\n",
      "dtypes: float64(2), int64(5), object(5)\n",
      "memory usage: 83.6+ KB\n"
     ]
    }
   ],
   "source": [
    "train.info()"
   ]
  },
  {
   "cell_type": "code",
   "execution_count": null,
   "metadata": {},
   "outputs": [],
   "source": [
    "train.describe()"
   ]
  },
  {
   "cell_type": "code",
   "execution_count": null,
   "metadata": {},
   "outputs": [],
   "source": [
    "train.groupby('Sex').median()"
   ]
  },
  {
   "cell_type": "markdown",
   "metadata": {},
   "source": [
    "Видим, что номера кают заполнены очень плохо, возраст можно попытаться как-то восстановить: есть 2 варианта - заполнить медианным значением или же натренировать классификатор по другим признакам. Поступим простым путем - заполним медианным значением"
   ]
  },
  {
   "cell_type": "code",
   "execution_count": 58,
   "metadata": {},
   "outputs": [
    {
     "data": {
      "text/plain": [
       "Series([], Name: Age, dtype: float64)"
      ]
     },
     "execution_count": 58,
     "metadata": {},
     "output_type": "execute_result"
    }
   ],
   "source": [
    "train.Age[train.Age.isnull()]"
   ]
  },
  {
   "cell_type": "code",
   "execution_count": 56,
   "metadata": {},
   "outputs": [
    {
     "data": {
      "text/plain": [
       "27.0"
      ]
     },
     "execution_count": 56,
     "metadata": {},
     "output_type": "execute_result"
    }
   ],
   "source": [
    "train[train['Sex'] == 'female'].Age.median()"
   ]
  },
  {
   "cell_type": "code",
   "execution_count": 57,
   "metadata": {},
   "outputs": [],
   "source": [
    "train.Age = train.Age.fillna(train.Age.median())"
   ]
  },
  {
   "cell_type": "markdown",
   "metadata": {},
   "source": [
    "Остался еще порт посадки - там всего 2 значения не заполнены. Давайте присвоим эти пассажирам порт в котором село больше всего людей:"
   ]
  },
  {
   "cell_type": "code",
   "execution_count": 60,
   "metadata": {},
   "outputs": [
    {
     "data": {
      "text/plain": [
       "Embarked\n",
       "C    168\n",
       "Q     77\n",
       "S    644\n",
       "Name: PassengerId, dtype: int64"
      ]
     },
     "execution_count": 60,
     "metadata": {},
     "output_type": "execute_result"
    }
   ],
   "source": [
    "MaxPortEmbarked = train.groupby('Embarked').count()['PassengerId']\n",
    "MaxPortEmbarked"
   ]
  },
  {
   "cell_type": "code",
   "execution_count": 62,
   "metadata": {},
   "outputs": [
    {
     "name": "stderr",
     "output_type": "stream",
     "text": [
      "/opt/anaconda/envs/bd9/lib/python3.6/site-packages/ipykernel_launcher.py:2: SettingWithCopyWarning: \n",
      "A value is trying to be set on a copy of a slice from a DataFrame\n",
      "\n",
      "See the caveats in the documentation: http://pandas.pydata.org/pandas-docs/stable/indexing.html#indexing-view-versus-copy\n",
      "  \n"
     ]
    }
   ],
   "source": [
    "MaxPassEmbarked = train.groupby('Embarked').count()['PassengerId']\n",
    "train.Embarked[train.Embarked.isnull()] = MaxPassEmbarked[MaxPassEmbarked == MaxPassEmbarked.max()].index[0]"
   ]
  },
  {
   "cell_type": "code",
   "execution_count": 63,
   "metadata": {},
   "outputs": [
    {
     "data": {
      "text/plain": [
       "Series([], Name: Embarked, dtype: object)"
      ]
     },
     "execution_count": 63,
     "metadata": {},
     "output_type": "execute_result"
    }
   ],
   "source": [
    "train.Embarked[train.Embarked.isnull()]"
   ]
  },
  {
   "cell_type": "markdown",
   "metadata": {},
   "source": [
    "Теперь посмотрим на оставшиеся данные. Важно понимать, что ненужные признаки нужно отбрасывать - т.к. они добавляют шум. <br>\n",
    "У нас остались: Имя (из него можно попробовать вытащить пол - упражнение на дом), Номер билета (тут ради интереса можно проверить на какую-нибудь четность, например), Номер каюты (тоже в нумерологию не верим)    "
   ]
  },
  {
   "cell_type": "code",
   "execution_count": 83,
   "metadata": {},
   "outputs": [],
   "source": [
    "train_cat = train_cat.drop(['PassengerId','Name','Ticket','Cabin'], axis=1)"
   ]
  },
  {
   "cell_type": "code",
   "execution_count": 85,
   "metadata": {},
   "outputs": [],
   "source": [
    "train_cat = train_cat.drop(['Sex_female'], axis=1)"
   ]
  },
  {
   "cell_type": "markdown",
   "metadata": {},
   "source": [
    "Теперь посмотрим на то, что осталось"
   ]
  },
  {
   "cell_type": "markdown",
   "metadata": {},
   "source": [
    "Что делать с категориальными переменным? Их нужно закодировать"
   ]
  },
  {
   "cell_type": "code",
   "execution_count": 81,
   "metadata": {},
   "outputs": [],
   "source": [
    "train_cat = pd.get_dummies(train, columns=['Sex', 'Embarked'])"
   ]
  },
  {
   "cell_type": "code",
   "execution_count": 86,
   "metadata": {},
   "outputs": [
    {
     "data": {
      "text/html": [
       "<div>\n",
       "<style scoped>\n",
       "    .dataframe tbody tr th:only-of-type {\n",
       "        vertical-align: middle;\n",
       "    }\n",
       "\n",
       "    .dataframe tbody tr th {\n",
       "        vertical-align: top;\n",
       "    }\n",
       "\n",
       "    .dataframe thead th {\n",
       "        text-align: right;\n",
       "    }\n",
       "</style>\n",
       "<table border=\"1\" class=\"dataframe\">\n",
       "  <thead>\n",
       "    <tr style=\"text-align: right;\">\n",
       "      <th></th>\n",
       "      <th>Survived</th>\n",
       "      <th>Pclass</th>\n",
       "      <th>Age</th>\n",
       "      <th>SibSp</th>\n",
       "      <th>Parch</th>\n",
       "      <th>Fare</th>\n",
       "      <th>Sex_male</th>\n",
       "      <th>Embarked_C</th>\n",
       "      <th>Embarked_Q</th>\n",
       "      <th>Embarked_S</th>\n",
       "    </tr>\n",
       "  </thead>\n",
       "  <tbody>\n",
       "    <tr>\n",
       "      <th>0</th>\n",
       "      <td>0</td>\n",
       "      <td>3</td>\n",
       "      <td>22.0</td>\n",
       "      <td>1</td>\n",
       "      <td>0</td>\n",
       "      <td>7.2500</td>\n",
       "      <td>1</td>\n",
       "      <td>0</td>\n",
       "      <td>0</td>\n",
       "      <td>1</td>\n",
       "    </tr>\n",
       "    <tr>\n",
       "      <th>1</th>\n",
       "      <td>1</td>\n",
       "      <td>1</td>\n",
       "      <td>38.0</td>\n",
       "      <td>1</td>\n",
       "      <td>0</td>\n",
       "      <td>71.2833</td>\n",
       "      <td>0</td>\n",
       "      <td>1</td>\n",
       "      <td>0</td>\n",
       "      <td>0</td>\n",
       "    </tr>\n",
       "    <tr>\n",
       "      <th>2</th>\n",
       "      <td>1</td>\n",
       "      <td>3</td>\n",
       "      <td>26.0</td>\n",
       "      <td>0</td>\n",
       "      <td>0</td>\n",
       "      <td>7.9250</td>\n",
       "      <td>0</td>\n",
       "      <td>0</td>\n",
       "      <td>0</td>\n",
       "      <td>1</td>\n",
       "    </tr>\n",
       "    <tr>\n",
       "      <th>3</th>\n",
       "      <td>1</td>\n",
       "      <td>1</td>\n",
       "      <td>35.0</td>\n",
       "      <td>1</td>\n",
       "      <td>0</td>\n",
       "      <td>53.1000</td>\n",
       "      <td>0</td>\n",
       "      <td>0</td>\n",
       "      <td>0</td>\n",
       "      <td>1</td>\n",
       "    </tr>\n",
       "    <tr>\n",
       "      <th>4</th>\n",
       "      <td>0</td>\n",
       "      <td>3</td>\n",
       "      <td>35.0</td>\n",
       "      <td>0</td>\n",
       "      <td>0</td>\n",
       "      <td>8.0500</td>\n",
       "      <td>1</td>\n",
       "      <td>0</td>\n",
       "      <td>0</td>\n",
       "      <td>1</td>\n",
       "    </tr>\n",
       "  </tbody>\n",
       "</table>\n",
       "</div>"
      ],
      "text/plain": [
       "   Survived  Pclass   Age  SibSp  Parch     Fare  Sex_male  Embarked_C  \\\n",
       "0         0       3  22.0      1      0   7.2500         1           0   \n",
       "1         1       1  38.0      1      0  71.2833         0           1   \n",
       "2         1       3  26.0      0      0   7.9250         0           0   \n",
       "3         1       1  35.0      1      0  53.1000         0           0   \n",
       "4         0       3  35.0      0      0   8.0500         1           0   \n",
       "\n",
       "   Embarked_Q  Embarked_S  \n",
       "0           0           1  \n",
       "1           0           0  \n",
       "2           0           1  \n",
       "3           0           1  \n",
       "4           0           1  "
      ]
     },
     "execution_count": 86,
     "metadata": {},
     "output_type": "execute_result"
    }
   ],
   "source": [
    "train_cat.head()"
   ]
  },
  {
   "cell_type": "code",
   "execution_count": 99,
   "metadata": {},
   "outputs": [
    {
     "data": {
      "text/plain": [
       "Survived     -0.338481\n",
       "Pclass        1.000000\n",
       "Age          -0.339898\n",
       "SibSp         0.083081\n",
       "Parch         0.018443\n",
       "Fare         -0.549500\n",
       "Sex_male      0.131900\n",
       "Embarked_C   -0.243292\n",
       "Embarked_Q    0.221009\n",
       "Embarked_S    0.074053\n",
       "Name: Pclass, dtype: float64"
      ]
     },
     "execution_count": 99,
     "metadata": {},
     "output_type": "execute_result"
    }
   ],
   "source": [
    "train_cat.corr()['Pclass']"
   ]
  },
  {
   "cell_type": "code",
   "execution_count": 101,
   "metadata": {},
   "outputs": [],
   "source": [
    "from sklearn.linear_model import LogisticRegression\n",
    "model = LogisticRegression()\n",
    "model.fit(train_cat.drop(columns=['Survived']), train_cat['Survived'])\n",
    "predict = model.predict_proba(train_cat.drop(columns=['Survived']))"
   ]
  },
  {
   "cell_type": "code",
   "execution_count": 90,
   "metadata": {},
   "outputs": [
    {
     "data": {
      "text/plain": [
       "0.8024691358024691"
      ]
     },
     "execution_count": 90,
     "metadata": {},
     "output_type": "execute_result"
    }
   ],
   "source": [
    "accuracy_score(y, predict)"
   ]
  },
  {
   "cell_type": "code",
   "execution_count": 102,
   "metadata": {
    "scrolled": false
   },
   "outputs": [
    {
     "name": "stdout",
     "output_type": "stream",
     "text": [
      "0.8572284536477807\n"
     ]
    },
    {
     "data": {
      "image/png": "[encoded data removed]",
      "text/plain": [
       "<Figure size 1224x720 with 1 Axes>"
      ]
     },
     "metadata": {},
     "output_type": "display_data"
    }
   ],
   "source": [
    "from sklearn.metrics import roc_curve, roc_auc_score\n",
    "from matplotlib import pyplot as plt\n",
    "from random import random\n",
    "fpr, tpr, thresholds = roc_curve(train_cat['Survived'], predict[:,1])\n",
    "\n",
    "plt.figure(figsize=(17,10))\n",
    "plt.plot(fpr, tpr)\n",
    "fpr, tpr, thresholds = roc_curve(train_cat['Survived'], [random() for _ in range(len(train_cat))])\n",
    "plt.plot(fpr, tpr)\n",
    "plt.plot([0,1], [0,1])\n",
    "print(roc_auc_score(train_cat['Survived'], predict[:,1]))"
   ]
  },
  {
   "cell_type": "markdown",
   "metadata": {},
   "source": [
    "Обучались и проверяли на одном и том же. Исправим это."
   ]
  },
  {
   "cell_type": "code",
   "execution_count": 96,
   "metadata": {},
   "outputs": [],
   "source": [
    "from sklearn.model_selection import train_test_split\n",
    "X_train, X_test, y_train, y_test = train_test_split(train_cat.drop(columns=['Survived']), train_cat['Survived'],\n",
    "                                                    test_size = 0.2)"
   ]
  },
  {
   "cell_type": "code",
   "execution_count": 97,
   "metadata": {},
   "outputs": [],
   "source": [
    "from sklearn.linear_model import LogisticRegression\n",
    "model = LogisticRegression()\n",
    "model.fit(X_train, y_train)\n",
    "predict = model.predict(X_test)"
   ]
  },
  {
   "cell_type": "code",
   "execution_count": 98,
   "metadata": {},
   "outputs": [
    {
     "data": {
      "text/plain": [
       "0.7653631284916201"
      ]
     },
     "execution_count": 98,
     "metadata": {},
     "output_type": "execute_result"
    }
   ],
   "source": [
    "accuracy_score(y_test, predict)"
   ]
  },
  {
   "cell_type": "code",
   "execution_count": 93,
   "metadata": {
    "scrolled": false
   },
   "outputs": [
    {
     "name": "stdout",
     "output_type": "stream",
     "text": [
      "0.8750649013499482\n"
     ]
    },
    {
     "data": {
      "image/png": "[encoded data removed]",
      "text/plain": [
       "<Figure size 1224x720 with 1 Axes>"
      ]
     },
     "metadata": {},
     "output_type": "display_data"
    }
   ],
   "source": [
    "from sklearn.metrics import roc_curve, roc_auc_score\n",
    "from matplotlib import pyplot as plt\n",
    "fpr, tpr, thresholds = roc_curve(y_test, predict[:,1])\n",
    "\n",
    "plt.figure(figsize=(17,10))\n",
    "plt.plot(fpr, tpr)\n",
    "plt.plot([0,1], [0,1])\n",
    "print(roc_auc_score(y_test, predict[:,1]))"
   ]
  },
  {
   "cell_type": "markdown",
   "metadata": {},
   "source": [
    "А теперь кросс-валидацию попробуем"
   ]
  },
  {
   "cell_type": "code",
   "execution_count": 105,
   "metadata": {},
   "outputs": [
    {
     "data": {
      "text/plain": [
       "array([0.86666667, 0.73333333, 0.73333333, 0.86666667, 0.8       ,\n",
       "       0.8       , 0.93333333, 0.86666667, 0.93333333, 0.93333333,\n",
       "       0.8       , 0.93333333, 0.86666667, 0.8       , 0.8       ,\n",
       "       0.8       , 0.73333333, 0.66666667, 0.8       , 0.8       ,\n",
       "       0.6       , 0.8       , 0.46666667, 0.73333333, 0.73333333,\n",
       "       0.73333333, 0.86666667, 0.71428571, 0.78571429, 1.        ,\n",
       "       0.78571429, 0.85714286, 0.71428571, 0.85714286, 1.        ,\n",
       "       0.69230769, 0.76923077, 0.84615385, 0.69230769, 0.61538462,\n",
       "       0.76923077, 0.69230769, 0.76923077, 0.92307692, 1.        ,\n",
       "       0.69230769, 0.92307692, 0.76923077, 0.84615385, 0.84615385])"
      ]
     },
     "execution_count": 105,
     "metadata": {},
     "output_type": "execute_result"
    }
   ],
   "source": [
    "from sklearn.model_selection import cross_val_score\n",
    "from sklearn.metrics import make_scorer\n",
    "cross_val_score(model, X_train, y_train, cv=50, scoring =  make_scorer(accuracy_score))"
   ]
  },
  {
   "cell_type": "code",
   "execution_count": null,
   "metadata": {},
   "outputs": [],
   "source": [
    "X_train.head()"
   ]
  },
  {
   "cell_type": "markdown",
   "metadata": {},
   "source": [
    "Проверим счастливого пассажира 666"
   ]
  },
  {
   "cell_type": "code",
   "execution_count": null,
   "metadata": {},
   "outputs": [],
   "source": [
    "passenger_666 = make_features(train[train['PassengerId'] == 666])\n",
    "passenger_666['Embarked_C'] = 0\n",
    "passenger_666['Embarked_Q'] = 0\n",
    "passenger_666 = passenger_666[['Survived','Pclass','Age','SibSp','Parch','Fare','Sex_male','Embarked_C','Embarked_Q','Embarked_S']]\n",
    "passenger_666.iloc[0,1:]"
   ]
  },
  {
   "cell_type": "code",
   "execution_count": null,
   "metadata": {},
   "outputs": [],
   "source": [
    "def my_logreg(feat, coef, q):\n",
    "    res = 0\n",
    "    mult = list(zip(feat, coef))\n",
    "    for el in mult:\n",
    "        res+=el[0]*el[1]\n",
    "    res+=q\n",
    "    from math import exp\n",
    "    \n",
    "    return 1/(1+exp(-res))"
   ]
  },
  {
   "cell_type": "code",
   "execution_count": null,
   "metadata": {},
   "outputs": [],
   "source": [
    "model.coef_"
   ]
  },
  {
   "cell_type": "code",
   "execution_count": null,
   "metadata": {},
   "outputs": [],
   "source": [
    "passenger_666.iloc[0,1:].values"
   ]
  },
  {
   "cell_type": "code",
   "execution_count": null,
   "metadata": {},
   "outputs": [],
   "source": [
    "my_logreg(passenger_666.iloc[0,1:].values, model.coef_[0], model.intercept_)"
   ]
  },
  {
   "cell_type": "code",
   "execution_count": null,
   "metadata": {},
   "outputs": [],
   "source": [
    "model.predict_proba([passenger_666.iloc[0,1:].values])"
   ]
  },
  {
   "cell_type": "markdown",
   "metadata": {},
   "source": [
    "Теперь, тоже самое нам нужно сделать с test.csv - удалить те же столбцы и сделать те же преобразования. На практике лучше сразу писать для этого отдельную функцию"
   ]
  },
  {
   "cell_type": "code",
   "execution_count": 3,
   "metadata": {},
   "outputs": [],
   "source": [
    "def make_features(features):\n",
    "    features.Age[features.Age.isnull()] = features.Age.median()\n",
    "    features.Fare[features.Fare.isnull()] = features.Fare.median() #заполняем пустые значения средней ценой билета\n",
    "    features = pd.get_dummies(features, columns=['Sex', 'Embarked'])\n",
    "    features = features.drop(['Name','Ticket','Cabin','PassengerId'],axis=1)\n",
    "    return features"
   ]
  },
  {
   "cell_type": "code",
   "execution_count": null,
   "metadata": {},
   "outputs": [],
   "source": [
    "test.info()"
   ]
  },
  {
   "cell_type": "code",
   "execution_count": 5,
   "metadata": {},
   "outputs": [],
   "source": [
    "from sklearn.model_selection import train_test_split"
   ]
  },
  {
   "cell_type": "code",
   "execution_count": 4,
   "metadata": {
    "scrolled": true
   },
   "outputs": [
    {
     "name": "stderr",
     "output_type": "stream",
     "text": [
      "/opt/anaconda/envs/bd9/lib/python3.6/site-packages/ipykernel_launcher.py:2: SettingWithCopyWarning: \n",
      "A value is trying to be set on a copy of a slice from a DataFrame\n",
      "\n",
      "See the caveats in the documentation: http://pandas.pydata.org/pandas-docs/stable/indexing.html#indexing-view-versus-copy\n",
      "  \n",
      "/opt/anaconda/envs/bd9/lib/python3.6/site-packages/ipykernel_launcher.py:3: SettingWithCopyWarning: \n",
      "A value is trying to be set on a copy of a slice from a DataFrame\n",
      "\n",
      "See the caveats in the documentation: http://pandas.pydata.org/pandas-docs/stable/indexing.html#indexing-view-versus-copy\n",
      "  This is separate from the ipykernel package so we can avoid doing imports until\n"
     ]
    },
    {
     "data": {
      "text/html": [
       "<div>\n",
       "<style scoped>\n",
       "    .dataframe tbody tr th:only-of-type {\n",
       "        vertical-align: middle;\n",
       "    }\n",
       "\n",
       "    .dataframe tbody tr th {\n",
       "        vertical-align: top;\n",
       "    }\n",
       "\n",
       "    .dataframe thead th {\n",
       "        text-align: right;\n",
       "    }\n",
       "</style>\n",
       "<table border=\"1\" class=\"dataframe\">\n",
       "  <thead>\n",
       "    <tr style=\"text-align: right;\">\n",
       "      <th></th>\n",
       "      <th>Survived</th>\n",
       "      <th>Pclass</th>\n",
       "      <th>Age</th>\n",
       "      <th>SibSp</th>\n",
       "      <th>Parch</th>\n",
       "      <th>Fare</th>\n",
       "      <th>Sex_female</th>\n",
       "      <th>Sex_male</th>\n",
       "      <th>Embarked_C</th>\n",
       "      <th>Embarked_Q</th>\n",
       "      <th>Embarked_S</th>\n",
       "    </tr>\n",
       "  </thead>\n",
       "  <tbody>\n",
       "    <tr>\n",
       "      <th>0</th>\n",
       "      <td>0</td>\n",
       "      <td>3</td>\n",
       "      <td>22.0</td>\n",
       "      <td>1</td>\n",
       "      <td>0</td>\n",
       "      <td>7.2500</td>\n",
       "      <td>0</td>\n",
       "      <td>1</td>\n",
       "      <td>0</td>\n",
       "      <td>0</td>\n",
       "      <td>1</td>\n",
       "    </tr>\n",
       "    <tr>\n",
       "      <th>1</th>\n",
       "      <td>1</td>\n",
       "      <td>1</td>\n",
       "      <td>38.0</td>\n",
       "      <td>1</td>\n",
       "      <td>0</td>\n",
       "      <td>71.2833</td>\n",
       "      <td>1</td>\n",
       "      <td>0</td>\n",
       "      <td>1</td>\n",
       "      <td>0</td>\n",
       "      <td>0</td>\n",
       "    </tr>\n",
       "    <tr>\n",
       "      <th>2</th>\n",
       "      <td>1</td>\n",
       "      <td>3</td>\n",
       "      <td>26.0</td>\n",
       "      <td>0</td>\n",
       "      <td>0</td>\n",
       "      <td>7.9250</td>\n",
       "      <td>1</td>\n",
       "      <td>0</td>\n",
       "      <td>0</td>\n",
       "      <td>0</td>\n",
       "      <td>1</td>\n",
       "    </tr>\n",
       "    <tr>\n",
       "      <th>3</th>\n",
       "      <td>1</td>\n",
       "      <td>1</td>\n",
       "      <td>35.0</td>\n",
       "      <td>1</td>\n",
       "      <td>0</td>\n",
       "      <td>53.1000</td>\n",
       "      <td>1</td>\n",
       "      <td>0</td>\n",
       "      <td>0</td>\n",
       "      <td>0</td>\n",
       "      <td>1</td>\n",
       "    </tr>\n",
       "    <tr>\n",
       "      <th>4</th>\n",
       "      <td>0</td>\n",
       "      <td>3</td>\n",
       "      <td>35.0</td>\n",
       "      <td>0</td>\n",
       "      <td>0</td>\n",
       "      <td>8.0500</td>\n",
       "      <td>0</td>\n",
       "      <td>1</td>\n",
       "      <td>0</td>\n",
       "      <td>0</td>\n",
       "      <td>1</td>\n",
       "    </tr>\n",
       "  </tbody>\n",
       "</table>\n",
       "</div>"
      ],
      "text/plain": [
       "   Survived  Pclass   Age  SibSp  Parch     Fare  Sex_female  Sex_male  \\\n",
       "0         0       3  22.0      1      0   7.2500           0         1   \n",
       "1         1       1  38.0      1      0  71.2833           1         0   \n",
       "2         1       3  26.0      0      0   7.9250           1         0   \n",
       "3         1       1  35.0      1      0  53.1000           1         0   \n",
       "4         0       3  35.0      0      0   8.0500           0         1   \n",
       "\n",
       "   Embarked_C  Embarked_Q  Embarked_S  \n",
       "0           0           0           1  \n",
       "1           1           0           0  \n",
       "2           0           0           1  \n",
       "3           0           0           1  \n",
       "4           0           0           1  "
      ]
     },
     "execution_count": 4,
     "metadata": {},
     "output_type": "execute_result"
    }
   ],
   "source": [
    "train = make_features(train)\n",
    "test = make_features(test)\n",
    "train.head()"
   ]
  },
  {
   "cell_type": "code",
   "execution_count": 5,
   "metadata": {},
   "outputs": [],
   "source": [
    "target_col = 'Survived'\n",
    "features = list(train.columns)\n",
    "features.remove('Sex_female')\n",
    "features.remove(target_col)"
   ]
  },
  {
   "cell_type": "code",
   "execution_count": 6,
   "metadata": {},
   "outputs": [
    {
     "ename": "NameError",
     "evalue": "name 'train_test_split' is not defined",
     "output_type": "error",
     "traceback": [
      "\u001b[0;31m---------------------------------------------------------------------------\u001b[0m",
      "\u001b[0;31mNameError\u001b[0m                                 Traceback (most recent call last)",
      "\u001b[0;32m<ipython-input-6-9c22ef25ed01>\u001b[0m in \u001b[0;36m<module>\u001b[0;34m()\u001b[0m\n\u001b[0;32m----> 1\u001b[0;31m \u001b[0mX_train\u001b[0m\u001b[0;34m,\u001b[0m \u001b[0mX_test\u001b[0m\u001b[0;34m,\u001b[0m \u001b[0my_train\u001b[0m\u001b[0;34m,\u001b[0m \u001b[0my_test\u001b[0m \u001b[0;34m=\u001b[0m \u001b[0mtrain_test_split\u001b[0m\u001b[0;34m(\u001b[0m\u001b[0mtrain\u001b[0m\u001b[0;34m[\u001b[0m\u001b[0mfeatures\u001b[0m\u001b[0;34m]\u001b[0m\u001b[0;34m,\u001b[0m \u001b[0mtrain\u001b[0m\u001b[0;34m[\u001b[0m\u001b[0mtarget_col\u001b[0m\u001b[0;34m]\u001b[0m\u001b[0;34m,\u001b[0m \u001b[0mtest_size\u001b[0m\u001b[0;34m=\u001b[0m\u001b[0;36m0.2\u001b[0m\u001b[0;34m)\u001b[0m\u001b[0;34m\u001b[0m\u001b[0m\n\u001b[0m",
      "\u001b[0;31mNameError\u001b[0m: name 'train_test_split' is not defined"
     ]
    }
   ],
   "source": [
    "X_train, X_test, y_train, y_test = train_test_split(train[features], train[target_col], test_size=0.2)"
   ]
  },
  {
   "cell_type": "code",
   "execution_count": null,
   "metadata": {},
   "outputs": [],
   "source": [
    "X_test, X_val, y_test, y_val = train_test_split(X_test, y_test)"
   ]
  },
  {
   "cell_type": "code",
   "execution_count": null,
   "metadata": {},
   "outputs": [],
   "source": [
    "train_target = train.Survived\n",
    "train_features = train.drop(['Survived'], axis=1) #из исходных данных убираем Id пассажира и флаг спасся он или нет"
   ]
  },
  {
   "cell_type": "code",
   "execution_count": null,
   "metadata": {},
   "outputs": [],
   "source": [
    "train_features.info()"
   ]
  },
  {
   "cell_type": "markdown",
   "metadata": {},
   "source": [
    "Можно предположить, что чем выше социальный статус, тем больше вероятность спасения. Давайте посмотрим, действительно ли это так. Для этого построим сводную. "
   ]
  },
  {
   "cell_type": "code",
   "execution_count": null,
   "metadata": {},
   "outputs": [],
   "source": [
    "%matplotlib inline\n",
    "import matplotlib.pyplot as plt\n",
    "\n",
    "train.pivot_table('PassengerId', 'Pclass', 'Survived', 'count').plot(kind='bar')"
   ]
  },
  {
   "cell_type": "markdown",
   "metadata": {},
   "source": [
    "Теперь посмотрим, как влияет кол-во родственников на целевую переменную. Для этого построим также сводные:"
   ]
  },
  {
   "cell_type": "code",
   "execution_count": null,
   "metadata": {},
   "outputs": [],
   "source": [
    "fig, axes = plt.subplots(ncols=2)\n",
    "train.pivot_table('PassengerId', ['SibSp'], 'Survived', 'count').plot(ax=axes[0], title='SibSp')\n",
    "train.pivot_table('PassengerId', ['Parch'], 'Survived', 'count').plot(ax=axes[1], title='Parch')"
   ]
  },
  {
   "cell_type": "markdown",
   "metadata": {},
   "source": [
    "Все, 80% работы мы сделали: теперь мы имеем матрицу обьект-признак, которую можно \"скармливать\" на вход различным алгоритмам машинного обучения<br>\n",
    "Будем пробовать SVM, KNeighbors, RandomForest, log-regression"
   ]
  },
  {
   "cell_type": "code",
   "execution_count": 6,
   "metadata": {},
   "outputs": [
    {
     "name": "stderr",
     "output_type": "stream",
     "text": [
      "/opt/anaconda/envs/bd9/lib/python3.6/site-packages/sklearn/cross_validation.py:41: DeprecationWarning: This module was deprecated in version 0.18 in favor of the model_selection module into which all the refactored classes and functions are moved. Also note that the interface of the new CV iterators are different from that of this module. This module will be removed in 0.20.\n",
      "  \"This module will be removed in 0.20.\", DeprecationWarning)\n"
     ]
    }
   ],
   "source": [
    "from sklearn import cross_validation, svm\n",
    "from sklearn.neighbors import KNeighborsClassifier\n",
    "from sklearn.ensemble import RandomForestClassifier\n",
    "from sklearn.linear_model import LogisticRegression\n",
    "from sklearn.metrics import roc_curve, auc\n",
    "import pylab as pl"
   ]
  },
  {
   "cell_type": "markdown",
   "metadata": {},
   "source": [
    "Для удобства (тут кому как нравится, если в голове все держите - можно не делать) выделим отдельно целевую переменную."
   ]
  },
  {
   "cell_type": "code",
   "execution_count": null,
   "metadata": {},
   "outputs": [],
   "source": [
    "\n",
    "\n",
    "\n",
    "kfold = 5 #количество подвыборок для валидации\n",
    "itog_val = {} #список для записи результатов кросс валидации разных алгоритмов"
   ]
  },
  {
   "cell_type": "code",
   "execution_count": null,
   "metadata": {},
   "outputs": [],
   "source": []
  },
  {
   "cell_type": "markdown",
   "metadata": {},
   "source": [
    "# KNN"
   ]
  },
  {
   "cell_type": "code",
   "execution_count": 72,
   "metadata": {},
   "outputs": [],
   "source": [
    "from sklearn.model_selection import train_test_split\n",
    "X_train, X_test, y_train, y_test = train_test_split(train[features], train[target_col],\n",
    "                                                    test_size = 0.2)"
   ]
  },
  {
   "cell_type": "code",
   "execution_count": 73,
   "metadata": {},
   "outputs": [],
   "source": [
    "model_knc = KNeighborsClassifier(n_neighbors = 18) #в параметре передаем кол-во соседей\n",
    "model_knc.fit(X_train, y_train)\n",
    "predict = model_knc.predict_proba(X_test)"
   ]
  },
  {
   "cell_type": "code",
   "execution_count": 74,
   "metadata": {},
   "outputs": [
    {
     "data": {
      "text/plain": [
       "array([ 3.    , 28.    ,  0.    ,  2.    , 15.2458,  0.    ,  1.    ,\n",
       "        0.    ,  0.    ])"
      ]
     },
     "execution_count": 74,
     "metadata": {},
     "output_type": "execute_result"
    }
   ],
   "source": [
    "X_test.values[0]"
   ]
  },
  {
   "cell_type": "code",
   "execution_count": 76,
   "metadata": {},
   "outputs": [
    {
     "data": {
      "text/plain": [
       "(array([[1.        , 1.73205081, 1.73205081, 2.17149203, 2.37068687,\n",
       "         2.45730292, 2.64976558, 2.65793484, 2.65793484, 2.65793484,\n",
       "         2.65793484, 2.74885752, 2.76163549, 2.78022619, 2.78022619,\n",
       "         2.81309774, 2.82482878, 2.83982704]]),\n",
       " array([[311,  23,  96,  29, 258, 471, 200, 395, 312, 509, 528, 655, 177,\n",
       "         542, 138,  42,  61, 162]]))"
      ]
     },
     "execution_count": 76,
     "metadata": {},
     "output_type": "execute_result"
    }
   ],
   "source": [
    "model_knc.kneighbors([X_test.values[0]])"
   ]
  },
  {
   "cell_type": "code",
   "execution_count": 77,
   "metadata": {},
   "outputs": [
    {
     "data": {
      "text/plain": [
       "array([ 3.    , 29.    ,  0.    ,  2.    , 15.2458,  0.    ,  1.    ,\n",
       "        0.    ,  0.    ])"
      ]
     },
     "execution_count": 77,
     "metadata": {},
     "output_type": "execute_result"
    }
   ],
   "source": [
    "X_train.values[311]"
   ]
  },
  {
   "cell_type": "code",
   "execution_count": 64,
   "metadata": {
    "scrolled": true
   },
   "outputs": [
    {
     "name": "stdout",
     "output_type": "stream",
     "text": [
      "0.7207489339019189\n"
     ]
    },
    {
     "data": {
      "image/png": "[encoded data removed]",
      "text/plain": [
       "<Figure size 1224x720 with 1 Axes>"
      ]
     },
     "metadata": {},
     "output_type": "display_data"
    }
   ],
   "source": [
    "from sklearn.metrics import roc_curve, roc_auc_score\n",
    "from random import random\n",
    "from matplotlib import pyplot as plt\n",
    "fpr, tpr, thresholds = roc_curve(y_test, predict[:,1])\n",
    "\n",
    "plt.figure(figsize=(17,10))\n",
    "plt.plot(fpr, tpr)\n",
    "plt.plot([0,1], [0,1])\n",
    "print(roc_auc_score(y_test, predict[:,1]))"
   ]
  },
  {
   "cell_type": "code",
   "execution_count": 16,
   "metadata": {},
   "outputs": [
    {
     "data": {
      "text/plain": [
       "0.8268156424581006"
      ]
     },
     "execution_count": 16,
     "metadata": {},
     "output_type": "execute_result"
    }
   ],
   "source": [
    "from sklearn.metrics import accuracy_score\n",
    "accuracy_score(y_test, model_knc.predict(X_test))"
   ]
  },
  {
   "cell_type": "markdown",
   "metadata": {},
   "source": [
    "Масштаб признаков сильно влияет на вычисление метрики. Поэтому нужно нормализовать признаки."
   ]
  },
  {
   "cell_type": "code",
   "execution_count": null,
   "metadata": {},
   "outputs": [],
   "source": []
  },
  {
   "cell_type": "code",
   "execution_count": 79,
   "metadata": {},
   "outputs": [],
   "source": [
    "from sklearn.preprocessing import StandardScaler\n",
    "scaler = StandardScaler()\n",
    "model_knc = KNeighborsClassifier(n_neighbors = 18, p=1) #в параметре передаем кол-во соседей\n",
    "model_knc.fit(scaler.fit_transform(X_train), y_train)\n",
    "predict = model_knc.predict_proba(scaler.transform(X_test))\n"
   ]
  },
  {
   "cell_type": "code",
   "execution_count": 80,
   "metadata": {},
   "outputs": [
    {
     "data": {
      "text/plain": [
       "0.7988826815642458"
      ]
     },
     "execution_count": 80,
     "metadata": {},
     "output_type": "execute_result"
    }
   ],
   "source": [
    "accuracy_score(y_test, model_knc.predict(scaler.transform(X_test)))"
   ]
  },
  {
   "cell_type": "code",
   "execution_count": 81,
   "metadata": {},
   "outputs": [
    {
     "name": "stdout",
     "output_type": "stream",
     "text": [
      "0.837489943684634\n"
     ]
    },
    {
     "data": {
      "image/png": "[encoded data removed]",
      "text/plain": [
       "<Figure size 1224x720 with 1 Axes>"
      ]
     },
     "metadata": {},
     "output_type": "display_data"
    }
   ],
   "source": [
    "from sklearn.metrics import roc_curve, roc_auc_score\n",
    "from random import random\n",
    "from matplotlib import pyplot as plt\n",
    "fpr, tpr, thresholds = roc_curve(y_test, predict[:,1])\n",
    "\n",
    "plt.figure(figsize=(17,10))\n",
    "plt.plot(fpr, tpr)\n",
    "plt.plot([0,1], [0,1])\n",
    "print(roc_auc_score(y_test, predict[:,1]))"
   ]
  },
  {
   "cell_type": "markdown",
   "metadata": {},
   "source": [
    "# SVM"
   ]
  },
  {
   "cell_type": "code",
   "execution_count": 7,
   "metadata": {},
   "outputs": [],
   "source": [
    "from sklearn.model_selection import train_test_split\n",
    "X_train, X_test, y_train, y_test = train_test_split(train[features], train[target_col],\n",
    "                                                    test_size = 0.2)"
   ]
  },
  {
   "cell_type": "code",
   "execution_count": 58,
   "metadata": {},
   "outputs": [],
   "source": [
    "from sklearn.preprocessing import StandardScaler\n",
    "scaler = StandardScaler()\n",
    "model_svc = svm.SVC(probability=True, kernel = 'poly', degree=2) #по умолчанию kernel='rbf'\n",
    "model_svc.fit(scaler.fit_transform(X_train), y_train)\n",
    "predict = model_svc.predict_proba(scaler.transform(X_test))\n"
   ]
  },
  {
   "cell_type": "code",
   "execution_count": 8,
   "metadata": {},
   "outputs": [
    {
     "name": "stdout",
     "output_type": "stream",
     "text": [
      "CPU times: user 184 ms, sys: 0 ns, total: 184 ms\n",
      "Wall time: 182 ms\n"
     ]
    }
   ],
   "source": [
    "%%time\n",
    "model_svc = svm.SVC(probability=True) #по умолчанию kernel='rbf'\n",
    "model_svc.fit(X_train, y_train)\n",
    "predict = model_svc.predict_proba(X_test)"
   ]
  },
  {
   "cell_type": "code",
   "execution_count": 9,
   "metadata": {},
   "outputs": [
    {
     "data": {
      "text/plain": [
       "array([  2,   3,   6,  10,  12,  20,  23,  25,  26,  27,  28,  30,  36,\n",
       "        38,  41,  48,  49,  51,  52,  53,  54,  55,  61,  66,  68,  69,\n",
       "        70,  74,  76,  77,  84,  86,  89,  90,  91,  92,  93,  96,  99,\n",
       "       102, 103, 105, 107, 109, 110, 114, 120, 121, 122, 123, 124, 128,\n",
       "       129, 131, 132, 135, 137, 141, 143, 144, 145, 146, 147, 149, 155,\n",
       "       157, 161, 163, 173, 176, 177, 178, 179, 180, 185, 186, 190, 191,\n",
       "       192, 193, 194, 197, 199, 201, 202, 204, 205, 208, 209, 212, 213,\n",
       "       216, 217, 219, 222, 227, 229, 231, 232, 234, 237, 238, 242, 246,\n",
       "       247, 252, 254, 255, 256, 260, 261, 262, 265, 269, 270, 278, 279,\n",
       "       281, 282, 287, 288, 295, 298, 299, 300, 301, 306, 309, 310, 319,\n",
       "       322, 325, 330, 331, 332, 337, 338, 339, 340, 344, 345, 347, 349,\n",
       "       352, 356, 358, 359, 364, 365, 366, 371, 375, 376, 378, 383, 391,\n",
       "       392, 396, 399, 400, 401, 402, 403, 404, 406, 409, 410, 411, 412,\n",
       "       413, 414, 415, 416, 417, 419, 421, 423, 424, 428, 431, 432, 438,\n",
       "       439, 440, 443, 451, 453, 455, 459, 463, 464, 466, 467, 472, 475,\n",
       "       476, 481, 482, 484, 487, 488, 489, 491, 492, 497, 502, 503, 504,\n",
       "       505, 508, 510, 513, 515, 516, 521, 522, 523, 524, 525, 527, 529,\n",
       "       531, 534, 539, 541, 542, 545, 546, 549, 550, 553, 554, 555, 556,\n",
       "       564, 565, 566, 568, 569, 571, 573, 576, 579, 580, 581, 583, 584,\n",
       "       586, 588, 589, 590, 592, 594, 595, 609, 612, 613, 617, 626, 627,\n",
       "       630, 633, 634, 636, 639, 642, 643, 645, 646, 647, 648, 656, 657,\n",
       "       658, 660, 661, 664, 665, 666, 667, 668, 677, 682, 683, 684, 685,\n",
       "       690, 695, 696, 697, 699, 701, 702, 705, 708, 711,   1,   4,   5,\n",
       "         7,   8,   9,  14,  15,  16,  19,  21,  22,  24,  29,  32,  33,\n",
       "        35,  37,  39,  42,  43,  45,  46,  47,  56,  57,  58,  59,  60,\n",
       "        62,  64,  65,  67,  72,  73,  75,  78,  79,  81,  82,  83,  85,\n",
       "        88,  94,  95,  97,  98, 100, 106, 111, 112, 113, 115, 116, 117,\n",
       "       125, 127, 130, 134, 140, 150, 152, 153, 156, 158, 159, 160, 164,\n",
       "       166, 168, 169, 170, 171, 172, 175, 182, 183, 184, 188, 189, 198,\n",
       "       203, 206, 207, 210, 214, 218, 224, 228, 230, 233, 235, 241, 244,\n",
       "       245, 248, 249, 251, 257, 259, 263, 264, 266, 268, 271, 273, 275,\n",
       "       276, 277, 280, 283, 284, 286, 290, 292, 293, 296, 297, 302, 303,\n",
       "       304, 305, 307, 308, 311, 313, 315, 317, 323, 324, 333, 334, 336,\n",
       "       341, 342, 350, 351, 357, 360, 361, 367, 368, 369, 370, 372, 374,\n",
       "       379, 381, 382, 384, 385, 386, 387, 388, 389, 393, 395, 397, 405,\n",
       "       407, 408, 422, 425, 429, 435, 436, 441, 444, 447, 448, 454, 457,\n",
       "       458, 460, 461, 465, 469, 471, 474, 477, 478, 480, 485, 486, 490,\n",
       "       493, 495, 506, 507, 511, 512, 517, 518, 519, 526, 528, 530, 532,\n",
       "       533, 535, 537, 538, 540, 543, 548, 551, 557, 559, 560, 561, 562,\n",
       "       567, 570, 572, 574, 591, 596, 597, 599, 600, 601, 604, 606, 607,\n",
       "       608, 610, 615, 618, 619, 620, 621, 622, 623, 624, 628, 629, 631,\n",
       "       632, 635, 637, 638, 640, 641, 644, 649, 652, 654, 655, 659, 662,\n",
       "       663, 671, 672, 673, 676, 679, 680, 681, 686, 687, 688, 689, 691,\n",
       "       693, 694, 698, 700, 703, 707, 709, 710], dtype=int32)"
      ]
     },
     "execution_count": 9,
     "metadata": {},
     "output_type": "execute_result"
    }
   ],
   "source": [
    "model_svc.support_"
   ]
  },
  {
   "cell_type": "code",
   "execution_count": 59,
   "metadata": {},
   "outputs": [
    {
     "data": {
      "text/plain": [
       "array([  1,   7,  12,  14,  17,  21,  22,  39,  40,  45,  52,  53,  60,\n",
       "        61,  66,  67,  68,  74,  76,  77,  82,  88,  90,  91,  93,  96,\n",
       "        98, 100, 103, 104, 114, 116, 118, 121, 126, 132, 142, 144, 148,\n",
       "       154, 157, 158, 165, 167, 168, 169, 173, 174, 177, 182, 186, 187,\n",
       "       188, 189, 200, 201, 203, 204, 212, 215, 217, 218, 220, 228, 230,\n",
       "       238, 245, 249, 253, 254, 257, 264, 265, 270, 271, 272, 274, 277,\n",
       "       279, 280, 282, 283, 288, 291, 293, 296, 298, 303, 305, 306, 309,\n",
       "       314, 315, 316, 317, 322, 323, 324, 325, 328, 329, 332, 334, 336,\n",
       "       337, 339, 341, 343, 345, 350, 352, 353, 358, 362, 375, 376, 381,\n",
       "       386, 390, 398, 399, 407, 408, 410, 412, 413, 414, 419, 420, 421,\n",
       "       430, 431, 432, 433, 435, 436, 439, 442, 447, 448, 450, 453, 454,\n",
       "       458, 460, 461, 474, 476, 477, 479, 481, 491, 497, 507, 508, 512,\n",
       "       513, 514, 516, 517, 521, 522, 523, 527, 528, 537, 538, 539, 544,\n",
       "       550, 554, 555, 559, 568, 572, 580, 582, 585, 586, 591, 592, 593,\n",
       "       594, 599, 601, 602, 603, 605, 607, 608, 610, 615, 616, 625, 626,\n",
       "       645, 650, 653, 657, 660, 661, 665, 670, 672, 673, 674, 676, 681,\n",
       "       683, 689, 692, 693, 697, 700, 701, 704, 706, 709,   3,   5,   8,\n",
       "        10,  11,  13,  20,  24,  28,  30,  32,  33,  34,  35,  37,  38,\n",
       "        46,  51,  55,  56,  58,  64,  70,  72,  73,  78,  85,  89,  92,\n",
       "        95, 107, 109, 113, 115, 123, 124, 125, 128, 129, 134, 138, 143,\n",
       "       146, 147, 150, 151, 152, 159, 160, 161, 171, 178, 179, 191, 193,\n",
       "       196, 197, 202, 207, 208, 209, 210, 211, 219, 224, 226, 234, 236,\n",
       "       239, 246, 247, 248, 250, 255, 260, 262, 263, 266, 269, 276, 278,\n",
       "       285, 287, 289, 295, 297, 299, 302, 307, 311, 320, 330, 331, 333,\n",
       "       335, 338, 340, 348, 349, 351, 354, 355, 363, 364, 367, 370, 372,\n",
       "       373, 378, 384, 392, 393, 394, 400, 403, 404, 405, 406, 416, 417,\n",
       "       418, 423, 425, 437, 449, 452, 456, 457, 459, 463, 464, 469, 470,\n",
       "       471, 472, 475, 478, 482, 484, 485, 486, 487, 489, 490, 492, 493,\n",
       "       494, 495, 501, 502, 504, 505, 509, 510, 515, 519, 525, 526, 530,\n",
       "       531, 536, 541, 543, 547, 549, 551, 552, 561, 562, 564, 565, 566,\n",
       "       569, 570, 571, 573, 575, 576, 579, 581, 597, 600, 613, 614, 617,\n",
       "       627, 628, 629, 630, 631, 632, 633, 635, 636, 639, 640, 642, 643,\n",
       "       644, 648, 649, 652, 654, 655, 656, 664, 669, 677, 679, 688, 690,\n",
       "       691, 694, 696, 699, 703, 708, 711], dtype=int32)"
      ]
     },
     "execution_count": 59,
     "metadata": {},
     "output_type": "execute_result"
    }
   ],
   "source": [
    "model_svc.support_"
   ]
  },
  {
   "cell_type": "code",
   "execution_count": 42,
   "metadata": {},
   "outputs": [
    {
     "data": {
      "text/plain": [
       "0"
      ]
     },
     "execution_count": 42,
     "metadata": {},
     "output_type": "execute_result"
    }
   ],
   "source": [
    "y_train.values[430]"
   ]
  },
  {
   "cell_type": "code",
   "execution_count": 60,
   "metadata": {
    "scrolled": true
   },
   "outputs": [
    {
     "name": "stdout",
     "output_type": "stream",
     "text": [
      "0.8306474020561266\n"
     ]
    },
    {
     "data": {
      "image/png": "[encoded data removed]",
      "text/plain": [
       "<Figure size 1224x720 with 1 Axes>"
      ]
     },
     "metadata": {},
     "output_type": "display_data"
    }
   ],
   "source": [
    "from sklearn.metrics import roc_curve, roc_auc_score\n",
    "from random import random\n",
    "from matplotlib import pyplot as plt\n",
    "fpr, tpr, thresholds = roc_curve(y_test, predict[:,1])\n",
    "\n",
    "plt.figure(figsize=(17,10))\n",
    "plt.plot(fpr, tpr)\n",
    "plt.plot([0,1], [0,1])\n",
    "print(roc_auc_score(y_test, predict[:,1]))"
   ]
  },
  {
   "cell_type": "code",
   "execution_count": 62,
   "metadata": {},
   "outputs": [
    {
     "data": {
      "text/plain": [
       "0.8156424581005587"
      ]
     },
     "execution_count": 62,
     "metadata": {},
     "output_type": "execute_result"
    }
   ],
   "source": [
    "from sklearn.metrics import accuracy_score\n",
    "accuracy_score(y_test, model_svc.predict(X_test))"
   ]
  },
  {
   "cell_type": "markdown",
   "metadata": {},
   "source": [
    "# Решающее дерево"
   ]
  },
  {
   "cell_type": "code",
   "execution_count": 8,
   "metadata": {},
   "outputs": [],
   "source": [
    "from sklearn.tree import DecisionTreeClassifier"
   ]
  },
  {
   "cell_type": "code",
   "execution_count": 10,
   "metadata": {},
   "outputs": [],
   "source": [
    "from sklearn.model_selection import train_test_split\n",
    "X_train, X_test, y_train, y_test = train_test_split(train[features], train[target_col],\n",
    "                                                    test_size = 0.2)"
   ]
  },
  {
   "cell_type": "code",
   "execution_count": 44,
   "metadata": {},
   "outputs": [
    {
     "name": "stdout",
     "output_type": "stream",
     "text": [
      "CPU times: user 4 ms, sys: 4 ms, total: 8 ms\n",
      "Wall time: 6.3 ms\n"
     ]
    }
   ],
   "source": [
    "%%time\n",
    "model_tree = DecisionTreeClassifier(max_depth=10)\n",
    "model_tree.fit(X_train[features], y_train)\n",
    "predict = model_tree.predict_proba(X_test)"
   ]
  },
  {
   "cell_type": "code",
   "execution_count": 45,
   "metadata": {
    "scrolled": true
   },
   "outputs": [
    {
     "name": "stdout",
     "output_type": "stream",
     "text": [
      "0.8244269722814499\n"
     ]
    },
    {
     "data": {
      "image/png": "[encoded data removed]",
      "text/plain": [
       "<Figure size 1224x720 with 1 Axes>"
      ]
     },
     "metadata": {},
     "output_type": "display_data"
    }
   ],
   "source": [
    "from sklearn.metrics import roc_curve, roc_auc_score\n",
    "from random import random\n",
    "from matplotlib import pyplot as plt\n",
    "fpr, tpr, thresholds = roc_curve(y_test, predict[:,1])\n",
    "\n",
    "plt.figure(figsize=(17,10))\n",
    "plt.plot(fpr, tpr)\n",
    "plt.plot([0,1], [0,1])\n",
    "print(roc_auc_score(y_test, predict[:,1]))"
   ]
  },
  {
   "cell_type": "code",
   "execution_count": 37,
   "metadata": {},
   "outputs": [
    {
     "data": {
      "text/plain": [
       "0.8044692737430168"
      ]
     },
     "execution_count": 37,
     "metadata": {},
     "output_type": "execute_result"
    }
   ],
   "source": [
    "from sklearn.metrics import accuracy_score\n",
    "accuracy_score(y_test, model_tree.predict(X_test))"
   ]
  },
  {
   "cell_type": "code",
   "execution_count": 16,
   "metadata": {},
   "outputs": [
    {
     "data": {
      "text/plain": [
       "275"
      ]
     },
     "execution_count": 16,
     "metadata": {},
     "output_type": "execute_result"
    }
   ],
   "source": [
    "y_train.sum()"
   ]
  },
  {
   "cell_type": "markdown",
   "metadata": {},
   "source": [
    "Визуализируем решающее дерево"
   ]
  },
  {
   "cell_type": "code",
   "execution_count": 21,
   "metadata": {},
   "outputs": [],
   "source": [
    "from sklearn.tree import export_graphviz"
   ]
  },
  {
   "cell_type": "code",
   "execution_count": 22,
   "metadata": {},
   "outputs": [],
   "source": [
    "!rm -rf tree.png\n",
    "!rm -rf tree.dot\n",
    "export_graphviz(model_tree, out_file='tree.dot', feature_names=features, filled=True)\n",
    "!dot -Tpng tree.dot -o tree.png"
   ]
  },
  {
   "cell_type": "markdown",
   "metadata": {},
   "source": [
    "<img src=\"tree.png\">"
   ]
  },
  {
   "cell_type": "markdown",
   "metadata": {},
   "source": [
    "# Random Forest"
   ]
  },
  {
   "cell_type": "code",
   "execution_count": 29,
   "metadata": {},
   "outputs": [],
   "source": [
    "from sklearn.model_selection import train_test_split\n",
    "X_train, X_test, y_train, y_test = train_test_split(train[features], train[target_col],\n",
    "                                                    test_size = 0.2)"
   ]
  },
  {
   "cell_type": "code",
   "execution_count": 59,
   "metadata": {},
   "outputs": [
    {
     "name": "stdout",
     "output_type": "stream",
     "text": [
      "CPU times: user 12 ms, sys: 8 ms, total: 20 ms\n",
      "Wall time: 17.2 ms\n"
     ]
    }
   ],
   "source": [
    "%%time\n",
    "from sklearn.ensemble import RandomForestClassifier\n",
    "\n",
    "model_rfc = RandomForestClassifier(n_estimators = 10, max_depth = 10, max_features=4)\n",
    "model_rfc.fit(X_train, y_train)\n",
    "predict = model_rfc.predict_proba(X_test)"
   ]
  },
  {
   "cell_type": "code",
   "execution_count": 55,
   "metadata": {},
   "outputs": [
    {
     "data": {
      "text/plain": [
       "DecisionTreeClassifier(class_weight=None, criterion='gini', max_depth=10,\n",
       "            max_features=4, max_leaf_nodes=None, min_impurity_decrease=0.0,\n",
       "            min_impurity_split=None, min_samples_leaf=1,\n",
       "            min_samples_split=2, min_weight_fraction_leaf=0.0,\n",
       "            presort=False, random_state=1310201806, splitter='best')"
      ]
     },
     "execution_count": 55,
     "metadata": {},
     "output_type": "execute_result"
    }
   ],
   "source": [
    "model_rfc.feature_importances_"
   ]
  },
  {
   "cell_type": "code",
   "execution_count": 53,
   "metadata": {
    "scrolled": true
   },
   "outputs": [
    {
     "name": "stdout",
     "output_type": "stream",
     "text": [
      "0.8798640724946695\n"
     ]
    },
    {
     "data": {
      "image/png": "[encoded data removed]",
      "text/plain": [
       "<Figure size 1224x720 with 1 Axes>"
      ]
     },
     "metadata": {},
     "output_type": "display_data"
    }
   ],
   "source": [
    "from sklearn.metrics import roc_curve, roc_auc_score\n",
    "from random import random\n",
    "from matplotlib import pyplot as plt\n",
    "fpr, tpr, thresholds = roc_curve(y_test, predict[:,1])\n",
    "\n",
    "plt.figure(figsize=(17,10))\n",
    "plt.plot(fpr, tpr)\n",
    "plt.plot([0,1], [0,1])\n",
    "print(roc_auc_score(y_test, predict[:,1]))"
   ]
  },
  {
   "cell_type": "code",
   "execution_count": 60,
   "metadata": {},
   "outputs": [
    {
     "data": {
      "text/html": [
       "<div>\n",
       "<style scoped>\n",
       "    .dataframe tbody tr th:only-of-type {\n",
       "        vertical-align: middle;\n",
       "    }\n",
       "\n",
       "    .dataframe tbody tr th {\n",
       "        vertical-align: top;\n",
       "    }\n",
       "\n",
       "    .dataframe thead th {\n",
       "        text-align: right;\n",
       "    }\n",
       "</style>\n",
       "<table border=\"1\" class=\"dataframe\">\n",
       "  <thead>\n",
       "    <tr style=\"text-align: right;\">\n",
       "      <th></th>\n",
       "      <th>0</th>\n",
       "      <th>1</th>\n",
       "    </tr>\n",
       "  </thead>\n",
       "  <tbody>\n",
       "    <tr>\n",
       "      <th>0</th>\n",
       "      <td>Pclass</td>\n",
       "      <td>0.096607</td>\n",
       "    </tr>\n",
       "    <tr>\n",
       "      <th>1</th>\n",
       "      <td>Age</td>\n",
       "      <td>0.218500</td>\n",
       "    </tr>\n",
       "    <tr>\n",
       "      <th>2</th>\n",
       "      <td>SibSp</td>\n",
       "      <td>0.056829</td>\n",
       "    </tr>\n",
       "    <tr>\n",
       "      <th>3</th>\n",
       "      <td>Parch</td>\n",
       "      <td>0.033101</td>\n",
       "    </tr>\n",
       "    <tr>\n",
       "      <th>4</th>\n",
       "      <td>Fare</td>\n",
       "      <td>0.240066</td>\n",
       "    </tr>\n",
       "    <tr>\n",
       "      <th>5</th>\n",
       "      <td>Sex_male</td>\n",
       "      <td>0.317704</td>\n",
       "    </tr>\n",
       "    <tr>\n",
       "      <th>6</th>\n",
       "      <td>Embarked_C</td>\n",
       "      <td>0.016907</td>\n",
       "    </tr>\n",
       "    <tr>\n",
       "      <th>7</th>\n",
       "      <td>Embarked_Q</td>\n",
       "      <td>0.004848</td>\n",
       "    </tr>\n",
       "    <tr>\n",
       "      <th>8</th>\n",
       "      <td>Embarked_S</td>\n",
       "      <td>0.015439</td>\n",
       "    </tr>\n",
       "  </tbody>\n",
       "</table>\n",
       "</div>"
      ],
      "text/plain": [
       "            0         1\n",
       "0      Pclass  0.096607\n",
       "1         Age  0.218500\n",
       "2       SibSp  0.056829\n",
       "3       Parch  0.033101\n",
       "4        Fare  0.240066\n",
       "5    Sex_male  0.317704\n",
       "6  Embarked_C  0.016907\n",
       "7  Embarked_Q  0.004848\n",
       "8  Embarked_S  0.015439"
      ]
     },
     "execution_count": 60,
     "metadata": {},
     "output_type": "execute_result"
    }
   ],
   "source": [
    "pd.DataFrame(list(zip(train[features].columns,model_rfc.feature_importances_)))"
   ]
  },
  {
   "cell_type": "code",
   "execution_count": 71,
   "metadata": {},
   "outputs": [
    {
     "data": {
      "text/plain": [
       "0.8268156424581006"
      ]
     },
     "execution_count": 71,
     "metadata": {},
     "output_type": "execute_result"
    }
   ],
   "source": [
    "from sklearn.metrics import accuracy_score\n",
    "accuracy_score(y_test, model_rfc.predict(X_test))"
   ]
  },
  {
   "cell_type": "markdown",
   "metadata": {},
   "source": [
    "# Все модели вместе"
   ]
  },
  {
   "cell_type": "code",
   "execution_count": 97,
   "metadata": {},
   "outputs": [],
   "source": [
    "model_rfc = RandomForestClassifier(n_estimators = 70) #в параметре передаем кол-во деревьев\n",
    "model_knc = KNeighborsClassifier(n_neighbors = 18) #в параметре передаем кол-во соседей\n",
    "model_lr = LogisticRegression(penalty='l1', tol=0.01) \n",
    "model_svc = svm.SVC(probability=True) #по умолчанию kernek='rbf'"
   ]
  },
  {
   "cell_type": "markdown",
   "metadata": {},
   "source": [
    "Делаем скользящий контроль"
   ]
  },
  {
   "cell_type": "code",
   "execution_count": 98,
   "metadata": {},
   "outputs": [
    {
     "ename": "NameError",
     "evalue": "name 'train_features' is not defined",
     "output_type": "error",
     "traceback": [
      "\u001b[0;31m---------------------------------------------------------------------------\u001b[0m",
      "\u001b[0;31mNameError\u001b[0m                                 Traceback (most recent call last)",
      "\u001b[0;32m<ipython-input-98-21388c4c5ad9>\u001b[0m in \u001b[0;36m<module>\u001b[0;34m()\u001b[0m\n\u001b[0;32m----> 1\u001b[0;31m \u001b[0mscores\u001b[0m \u001b[0;34m=\u001b[0m \u001b[0mcross_validation\u001b[0m\u001b[0;34m.\u001b[0m\u001b[0mcross_val_score\u001b[0m\u001b[0;34m(\u001b[0m\u001b[0mmodel_rfc\u001b[0m\u001b[0;34m,\u001b[0m \u001b[0mtrain_features\u001b[0m\u001b[0;34m,\u001b[0m \u001b[0mtrain_target\u001b[0m\u001b[0;34m,\u001b[0m \u001b[0mcv\u001b[0m \u001b[0;34m=\u001b[0m \u001b[0mkfold\u001b[0m\u001b[0;34m)\u001b[0m\u001b[0;34m\u001b[0m\u001b[0m\n\u001b[0m\u001b[1;32m      2\u001b[0m \u001b[0mitog_val\u001b[0m\u001b[0;34m[\u001b[0m\u001b[0;34m'RandomForestClassifier'\u001b[0m\u001b[0;34m]\u001b[0m \u001b[0;34m=\u001b[0m \u001b[0mscores\u001b[0m\u001b[0;34m.\u001b[0m\u001b[0mmean\u001b[0m\u001b[0;34m(\u001b[0m\u001b[0;34m)\u001b[0m\u001b[0;34m\u001b[0m\u001b[0m\n\u001b[1;32m      3\u001b[0m \u001b[0mscores\u001b[0m \u001b[0;34m=\u001b[0m \u001b[0mcross_validation\u001b[0m\u001b[0;34m.\u001b[0m\u001b[0mcross_val_score\u001b[0m\u001b[0;34m(\u001b[0m\u001b[0mmodel_knc\u001b[0m\u001b[0;34m,\u001b[0m \u001b[0mtrain_features\u001b[0m\u001b[0;34m,\u001b[0m \u001b[0mtrain_target\u001b[0m\u001b[0;34m,\u001b[0m \u001b[0mcv\u001b[0m \u001b[0;34m=\u001b[0m \u001b[0mkfold\u001b[0m\u001b[0;34m)\u001b[0m\u001b[0;34m\u001b[0m\u001b[0m\n\u001b[1;32m      4\u001b[0m \u001b[0mitog_val\u001b[0m\u001b[0;34m[\u001b[0m\u001b[0;34m'KNeighborsClassifier'\u001b[0m\u001b[0;34m]\u001b[0m \u001b[0;34m=\u001b[0m \u001b[0mscores\u001b[0m\u001b[0;34m.\u001b[0m\u001b[0mmean\u001b[0m\u001b[0;34m(\u001b[0m\u001b[0;34m)\u001b[0m\u001b[0;34m\u001b[0m\u001b[0m\n\u001b[1;32m      5\u001b[0m \u001b[0mscores\u001b[0m \u001b[0;34m=\u001b[0m \u001b[0mcross_validation\u001b[0m\u001b[0;34m.\u001b[0m\u001b[0mcross_val_score\u001b[0m\u001b[0;34m(\u001b[0m\u001b[0mmodel_lr\u001b[0m\u001b[0;34m,\u001b[0m \u001b[0mtrain_features\u001b[0m\u001b[0;34m,\u001b[0m \u001b[0mtrain_target\u001b[0m\u001b[0;34m,\u001b[0m \u001b[0mcv\u001b[0m \u001b[0;34m=\u001b[0m \u001b[0mkfold\u001b[0m\u001b[0;34m)\u001b[0m\u001b[0;34m\u001b[0m\u001b[0m\n",
      "\u001b[0;31mNameError\u001b[0m: name 'train_features' is not defined"
     ]
    }
   ],
   "source": [
    "scores = cross_validation.cross_val_score(model_rfc, train_features, train_target, cv = kfold)\n",
    "itog_val['RandomForestClassifier'] = scores.mean()\n",
    "scores = cross_validation.cross_val_score(model_knc, train_features, train_target, cv = kfold)\n",
    "itog_val['KNeighborsClassifier'] = scores.mean()\n",
    "scores = cross_validation.cross_val_score(model_lr, train_features, train_target, cv = kfold)\n",
    "itog_val['LogisticRegression'] = scores.mean()\n",
    "scores = cross_validation.cross_val_score(model_svc, train_features, train_target, cv = kfold)\n",
    "itog_val['SVC'] = scores.mean()"
   ]
  },
  {
   "cell_type": "code",
   "execution_count": null,
   "metadata": {},
   "outputs": [],
   "source": []
  },
  {
   "cell_type": "code",
   "execution_count": null,
   "metadata": {},
   "outputs": [],
   "source": [
    "model_lr.score"
   ]
  },
  {
   "cell_type": "code",
   "execution_count": null,
   "metadata": {},
   "outputs": [],
   "source": [
    "pd.DataFrame.from_dict(data = itog_val, orient='index').plot(kind='bar', legend=False)"
   ]
  },
  {
   "cell_type": "markdown",
   "metadata": {},
   "source": [
    "Для построения ROC-кривых нам надо руками (с помощью функции train_test_split модуля cross_validation) делить на обучающую и проверочную выборки<br>\n",
    "На выходе получим:<br>\n",
    "новый обучающий массив признаков<br>\n",
    "проверочный массив признаков<br>\n",
    "новый массив целевой переменной<br>\n",
    "проверочный массив целевой переменной"
   ]
  },
  {
   "cell_type": "code",
   "execution_count": null,
   "metadata": {},
   "outputs": [],
   "source": [
    "ROCtrainTRN, ROCtestTRN, ROCtrainTRG, ROCtestTRG = cross_validation.train_test_split(train_features, train_target, test_size=0.25) "
   ]
  },
  {
   "cell_type": "code",
   "execution_count": null,
   "metadata": {},
   "outputs": [],
   "source": [
    "pl.clf()\n",
    "plt.figure(figsize=(8,6))\n",
    "#SVC\n",
    "model_svc.probability = True\n",
    "probas = model_svc.fit(ROCtrainTRN, ROCtrainTRG).predict_proba(ROCtestTRN)\n",
    "fpr, tpr, thresholds = roc_curve(ROCtestTRG, probas[:, 1])\n",
    "roc_auc  = auc(fpr, tpr)\n",
    "pl.plot(fpr, tpr, label='%s ROC (area = %0.2f)' % ('SVC', roc_auc))\n",
    "#RandomForestClassifier\n",
    "probas = model_rfc.fit(ROCtrainTRN, ROCtrainTRG).predict_proba(ROCtestTRN)\n",
    "fpr, tpr, thresholds = roc_curve(ROCtestTRG, probas[:, 1])\n",
    "roc_auc  = auc(fpr, tpr)\n",
    "pl.plot(fpr, tpr, label='%s ROC (area = %0.2f)' % ('RandonForest',roc_auc))\n",
    "#KNeighborsClassifier\n",
    "probas = model_knc.fit(ROCtrainTRN, ROCtrainTRG).predict_proba(ROCtestTRN)\n",
    "fpr, tpr, thresholds = roc_curve(ROCtestTRG, probas[:, 1])\n",
    "roc_auc  = auc(fpr, tpr)\n",
    "pl.plot(fpr, tpr, label='%s ROC (area = %0.2f)' % ('KNeighborsClassifier',roc_auc))\n",
    "#LogisticRegression\n",
    "probas = model_lr.fit(ROCtrainTRN, ROCtrainTRG).predict_proba(ROCtestTRN)\n",
    "fpr, tpr, thresholds = roc_curve(ROCtestTRG, probas[:, 1])\n",
    "roc_auc  = auc(fpr, tpr)\n",
    "pl.plot(fpr, tpr, label='%s ROC (area = %0.2f)' % ('LogisticRegression',roc_auc))\n",
    "pl.plot([0, 1], [0, 1], 'k--')\n",
    "pl.xlim([0.0, 1.0])\n",
    "pl.ylim([0.0, 1.0])\n",
    "pl.xlabel('False Positive Rate')\n",
    "pl.ylabel('True Positive Rate')\n",
    "pl.legend(loc=0, fontsize='small')\n",
    "pl.show()"
   ]
  },
  {
   "cell_type": "markdown",
   "metadata": {},
   "source": [
    "Чем выше лежит ROC-кривая - тем лучше - видим, что тут тоже RandomForest работает очень хорошо - оставляем его в качестве классификатора"
   ]
  },
  {
   "cell_type": "markdown",
   "metadata": {},
   "source": [
    "Все, осталось вызвать predict для каждого обьекта из тестовой выборки и засабмитить результат"
   ]
  },
  {
   "cell_type": "markdown",
   "metadata": {},
   "source": [
    "# Бустинг"
   ]
  },
  {
   "cell_type": "code",
   "execution_count": 17,
   "metadata": {},
   "outputs": [],
   "source": [
    "from sklearn.model_selection import train_test_split\n",
    "X_train, X_test, y_train, y_test = train_test_split(train[features], train['Survived'],\n",
    "                                                    test_size = 0.2)"
   ]
  },
  {
   "cell_type": "code",
   "execution_count": 31,
   "metadata": {},
   "outputs": [],
   "source": [
    "from xgboost import XGBClassifier\n",
    "param = {'max_depth': 5,  'silent': 1, 'objective': 'binary:logistic',\n",
    "        'colsample_bytree': 0.7, 'subsample':0.7, 'min_child_weight':5 }\n",
    "param['nthread'] = 4\n",
    "param['eval_metric'] = 'error'\n",
    "param['n_estimators'] = 10\n",
    "param['learning_rate'] = 0.2\n",
    "model_xgb = XGBClassifier(**param)\n",
    "model_xgb.fit(X_train, y_train)\n",
    "predict = model_xgb.predict_proba(X_test)"
   ]
  },
  {
   "cell_type": "code",
   "execution_count": 32,
   "metadata": {
    "scrolled": false
   },
   "outputs": [
    {
     "name": "stdout",
     "output_type": "stream",
     "text": [
      "0.881063432835821\n"
     ]
    },
    {
     "data": {
      "image/png": "[encoded data removed]",
      "text/plain": [
       "<Figure size 1224x720 with 1 Axes>"
      ]
     },
     "metadata": {},
     "output_type": "display_data"
    }
   ],
   "source": [
    "from sklearn.metrics import roc_curve, roc_auc_score\n",
    "from random import random\n",
    "from matplotlib import pyplot as plt\n",
    "fpr, tpr, thresholds = roc_curve(y_test, predict[:,1])\n",
    "\n",
    "plt.figure(figsize=(17,10))\n",
    "plt.plot(fpr, tpr)\n",
    "plt.plot([0,1], [0,1])\n",
    "print(roc_auc_score(y_test, predict[:,1]))"
   ]
  },
  {
   "cell_type": "code",
   "execution_count": 33,
   "metadata": {},
   "outputs": [
    {
     "name": "stderr",
     "output_type": "stream",
     "text": [
      "/opt/anaconda/envs/bd9/lib/python3.6/site-packages/sklearn/preprocessing/label.py:151: DeprecationWarning: The truth value of an empty array is ambiguous. Returning False, but in future this will result in an error. Use `array.size > 0` to check that an array is not empty.\n",
      "  if diff:\n"
     ]
    },
    {
     "data": {
      "text/plain": [
       "0.8268156424581006"
      ]
     },
     "execution_count": 33,
     "metadata": {},
     "output_type": "execute_result"
    }
   ],
   "source": [
    "from sklearn.metrics import accuracy_score\n",
    "accuracy_score(y_test, model_xgb.predict(X_test))"
   ]
  },
  {
   "cell_type": "markdown",
   "metadata": {},
   "source": [
    "Обучим заново логистическую регрессию на всех фичах"
   ]
  },
  {
   "cell_type": "code",
   "execution_count": null,
   "metadata": {},
   "outputs": [],
   "source": [
    "model_lr.fit(train_features, train_target)"
   ]
  },
  {
   "cell_type": "markdown",
   "metadata": {},
   "source": [
    "Посмотрим какие фичи какой вклад вносят в модель логистической регрессии"
   ]
  },
  {
   "cell_type": "code",
   "execution_count": null,
   "metadata": {},
   "outputs": [],
   "source": [
    "import numpy\n",
    "for idx in numpy.argsort(model_lr.coef_)[0][:10]: # последние 10 с минимальным коэфициентом\n",
    "    print '{}, importance = {:.5f}'.format(train_features.columns[idx], model_lr.coef_[0][idx])"
   ]
  },
  {
   "cell_type": "code",
   "execution_count": null,
   "metadata": {},
   "outputs": [],
   "source": [
    "from sklearn.preprocessing import OneHotEncoder\n",
    "import pandas as pd\n",
    "import numpy as np\n",
    "\n",
    "x1 = ['Bangalore','Bangalore','Paris','New York']\n",
    "y1 = [0.1,0.2,0.3,0.9]\n",
    "\n",
    "x2 = ['Bangalore','New York']\n",
    "y2 = [0.1,0.9]\n",
    "\n",
    "\n",
    "train = pd.DataFrame(np.asarray([x1,y1]).T, columns=['x','y'])\n",
    "test = pd.DataFrame(np.asarray([x2,y2]).T, columns=['x','y'])\n",
    "# train = pd.concat([train['x'],pd.get_dummies(train['y'])],axis=1)\n",
    "# train.head(6)\n",
    "# test = pd.concat([test['x'],pd.get_dummies(test['y'])],axis=1)\n",
    "# test.head(6)\n",
    "\n",
    "enc_train = OneHotEncoder(dtype=np.int32)\n",
    "y11 = enc_train.fit_transform(train['x'].values.reshape(-1,1)).toarray()\n",
    "enc_train.get_feature_names()\n",
    "\n",
    "enc_test = OneHotEncoder(dtype=np.int32)\n",
    "y11 = enc_test.fit_transform(test['x'].values.reshape(-1,1)).toarray()\n",
    "enc_test.get_feature_names()\n",
    "\n",
    "y21 = enc_train.transform(test['x'].values.reshape(-1,1)).toarray()\n",
    "y21\n",
    "y21 = enc_test.transform(test['x'].values.reshape(-1,1)).toarray()\n",
    "y21"
   ]
  },
  {
   "cell_type": "markdown",
   "metadata": {},
   "source": [
    "# Мультикласс"
   ]
  },
  {
   "cell_type": "code",
   "execution_count": 46,
   "metadata": {},
   "outputs": [
    {
     "data": {
      "text/plain": [
       "array([[ 0.96296738,  2.09373847,  3.44329415, -0.5       ]])"
      ]
     },
     "execution_count": 46,
     "metadata": {},
     "output_type": "execute_result"
    }
   ],
   "source": [
    "from sklearn.linear_model import LogisticRegression\n",
    "from sklearn.multiclass import OneVsOneClassifier\n",
    "x = [[0,0],[1,1],[0,1],[1,0]]\n",
    "y = [1,2,3,4]\n",
    "\n",
    "m = OneVsOneClassifier(LogisticRegression())\n",
    "m.fit(x*100,y*100)\n",
    "#m.estimators_\n",
    "m.decision_function([[0,1]])"
   ]
  },
  {
   "cell_type": "code",
   "execution_count": 48,
   "metadata": {},
   "outputs": [
    {
     "name": "stdout",
     "output_type": "stream",
     "text": [
      "[[0.41738999 0.58261001]]\n",
      "[[0.05342805 0.94657195]]\n",
      "[[0.92188901 0.07811099]]\n",
      "[[0.06780737 0.93219263]]\n",
      "[[0.98462875 0.01537125]]\n",
      "[[0.96640713 0.03359287]]\n"
     ]
    }
   ],
   "source": [
    "for est in m.estimators_:\n",
    "    print(est.predict_proba([[0,1]]))"
   ]
  },
  {
   "cell_type": "markdown",
   "metadata": {},
   "source": [
    "# ROC AUC"
   ]
  },
  {
   "cell_type": "code",
   "execution_count": 3,
   "metadata": {},
   "outputs": [
    {
     "name": "stdout",
     "output_type": "stream",
     "text": [
      "0.7727272727272728\n",
      "0.7979797979797981\n"
     ]
    },
    {
     "data": {
      "image/png": "[encoded data removed]",
      "text/plain": [
       "<Figure size 432x288 with 1 Axes>"
      ]
     },
     "metadata": {},
     "output_type": "display_data"
    }
   ],
   "source": [
    "from matplotlib import pyplot as plt\n",
    "y = [1,1,0,1,1,1,0,1,1,1,1,0,0,0,1,0,1,0,0,0]\n",
    "#y_p = [(len(y)-x) / len(y) for x in range(len(y))]\n",
    "y_p = [0.9]*3 + [0.6]*8 + [0.3]*9\n",
    "from sklearn.metrics import roc_curve, roc_auc_score\n",
    "fpr, tpr, _ = roc_curve(y,y_p)\n",
    "plt.plot(fpr,tpr)\n",
    "print(roc_auc_score(y,y_p))\n",
    "new_y = [round(x) for x in y_p]\n",
    "fpr, tpr, _ = roc_curve(y,new_y)\n",
    "plt.plot(fpr,tpr)\n",
    "print(roc_auc_score(y,new_y))"
   ]
  },
  {
   "cell_type": "code",
   "execution_count": 4,
   "metadata": {},
   "outputs": [
    {
     "data": {
      "text/plain": [
       "[0.9,\n",
       " 0.9,\n",
       " 0.9,\n",
       " 0.6,\n",
       " 0.6,\n",
       " 0.6,\n",
       " 0.6,\n",
       " 0.6,\n",
       " 0.6,\n",
       " 0.6,\n",
       " 0.6,\n",
       " 0.3,\n",
       " 0.3,\n",
       " 0.3,\n",
       " 0.3,\n",
       " 0.3,\n",
       " 0.3,\n",
       " 0.3,\n",
       " 0.3,\n",
       " 0.3]"
      ]
     },
     "execution_count": 4,
     "metadata": {},
     "output_type": "execute_result"
    }
   ],
   "source": [
    "y_p"
   ]
  },
  {
   "cell_type": "code",
   "execution_count": 6,
   "metadata": {},
   "outputs": [],
   "source": [
    "def ind_y(y1, y2):\n",
    "    return int(y1 > y2)\n",
    "\n",
    "def ind_a(a1, a2):\n",
    "    if a1 == a2:\n",
    "        return 0.5\n",
    "    else:\n",
    "        return int(a1 > a2)"
   ]
  },
  {
   "cell_type": "code",
   "execution_count": 7,
   "metadata": {},
   "outputs": [
    {
     "data": {
      "text/plain": [
       "0.797979797979798"
      ]
     },
     "execution_count": 7,
     "metadata": {},
     "output_type": "execute_result"
    }
   ],
   "source": [
    "roc_auc = 0\n",
    "counter = 0\n",
    "res1 = []\n",
    "for i in range(len(new_y)):\n",
    "    for j in range(len(new_y)):\n",
    "        roc_auc+= ind_y(y[i], y[j]) * ind_a(new_y[i], new_y[j])\n",
    "        counter+=ind_y(y[i], y[j])\n",
    "        if (y[i] == 1) & (y[j] == 0) & (ind_a(new_y[i], new_y[j]) > 0):\n",
    "            res1.append((i,j))\n",
    "roc_auc/counter"
   ]
  },
  {
   "cell_type": "code",
   "execution_count": 8,
   "metadata": {},
   "outputs": [
    {
     "data": {
      "text/plain": [
       "0.7727272727272727"
      ]
     },
     "execution_count": 8,
     "metadata": {},
     "output_type": "execute_result"
    }
   ],
   "source": [
    "roc_auc = 0\n",
    "counter = 0\n",
    "res2 = []\n",
    "for i in range(len(new_y)):\n",
    "    for j in range(len(y_p)):\n",
    "        roc_auc+= ind_y(y[i], y[j]) * ind_a(y_p[i], y_p[j])\n",
    "        counter+=ind_y(y[i], y[j])\n",
    "        if (y[i] == 1) & (y[j] == 0) & (ind_a(y_p[i], y_p[j]) > 0):\n",
    "            res2.append((i,j))\n",
    "roc_auc/counter"
   ]
  },
  {
   "cell_type": "code",
   "execution_count": 9,
   "metadata": {},
   "outputs": [
    {
     "data": {
      "text/plain": [
       "{(3, 2), (4, 2), (5, 2), (7, 2), (8, 2), (9, 2), (10, 2)}"
      ]
     },
     "execution_count": 9,
     "metadata": {},
     "output_type": "execute_result"
    }
   ],
   "source": [
    "set(res1) - set(res2)"
   ]
  },
  {
   "cell_type": "code",
   "execution_count": null,
   "metadata": {},
   "outputs": [],
   "source": []
  }
 ],
 "metadata": {
  "kernelspec": {
   "display_name": "Python 3",
   "language": "python",
   "name": "python3"
  },
  "language_info": {
   "codemirror_mode": {
    "name": "ipython",
    "version": 3
   },
   "file_extension": ".py",
   "mimetype": "text/x-python",
   "name": "python",
   "nbconvert_exporter": "python",
   "pygments_lexer": "ipython3",
   "version": "3.6.5"
  }
 },
 "nbformat": 4,
 "nbformat_minor": 1
}
