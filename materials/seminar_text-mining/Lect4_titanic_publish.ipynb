{
 "cells": [
  {
   "cell_type": "markdown",
   "metadata": {},
   "source": [
    "В задаче необходимо научиться определять, утонет ли посетитель Титаника или нет по наличию (не всегда хорошо заполненных) признаков.\n",
    "\n",
    "train.csv — набор данных на основании которого будет строиться модель (обучающая выборка)<br>\n",
    "test.csv — набор данных для проверки модели\n",
    "\n",
    "Для каждого пассажира известны следующие признаки\n",
    "\n",
    "PassengerId — идентификатор пассажира<br>\n",
    "Survival — поле в котором указано спасся человек (1) или нет (0)<br>\n",
    "Pclass — содержит социально-экономический статус (высокий, средний, низкий)<br>\n",
    "Name — имя пассажира<br>\n",
    "Sex — пол пассажира<br>\n",
    "Age — возраст<br>\n",
    "SibSp — содержит информацию о количестве родственников 2-го порядка (муж, жена, братья, сетры)<br>\n",
    "Parch — содержит информацию о количестве родственников на борту 1-го порядка (мать, отец, дети)<br>\n",
    "Ticket — номер билета<br>\n",
    "Fare — цена билета<br>\n",
    "Cabin — каюта<br>\n",
    "Embarked — порт посадки (C — Cherbourg, Q — Queenstown, S — Southampton)<br>\n",
    "\n",
    "Для начала с помощью Pandas посмотрим на данные"
   ]
  },
  {
   "cell_type": "code",
   "execution_count": null,
   "metadata": {},
   "outputs": [],
   "source": [
    "import pandas as pd\n",
    "import os\n",
    "\n",
    "titanic_data = 'titanic_data'\n",
    "\n",
    "train = pd.read_csv(os.path.join(titanic_data,'train.csv'))\n",
    "test = pd.read_csv(os.path.join(titanic_data,'test.csv'))"
   ]
  },
  {
   "cell_type": "markdown",
   "metadata": {},
   "source": [
    "Быстрый старт. Попробуем взять быка за рога"
   ]
  },
  {
   "cell_type": "markdown",
   "metadata": {},
   "source": [
    "Помним, что модели машинного обучения принимают на вход только числа. Удалим всё, что не число."
   ]
  },
  {
   "cell_type": "code",
   "execution_count": null,
   "metadata": {},
   "outputs": [],
   "source": [
    "y = train['Survived']"
   ]
  },
  {
   "cell_type": "code",
   "execution_count": null,
   "metadata": {},
   "outputs": [],
   "source": [
    "train.drop(columns=['Name', 'Sex', 'Ticket', 'Cabin', 'Embarked', 'Age'], inplace=True)"
   ]
  },
  {
   "cell_type": "code",
   "execution_count": null,
   "metadata": {},
   "outputs": [],
   "source": [
    "from sklearn.linear_model import LogisticRegression\n",
    "model = LogisticRegression()\n",
    "model.fit(train, y)\n",
    "predict = model.predict_proba(train)"
   ]
  },
  {
   "cell_type": "code",
   "execution_count": null,
   "metadata": {
    "scrolled": false
   },
   "outputs": [],
   "source": [
    "from sklearn.metrics import roc_curve, roc_auc_score\n",
    "from random import random\n",
    "from matplotlib import pyplot as plt\n",
    "fpr, tpr, thresholds = roc_curve(y, predict[:,1])\n",
    "\n",
    "plt.figure(figsize=(17,10))\n",
    "plt.plot(fpr, tpr)\n",
    "plt.plot([0,1], [0,1])\n",
    "print(roc_auc_score(y, predict[:,1]))"
   ]
  },
  {
   "cell_type": "markdown",
   "metadata": {},
   "source": [
    "Начнём с самого простого - baseline-модели. Например, предположим, что спаслись богатеи из 1 и 2 класса\n"
   ]
  },
  {
   "cell_type": "code",
   "execution_count": null,
   "metadata": {},
   "outputs": [],
   "source": [
    "predict = []\n",
    "for i in range(len(train)):\n",
    "    #predict.append(int((train.loc[i, 'Sex'] == 'female')))\n",
    "    predict = train['Pclass'].apply(lambda x: int(x < 3))\n",
    "#predict"
   ]
  },
  {
   "cell_type": "code",
   "execution_count": null,
   "metadata": {
    "scrolled": false
   },
   "outputs": [],
   "source": [
    "from sklearn.metrics import roc_curve, roc_auc_score\n",
    "from matplotlib import pyplot as plt\n",
    "fpr, tpr, thresholds = roc_curve(y, predict)\n",
    "\n",
    "plt.figure(figsize=(17,10))\n",
    "plt.plot(fpr, tpr)\n",
    "plt.plot([0,1], [0,1])\n",
    "print(roc_auc_score(y, predict))"
   ]
  },
  {
   "cell_type": "code",
   "execution_count": null,
   "metadata": {},
   "outputs": [],
   "source": []
  },
  {
   "cell_type": "markdown",
   "metadata": {},
   "source": [
    "Посмотрим теперь, все ли хорошо с данными, есть ли в них пропуски. Очень полезно для этого использовать info() и describe()"
   ]
  },
  {
   "cell_type": "code",
   "execution_count": null,
   "metadata": {},
   "outputs": [],
   "source": [
    "train.info()"
   ]
  },
  {
   "cell_type": "code",
   "execution_count": null,
   "metadata": {},
   "outputs": [],
   "source": [
    "train.describe()"
   ]
  },
  {
   "cell_type": "code",
   "execution_count": null,
   "metadata": {},
   "outputs": [],
   "source": [
    "train.groupby('Sex').median()"
   ]
  },
  {
   "cell_type": "markdown",
   "metadata": {},
   "source": [
    "Видим, что номера кают заполнены очень плохо, возраст можно попытаться как-то восстановить..."
   ]
  },
  {
   "cell_type": "code",
   "execution_count": null,
   "metadata": {},
   "outputs": [],
   "source": [
    "train.Age[train.Age.isnull()]"
   ]
  },
  {
   "cell_type": "markdown",
   "metadata": {},
   "source": [
    "Остался еще порт посадки - там всего 2 значения не заполнены. Что делать?"
   ]
  },
  {
   "cell_type": "code",
   "execution_count": null,
   "metadata": {},
   "outputs": [],
   "source": [
    "MaxPortEmbarked = train.groupby('Embarked').count()['PassengerId']\n",
    "MaxPortEmbarked"
   ]
  },
  {
   "cell_type": "code",
   "execution_count": null,
   "metadata": {},
   "outputs": [],
   "source": [
    "MaxPassEmbarked = train.groupby('Embarked').count()['PassengerId']\n",
    "train.Embarked[train.Embarked.isnull()] = MaxPassEmbarked[MaxPassEmbarked == MaxPassEmbarked.max()].index[0]"
   ]
  },
  {
   "cell_type": "code",
   "execution_count": null,
   "metadata": {},
   "outputs": [],
   "source": [
    "train.Embarked[train.Embarked.isnull()]"
   ]
  }
 ],
 "metadata": {
  "kernelspec": {
   "display_name": "Python 3",
   "language": "python",
   "name": "python3"
  },
  "language_info": {
   "codemirror_mode": {
    "name": "ipython",
    "version": 3
   },
   "file_extension": ".py",
   "mimetype": "text/x-python",
   "name": "python",
   "nbconvert_exporter": "python",
   "pygments_lexer": "ipython3",
   "version": "3.6.5"
  }
 },
 "nbformat": 4,
 "nbformat_minor": 1
}
