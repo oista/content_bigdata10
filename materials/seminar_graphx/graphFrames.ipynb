{
 "cells": [
  {
   "cell_type": "code",
   "execution_count": 1,
   "metadata": {},
   "outputs": [
    {
     "name": "stdout",
     "output_type": "stream",
     "text": [
      "Welcome to\n",
      "      ____              __\n",
      "     / __/__  ___ _____/ /__\n",
      "    _\\ \\/ _ \\/ _ `/ __/  '_/\n",
      "   /__ / .__/\\_,_/_/ /_/\\_\\   version 2.4.3\n",
      "      /_/\n",
      "\n",
      "Using Python version 3.6.5 (default, Apr 29 2018 16:14:56)\n",
      "SparkSession available as 'spark'.\n"
     ]
    }
   ],
   "source": [
    "import os\n",
    "import sys\n",
    "os.environ[\"PYSPARK_SUBMIT_ARGS\"]='--packages graphframes:graphframes:0.6.0-spark2.3-s_2.11 pyspark-shell'\n",
    "os.environ[\"PYSPARK_PYTHON\"]='/opt/anaconda/envs/bd9/bin/python'\n",
    "os.environ[\"SPARK_HOME\"]='/usr/hdp/current/spark2-client'\n",
    "\n",
    "spark_home = os.environ.get('SPARK_HOME', None)\n",
    "if not spark_home:\n",
    "    raise ValueError('SPARK_HOME environment variable is not set')\n",
    "sys.path.insert(0, os.path.join(spark_home, 'python'))\n",
    "sys.path.insert(0, os.path.join(spark_home, 'python/lib/py4j-0.10.7-src.zip'))\n",
    "exec(open(os.path.join(spark_home, 'python/pyspark/shell.py')).read())"
   ]
  },
  {
   "cell_type": "code",
   "execution_count": 2,
   "metadata": {},
   "outputs": [],
   "source": [
    "from graphframes import * \n",
    "\n",
    "vertices = spark.createDataFrame([\n",
    "  (\"1\", \"Alex\", 28, \"M\", \"MIPT\"),\n",
    "  (\"2\", \"Emeli\", 28, \"F\", \"MIPT\"),\n",
    "  (\"3\", \"Natasha\", 27, \"F\", \"SPbSU\"),\n",
    "  (\"4\", \"Pavel\", 30, \"M\", \"MIPT\"),\n",
    "  (\"5\", \"Oleg\", 35, \"M\", \"MIPT\"),\n",
    "  (\"6\", \"Ivan\", 30, \"M\", \"MSU\"),\n",
    "  (\"7\", \"Ilya\", 29, \"M\", \"MSU\")], [\"id\", \"name\", \"age\", \"gender\", \"university\"])\n",
    "\n",
    "edges = sqlCtx.createDataFrame([\n",
    "  (\"1\", \"2\", \"friend\"),\n",
    "  (\"2\", \"1\", \"friend\"),\n",
    "  (\"1\", \"3\", \"friend\"),\n",
    "  (\"3\", \"1\", \"friend\"),\n",
    "  (\"1\", \"4\", \"friend\"),\n",
    "  (\"4\", \"1\", \"friend\"),\n",
    "  (\"2\", \"3\", \"friend\"), \n",
    "  (\"3\", \"2\", \"friend\"),\n",
    "  (\"2\", \"5\", \"friend\"),\n",
    "  (\"5\", \"2\", \"friend\"),\n",
    "  (\"3\", \"4\", \"friend\"),\n",
    "  (\"4\", \"3\", \"friend\"),\n",
    "  (\"3\", \"5\", \"friend\"),\n",
    "  (\"5\", \"3\", \"friend\"),\n",
    "  (\"3\", \"6\", \"friend\"),\n",
    "  (\"6\", \"3\", \"friend\"),\n",
    "  (\"3\", \"7\", \"friend\"),\n",
    "  (\"7\", \"3\", \"friend\")\n",
    "], [\"src\", \"dst\", \"relationship\"])\n",
    "\n",
    "gf = GraphFrame(vertices, edges)"
   ]
  },
  {
   "cell_type": "code",
   "execution_count": 3,
   "metadata": {},
   "outputs": [
    {
     "name": "stdout",
     "output_type": "stream",
     "text": [
      "+---+----+---+------+----------+\n",
      "| id|name|age|gender|university|\n",
      "+---+----+---+------+----------+\n",
      "|  5|Oleg| 35|     M|      MIPT|\n",
      "+---+----+---+------+----------+\n",
      "\n"
     ]
    }
   ],
   "source": [
    "gf.vertices.filter(\"age > 30\").show()"
   ]
  },
  {
   "cell_type": "code",
   "execution_count": 4,
   "metadata": {},
   "outputs": [
    {
     "name": "stdout",
     "output_type": "stream",
     "text": [
      "+---+--------+\n",
      "| id|inDegree|\n",
      "+---+--------+\n",
      "|  3|       6|\n",
      "|  1|       3|\n",
      "|  2|       3|\n",
      "+---+--------+\n",
      "\n"
     ]
    }
   ],
   "source": [
    "gf.inDegrees.filter(\"inDegree > 2\").show()"
   ]
  },
  {
   "cell_type": "code",
   "execution_count": 5,
   "metadata": {},
   "outputs": [
    {
     "name": "stdout",
     "output_type": "stream",
     "text": [
      "+---+--------+\n",
      "| id|inDegree|\n",
      "+---+--------+\n",
      "|  7|       1|\n",
      "|  3|       6|\n",
      "|  5|       2|\n",
      "|  6|       1|\n",
      "|  1|       3|\n",
      "|  4|       2|\n",
      "|  2|       3|\n",
      "+---+--------+\n",
      "\n"
     ]
    }
   ],
   "source": [
    "gf.inDegrees.show()"
   ]
  },
  {
   "cell_type": "code",
   "execution_count": 6,
   "metadata": {},
   "outputs": [
    {
     "name": "stdout",
     "output_type": "stream",
     "text": [
      "+--------------------+--------------+--------------------+--------------+\n",
      "|                   a|             e|                   b|            e2|\n",
      "+--------------------+--------------+--------------------+--------------+\n",
      "|[1, Alex, 28, M, ...|[1, 4, friend]|[4, Pavel, 30, M,...|[4, 1, friend]|\n",
      "|[4, Pavel, 30, M,...|[4, 1, friend]|[1, Alex, 28, M, ...|[1, 4, friend]|\n",
      "|[3, Natasha, 27, ...|[3, 2, friend]|[2, Emeli, 28, F,...|[2, 3, friend]|\n",
      "|[2, Emeli, 28, F,...|[2, 1, friend]|[1, Alex, 28, M, ...|[1, 2, friend]|\n",
      "|[2, Emeli, 28, F,...|[2, 5, friend]|[5, Oleg, 35, M, ...|[5, 2, friend]|\n",
      "|[3, Natasha, 27, ...|[3, 5, friend]|[5, Oleg, 35, M, ...|[5, 3, friend]|\n",
      "|[1, Alex, 28, M, ...|[1, 3, friend]|[3, Natasha, 27, ...|[3, 1, friend]|\n",
      "|[3, Natasha, 27, ...|[3, 1, friend]|[1, Alex, 28, M, ...|[1, 3, friend]|\n",
      "|[5, Oleg, 35, M, ...|[5, 3, friend]|[3, Natasha, 27, ...|[3, 5, friend]|\n",
      "|[2, Emeli, 28, F,...|[2, 3, friend]|[3, Natasha, 27, ...|[3, 2, friend]|\n",
      "|[3, Natasha, 27, ...|[3, 7, friend]|[7, Ilya, 29, M, ...|[7, 3, friend]|\n",
      "|[4, Pavel, 30, M,...|[4, 3, friend]|[3, Natasha, 27, ...|[3, 4, friend]|\n",
      "|[6, Ivan, 30, M, ...|[6, 3, friend]|[3, Natasha, 27, ...|[3, 6, friend]|\n",
      "|[1, Alex, 28, M, ...|[1, 2, friend]|[2, Emeli, 28, F,...|[2, 1, friend]|\n",
      "|[3, Natasha, 27, ...|[3, 4, friend]|[4, Pavel, 30, M,...|[4, 3, friend]|\n",
      "|[3, Natasha, 27, ...|[3, 6, friend]|[6, Ivan, 30, M, ...|[6, 3, friend]|\n",
      "|[5, Oleg, 35, M, ...|[5, 2, friend]|[2, Emeli, 28, F,...|[2, 5, friend]|\n",
      "|[7, Ilya, 29, M, ...|[7, 3, friend]|[3, Natasha, 27, ...|[3, 7, friend]|\n",
      "+--------------------+--------------+--------------------+--------------+\n",
      "\n"
     ]
    }
   ],
   "source": [
    "gf.find(\"(a)-[e]->(b); (b)-[e2]->(a)\").show()"
   ]
  },
  {
   "cell_type": "code",
   "execution_count": 7,
   "metadata": {},
   "outputs": [
    {
     "name": "stdout",
     "output_type": "stream",
     "text": [
      "+--------------------+--------------------+--------------------+\n",
      "|                   a|                   b|                   c|\n",
      "+--------------------+--------------------+--------------------+\n",
      "|[7, Ilya, 29, M, ...|[3, Natasha, 27, ...|[7, Ilya, 29, M, ...|\n",
      "|[5, Oleg, 35, M, ...|[3, Natasha, 27, ...|[7, Ilya, 29, M, ...|\n",
      "|[6, Ivan, 30, M, ...|[3, Natasha, 27, ...|[7, Ilya, 29, M, ...|\n",
      "|[1, Alex, 28, M, ...|[3, Natasha, 27, ...|[7, Ilya, 29, M, ...|\n",
      "|[4, Pavel, 30, M,...|[3, Natasha, 27, ...|[7, Ilya, 29, M, ...|\n",
      "|[2, Emeli, 28, F,...|[3, Natasha, 27, ...|[7, Ilya, 29, M, ...|\n",
      "|[3, Natasha, 27, ...|[7, Ilya, 29, M, ...|[3, Natasha, 27, ...|\n",
      "|[3, Natasha, 27, ...|[5, Oleg, 35, M, ...|[3, Natasha, 27, ...|\n",
      "|[2, Emeli, 28, F,...|[5, Oleg, 35, M, ...|[3, Natasha, 27, ...|\n",
      "|[3, Natasha, 27, ...|[6, Ivan, 30, M, ...|[3, Natasha, 27, ...|\n",
      "|[3, Natasha, 27, ...|[1, Alex, 28, M, ...|[3, Natasha, 27, ...|\n",
      "|[4, Pavel, 30, M,...|[1, Alex, 28, M, ...|[3, Natasha, 27, ...|\n",
      "|[2, Emeli, 28, F,...|[1, Alex, 28, M, ...|[3, Natasha, 27, ...|\n",
      "|[3, Natasha, 27, ...|[4, Pavel, 30, M,...|[3, Natasha, 27, ...|\n",
      "|[1, Alex, 28, M, ...|[4, Pavel, 30, M,...|[3, Natasha, 27, ...|\n",
      "|[5, Oleg, 35, M, ...|[2, Emeli, 28, F,...|[3, Natasha, 27, ...|\n",
      "|[3, Natasha, 27, ...|[2, Emeli, 28, F,...|[3, Natasha, 27, ...|\n",
      "|[1, Alex, 28, M, ...|[2, Emeli, 28, F,...|[3, Natasha, 27, ...|\n",
      "|[7, Ilya, 29, M, ...|[3, Natasha, 27, ...|[5, Oleg, 35, M, ...|\n",
      "|[5, Oleg, 35, M, ...|[3, Natasha, 27, ...|[5, Oleg, 35, M, ...|\n",
      "+--------------------+--------------------+--------------------+\n",
      "only showing top 20 rows\n",
      "\n"
     ]
    }
   ],
   "source": [
    "motifs = gf.find(\"(a)-[]->(b); (b)-[]->(c)\")\n",
    "motifs.show()"
   ]
  },
  {
   "cell_type": "code",
   "execution_count": 8,
   "metadata": {},
   "outputs": [
    {
     "name": "stdout",
     "output_type": "stream",
     "text": [
      "+--------------------+--------------------+--------------------+\n",
      "|                   A|                   B|                   C|\n",
      "+--------------------+--------------------+--------------------+\n",
      "|[5, Oleg, 35, M, ...|[3, Natasha, 27, ...|[7, Ilya, 29, M, ...|\n",
      "|[6, Ivan, 30, M, ...|[3, Natasha, 27, ...|[7, Ilya, 29, M, ...|\n",
      "|[4, Pavel, 30, M,...|[3, Natasha, 27, ...|[7, Ilya, 29, M, ...|\n",
      "|[2, Emeli, 28, F,...|[3, Natasha, 27, ...|[7, Ilya, 29, M, ...|\n",
      "|[1, Alex, 28, M, ...|[3, Natasha, 27, ...|[7, Ilya, 29, M, ...|\n",
      "|[2, Emeli, 28, F,...|[5, Oleg, 35, M, ...|[3, Natasha, 27, ...|\n",
      "|[4, Pavel, 30, M,...|[1, Alex, 28, M, ...|[3, Natasha, 27, ...|\n",
      "|[2, Emeli, 28, F,...|[1, Alex, 28, M, ...|[3, Natasha, 27, ...|\n",
      "|[1, Alex, 28, M, ...|[4, Pavel, 30, M,...|[3, Natasha, 27, ...|\n",
      "|[5, Oleg, 35, M, ...|[2, Emeli, 28, F,...|[3, Natasha, 27, ...|\n",
      "|[1, Alex, 28, M, ...|[2, Emeli, 28, F,...|[3, Natasha, 27, ...|\n",
      "|[7, Ilya, 29, M, ...|[3, Natasha, 27, ...|[5, Oleg, 35, M, ...|\n",
      "|[6, Ivan, 30, M, ...|[3, Natasha, 27, ...|[5, Oleg, 35, M, ...|\n",
      "|[4, Pavel, 30, M,...|[3, Natasha, 27, ...|[5, Oleg, 35, M, ...|\n",
      "|[2, Emeli, 28, F,...|[3, Natasha, 27, ...|[5, Oleg, 35, M, ...|\n",
      "|[1, Alex, 28, M, ...|[3, Natasha, 27, ...|[5, Oleg, 35, M, ...|\n",
      "|[3, Natasha, 27, ...|[2, Emeli, 28, F,...|[5, Oleg, 35, M, ...|\n",
      "|[1, Alex, 28, M, ...|[2, Emeli, 28, F,...|[5, Oleg, 35, M, ...|\n",
      "|[7, Ilya, 29, M, ...|[3, Natasha, 27, ...|[6, Ivan, 30, M, ...|\n",
      "|[5, Oleg, 35, M, ...|[3, Natasha, 27, ...|[6, Ivan, 30, M, ...|\n",
      "+--------------------+--------------------+--------------------+\n",
      "only showing top 20 rows\n",
      "\n"
     ]
    }
   ],
   "source": [
    "motifs = gf.find(\"(A)-[]->(B); (B)-[]->(C)\").filter(\"A.id != C.id\")\n",
    "motifs.show()"
   ]
  },
  {
   "cell_type": "code",
   "execution_count": 9,
   "metadata": {},
   "outputs": [
    {
     "name": "stdout",
     "output_type": "stream",
     "text": [
      "+---+---+\n",
      "|  A|  C|\n",
      "+---+---+\n",
      "|  5|  7|\n",
      "|  6|  7|\n",
      "|  1|  7|\n",
      "|  4|  7|\n",
      "|  2|  7|\n",
      "|  2|  3|\n",
      "|  1|  3|\n",
      "|  4|  3|\n",
      "|  2|  3|\n",
      "|  5|  3|\n",
      "|  1|  3|\n",
      "|  7|  5|\n",
      "|  6|  5|\n",
      "|  1|  5|\n",
      "|  4|  5|\n",
      "|  2|  5|\n",
      "|  3|  5|\n",
      "|  1|  5|\n",
      "|  7|  6|\n",
      "|  5|  6|\n",
      "+---+---+\n",
      "only showing top 20 rows\n",
      "\n"
     ]
    }
   ],
   "source": [
    "AC = motifs.selectExpr(\"A.id as A\", \"C.id as C\")\n",
    "AC.show()"
   ]
  },
  {
   "cell_type": "code",
   "execution_count": 10,
   "metadata": {},
   "outputs": [
    {
     "name": "stdout",
     "output_type": "stream",
     "text": [
      "+---+---+-----+\n",
      "|  A|  C|count|\n",
      "+---+---+-----+\n",
      "|  1|  4|    1|\n",
      "|  1|  2|    1|\n",
      "|  1|  5|    2|\n",
      "|  1|  3|    2|\n",
      "|  1|  7|    1|\n",
      "|  1|  6|    1|\n",
      "+---+---+-----+\n",
      "\n"
     ]
    }
   ],
   "source": [
    "AC.groupBy(\"A\", \"C\").count().filter(\"A = 1\").show()"
   ]
  },
  {
   "cell_type": "code",
   "execution_count": 10,
   "metadata": {},
   "outputs": [
    {
     "name": "stdout",
     "output_type": "stream",
     "text": [
      "+---+---+-----+\n",
      "|  A|  C|count|\n",
      "+---+---+-----+\n",
      "|  7|  1|    1|\n",
      "|  4|  2|    2|\n",
      "|  4|  1|    1|\n",
      "|  5|  4|    1|\n",
      "|  1|  4|    1|\n",
      "|  4|  6|    1|\n",
      "|  5|  1|    2|\n",
      "|  2|  3|    2|\n",
      "|  7|  6|    1|\n",
      "|  5|  7|    1|\n",
      "|  1|  2|    1|\n",
      "|  5|  2|    1|\n",
      "|  2|  6|    1|\n",
      "|  2|  4|    2|\n",
      "|  5|  3|    1|\n",
      "|  1|  5|    2|\n",
      "|  3|  1|    2|\n",
      "|  1|  3|    2|\n",
      "|  6|  7|    1|\n",
      "|  6|  2|    1|\n",
      "+---+---+-----+\n",
      "only showing top 20 rows\n",
      "\n"
     ]
    }
   ],
   "source": [
    "AC.groupBy(\"A\", \"C\").count().show()"
   ]
  },
  {
   "cell_type": "code",
   "execution_count": 12,
   "metadata": {},
   "outputs": [
    {
     "name": "stdout",
     "output_type": "stream",
     "text": [
      "+-----+---+-------+---+------+----------+\n",
      "|count| id|   name|age|gender|university|\n",
      "+-----+---+-------+---+------+----------+\n",
      "|    0|  7|   Ilya| 29|     M|       MSU|\n",
      "|    3|  3|Natasha| 27|     F|     SPbSU|\n",
      "|    1|  5|   Oleg| 35|     M|      MIPT|\n",
      "|    0|  6|   Ivan| 30|     M|       MSU|\n",
      "|    2|  1|   Alex| 28|     M|      MIPT|\n",
      "|    1|  4|  Pavel| 30|     M|      MIPT|\n",
      "|    2|  2|  Emeli| 28|     F|      MIPT|\n",
      "+-----+---+-------+---+------+----------+\n",
      "\n"
     ]
    }
   ],
   "source": [
    "results = gf.triangleCount()\n",
    "results.show()"
   ]
  },
  {
   "cell_type": "markdown",
   "metadata": {},
   "source": [
    "### Page Rank"
   ]
  },
  {
   "cell_type": "code",
   "execution_count": 13,
   "metadata": {},
   "outputs": [
    {
     "name": "stdout",
     "output_type": "stream",
     "text": [
      "+---+-------+---+------+----------+-------------------+\n",
      "| id|   name|age|gender|university|           pagerank|\n",
      "+---+-------+---+------+----------+-------------------+\n",
      "|  1|   Alex| 28|     M|      MIPT|  1.120863948063202|\n",
      "|  3|Natasha| 27|     F|     SPbSU|  2.239465678054025|\n",
      "|  2|  Emeli| 28|     F|      MIPT|  1.120863948063202|\n",
      "|  4|  Pavel| 30|     M|      MIPT| 0.7882518740579809|\n",
      "|  7|   Ilya| 29|     M|       MSU|0.47115133885180416|\n",
      "|  6|   Ivan| 30|     M|       MSU|0.47115133885180416|\n",
      "|  5|   Oleg| 35|     M|      MIPT| 0.7882518740579809|\n",
      "+---+-------+---+------+----------+-------------------+\n",
      "\n"
     ]
    }
   ],
   "source": [
    "results = gf.pageRank(resetProbability=0.15, maxIter=10)\n",
    "results.vertices.show()"
   ]
  },
  {
   "cell_type": "code",
   "execution_count": 14,
   "metadata": {},
   "outputs": [
    {
     "name": "stdout",
     "output_type": "stream",
     "text": [
      "+---+-------+---+------+----------+------------------+\n",
      "| id|   name|age|gender|university|          pagerank|\n",
      "+---+-------+---+------+----------+------------------+\n",
      "|  1|   Alex| 28|     M|      MIPT| 1.122938128138013|\n",
      "|  3|Natasha| 27|     F|     SPbSU|2.2125072379360793|\n",
      "|  2|  Emeli| 28|     F|      MIPT| 1.122938128138013|\n",
      "|  4|  Pavel| 30|     M|      MIPT|0.7933962989298501|\n",
      "|  7|   Ilya| 29|     M|       MSU|0.4774119539640973|\n",
      "|  6|   Ivan| 30|     M|       MSU|0.4774119539640973|\n",
      "|  5|   Oleg| 35|     M|      MIPT|0.7933962989298501|\n",
      "+---+-------+---+------+----------+------------------+\n",
      "\n"
     ]
    }
   ],
   "source": [
    "results = gf.pageRank(resetProbability=0.15, tol=0.01)\n",
    "results.vertices.show()"
   ]
  },
  {
   "cell_type": "markdown",
   "metadata": {},
   "source": [
    "### Connected components"
   ]
  },
  {
   "cell_type": "code",
   "execution_count": 15,
   "metadata": {},
   "outputs": [],
   "source": [
    "vertices = spark.createDataFrame([\n",
    "  (\"1\", \"Alex\", 28, \"M\", \"MIPT\"),\n",
    "  (\"2\", \"Emeli\", 28, \"F\", \"MIPT\"),\n",
    "  (\"3\", \"Natasha\", 27, \"F\", \"SPbSU\"),\n",
    "  (\"4\", \"Pavel\", 30, \"M\", \"MIPT\"),\n",
    "  (\"5\", \"Oleg\", 35, \"M\", \"MIPT\"),\n",
    "  (\"6\", \"Ivan\", 30, \"M\", \"MSU\"),\n",
    "  (\"7\", \"Ilya\", 29, \"M\", \"MSU\")], [\"id\", \"name\", \"age\", \"gender\", \"university\"])\n",
    "\n",
    "edges = spark.createDataFrame([\n",
    "  (\"1\", \"2\", \"friend\"),\n",
    "  (\"1\", \"4\", \"friend\"),\n",
    "  (\"3\", \"5\", \"friend\"),\n",
    "  (\"3\", \"6\", \"friend\"),\n",
    "  (\"3\", \"7\", \"friend\")\n",
    "], [\"src\", \"dst\", \"type\"])\n",
    "\n",
    "reduced_g = GraphFrame(vertices, edges)"
   ]
  },
  {
   "cell_type": "code",
   "execution_count": 16,
   "metadata": {},
   "outputs": [
    {
     "name": "stdout",
     "output_type": "stream",
     "text": [
      "+---+-------------+\n",
      "| id|    component|\n",
      "+---+-------------+\n",
      "|  6|  25769803776|\n",
      "|  7|  25769803776|\n",
      "|  3|  25769803776|\n",
      "|  5|  25769803776|\n",
      "|  1|1236950581248|\n",
      "|  2|1236950581248|\n",
      "|  4|1236950581248|\n",
      "+---+-------------+\n",
      "\n"
     ]
    }
   ],
   "source": [
    "spark.sparkContext.setCheckpointDir(\"/tmp\")\n",
    "result = reduced_g.connectedComponents()\n",
    "result.select(\"id\", \"component\").orderBy(\"component\").show()"
   ]
  },
  {
   "cell_type": "markdown",
   "metadata": {
    "collapsed": true
   },
   "source": [
    "###  People you may know"
   ]
  },
  {
   "cell_type": "code",
   "execution_count": 17,
   "metadata": {},
   "outputs": [],
   "source": [
    "from pyspark.sql.functions import abs, col, explode, split\n",
    "from pyspark.sql.types import *"
   ]
  },
  {
   "cell_type": "code",
   "execution_count": 18,
   "metadata": {},
   "outputs": [],
   "source": [
    "spark.conf.set(\"spark.sql.shuffle.partitions\", 1000)"
   ]
  },
  {
   "cell_type": "code",
   "execution_count": 21,
   "metadata": {},
   "outputs": [],
   "source": [
    "dataPath = \"/share/graphx\"\n",
    "graphPath = dataPath + \"/trainGraph\"\n",
    "usersToPredictPath = dataPath + \"/prediction.csv\""
   ]
  },
  {
   "cell_type": "code",
   "execution_count": 22,
   "metadata": {},
   "outputs": [],
   "source": [
    "data = spark.read.format(\"csv\").option(\"delimiter\", \"\\t\")\\\n",
    "    .load(graphPath).withColumnRenamed(\"_c0\", \"user\").withColumnRenamed(\"_c1\", \"friendsString\")\n",
    "    "
   ]
  },
  {
   "cell_type": "code",
   "execution_count": 23,
   "metadata": {},
   "outputs": [],
   "source": [
    "from pyspark.sql.functions import udf\n",
    "\n",
    "def cutStartEndBrackets(s):\n",
    "    return s[2:-2]\n",
    "\n",
    "cutStartEndBracketsUDF = udf(cutStartEndBrackets, StringType())\n",
    "\n",
    "userFriend = \\\n",
    "    data.select(col(\"user\"), split(cutStartEndBracketsUDF(col(\"friendsString\")), \"\\),\\(\").alias(\"friendsMasks\"))\\\n",
    "    .withColumn(\"friendMask\", explode('friendsMasks'))\\\n",
    "    .withColumn(\"dst\", split(col(\"friendMask\"), \",\")[0])\\\n",
    "    .withColumn(\"src\", col(\"user\"))\\\n",
    "    .select(col(\"src\").cast(\"integer\"), col(\"dst\").cast(\"integer\"))\n",
    "\n",
    "userFriendSymmetric = \\\n",
    "    userFriend\\\n",
    "        .withColumn(\"tmp\", col(\"src\"))\\\n",
    "        .withColumn(\"src\", col(\"dst\"))\\\n",
    "        .withColumn(\"dst\", col(\"tmp\"))\\\n",
    "        .select(\"src\", \"dst\")\n",
    "        \n",
    "edges = userFriend.unionAll(userFriendSymmetric)\n",
    "\n",
    "vertices = edges.select(col(\"src\").alias(\"id\")).distinct()"
   ]
  },
  {
   "cell_type": "code",
   "execution_count": 24,
   "metadata": {},
   "outputs": [],
   "source": [
    "usersFriends = GraphFrame(vertices, edges)"
   ]
  },
  {
   "cell_type": "code",
   "execution_count": 25,
   "metadata": {},
   "outputs": [],
   "source": [
    "motifs = usersFriends.find(\"(A)-[]->(B); (B)-[]->(C)\").filter(\"A.id != C.id\")"
   ]
  },
  {
   "cell_type": "code",
   "execution_count": null,
   "metadata": {},
   "outputs": [],
   "source": [
    "AC = motifs.selectExpr(\"A.id as A\", \"C.id as C\").groupBy(\"A\", \"C\").count()\n",
    "\n",
    "AC.write.mode(\"overwrite\").parquet(dataPath + \"/AC\")"
   ]
  },
  {
   "cell_type": "code",
   "execution_count": null,
   "metadata": {},
   "outputs": [],
   "source": []
  }
 ],
 "metadata": {
  "kernelspec": {
   "display_name": "Python 3",
   "language": "python",
   "name": "python3"
  },
  "language_info": {
   "codemirror_mode": {
    "name": "ipython",
    "version": 3
   },
   "file_extension": ".py",
   "mimetype": "text/x-python",
   "name": "python",
   "nbconvert_exporter": "python",
   "pygments_lexer": "ipython3",
   "version": "3.6.5"
  }
 },
 "nbformat": 4,
 "nbformat_minor": 2
}
