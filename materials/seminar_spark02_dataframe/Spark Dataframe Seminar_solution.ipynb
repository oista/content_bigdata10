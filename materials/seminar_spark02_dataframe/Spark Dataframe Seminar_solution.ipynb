{
 "cells": [
  {
   "cell_type": "code",
   "execution_count": 1,
   "metadata": {},
   "outputs": [
    {
     "name": "stdout",
     "output_type": "stream",
     "text": [
      "Welcome to\n",
      "      ____              __\n",
      "     / __/__  ___ _____/ /__\n",
      "    _\\ \\/ _ \\/ _ `/ __/  '_/\n",
      "   /__ / .__/\\_,_/_/ /_/\\_\\   version 2.4.3\n",
      "      /_/\n",
      "\n",
      "Using Python version 3.6.5 (default, Apr 29 2018 16:14:56)\n",
      "SparkSession available as 'spark'.\n"
     ]
    }
   ],
   "source": [
    "import os\n",
    "import sys\n",
    "os.environ[\"PYSPARK_SUBMIT_ARGS\"]='--conf spark.sql.catalogImplementation=in-memory pyspark-shell'\n",
    "os.environ[\"PYSPARK_PYTHON\"]='/opt/anaconda/envs/bd9/bin/python'\n",
    "os.environ[\"SPARK_HOME\"]='/usr/hdp/current/spark2-client'\n",
    "\n",
    "spark_home = os.environ.get('SPARK_HOME', None)\n",
    "if not spark_home:\n",
    "    raise ValueError('SPARK_HOME environment variable is not set')\n",
    "sys.path.insert(0, os.path.join(spark_home, 'python'))\n",
    "sys.path.insert(0, os.path.join(spark_home, 'python/lib/py4j-0.10.7-src.zip'))\n",
    "exec(open(os.path.join(spark_home, 'python/pyspark/shell.py')).read())"
   ]
  },
  {
   "cell_type": "code",
   "execution_count": 2,
   "metadata": {},
   "outputs": [
    {
     "name": "stdout",
     "output_type": "stream",
     "text": [
      "Populating the interactive namespace from numpy and matplotlib\n"
     ]
    }
   ],
   "source": [
    "%pylab inline"
   ]
  },
  {
   "cell_type": "markdown",
   "metadata": {},
   "source": [
    "### Пусть вам дан следующий SQL-запрос\n",
    "```sql\n",
    "\n",
    "select * from logs l join ips r\n",
    "on l.ip == r.ip\n",
    "```\n",
    "\n",
    "### Таблица `logs` находится в HDFS по пути `/user/pavel.klemenkov/lectures/lecture02/data/logsM.txt`, таблица `ips`  находится в HDFS по пути `/user/pavel.klemenkov/lectures/lecture02/data/ipDataM.txt`"
   ]
  },
  {
   "cell_type": "markdown",
   "metadata": {
    "collapsed": true
   },
   "source": [
    "## 1. Выполните этот запрос в Spark SQL, предварительно зарегистрировав таблицы"
   ]
  },
  {
   "cell_type": "code",
   "execution_count": 4,
   "metadata": {},
   "outputs": [],
   "source": [
    "from pyspark.sql.types import *"
   ]
  },
  {
   "cell_type": "code",
   "execution_count": 5,
   "metadata": {},
   "outputs": [],
   "source": [
    "log_schema = StructType(fields=[\n",
    "    StructField(\"ip\", StringType()),\n",
    "    StructField(\"timestamp\", LongType()),\n",
    "    StructField(\"url\", StringType()),\n",
    "    StructField(\"size\", IntegerType()),\n",
    "    StructField(\"code\", IntegerType()),\n",
    "    StructField(\"ua\", StringType())\n",
    "])"
   ]
  },
  {
   "cell_type": "code",
   "execution_count": 6,
   "metadata": {},
   "outputs": [],
   "source": [
    "ip_schema = StructType(fields=[\n",
    "    StructField(\"ip\", StringType()),\n",
    "    StructField(\"region\", StringType())\n",
    "])"
   ]
  },
  {
   "cell_type": "code",
   "execution_count": 7,
   "metadata": {},
   "outputs": [],
   "source": [
    "logs = spark.read.csv(\"/user/pavel.klemenkov/lectures/lecture02/data/logsM.txt\", sep=\"\\t\", schema=log_schema)"
   ]
  },
  {
   "cell_type": "code",
   "execution_count": 8,
   "metadata": {},
   "outputs": [],
   "source": [
    "ips = spark.read.csv(\"/user/pavel.klemenkov/lectures/lecture02/data/ipDataM.txt\", sep=\"\\t\", \n",
    "                    schema=ip_schema)"
   ]
  },
  {
   "cell_type": "code",
   "execution_count": 9,
   "metadata": {},
   "outputs": [],
   "source": [
    "logs.registerTempTable(\"logs\")"
   ]
  },
  {
   "cell_type": "code",
   "execution_count": 10,
   "metadata": {},
   "outputs": [],
   "source": [
    "ips.registerTempTable(\"ips\")"
   ]
  },
  {
   "cell_type": "code",
   "execution_count": 11,
   "metadata": {},
   "outputs": [],
   "source": [
    "q = \"\"\"\n",
    "select * from logs l join ips r\n",
    "on l.ip == r.ip\n",
    "\"\"\""
   ]
  },
  {
   "cell_type": "code",
   "execution_count": 12,
   "metadata": {},
   "outputs": [
    {
     "name": "stdout",
     "output_type": "stream",
     "text": [
      "+-------------+--------------+--------------------+----+----+--------------------+-------------+--------------------+\n",
      "|           ip|     timestamp|                 url|size|code|                  ua|           ip|              region|\n",
      "+-------------+--------------+--------------------+----+----+--------------------+-------------+--------------------+\n",
      "|33.49.147.163|20140101014611|http://news.rambl...| 378| 431|Safari/5.0 (compa...|33.49.147.163|      Irkutsk Oblast|\n",
      "|33.49.147.163|20140101014611|http://news.rambl...| 378| 431|Safari/5.0 (compa...|33.49.147.163|         Omsk Oblast|\n",
      "|33.49.147.163|20140101014611|http://news.rambl...| 378| 431|Safari/5.0 (compa...|33.49.147.163|Nizhny Novgorod O...|\n",
      "|33.49.147.163|20140101014611|http://news.rambl...| 378| 431|Safari/5.0 (compa...|33.49.147.163|              Jewish|\n",
      "|33.49.147.163|20140101014611|http://news.rambl...| 378| 431|Safari/5.0 (compa...|33.49.147.163|      Kamchatka Krai|\n",
      "|33.49.147.163|20140101014611|http://news.rambl...| 378| 431|Safari/5.0 (compa...|33.49.147.163|          Altai Krai|\n",
      "|33.49.147.163|20140101014611|http://news.rambl...| 378| 431|Safari/5.0 (compa...|33.49.147.163|  Kaliningrad Oblast|\n",
      "|33.49.147.163|20140101014611|http://news.rambl...| 378| 431|Safari/5.0 (compa...|33.49.147.163|       Rostov Oblast|\n",
      "|33.49.147.163|20140101014611|http://news.rambl...| 378| 431|Safari/5.0 (compa...|33.49.147.163|    Yaroslavl Oblast|\n",
      "|33.49.147.163|20140101014611|http://news.rambl...| 378| 431|Safari/5.0 (compa...|33.49.147.163|     Murmansk Oblast|\n",
      "|33.49.147.163|20140101014611|http://news.rambl...| 378| 431|Safari/5.0 (compa...|33.49.147.163|       Kurgan Oblast|\n",
      "|33.49.147.163|20140101014611|http://news.rambl...| 378| 431|Safari/5.0 (compa...|33.49.147.163|    Ulyanovsk Oblast|\n",
      "|33.49.147.163|20140101014611|http://news.rambl...| 378| 431|Safari/5.0 (compa...|33.49.147.163|    Yaroslavl Oblast|\n",
      "|33.49.147.163|20140101014611|http://news.rambl...| 378| 431|Safari/5.0 (compa...|33.49.147.163|       Yamalo-Nenets|\n",
      "|33.49.147.163|20140101014611|http://news.rambl...| 378| 431|Safari/5.0 (compa...|33.49.147.163|     Khabarovsk Krai|\n",
      "|33.49.147.163|20140101014611|http://news.rambl...| 378| 431|Safari/5.0 (compa...|33.49.147.163|     Khabarovsk Krai|\n",
      "|33.49.147.163|20140101014611|http://news.rambl...| 378| 431|Safari/5.0 (compa...|33.49.147.163|Nenets Autonomous...|\n",
      "|33.49.147.163|20140101014611|http://news.rambl...| 378| 431|Safari/5.0 (compa...|33.49.147.163|              Jewish|\n",
      "|33.49.147.163|20140101014611|http://news.rambl...| 378| 431|Safari/5.0 (compa...|33.49.147.163|     Orenburg Oblast|\n",
      "|33.49.147.163|20140101014611|http://news.rambl...| 378| 431|Safari/5.0 (compa...|33.49.147.163|      Stavropol Krai|\n",
      "+-------------+--------------+--------------------+----+----+--------------------+-------------+--------------------+\n",
      "only showing top 20 rows\n",
      "\n"
     ]
    }
   ],
   "source": [
    "spark.sql(q).show()"
   ]
  },
  {
   "cell_type": "markdown",
   "metadata": {
    "collapsed": true
   },
   "source": [
    "## 2. Теперь перепешите этот запрос с использованием DataFrame API"
   ]
  },
  {
   "cell_type": "code",
   "execution_count": 14,
   "metadata": {},
   "outputs": [
    {
     "name": "stdout",
     "output_type": "stream",
     "text": [
      "+-------------+--------------+--------------------+----+----+--------------------+--------------------+\n",
      "|           ip|     timestamp|                 url|size|code|                  ua|              region|\n",
      "+-------------+--------------+--------------------+----+----+--------------------+--------------------+\n",
      "|33.49.147.163|20140101014611|http://news.rambl...| 378| 431|Safari/5.0 (compa...|      Irkutsk Oblast|\n",
      "|33.49.147.163|20140101014611|http://news.rambl...| 378| 431|Safari/5.0 (compa...|         Omsk Oblast|\n",
      "|33.49.147.163|20140101014611|http://news.rambl...| 378| 431|Safari/5.0 (compa...|Nizhny Novgorod O...|\n",
      "|33.49.147.163|20140101014611|http://news.rambl...| 378| 431|Safari/5.0 (compa...|              Jewish|\n",
      "|33.49.147.163|20140101014611|http://news.rambl...| 378| 431|Safari/5.0 (compa...|      Kamchatka Krai|\n",
      "|33.49.147.163|20140101014611|http://news.rambl...| 378| 431|Safari/5.0 (compa...|          Altai Krai|\n",
      "|33.49.147.163|20140101014611|http://news.rambl...| 378| 431|Safari/5.0 (compa...|  Kaliningrad Oblast|\n",
      "|33.49.147.163|20140101014611|http://news.rambl...| 378| 431|Safari/5.0 (compa...|       Rostov Oblast|\n",
      "|33.49.147.163|20140101014611|http://news.rambl...| 378| 431|Safari/5.0 (compa...|    Yaroslavl Oblast|\n",
      "|33.49.147.163|20140101014611|http://news.rambl...| 378| 431|Safari/5.0 (compa...|     Murmansk Oblast|\n",
      "|33.49.147.163|20140101014611|http://news.rambl...| 378| 431|Safari/5.0 (compa...|       Kurgan Oblast|\n",
      "|33.49.147.163|20140101014611|http://news.rambl...| 378| 431|Safari/5.0 (compa...|    Ulyanovsk Oblast|\n",
      "|33.49.147.163|20140101014611|http://news.rambl...| 378| 431|Safari/5.0 (compa...|    Yaroslavl Oblast|\n",
      "|33.49.147.163|20140101014611|http://news.rambl...| 378| 431|Safari/5.0 (compa...|       Yamalo-Nenets|\n",
      "|33.49.147.163|20140101014611|http://news.rambl...| 378| 431|Safari/5.0 (compa...|     Khabarovsk Krai|\n",
      "|33.49.147.163|20140101014611|http://news.rambl...| 378| 431|Safari/5.0 (compa...|     Khabarovsk Krai|\n",
      "|33.49.147.163|20140101014611|http://news.rambl...| 378| 431|Safari/5.0 (compa...|Nenets Autonomous...|\n",
      "|33.49.147.163|20140101014611|http://news.rambl...| 378| 431|Safari/5.0 (compa...|              Jewish|\n",
      "|33.49.147.163|20140101014611|http://news.rambl...| 378| 431|Safari/5.0 (compa...|     Orenburg Oblast|\n",
      "|33.49.147.163|20140101014611|http://news.rambl...| 378| 431|Safari/5.0 (compa...|      Stavropol Krai|\n",
      "+-------------+--------------+--------------------+----+----+--------------------+--------------------+\n",
      "only showing top 20 rows\n",
      "\n"
     ]
    }
   ],
   "source": [
    "logs.join(ips, on=\"ip\", how=\"inner\").show()"
   ]
  },
  {
   "cell_type": "markdown",
   "metadata": {
    "collapsed": true
   },
   "source": [
    "## 3. Посчитайте гистограмму распределения кодов ответа в логе доступа. Отсуртируйте результат по каунту. Наибольшая сумма сверху"
   ]
  },
  {
   "cell_type": "code",
   "execution_count": 16,
   "metadata": {},
   "outputs": [
    {
     "name": "stdout",
     "output_type": "stream",
     "text": [
      "+----+-----+\n",
      "|code|count|\n",
      "+----+-----+\n",
      "| 302|  323|\n",
      "| 307|  182|\n",
      "| 205|  181|\n",
      "| 502|  181|\n",
      "| 504|  177|\n",
      "| 207|  174|\n",
      "| 403|  174|\n",
      "| 415|  174|\n",
      "| 408|  172|\n",
      "| 200|  170|\n",
      "| 505|  169|\n",
      "| 422|  169|\n",
      "| 409|  167|\n",
      "| 503|  165|\n",
      "| 418|  165|\n",
      "| 507|  164|\n",
      "| 301|  163|\n",
      "| 456|  162|\n",
      "| 226|  161|\n",
      "| 511|  161|\n",
      "+----+-----+\n",
      "only showing top 20 rows\n",
      "\n"
     ]
    }
   ],
   "source": [
    "logs.groupBy(\"code\").count().orderBy(\"count\", ascending=False).show()"
   ]
  },
  {
   "cell_type": "markdown",
   "metadata": {
    "collapsed": true
   },
   "source": [
    "## 4. Изобразите гистограмму кодов на графике"
   ]
  },
  {
   "cell_type": "code",
   "execution_count": 17,
   "metadata": {},
   "outputs": [],
   "source": [
    "pdf = logs.groupBy(\"code\").count().orderBy(\"count\", ascending=False).toPandas()"
   ]
  },
  {
   "cell_type": "code",
   "execution_count": 19,
   "metadata": {},
   "outputs": [
    {
     "data": {
      "text/plain": [
       "<matplotlib.axes._subplots.AxesSubplot at 0x7f9aa5a5cf28>"
      ]
     },
     "execution_count": 19,
     "metadata": {},
     "output_type": "execute_result"
    },
    {
     "data": {
      "image/png": "[encoded data removed]",
      "text/plain": [
       "<Figure size 432x288 with 1 Axes>"
      ]
     },
     "metadata": {},
     "output_type": "display_data"
    }
   ],
   "source": [
    "pdf.plot.bar(x=\"code\", y=\"count\")"
   ]
  },
  {
   "cell_type": "markdown",
   "metadata": {
    "collapsed": true
   },
   "source": [
    "## 5. Напишите запрос, который вернет распределение доменов среди запросов"
   ]
  },
  {
   "cell_type": "code",
   "execution_count": 20,
   "metadata": {},
   "outputs": [],
   "source": [
    "from pyspark.sql.functions import pandas_udf"
   ]
  },
  {
   "cell_type": "code",
   "execution_count": 35,
   "metadata": {},
   "outputs": [],
   "source": [
    "@pandas_udf(StringType())\n",
    "def extract_domain(urls):\n",
    "    return urls.apply(lambda u: urlparse(u).netloc)"
   ]
  },
  {
   "cell_type": "code",
   "execution_count": 36,
   "metadata": {},
   "outputs": [
    {
     "name": "stdout",
     "output_type": "stream",
     "text": [
      "+---------------+-----+\n",
      "|         domain|count|\n",
      "+---------------+-----+\n",
      "|       lenta.ru| 2058|\n",
      "|   news.mail.ru| 2035|\n",
      "| news.yandex.ru| 2015|\n",
      "|     newsru.com| 2001|\n",
      "|news.rambler.ru| 1983|\n",
      "+---------------+-----+\n",
      "\n"
     ]
    }
   ],
   "source": [
    "logs.withColumn(\"domain\", extract_domain(\"url\")).groupBy(\"domain\").count()\\\n",
    "    .orderBy(\"count\", ascending=False).show()"
   ]
  },
  {
   "cell_type": "code",
   "execution_count": 25,
   "metadata": {},
   "outputs": [],
   "source": [
    "from urllib.parse import urlparse"
   ]
  },
  {
   "cell_type": "code",
   "execution_count": 26,
   "metadata": {},
   "outputs": [
    {
     "data": {
      "text/plain": [
       "ParseResult(scheme='http', netloc='ya.ru', path='', params='', query='', fragment='')"
      ]
     },
     "execution_count": 26,
     "metadata": {},
     "output_type": "execute_result"
    }
   ],
   "source": [
    "urlparse(\"http://ya.ru\")"
   ]
  },
  {
   "cell_type": "code",
   "execution_count": 27,
   "metadata": {},
   "outputs": [
    {
     "data": {
      "text/plain": [
       "<function __main__.f(s)>"
      ]
     },
     "execution_count": 27,
     "metadata": {},
     "output_type": "execute_result"
    }
   ],
   "source": [
    "spark.udf.register(\"f\", f)"
   ]
  },
  {
   "cell_type": "code",
   "execution_count": null,
   "metadata": {},
   "outputs": [],
   "source": []
  }
 ],
 "metadata": {
  "kernelspec": {
   "display_name": "Python 3",
   "language": "python",
   "name": "python3"
  },
  "language_info": {
   "codemirror_mode": {
    "name": "ipython",
    "version": 3
   },
   "file_extension": ".py",
   "mimetype": "text/x-python",
   "name": "python",
   "nbconvert_exporter": "python",
   "pygments_lexer": "ipython3",
   "version": "3.6.5"
  }
 },
 "nbformat": 4,
 "nbformat_minor": 2
}
