{
 "cells": [
  {
   "cell_type": "markdown",
   "metadata": {},
   "source": [
    "![Pandas](https://cdn-images-1.medium.com/max/1600/1*5Uza5wbRmOGl-05h5J2pAw.jpeg \"Pandas\")"
   ]
  },
  {
   "cell_type": "code",
   "execution_count": 1,
   "metadata": {},
   "outputs": [],
   "source": [
    "import pandas as pd"
   ]
  },
  {
   "cell_type": "code",
   "execution_count": 4,
   "metadata": {},
   "outputs": [],
   "source": [
    "df = pd.read_csv(\"../datasets/USlocalopendataportals.csv\", sep=\",\")"
   ]
  },
  {
   "cell_type": "code",
   "execution_count": 6,
   "metadata": {},
   "outputs": [
    {
     "data": {
      "text/html": [
       "<div>\n",
       "<style scoped>\n",
       "    .dataframe tbody tr th:only-of-type {\n",
       "        vertical-align: middle;\n",
       "    }\n",
       "\n",
       "    .dataframe tbody tr th {\n",
       "        vertical-align: top;\n",
       "    }\n",
       "\n",
       "    .dataframe thead th {\n",
       "        text-align: right;\n",
       "    }\n",
       "</style>\n",
       "<table border=\"1\" class=\"dataframe\">\n",
       "  <thead>\n",
       "    <tr style=\"text-align: right;\">\n",
       "      <th></th>\n",
       "      <th>Location</th>\n",
       "      <th>State</th>\n",
       "      <th>Population (US Census, 2011)</th>\n",
       "      <th>Ownership?</th>\n",
       "      <th>Open Data Policy?</th>\n",
       "      <th>Link</th>\n",
       "      <th>Type</th>\n",
       "    </tr>\n",
       "  </thead>\n",
       "  <tbody>\n",
       "    <tr>\n",
       "      <th>0</th>\n",
       "      <td>Alabama</td>\n",
       "      <td>AL</td>\n",
       "      <td>4802740</td>\n",
       "      <td>Government</td>\n",
       "      <td>No</td>\n",
       "      <td>http://open.alabama.gov/</td>\n",
       "      <td>US State</td>\n",
       "    </tr>\n",
       "    <tr>\n",
       "      <th>1</th>\n",
       "      <td>Alaska</td>\n",
       "      <td>AK</td>\n",
       "      <td>722718</td>\n",
       "      <td>Government</td>\n",
       "      <td>No</td>\n",
       "      <td>https://dof.doa.alaska.gov/</td>\n",
       "      <td>US State</td>\n",
       "    </tr>\n",
       "    <tr>\n",
       "      <th>2</th>\n",
       "      <td>Albuquerque</td>\n",
       "      <td>NM</td>\n",
       "      <td>539000</td>\n",
       "      <td>Government</td>\n",
       "      <td>No</td>\n",
       "      <td>http://www.cabq.gov/abq-data/</td>\n",
       "      <td>US City</td>\n",
       "    </tr>\n",
       "    <tr>\n",
       "      <th>3</th>\n",
       "      <td>Ann Arbor</td>\n",
       "      <td>MI</td>\n",
       "      <td>114925</td>\n",
       "      <td>Government</td>\n",
       "      <td>No</td>\n",
       "      <td>http://www.a2gov.org/data/</td>\n",
       "      <td>US City</td>\n",
       "    </tr>\n",
       "    <tr>\n",
       "      <th>4</th>\n",
       "      <td>Arizona</td>\n",
       "      <td>AZ</td>\n",
       "      <td>6482505</td>\n",
       "      <td>Government</td>\n",
       "      <td>No</td>\n",
       "      <td>http://openbooks.az.gov</td>\n",
       "      <td>US State</td>\n",
       "    </tr>\n",
       "  </tbody>\n",
       "</table>\n",
       "</div>"
      ],
      "text/plain": [
       "      Location State Population (US Census, 2011)  Ownership?  \\\n",
       "0      Alabama    AL                      4802740  Government   \n",
       "1       Alaska    AK                       722718  Government   \n",
       "2  Albuquerque    NM                       539000  Government   \n",
       "3    Ann Arbor    MI                       114925  Government   \n",
       "4      Arizona    AZ                      6482505  Government   \n",
       "\n",
       "  Open Data Policy?                           Link     Type   \n",
       "0                No       http://open.alabama.gov/  US State  \n",
       "1                No    https://dof.doa.alaska.gov/  US State  \n",
       "2                No  http://www.cabq.gov/abq-data/   US City  \n",
       "3                No     http://www.a2gov.org/data/   US City  \n",
       "4                No        http://openbooks.az.gov  US State  "
      ]
     },
     "execution_count": 6,
     "metadata": {},
     "output_type": "execute_result"
    }
   ],
   "source": [
    "df.head(5)"
   ]
  },
  {
   "cell_type": "code",
   "execution_count": 11,
   "metadata": {},
   "outputs": [
    {
     "data": {
      "text/plain": [
       "3"
      ]
     },
     "execution_count": 11,
     "metadata": {},
     "output_type": "execute_result"
    }
   ],
   "source": [
    "\"arhawrha\".count(\"a\")"
   ]
  },
  {
   "cell_type": "code",
   "execution_count": 17,
   "metadata": {},
   "outputs": [],
   "source": [
    "df[\"as\"] = df.Location.str.lower().str.count(\"a\")"
   ]
  },
  {
   "cell_type": "code",
   "execution_count": 20,
   "metadata": {},
   "outputs": [
    {
     "data": {
      "text/plain": [
       "0                 US State\n",
       "1                 US State\n",
       "2                  US City\n",
       "3                  US City\n",
       "4                 US State\n",
       "5                 US State\n",
       "6                  US City\n",
       "7                  US City\n",
       "8                  US City\n",
       "9                US County\n",
       "10                 US City\n",
       "11                 US City\n",
       "12                 US City\n",
       "13               US County\n",
       "14                 US City\n",
       "15                 US City\n",
       "16                US State\n",
       "17                 US City\n",
       "18                 US City\n",
       "19                 US City\n",
       "20                 US City\n",
       "21                 US City\n",
       "22                 US City\n",
       "23                 US City\n",
       "24             US Regional\n",
       "25                 US City\n",
       "26               US County\n",
       "27                US State\n",
       "28                US State\n",
       "29                US State\n",
       "              ...         \n",
       "138                US City\n",
       "139              US County\n",
       "140                US City\n",
       "141                US City\n",
       "142               US State\n",
       "143               US State\n",
       "144               US State\n",
       "145               US State\n",
       "146               US State\n",
       "147               US State\n",
       "148    Other State Related\n",
       "149                US City\n",
       "150               US State\n",
       "151               US State\n",
       "152               US State\n",
       "153               US State\n",
       "154                US City\n",
       "155               US State\n",
       "156              US County\n",
       "157               US State\n",
       "158               US State\n",
       "159                US City\n",
       "160                US City\n",
       "161                US City\n",
       "162                US City\n",
       "163                US City\n",
       "164               US State\n",
       "165                US City\n",
       "166               US State\n",
       "167               US State\n",
       "Name: Type , Length: 168, dtype: object"
      ]
     },
     "execution_count": 20,
     "metadata": {},
     "output_type": "execute_result"
    }
   ],
   "source": [
    "df[[\"Type \"]"
   ]
  },
  {
   "cell_type": "code",
   "execution_count": null,
   "metadata": {},
   "outputs": [],
   "source": [
    "# чтение CSV (крутые параметры: names, chunksize, dtype, sep)\n",
    "df = pd.read_csv(\"../datasets/USlocalopendataportals.csv\")\n",
    "df.columns # названия колонок\n",
    "df.head(15) # просмотр верхних 15 строчек"
   ]
  },
  {
   "cell_type": "code",
   "execution_count": null,
   "metadata": {},
   "outputs": [],
   "source": [
    "df[\"column\"].apply(lambda c: c / 100.0) # применение функции к колонке\n",
    "df[\"column\"].str.%строковая функция% # работа со строковыми колонками\n",
    "df[\"column\"].astype(np.float32) # привести колонку к нужному типу\n",
    "# а как сделать через apply?\n",
    "\n",
    "df.groupby(\"column\").mean() # операция агрегации"
   ]
  },
  {
   "cell_type": "code",
   "execution_count": null,
   "metadata": {},
   "outputs": [],
   "source": []
  },
  {
   "cell_type": "code",
   "execution_count": null,
   "metadata": {},
   "outputs": [],
   "source": []
  }
 ],
 "metadata": {
  "kernelspec": {
   "display_name": "Python 3",
   "language": "python",
   "name": "python3"
  },
  "language_info": {
   "codemirror_mode": {
    "name": "ipython",
    "version": 3
   },
   "file_extension": ".py",
   "mimetype": "text/x-python",
   "name": "python",
   "nbconvert_exporter": "python",
   "pygments_lexer": "ipython3",
   "version": "3.6.0"
  }
 },
 "nbformat": 4,
 "nbformat_minor": 2
}
