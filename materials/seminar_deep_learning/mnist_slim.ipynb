{
 "cells": [
  {
   "cell_type": "code",
   "execution_count": 1,
   "metadata": {
    "collapsed": true,
    "nbpresent": {
     "id": "c2530899-4a70-4cf5-9ef1-c680cab7103d"
    }
   },
   "outputs": [],
   "source": [
    "%matplotlib inline\n",
    "import random\n",
    "import matplotlib\n",
    "import matplotlib.pyplot as plt\n",
    "import numpy as np\n",
    "\n",
    "import tensorflow as tf\n",
    "import tensorflow.contrib.slim as slim"
   ]
  },
  {
   "cell_type": "code",
   "execution_count": 2,
   "metadata": {
    "collapsed": false,
    "nbpresent": {
     "id": "5629e936-1bf5-488a-b21b-fcb167ef13bd"
    }
   },
   "outputs": [
    {
     "name": "stdout",
     "output_type": "stream",
     "text": [
      "Extracting MNIST_data/train-images-idx3-ubyte.gz\n",
      "Extracting MNIST_data/train-labels-idx1-ubyte.gz\n",
      "Extracting MNIST_data/t10k-images-idx3-ubyte.gz\n",
      "Extracting MNIST_data/t10k-labels-idx1-ubyte.gz\n"
     ]
    }
   ],
   "source": [
    "from tensorflow.examples.tutorials.mnist import input_data as mnist_data\n",
    "mnist = mnist_data.read_data_sets(\"MNIST_data/\", one_hot=True)"
   ]
  },
  {
   "cell_type": "code",
   "execution_count": 3,
   "metadata": {
    "collapsed": false,
    "nbpresent": {
     "id": "f2b67c59-a011-476e-b7dd-ec26bae64c0d"
    }
   },
   "outputs": [
    {
     "data": {
      "image/png": "[encoded data removed]",
      "text/plain": [
       "<matplotlib.figure.Figure at 0x1670ff0a278>"
      ]
     },
     "metadata": {},
     "output_type": "display_data"
    }
   ],
   "source": [
    "mnist_samples = mnist.train.images[:32,:].transpose().reshape(28, 28, -1)\n",
    "\n",
    "fig = plt.figure(figsize=(10,6))\n",
    "for j in range(mnist_samples.shape[2]):\n",
    "    ax = fig.add_subplot(4, 8, j+1)\n",
    "    ax.imshow(mnist_samples[:,:,j], \n",
    "              cmap=matplotlib.cm.binary, interpolation='none')\n",
    "    plt.xticks(np.array([]))\n",
    "    plt.yticks(np.array([]))\n",
    "plt.show()"
   ]
  },
  {
   "cell_type": "code",
   "execution_count": 4,
   "metadata": {
    "collapsed": true,
    "nbpresent": {
     "id": "d5b08ccf-3efd-4e09-825c-5f16110428e4"
    }
   },
   "outputs": [],
   "source": [
    "with tf.name_scope('inputs'):\n",
    "    x = tf.placeholder(tf.float32, [None, 784], name='x')\n",
    "    y = tf.placeholder(tf.float32, [None, 10], name='y')\n",
    "    x_image = tf.reshape(x, [-1,28,28,1], name='image')"
   ]
  },
  {
   "cell_type": "code",
   "execution_count": 5,
   "metadata": {
    "collapsed": true,
    "nbpresent": {
     "id": "4511ab78-6cb0-4f85-bdf5-e9e37f6aae4d"
    }
   },
   "outputs": [],
   "source": [
    "with slim.arg_scope(\n",
    "    [slim.conv2d, slim.fully_connected],\n",
    "    biases_initializer=tf.constant_initializer(0.1),\n",
    "    weights_initializer=tf.truncated_normal_initializer(stddev=0.1),\n",
    "):\n",
    "    out = slim.conv2d(x_image, 32, [5, 5], scope='conv1')\n",
    "    out = slim.max_pool2d(out, [2, 2], scope='pool1')\n",
    "    out = slim.conv2d(out, 64, [5, 5], scope='conv2')\n",
    "    out = slim.max_pool2d(out, [2, 2], scope='pool2')\n",
    "    out = slim.flatten(out)\n",
    "    out = slim.fully_connected(out, 256, scope='fc1')\n",
    "    out = slim.fully_connected(out, 10, activation_fn=None, scope='fc2')"
   ]
  },
  {
   "cell_type": "code",
   "execution_count": 6,
   "metadata": {
    "collapsed": true,
    "nbpresent": {
     "id": "0d918ec5-ba09-4420-9030-ac2d4eb177e1"
    }
   },
   "outputs": [],
   "source": [
    "with tf.name_scope('loss'):    \n",
    "    loss = tf.reduce_mean(tf.nn.softmax_cross_entropy_with_logits(\n",
    "        logits=out, labels=y), name='cross_entropy')\n",
    "loss_summary = tf.summary.scalar('loss', loss)\n",
    "\n",
    "with tf.name_scope('accuracy'):\n",
    "    correct_prediction = tf.equal(tf.argmax(out, 1), tf.argmax(y, 1))\n",
    "    accuracy = tf.reduce_mean(tf.cast(correct_prediction, tf.float32))\n",
    "accuracy_summary = tf.summary.scalar('accuracy', accuracy)"
   ]
  },
  {
   "cell_type": "code",
   "execution_count": 7,
   "metadata": {
    "collapsed": false,
    "nbpresent": {
     "id": "421cf099-b111-467a-831d-32f6463f9b7e"
    }
   },
   "outputs": [],
   "source": [
    "ITERS = 4000\n",
    "BATCH_SIZE = 64\n",
    "LEARNING_RATE = 0.0001\n",
    "\n",
    "# optimizer = tf.train.GradientDescentOptimizer(LEARNING_RATE)\n",
    "# output_dir = 'logs/sgd'\n",
    "optimizer = tf.train.AdamOptimizer(LEARNING_RATE)\n",
    "output_dir = 'logs/adam/'\n",
    "\n",
    "global_step = tf.train.get_or_create_global_step()\n",
    "train_op = slim.learning.create_train_op(loss, \n",
    "    optimizer, global_step=global_step)\n",
    "\n",
    "init = tf.global_variables_initializer()\n",
    "\n",
    "config = tf.ConfigProto(log_device_placement = False)\n",
    "config.gpu_options.allow_growth = True\n",
    "config.gpu_options.allocator_type = 'BFC'\n",
    "sess = tf.Session(config=config)\n",
    "\n",
    "sess.run(init)\n",
    "summary_writer = tf.summary.FileWriter(output_dir, sess.graph)"
   ]
  },
  {
   "cell_type": "code",
   "execution_count": 8,
   "metadata": {
    "collapsed": false,
    "nbpresent": {
     "id": "b0ed84f5-8069-4068-b530-8dd21c22f42d"
    }
   },
   "outputs": [
    {
     "name": "stdout",
     "output_type": "stream",
     "text": [
      "[   0] Accuracy: 14.06 %\n",
      "[ 200] Accuracy: 93.75 %\n",
      "[ 400] Accuracy: 91.41 %\n",
      "[ 600] Accuracy: 93.75 %\n",
      "[ 800] Accuracy: 94.53 %\n",
      "[1000] Accuracy: 99.22 %\n",
      "[1200] Accuracy: 99.22 %\n",
      "[1400] Accuracy: 96.88 %\n",
      "[1600] Accuracy: 98.44 %\n",
      "[1800] Accuracy: 99.22 %\n",
      "[2000] Accuracy: 96.88 %\n",
      "[2200] Accuracy: 96.09 %\n",
      "[2400] Accuracy: 99.22 %\n",
      "[2600] Accuracy: 96.09 %\n",
      "[2800] Accuracy: 96.88 %\n",
      "[3000] Accuracy: 97.66 %\n",
      "[3200] Accuracy: 98.44 %\n",
      "[3400] Accuracy: 96.88 %\n",
      "[3600] Accuracy: 98.44 %\n",
      "[3800] Accuracy: 99.22 %\n"
     ]
    }
   ],
   "source": [
    "for it in range(ITERS):\n",
    "\n",
    "    batch_xs, batch_ys = mnist.train.next_batch(BATCH_SIZE)    \n",
    "    _, loss_s = sess.run([train_op, loss_summary], feed_dict={\n",
    "        x: batch_xs, y: batch_ys,\n",
    "    })\n",
    "\n",
    "    if it % 10 == 0:\n",
    "        summary_writer.add_summary(loss_s, it)\n",
    "        \n",
    "    if it % 200 == 0:\n",
    "        test_xs, test_ys = mnist.test.next_batch(128)\n",
    "        acc, acc_s = sess.run([accuracy, accuracy_summary], feed_dict={\n",
    "            x: test_xs, y: test_ys,\n",
    "        })\n",
    "        summary_writer.add_summary(acc_s, it)\n",
    "        print(\"[%4d] Accuracy: %5.2f %%\" % (it, acc*100))"
   ]
  },
  {
   "cell_type": "code",
   "execution_count": 9,
   "metadata": {
    "collapsed": false,
    "nbpresent": {
     "id": "5acb2f0a-1d77-4844-99f0-e461c154f9fb"
    }
   },
   "outputs": [
    {
     "name": "stdout",
     "output_type": "stream",
     "text": [
      "Final accuracy : 98.36 %\n"
     ]
    }
   ],
   "source": [
    "final_acc = sess.run(accuracy, feed_dict={\n",
    "    x: mnist.test.images,\n",
    "    y: mnist.test.labels,\n",
    "})\n",
    "print('Final accuracy : %5.2f %%' % (final_acc*100))"
   ]
  },
  {
   "cell_type": "code",
   "execution_count": 10,
   "metadata": {
    "collapsed": false,
    "nbpresent": {
     "id": "71807574-cf9c-4a6c-ab11-a7a98c5222e5"
    }
   },
   "outputs": [],
   "source": [
    "def test_digit(sample):\n",
    "    \n",
    "    sample = sample[np.newaxis, ...]\n",
    "    prediction = sess.run(tf.nn.softmax(out), feed_dict={x: sample})\n",
    "    ans = np.argmax(prediction)\n",
    "\n",
    "    fig = plt.figure(figsize=(12,4))\n",
    "\n",
    "    ax = fig.add_subplot(1, 2, 1)\n",
    "    ax.imshow(sample.transpose().reshape(28, 28), \n",
    "              cmap=matplotlib.cm.binary,interpolation ='none')\n",
    "    plt.xticks(np.array([]))\n",
    "    plt.yticks(np.array([]))\n",
    "\n",
    "    ax = fig.add_subplot(1, 2, 2)\n",
    "    bar_list = ax.bar(np.arange(10), prediction[0], align='center')\n",
    "    bar_list[ans].set_color('g')\n",
    "    ax.set_xticks(np.arange(10))\n",
    "    ax.set_xlim([-1, 10])\n",
    "    ax.grid('on')\n",
    "\n",
    "    plt.show()\n",
    "\n",
    "    print('Answer: {}'.format(ans))"
   ]
  },
  {
   "cell_type": "code",
   "execution_count": 11,
   "metadata": {
    "collapsed": false
   },
   "outputs": [
    {
     "data": {
      "image/png": "[encoded data removed]",
      "text/plain": [
       "<matplotlib.figure.Figure at 0x16710d3e588>"
      ]
     },
     "metadata": {},
     "output_type": "display_data"
    },
    {
     "name": "stdout",
     "output_type": "stream",
     "text": [
      "Answer: 1\n"
     ]
    }
   ],
   "source": [
    "idx = random.randint(0, mnist.test.images.shape[0])\n",
    "sample = mnist.test.images[idx,:]\n",
    "test_digit(sample)"
   ]
  },
  {
   "cell_type": "code",
   "execution_count": 12,
   "metadata": {
    "collapsed": false,
    "nbpresent": {
     "id": "18458403-88ca-408b-95b2-4b2cf31c22f1"
    }
   },
   "outputs": [
    {
     "name": "stdout",
     "output_type": "stream",
     "text": [
      "True Answer: 1\n"
     ]
    }
   ],
   "source": [
    "print('True Answer: {}'.format(np.argmax(mnist.test.labels[idx])))"
   ]
  },
  {
   "cell_type": "code",
   "execution_count": 15,
   "metadata": {
    "collapsed": false,
    "nbpresent": {
     "id": "70034c1a-7ef5-4c38-8bed-c20c5ed4bafd"
    }
   },
   "outputs": [
    {
     "data": {
      "image/png": "[encoded data removed]",
      "text/plain": [
       "<matplotlib.figure.Figure at 0x16717b3ef98>"
      ]
     },
     "metadata": {},
     "output_type": "display_data"
    },
    {
     "name": "stdout",
     "output_type": "stream",
     "text": [
      "Answer: 3\n"
     ]
    }
   ],
   "source": [
    "import scipy.misc\n",
    "\n",
    "img = scipy.misc.imread('digit.png')\n",
    "img = scipy.misc.imresize(img, (28, 28), interp='lanczos')\n",
    "img = 1. - img.astype(np.float32)/255.\n",
    "img = np.mean(img, axis=2)\n",
    "img = img.flatten()\n",
    "\n",
    "test_digit(img)"
   ]
  }
 ],
 "metadata": {
  "anaconda-cloud": {},
  "kernelspec": {
   "display_name": "Python [conda root]",
   "language": "python",
   "name": "conda-root-py"
  },
  "language_info": {
   "codemirror_mode": {
    "name": "ipython",
    "version": 3
   },
   "file_extension": ".py",
   "mimetype": "text/x-python",
   "name": "python",
   "nbconvert_exporter": "python",
   "pygments_lexer": "ipython3",
   "version": "3.5.2"
  },
  "nbpresent": {
   "slides": {
    "02102e2a-e647-407b-b97a-271a2a0b7694": {
     "id": "02102e2a-e647-407b-b97a-271a2a0b7694",
     "prev": "6ad030fa-b901-448f-acd6-ee565369793f",
     "regions": {
      "d30876ee-6b59-4d4c-b8f1-342d11419401": {
       "attrs": {
        "height": 0.8,
        "width": 0.8,
        "x": 0.1,
        "y": 0.1
       },
       "content": {
        "cell": "0d918ec5-ba09-4420-9030-ac2d4eb177e1",
        "part": "whole"
       },
       "id": "d30876ee-6b59-4d4c-b8f1-342d11419401"
      }
     }
    },
    "0d8b6144-6d5b-46f2-9e5d-cde3a0e99462": {
     "id": "0d8b6144-6d5b-46f2-9e5d-cde3a0e99462",
     "prev": null,
     "regions": {
      "3edc0568-3f08-4033-871b-d79146d08df5": {
       "attrs": {
        "height": 0.8,
        "width": 0.8,
        "x": 0.1,
        "y": 0.1
       },
       "content": {
        "cell": "c2530899-4a70-4cf5-9ef1-c680cab7103d",
        "part": "whole"
       },
       "id": "3edc0568-3f08-4033-871b-d79146d08df5"
      }
     }
    },
    "1c78443d-fd46-43e3-9de2-602c28c39634": {
     "id": "1c78443d-fd46-43e3-9de2-602c28c39634",
     "prev": "865f8321-6a75-4ce6-8ad4-6595cc951012",
     "regions": {
      "e2ef3671-ba54-45b3-95b4-5e631a07c60d": {
       "attrs": {
        "height": 0.8,
        "width": 0.8,
        "x": 0.1,
        "y": 0.1
       },
       "content": {
        "cell": "70034c1a-7ef5-4c38-8bed-c20c5ed4bafd",
        "part": "whole"
       },
       "id": "e2ef3671-ba54-45b3-95b4-5e631a07c60d"
      }
     }
    },
    "55e60865-712a-4129-a228-8e9608ce9937": {
     "id": "55e60865-712a-4129-a228-8e9608ce9937",
     "prev": "e5c100d5-dec0-47a8-962f-d07efb7d4227",
     "regions": {
      "02227bc2-071b-4df8-8de0-383fbe956977": {
       "attrs": {
        "height": 0.8,
        "width": 0.8,
        "x": 0.1,
        "y": 0.1
       },
       "content": {
        "cell": "f2b67c59-a011-476e-b7dd-ec26bae64c0d",
        "part": "whole"
       },
       "id": "02227bc2-071b-4df8-8de0-383fbe956977"
      }
     }
    },
    "5f69d639-a90f-44e8-8508-3f0df0a21281": {
     "id": "5f69d639-a90f-44e8-8508-3f0df0a21281",
     "prev": "aa1536ae-5376-436e-bdc0-ee6504f6505b",
     "regions": {
      "19ef966c-8312-4aff-9d1b-631de4392252": {
       "attrs": {
        "height": 0.8,
        "width": 0.8,
        "x": 0.1,
        "y": 0.1
       },
       "content": {
        "cell": "5acb2f0a-1d77-4844-99f0-e461c154f9fb",
        "part": "whole"
       },
       "id": "19ef966c-8312-4aff-9d1b-631de4392252"
      }
     }
    },
    "6629bd59-93b6-4d98-bb85-81d0bb58eccb": {
     "id": "6629bd59-93b6-4d98-bb85-81d0bb58eccb",
     "prev": "55e60865-712a-4129-a228-8e9608ce9937",
     "regions": {
      "801e4e7a-1da7-43fd-9629-0f0d9909ef61": {
       "attrs": {
        "height": 0.8,
        "width": 0.8,
        "x": 0.1,
        "y": 0.1
       },
       "content": {
        "cell": "d5b08ccf-3efd-4e09-825c-5f16110428e4",
        "part": "whole"
       },
       "id": "801e4e7a-1da7-43fd-9629-0f0d9909ef61"
      }
     }
    },
    "666c0882-3c32-4330-a83d-9356eff0e6a3": {
     "id": "666c0882-3c32-4330-a83d-9356eff0e6a3",
     "prev": "5f69d639-a90f-44e8-8508-3f0df0a21281",
     "regions": {
      "e8e0c8b2-ef55-4d82-af26-107b36193f72": {
       "attrs": {
        "height": 0.8,
        "width": 0.8,
        "x": 0.1,
        "y": 0.1
       },
       "content": {
        "cell": "71807574-cf9c-4a6c-ab11-a7a98c5222e5",
        "part": "whole"
       },
       "id": "e8e0c8b2-ef55-4d82-af26-107b36193f72"
      }
     }
    },
    "6ad030fa-b901-448f-acd6-ee565369793f": {
     "id": "6ad030fa-b901-448f-acd6-ee565369793f",
     "prev": "6629bd59-93b6-4d98-bb85-81d0bb58eccb",
     "regions": {
      "2eecb11b-ef14-4fe4-add7-927769f06189": {
       "attrs": {
        "height": 0.8,
        "width": 0.8,
        "x": 0.1,
        "y": 0.1
       },
       "content": {
        "cell": "4511ab78-6cb0-4f85-bdf5-e9e37f6aae4d",
        "part": "whole"
       },
       "id": "2eecb11b-ef14-4fe4-add7-927769f06189"
      }
     }
    },
    "865f8321-6a75-4ce6-8ad4-6595cc951012": {
     "id": "865f8321-6a75-4ce6-8ad4-6595cc951012",
     "prev": "666c0882-3c32-4330-a83d-9356eff0e6a3",
     "regions": {
      "c9124162-eae0-4b36-9582-cc0f0e6524bd": {
       "attrs": {
        "height": 0.8,
        "width": 0.8,
        "x": 0.1,
        "y": 0.1
       },
       "content": {
        "cell": "18458403-88ca-408b-95b2-4b2cf31c22f1",
        "part": "whole"
       },
       "id": "c9124162-eae0-4b36-9582-cc0f0e6524bd"
      }
     }
    },
    "aa1536ae-5376-436e-bdc0-ee6504f6505b": {
     "id": "aa1536ae-5376-436e-bdc0-ee6504f6505b",
     "prev": "f924a32b-88f7-48a5-a66b-5748a299a3fc",
     "regions": {
      "486bee60-d759-4a25-9ae6-9cbfb568942d": {
       "attrs": {
        "height": 0.8,
        "width": 0.8,
        "x": 0.1,
        "y": 0.1
       },
       "content": {
        "cell": "b0ed84f5-8069-4068-b530-8dd21c22f42d",
        "part": "whole"
       },
       "id": "486bee60-d759-4a25-9ae6-9cbfb568942d"
      }
     }
    },
    "e5c100d5-dec0-47a8-962f-d07efb7d4227": {
     "id": "e5c100d5-dec0-47a8-962f-d07efb7d4227",
     "prev": "0d8b6144-6d5b-46f2-9e5d-cde3a0e99462",
     "regions": {
      "2cd865bb-53d4-4620-a728-e1818f88dfa6": {
       "attrs": {
        "height": 0.8,
        "width": 0.8,
        "x": 0.1,
        "y": 0.1
       },
       "content": {
        "cell": "5629e936-1bf5-488a-b21b-fcb167ef13bd",
        "part": "whole"
       },
       "id": "2cd865bb-53d4-4620-a728-e1818f88dfa6"
      }
     }
    },
    "f924a32b-88f7-48a5-a66b-5748a299a3fc": {
     "id": "f924a32b-88f7-48a5-a66b-5748a299a3fc",
     "prev": "02102e2a-e647-407b-b97a-271a2a0b7694",
     "regions": {
      "c758d595-ddcc-4b0f-8660-bf0e07c8252e": {
       "attrs": {
        "height": 0.8,
        "width": 0.8,
        "x": 0.1,
        "y": 0.1
       },
       "content": {
        "cell": "421cf099-b111-467a-831d-32f6463f9b7e",
        "part": "whole"
       },
       "id": "c758d595-ddcc-4b0f-8660-bf0e07c8252e"
      }
     }
    }
   },
   "themes": {}
  }
 },
 "nbformat": 4,
 "nbformat_minor": 1
}
