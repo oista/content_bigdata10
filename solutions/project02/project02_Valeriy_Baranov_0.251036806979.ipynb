{
 "cells": [
  {
   "cell_type": "markdown",
   "metadata": {
    "collapsed": true
   },
   "source": [
    "[The author's git-->](https://github.com/baranovxyz)"
   ]
  },
  {
   "cell_type": "code",
   "execution_count": 1,
   "metadata": {},
   "outputs": [
    {
     "name": "stdout",
     "output_type": "stream",
     "text": [
      "/usr/hdp/current/spark2-client\n",
      "Welcome to\n",
      "      ____              __\n",
      "     / __/__  ___ _____/ /__\n",
      "    _\\ \\/ _ \\/ _ `/ __/  '_/\n",
      "   /__ / .__/\\_,_/_/ /_/\\_\\   version 2.3.2\n",
      "      /_/\n",
      "\n",
      "Using Python version 3.6.5 (default, Apr 29 2018 16:14:56)\n",
      "SparkSession available as 'spark'.\n"
     ]
    }
   ],
   "source": [
    "import os\n",
    "import sys\n",
    "os.environ[\"PYSPARK_SUBMIT_ARGS\"]='--packages com.databricks:spark-csv_2.10:1.2.0 pyspark-shell'\n",
    "os.environ[\"PYSPARK_PYTHON\"]='python3'\n",
    "os.environ[\"SPARK_HOME\"]='/usr/hdp/current/spark2-client'\n",
    "\n",
    "spark_home = os.environ.get('SPARK_HOME', None)\n",
    "print(spark_home)\n",
    "if not spark_home:\n",
    "    raise ValueError('SPARK_HOME environment variable is not set')\n",
    "sys.path.insert(0, os.path.join(spark_home, 'python'))\n",
    "sys.path.insert(0, os.path.join(spark_home, 'python/lib/py4j-0.10.4-src.zip'))\n",
    "os.environ[\"PYSPARK_PYTHON\"] = 'python3'\n",
    "exec(open(os.path.join(spark_home, 'python/pyspark/shell.py')).read())"
   ]
  },
  {
   "cell_type": "code",
   "execution_count": 1,
   "metadata": {
    "collapsed": true
   },
   "outputs": [
    {
     "ename": "ModuleNotFoundError",
     "evalue": "No module named 'pyspark'",
     "output_type": "error",
     "traceback": [
      "\u001b[1;31m---------------------------------------------------------------------------\u001b[0m",
      "\u001b[1;31mModuleNotFoundError\u001b[0m                       Traceback (most recent call last)",
      "\u001b[1;32m<ipython-input-1-1d101d9ff104>\u001b[0m in \u001b[0;36m<module>\u001b[1;34m()\u001b[0m\n\u001b[0;32m      5\u001b[0m \u001b[1;32mimport\u001b[0m \u001b[0mjson\u001b[0m\u001b[1;33m\u001b[0m\u001b[0m\n\u001b[0;32m      6\u001b[0m \u001b[1;32mimport\u001b[0m \u001b[0moperator\u001b[0m \u001b[1;32mas\u001b[0m \u001b[0mop\u001b[0m\u001b[1;33m\u001b[0m\u001b[0m\n\u001b[1;32m----> 7\u001b[1;33m \u001b[1;32mfrom\u001b[0m \u001b[0mpyspark\u001b[0m \u001b[1;32mimport\u001b[0m \u001b[0mAccumulatorParam\u001b[0m\u001b[1;33m\u001b[0m\u001b[0m\n\u001b[0m\u001b[0;32m      8\u001b[0m \u001b[1;32mfrom\u001b[0m \u001b[0mpyspark\u001b[0m\u001b[1;33m.\u001b[0m\u001b[0msql\u001b[0m \u001b[1;32mimport\u001b[0m \u001b[0mRow\u001b[0m\u001b[1;33m\u001b[0m\u001b[0m\n\u001b[0;32m      9\u001b[0m \u001b[1;32mfrom\u001b[0m \u001b[0mpyspark\u001b[0m\u001b[1;33m.\u001b[0m\u001b[0msql\u001b[0m\u001b[1;33m.\u001b[0m\u001b[0mfunctions\u001b[0m \u001b[1;32mimport\u001b[0m \u001b[0mconcat_ws\u001b[0m\u001b[1;33m,\u001b[0m \u001b[0mregexp_extract\u001b[0m\u001b[1;33m,\u001b[0m \u001b[0msplit\u001b[0m\u001b[1;33m\u001b[0m\u001b[0m\n",
      "\u001b[1;31mModuleNotFoundError\u001b[0m: No module named 'pyspark'"
     ]
    }
   ],
   "source": [
    "import re\n",
    "import pandas as pd\n",
    "import numpy as np\n",
    "import pickle\n",
    "import json\n",
    "import operator as op\n",
    "from pyspark import AccumulatorParam\n",
    "from pyspark.sql import Row\n",
    "from pyspark.sql.functions import concat_ws, regexp_extract, split\n",
    "import math"
   ]
  },
  {
   "cell_type": "code",
   "execution_count": null,
   "metadata": {
    "collapsed": true
   },
   "outputs": [],
   "source": [
    "def row2prop(prop):\n",
    "    return lambda row: row[prop]\n",
    "def row2props(*props):\n",
    "    return lambda row: [row[prop] for prop in props]"
   ]
  },
  {
   "cell_type": "markdown",
   "metadata": {},
   "source": [
    "### Считаем tfidf по всем текстам"
   ]
  },
  {
   "cell_type": "code",
   "execution_count": null,
   "metadata": {
    "collapsed": true
   },
   "outputs": [],
   "source": [
    "df = spark.read.json(\"/labs/project2/item_details_full\")"
   ]
  },
  {
   "cell_type": "code",
   "execution_count": null,
   "metadata": {
    "collapsed": true
   },
   "outputs": [],
   "source": [
    "re_word = re.compile('[^\\W_\\d]{3,}')"
   ]
  },
  {
   "cell_type": "code",
   "execution_count": null,
   "metadata": {
    "collapsed": true
   },
   "outputs": [],
   "source": [
    "dw = df.select(\n",
    "    df.itemid.cast('integer'), \n",
    "    df.parent_id.cast('integer'), \n",
    "    concat_ws(' ', *['attr' + str(x) for x in range(78)]).alias('text'))"
   ]
  },
  {
   "cell_type": "code",
   "execution_count": null,
   "metadata": {
    "collapsed": true
   },
   "outputs": [],
   "source": [
    "dw.rdd.take(1)"
   ]
  },
  {
   "cell_type": "code",
   "execution_count": null,
   "metadata": {
    "collapsed": true
   },
   "outputs": [],
   "source": [
    "from nltk.corpus import stopwords\n",
    "br_stop = sc.broadcast(set(stopwords.words('russian')))"
   ]
  },
  {
   "cell_type": "code",
   "execution_count": null,
   "metadata": {
    "collapsed": true
   },
   "outputs": [],
   "source": [
    "df_words = dw.rdd.map(lambda row: Row(\n",
    "    words=[w for w in re_word.findall(row.text.lower() if row.text is not None else '')\n",
    "           if w not in br_stop.value],\n",
    "    **row.asDict())\n",
    ").toDF()"
   ]
  },
  {
   "cell_type": "code",
   "execution_count": null,
   "metadata": {
    "collapsed": true
   },
   "outputs": [],
   "source": [
    "from pyspark.ml.feature import HashingTF\n",
    "htf = HashingTF(numFeatures=1 << 16, binary=False, inputCol='words', outputCol='vec')\n",
    "1 << 16 # в соответствии с рекомендациями из документации для числа хешей берем степень 2х"
   ]
  },
  {
   "cell_type": "code",
   "execution_count": null,
   "metadata": {
    "collapsed": true
   },
   "outputs": [],
   "source": [
    "df_bag = htf.transform(df_words)\n",
    "df_bag.select('itemid','parent_id','words','vec')\\\n",
    "    .write.parquet(\"df_bag\", \"overwrite\")"
   ]
  },
  {
   "cell_type": "code",
   "execution_count": null,
   "metadata": {
    "collapsed": true
   },
   "outputs": [],
   "source": [
    "df_bag = spark.read.parquet(\"df_bag\")"
   ]
  },
  {
   "cell_type": "code",
   "execution_count": null,
   "metadata": {
    "collapsed": true
   },
   "outputs": [],
   "source": [
    "from pyspark.ml.feature import IDF\n",
    "idf = IDF(minDocFreq=2, inputCol='vec', outputCol='tfidf')\n",
    "md_idf = idf.fit(df_bag)"
   ]
  },
  {
   "cell_type": "code",
   "execution_count": null,
   "metadata": {
    "collapsed": true
   },
   "outputs": [],
   "source": [
    "md_idf.transform(df_bag)\\\n",
    "    .write.parquet(\"df_tfidf\", \"overwrite\")"
   ]
  },
  {
   "cell_type": "code",
   "execution_count": null,
   "metadata": {
    "collapsed": true
   },
   "outputs": [],
   "source": [
    "#### Формируем разреженную матрицу из всех векторов"
   ]
  },
  {
   "cell_type": "code",
   "execution_count": null,
   "metadata": {
    "collapsed": true
   },
   "outputs": [],
   "source": [
    "from scipy import sparse\n",
    "from sklearn.metrics.pairwise import cosine_similarity"
   ]
  },
  {
   "cell_type": "code",
   "execution_count": null,
   "metadata": {
    "collapsed": true
   },
   "outputs": [],
   "source": [
    "df_bag = spark.read.parquet(\"df_bag\")\n",
    "# pseudo\n",
    "csr_all = sparse.vstack((df_bag.collect()))\n",
    "pickle.dump(csr_all, open('csr_all','xb'))"
   ]
  },
  {
   "cell_type": "markdown",
   "metadata": {},
   "source": [
    "### Считаем векторную близость по всей выборке батчами"
   ]
  },
  {
   "cell_type": "code",
   "execution_count": 6,
   "metadata": {
    "collapsed": true
   },
   "outputs": [],
   "source": [
    "\"\"\" где то до этого распарсены данные по айдишникам и тд \"\"\"\n",
    "test_ids_w_index = pickle.load(open('test_ids_w_index','rb'))\n",
    "csr_all = pickle.load(open('csr_all','rb'))\n",
    "test_indexes = np.array([v for k,v in test_ids_w_index])"
   ]
  },
  {
   "cell_type": "code",
   "execution_count": 7,
   "metadata": {},
   "outputs": [
    {
     "data": {
      "text/plain": [
       "<9273625x65536 sparse matrix of type '<class 'numpy.float64'>'\n",
       "\twith 450587057 stored elements in Compressed Sparse Row format>"
      ]
     },
     "execution_count": 7,
     "metadata": {},
     "output_type": "execute_result"
    }
   ],
   "source": [
    "csr_all"
   ]
  },
  {
   "cell_type": "code",
   "execution_count": 6,
   "metadata": {},
   "outputs": [
    {
     "data": {
      "text/plain": [
       "[(28759795, 2828040), (32712593, 6996810), (29616882, 2828041)]"
      ]
     },
     "execution_count": 6,
     "metadata": {},
     "output_type": "execute_result"
    }
   ],
   "source": [
    "test_ids_w_index[:3]"
   ]
  },
  {
   "cell_type": "code",
   "execution_count": null,
   "metadata": {
    "collapsed": true
   },
   "outputs": [],
   "source": [
    "\"\"\" получить topn лучших совпадений по тфидф \"\"\"\n",
    "def get_best(csr1, csr2, topn):\n",
    "    sim = cosine_similarity(csr1, csr2)\n",
    "    ind = np.argpartition(sim, -topn, axis=1) # trick очень быстрый отбор топа индексов\n",
    "    best_values = []\n",
    "    best_indexes = []\n",
    "    for i in range(sim.shape[0]):\n",
    "        best_values.append(sim[i,ind[i,-topn:]])\n",
    "        best_indexes.append(ind[i,-topn:])\n",
    "    del sim\n",
    "    del ind\n",
    "    return (best_values, best_indexes)"
   ]
  },
  {
   "cell_type": "code",
   "execution_count": null,
   "metadata": {
    "collapsed": true
   },
   "outputs": [],
   "source": [
    "# лучше брать побольше кандидатов (topn)\n",
    "batch_size = 200\n",
    "topn = 200"
   ]
  },
  {
   "cell_type": "code",
   "execution_count": null,
   "metadata": {
    "collapsed": true
   },
   "outputs": [],
   "source": [
    "\"\"\" запускаем для 61000 то есть 305 итераций \"\"\"\n",
    "for i in range(math.ceil(len(test_indexes) / batch_size)):\n",
    "    lower = i * batch_size\n",
    "    upper = (i + 1) * batch_size\n",
    "    if upper > len(test_indexes):\n",
    "        upper = len(test_indexes)\n",
    "    print(i)\n",
    "    ts = datetime.timestamp(datetime.now())\n",
    "    values_, indexes_ = get_best(csr_all[test_indexes[lower:upper],:],\n",
    "                               csr_all,\n",
    "                                topn)\n",
    "    pickle.dump(indexes_, open('test/indexes_' + str(i),'xb'))\n",
    "    del indexes_\n",
    "    pickle.dump(values_, open('test/values_' + str(i),'xb'))\n",
    "    del values_\n",
    "    print(datetime.timestamp(datetime.now()) - ts)"
   ]
  },
  {
   "cell_type": "code",
   "execution_count": null,
   "metadata": {
    "collapsed": true
   },
   "outputs": [],
   "source": [
    "# где то здесь собираем все результаты в test_200"
   ]
  },
  {
   "cell_type": "code",
   "execution_count": 2,
   "metadata": {
    "scrolled": true
   },
   "outputs": [
    {
     "data": {
      "text/plain": [
       "(28759795,\n",
       " [(28759795, 1.0000000000000002),\n",
       "  (28759802, 0.66001435046984847),\n",
       "  (32010213, 0.55357484996739637),\n",
       "  (28759787, 0.48544407543324869),\n",
       "  (28759785, 0.45807386520829008),\n",
       "  (30213185, 0.42517367435160303),\n",
       "  (28759781, 0.42334206564127913),\n",
       "  (19381453, 0.4144645645514341),\n",
       "  (28759782, 0.38271865509362424),\n",
       "  (6259845, 0.37913700830682201),\n",
       "  (31413158, 0.37051680060386782),\n",
       "  (28759803, 0.36447413609814838),\n",
       "  (28759808, 0.36031454345894004),\n",
       "  (28759783, 0.35875332577891361),\n",
       "  (28759796, 0.33852610796613675),\n",
       "  (28759809, 0.3307316945268397),\n",
       "  (30213180, 0.32498457738439063),\n",
       "  (18614210, 0.32003192850495332),\n",
       "  (3897626, 0.31871808573955257),\n",
       "  (30161483, 0.31526071119038213),\n",
       "  (28759815, 0.31390572237856074),\n",
       "  (28759801, 0.3062419264343984),\n",
       "  (32010193, 0.29869872504693296),\n",
       "  (4142391, 0.29567591922286751),\n",
       "  (30213248, 0.29231267303480529),\n",
       "  (28759780, 0.28856375589532679),\n",
       "  (32677679, 0.28117082808283067),\n",
       "  (22294338, 0.2781764857699473),\n",
       "  (30213254, 0.27728742712790316),\n",
       "  (32010187, 0.27143650177428869),\n",
       "  (19381466, 0.26917321307896769),\n",
       "  (20961077, 0.26833967913350321),\n",
       "  (30213269, 0.26510062267692142),\n",
       "  (5416805, 0.26309157413752299),\n",
       "  (4899165, 0.26170765082049163),\n",
       "  (4729005, 0.26005971559140123),\n",
       "  (30213192, 0.25963747032729229),\n",
       "  (30213179, 0.25672877548826978),\n",
       "  (32232138, 0.256157464764319),\n",
       "  (9008467, 0.25590195202297861),\n",
       "  (19381455, 0.25515839019157166),\n",
       "  (31413160, 0.25169939950668457),\n",
       "  (30213176, 0.25071611911659075),\n",
       "  (30213231, 0.24965282197636429),\n",
       "  (5803325, 0.24656540251860545),\n",
       "  (5319565, 0.24650643887636087),\n",
       "  (30161506, 0.24031430934313253),\n",
       "  (30213187, 0.23896886791868724),\n",
       "  (19381464, 0.2375330063554488),\n",
       "  (3577718, 0.23624787371126427),\n",
       "  (7270464, 0.23613943912667545),\n",
       "  (8356915, 0.23380987817911017),\n",
       "  (8356914, 0.23380987817911017),\n",
       "  (19926555, 0.23276814346973748),\n",
       "  (6737180, 0.23254008376131213),\n",
       "  (20970723, 0.23196024680694283),\n",
       "  (22443499, 0.23161462905400956),\n",
       "  (28759816, 0.23124865734813468),\n",
       "  (28759788, 0.2310401241111277),\n",
       "  (32010214, 0.23007177192758854),\n",
       "  (31995142, 0.23004192560078868),\n",
       "  (24404065, 0.22935916736512807),\n",
       "  (28759784, 0.22859687475048121),\n",
       "  (5175500, 0.22809039464927175),\n",
       "  (31413159, 0.2279345564629334),\n",
       "  (28759786, 0.22740161031559311),\n",
       "  (28759791, 0.22626440157731262),\n",
       "  (33536299, 0.22577791920824464),\n",
       "  (32010203, 0.22576812214751743),\n",
       "  (28759804, 0.22459135523542795),\n",
       "  (28759779, 0.22338288264965583),\n",
       "  (30161494, 0.22299859135936442),\n",
       "  (28118094, 0.22205692426244483),\n",
       "  (31594243, 0.22167658594782932),\n",
       "  (19382345, 0.22078915868144761),\n",
       "  (5094897, 0.21980943749722098),\n",
       "  (32662310, 0.21912708351959428),\n",
       "  (6316583, 0.21890851245901016),\n",
       "  (26246224, 0.21883101354114956),\n",
       "  (32010216, 0.21845615397153259),\n",
       "  (6737181, 0.21837790827612333),\n",
       "  (30161492, 0.21746905043380418),\n",
       "  (30213249, 0.21704500135596416),\n",
       "  (33201838, 0.21687670253241159),\n",
       "  (28759794, 0.21588939548571373),\n",
       "  (5592345, 0.21555024926579014),\n",
       "  (30161485, 0.21552453911822209),\n",
       "  (7616877, 0.21543900963130952),\n",
       "  (31809793, 0.21527450927523395),\n",
       "  (31584967, 0.21479104194988424),\n",
       "  (32662312, 0.21449011546833641),\n",
       "  (31594271, 0.21428157475614987),\n",
       "  (32425853, 0.21420557262531148),\n",
       "  (19688231, 0.21302559506902885),\n",
       "  (19381548, 0.2126419232903547),\n",
       "  (30161488, 0.2125197561852262),\n",
       "  (5820666, 0.21241541682948123),\n",
       "  (870430, 0.21229922762340839),\n",
       "  (28759806, 0.21215813942915723),\n",
       "  (5820671, 0.21199000055470829),\n",
       "  (32662308, 0.21190728325538841),\n",
       "  (28759793, 0.21165425088613068),\n",
       "  (32010183, 0.21132832087962028),\n",
       "  (5820705, 0.21117653388478133),\n",
       "  (28759805, 0.21110563232260254),\n",
       "  (32225428, 0.21045316262810232),\n",
       "  (19842378, 0.20972979607713524),\n",
       "  (5581392, 0.20907001216825513),\n",
       "  (30161482, 0.20872709136250364),\n",
       "  (28027674, 0.2085021188364829),\n",
       "  (1161317, 0.20841414020023416),\n",
       "  (1161318, 0.20841414020023416),\n",
       "  (28759789, 0.20810800109998287),\n",
       "  (5581397, 0.20784623543439185),\n",
       "  (4998496, 0.20771854031815837),\n",
       "  (32662313, 0.20740889156875114),\n",
       "  (32662306, 0.20689610962499522),\n",
       "  (6264818, 0.20683588448166088),\n",
       "  (9008349, 0.20657234983787884),\n",
       "  (9008470, 0.20628459729207937),\n",
       "  (871605, 0.2060451420651421),\n",
       "  (30213199, 0.20537965126332852),\n",
       "  (31693139, 0.20402834094491409),\n",
       "  (5020756, 0.20382329240857547),\n",
       "  (5592381, 0.20335360367535801),\n",
       "  (32010196, 0.20250633298781942),\n",
       "  (32662311, 0.202466888451556),\n",
       "  (31594352, 0.20217092199220801),\n",
       "  (5611664, 0.20210130855030706),\n",
       "  (8824157, 0.20203147544048861),\n",
       "  (8830103, 0.20203147544048861),\n",
       "  (8825699, 0.20203147544048861),\n",
       "  (24625025, 0.20069419687770262),\n",
       "  (4805294, 0.20068256512937649),\n",
       "  (32662309, 0.20060833025584496),\n",
       "  (7020822, 0.20059051146700724),\n",
       "  (32662307, 0.20031815208556658),\n",
       "  (22294332, 0.2002753559994325),\n",
       "  (5581395, 0.19936261447041628),\n",
       "  (7020824, 0.19841574639018919),\n",
       "  (31293241, 0.19814267450653142),\n",
       "  (25761994, 0.19811560970699657),\n",
       "  (28759807, 0.19667772101478836),\n",
       "  (7020823, 0.19634838706473429),\n",
       "  (28759817, 0.19594565440012537),\n",
       "  (7020825, 0.19548430004741818),\n",
       "  (32010189, 0.19479946609879514),\n",
       "  (32010195, 0.19471128902602247),\n",
       "  (28759792, 0.19454082823832164),\n",
       "  (5399711, 0.19338322178488201),\n",
       "  (28759799, 0.19290236776512509),\n",
       "  (1033909, 0.19274463010175169),\n",
       "  (22294300, 0.19212640034529194),\n",
       "  (28759797, 0.19188403473224699),\n",
       "  (32010198, 0.19186877889462509),\n",
       "  (6264825, 0.18990799590123636),\n",
       "  (28759790, 0.18969832118227561),\n",
       "  (28759798, 0.18954163467824256),\n",
       "  (30161508, 0.18882825798383507),\n",
       "  (5802017, 0.18868186291159111),\n",
       "  (32010197, 0.18644488473973014),\n",
       "  (32010199, 0.18638945040347607),\n",
       "  (30213253, 0.18637300867522305),\n",
       "  (27031370, 0.18632665102009249),\n",
       "  (32010201, 0.18603130063948795),\n",
       "  (32010202, 0.18601981300827536),\n",
       "  (5611584, 0.18586135438161111),\n",
       "  (6390945, 0.18576809012611481),\n",
       "  (32010200, 0.18375547755001925),\n",
       "  (29963156, 0.18333380920028591),\n",
       "  (28759800, 0.18301804371402719),\n",
       "  (32965345, 0.18285133962876521),\n",
       "  (32965346, 0.18285133962876521),\n",
       "  (6299882, 0.18281978728519285),\n",
       "  (32924831, 0.18260310249210862),\n",
       "  (32924832, 0.1825986826479746),\n",
       "  (20351079, 0.18210801555375186),\n",
       "  (32426667, 0.18139879725501065),\n",
       "  (31594361, 0.18127096392533737),\n",
       "  (30161496, 0.18121920261858759),\n",
       "  (31594351, 0.18121127605220841),\n",
       "  (32010210, 0.18114155525409589),\n",
       "  (5611481, 0.17997362502147121),\n",
       "  (31093919, 0.17881558509817547),\n",
       "  (20351089, 0.17865463734450654),\n",
       "  (6294529, 0.17819256168270922),\n",
       "  (27031367, 0.1781369090501852),\n",
       "  (28759814, 0.1777208177039768),\n",
       "  (26098280, 0.17771313828112734),\n",
       "  (32010204, 0.17762826994840639),\n",
       "  (33318577, 0.17753585532097907),\n",
       "  (18135134, 0.17680304099333133),\n",
       "  (33318538, 0.17618407787266965),\n",
       "  (33318579, 0.17543297506596806),\n",
       "  (33318601, 0.17529132479159257),\n",
       "  (8336614, 0.1751779834114795),\n",
       "  (19381463, 0.17498896065164909),\n",
       "  (2603855, 0.17498292877550028),\n",
       "  (8761961, 0.17469391938168177),\n",
       "  (32010186, 0.17456845712223867)])"
      ]
     },
     "execution_count": 2,
     "metadata": {},
     "output_type": "execute_result"
    }
   ],
   "source": [
    "test_200 = pickle.load(open('test_200','rb'))\n",
    "test_200[0]"
   ]
  },
  {
   "cell_type": "markdown",
   "metadata": {},
   "source": [
    "## Расчитываем число хопов для кандидатов\n",
    "* Предположительно сначала стоит рекомендовать айтемы из того же или ближайших каталогов"
   ]
  },
  {
   "cell_type": "code",
   "execution_count": 3,
   "metadata": {
    "collapsed": true
   },
   "outputs": [],
   "source": [
    "catalog_paths = pickle.load(open('catalog_paths','rb'))\n",
    "catalog_ids = pickle.load(open('catalog_ids','rb'))"
   ]
  },
  {
   "cell_type": "code",
   "execution_count": 21,
   "metadata": {},
   "outputs": [
    {
     "data": {
      "text/plain": [
       "[1175232]"
      ]
     },
     "execution_count": 21,
     "metadata": {},
     "output_type": "execute_result"
    }
   ],
   "source": [
    "catalog_ids[29616882]"
   ]
  },
  {
   "cell_type": "code",
   "execution_count": 22,
   "metadata": {},
   "outputs": [
    {
     "data": {
      "text/plain": [
       "array([1175232, 1175180, 1159728, 1147991, 1132524], dtype=int64)"
      ]
     },
     "execution_count": 22,
     "metadata": {},
     "output_type": "execute_result"
    }
   ],
   "source": [
    "catalog_paths[1175232]"
   ]
  },
  {
   "cell_type": "code",
   "execution_count": null,
   "metadata": {
    "collapsed": true
   },
   "outputs": [],
   "source": [
    "def closest_path(item_id_1, item_id_2):\n",
    "    try:\n",
    "        catalogs_1 = catalog_ids[item_id_1]\n",
    "        catalogs_2 = catalog_ids[item_id_2]\n",
    "        if len(set(catalogs_1) & set(catalogs_2)) > 0:\n",
    "            return 0\n",
    "        catalog_paths_1 = [catalog_paths[n] for n in catalogs_1]\n",
    "        catalog_paths_2 = [catalog_paths[n] for n in catalogs_2]\n",
    "        all_lengths = []\n",
    "        for path1 in catalog_paths_1:\n",
    "            for path2 in catalog_paths_2:\n",
    "                min_len = min(len(path1), len(path2))\n",
    "                max_len = max(len(path1), len(path2))\n",
    "                num_match = sum(path1[-min_len:] == path2[-min_len:]) # trick\n",
    "                res = (max_len - min_len) + 2 * (min_len - num_match)\n",
    "                if num_match == min_len:\n",
    "                    return res\n",
    "                all_lengths.append(res)\n",
    "        return min(all_lengths)\n",
    "    except:\n",
    "        return -1"
   ]
  },
  {
   "cell_type": "code",
   "execution_count": null,
   "metadata": {
    "collapsed": true
   },
   "outputs": [],
   "source": [
    "def get_hops(recom_ids):\n",
    "    hops = []\n",
    "    for item_id, recoms in recom_ids:\n",
    "        cur_hops = [closest_path(item_id, recom_id) for recom_id in recoms]\n",
    "        hops.append((item_id, cur_hops))\n",
    "    return hops"
   ]
  },
  {
   "cell_type": "code",
   "execution_count": null,
   "metadata": {
    "collapsed": true
   },
   "outputs": [],
   "source": [
    "test_hops = get_hops(recom_ids)"
   ]
  },
  {
   "cell_type": "markdown",
   "metadata": {},
   "source": [
    "## Подбор параметров и сабмит\n",
    "* Товары с высоким рейтингом должны получать плюс к мере сходства\n",
    "* Чем дальше товар по структуре каталогов (или если не найден) тем больше штраф к сходству"
   ]
  },
  {
   "cell_type": "code",
   "execution_count": 27,
   "metadata": {},
   "outputs": [
    {
     "data": {
      "text/plain": [
       "[(3212287, 5.0), (6466220, 5.0), (6291470, 3.0)]"
      ]
     },
     "execution_count": 27,
     "metadata": {},
     "output_type": "execute_result"
    }
   ],
   "source": [
    "ratings = pickle.load(open('ratings','rb'))\n",
    "[t for t in ratings.items()][:3]"
   ]
  },
  {
   "cell_type": "code",
   "execution_count": 4,
   "metadata": {},
   "outputs": [
    {
     "data": {
      "text/plain": [
       "[(28759795,\n",
       "  [0,\n",
       "   0,\n",
       "   -1,\n",
       "   0,\n",
       "   0,\n",
       "   0,\n",
       "   0,\n",
       "   0,\n",
       "   0,\n",
       "   3,\n",
       "   0,\n",
       "   0,\n",
       "   0,\n",
       "   0,\n",
       "   0,\n",
       "   2,\n",
       "   0,\n",
       "   -1,\n",
       "   -1,\n",
       "   0,\n",
       "   2,\n",
       "   0,\n",
       "   -1,\n",
       "   -1,\n",
       "   0,\n",
       "   0,\n",
       "   -1,\n",
       "   0,\n",
       "   0,\n",
       "   2,\n",
       "   0,\n",
       "   0,\n",
       "   0,\n",
       "   -1,\n",
       "   2,\n",
       "   -1,\n",
       "   0,\n",
       "   0,\n",
       "   0,\n",
       "   8,\n",
       "   0,\n",
       "   0,\n",
       "   0,\n",
       "   0,\n",
       "   -1,\n",
       "   -1,\n",
       "   0,\n",
       "   0,\n",
       "   0,\n",
       "   -1,\n",
       "   5,\n",
       "   -1,\n",
       "   -1,\n",
       "   8,\n",
       "   -1,\n",
       "   -1,\n",
       "   0,\n",
       "   2,\n",
       "   2,\n",
       "   0,\n",
       "   2,\n",
       "   9,\n",
       "   0,\n",
       "   7,\n",
       "   0,\n",
       "   0,\n",
       "   2,\n",
       "   0,\n",
       "   -1,\n",
       "   0,\n",
       "   0,\n",
       "   0,\n",
       "   -1,\n",
       "   2,\n",
       "   2,\n",
       "   2,\n",
       "   2,\n",
       "   -1,\n",
       "   9,\n",
       "   0,\n",
       "   -1,\n",
       "   0,\n",
       "   0,\n",
       "   0,\n",
       "   2,\n",
       "   3,\n",
       "   0,\n",
       "   3,\n",
       "   -1,\n",
       "   8,\n",
       "   2,\n",
       "   2,\n",
       "   8,\n",
       "   -1,\n",
       "   0,\n",
       "   0,\n",
       "   -1,\n",
       "   -1,\n",
       "   0,\n",
       "   -1,\n",
       "   2,\n",
       "   0,\n",
       "   -1,\n",
       "   -1,\n",
       "   2,\n",
       "   0,\n",
       "   4,\n",
       "   -1,\n",
       "   0,\n",
       "   7,\n",
       "   -1,\n",
       "   -1,\n",
       "   0,\n",
       "   -1,\n",
       "   -1,\n",
       "   2,\n",
       "   2,\n",
       "   2,\n",
       "   8,\n",
       "   8,\n",
       "   8,\n",
       "   2,\n",
       "   0,\n",
       "   0,\n",
       "   3,\n",
       "   -1,\n",
       "   2,\n",
       "   3,\n",
       "   3,\n",
       "   -1,\n",
       "   -1,\n",
       "   -1,\n",
       "   10,\n",
       "   3,\n",
       "   2,\n",
       "   -1,\n",
       "   2,\n",
       "   0,\n",
       "   -1,\n",
       "   0,\n",
       "   2,\n",
       "   9,\n",
       "   0,\n",
       "   0,\n",
       "   0,\n",
       "   -1,\n",
       "   0,\n",
       "   -1,\n",
       "   0,\n",
       "   3,\n",
       "   0,\n",
       "   -1,\n",
       "   0,\n",
       "   0,\n",
       "   -1,\n",
       "   2,\n",
       "   0,\n",
       "   0,\n",
       "   0,\n",
       "   3,\n",
       "   -1,\n",
       "   -1,\n",
       "   0,\n",
       "   2,\n",
       "   -1,\n",
       "   -1,\n",
       "   -1,\n",
       "   -1,\n",
       "   -1,\n",
       "   0,\n",
       "   0,\n",
       "   4,\n",
       "   4,\n",
       "   2,\n",
       "   4,\n",
       "   4,\n",
       "   6,\n",
       "   8,\n",
       "   3,\n",
       "   0,\n",
       "   3,\n",
       "   2,\n",
       "   -1,\n",
       "   8,\n",
       "   6,\n",
       "   2,\n",
       "   2,\n",
       "   2,\n",
       "   0,\n",
       "   -1,\n",
       "   8,\n",
       "   8,\n",
       "   8,\n",
       "   8,\n",
       "   8,\n",
       "   -1,\n",
       "   2,\n",
       "   -1,\n",
       "   -1,\n",
       "   -1])]"
      ]
     },
     "execution_count": 4,
     "metadata": {},
     "output_type": "execute_result"
    }
   ],
   "source": [
    "test_hops = pickle.load(open('test_200_hops','rb'))\n",
    "test_hops[:1]"
   ]
  },
  {
   "cell_type": "code",
   "execution_count": 33,
   "metadata": {
    "collapsed": true
   },
   "outputs": [],
   "source": [
    "a1 = 3 # коэффициент\n",
    "a2 = 0.33 # оценка с которой начинаются \"хорошие\"\n",
    "b = 0.1 # коффициент\n",
    "def corr_rating(k,v,i,j):\n",
    "    rating = ratings.get(int(k),-1)\n",
    "    hops = test_hops[i][1][j]\n",
    "    if hops == -1:\n",
    "        hops = 7\n",
    "    res = v if rating <= a1 else v * (1 + a2 * (rating * a1 - 1))\n",
    "    res = res if hops == -1 else res * (1 - b * hops)\n",
    "    return res"
   ]
  },
  {
   "cell_type": "code",
   "execution_count": null,
   "metadata": {
    "collapsed": true
   },
   "outputs": [],
   "source": [
    "result = {}\n",
    "for i,predict in enumerate(test_200):\n",
    "    item,recoms = predict\n",
    "    item_id = str(int(item))\n",
    "    result[item_id] = [(str(k), corr_rating(k,v,i,j)) for j,(k,v) in enumerate(recoms) if k!=item]"
   ]
  },
  {
   "cell_type": "code",
   "execution_count": null,
   "metadata": {
    "collapsed": true
   },
   "outputs": [],
   "source": [
    "result_top = {}\n",
    "for item_id,recoms in result.items():\n",
    "    result_top[item_id] = [(v,k) for k,v in sorted([(v,k) for k,v in recoms][:200], reverse=True)]"
   ]
  },
  {
   "cell_type": "code",
   "execution_count": null,
   "metadata": {
    "collapsed": true
   },
   "outputs": [],
   "source": [
    "with open('D:\\\\p2\\\\data\\\\ozon_test.txt','r') as rf:\n",
    "    with open('submit','w') as wf:\n",
    "        for line in rf:\n",
    "            item = json.loads(line).get('item','-1')\n",
    "            recoms = dict(result_top.get(item, []))\n",
    "            wf.write(json.dumps({'item': str(item), 'recoms': recoms}) + '\\n')"
   ]
  },
  {
   "cell_type": "code",
   "execution_count": null,
   "metadata": {
    "collapsed": true
   },
   "outputs": [],
   "source": [
    "!scp submit vb:project02.txt"
   ]
  }
 ],
 "metadata": {
  "kernelspec": {
   "display_name": "Python 3",
   "language": "python",
   "name": "python3"
  },
  "language_info": {
   "codemirror_mode": {
    "name": "ipython",
    "version": 3
   },
   "file_extension": ".py",
   "mimetype": "text/x-python",
   "name": "python",
   "nbconvert_exporter": "python",
   "pygments_lexer": "ipython3",
   "version": "3.6.5"
  }
 },
 "nbformat": 4,
 "nbformat_minor": 2
}
