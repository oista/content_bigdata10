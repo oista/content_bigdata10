{
 "cells": [
  {
   "cell_type": "markdown",
   "metadata": {},
   "source": [
    "<img width=\"50px\" align=\"left\" style=\"margin-right:20px\" src=\"http://data.newprolab.com/public-newprolab-com/npl_logo.png\"> <b>New Professions Lab</b> <br /> Специалист по большим данным"
   ]
  },
  {
   "cell_type": "markdown",
   "metadata": {},
   "source": [
    "# Решение проекта 1"
   ]
  },
  {
   "cell_type": "markdown",
   "metadata": {},
   "source": [
    "# Спрогнозировать пол и возрастную категорию интернет-пользователей по логу посещения сайтов"
   ]
  },
  {
   "cell_type": "markdown",
   "metadata": {},
   "source": [
    "<img width=\"110px\" align=\"left\" src=\"http://data.newprolab.com/public-newprolab-com/project01_img0.png?img\">"
   ]
  },
  {
   "cell_type": "markdown",
   "metadata": {},
   "source": [
    "Одна из задач DMP-системы состоит в том, чтобы по разрозненным даннным, таким, как посещения неким пользователем сайтов, классифицировать его и присвоить ему определённую категорию: пол, возраст, интересы и так далее. В дальнейшем составляется портрет, или профиль, пользователя, на основе которого ему более таргетированно показывается реклама в интернете."
   ]
  },
  {
   "cell_type": "markdown",
   "metadata": {},
   "source": [
    "### Задача"
   ]
  },
  {
   "cell_type": "markdown",
   "metadata": {},
   "source": [
    "Используя доступный набор данных о посещении страниц у одной части пользователей, сделать прогноз относительно **пола и возрастной категории** другой части пользователей. Угадывание (hit) - правильное предсказание и пола, и возрастной категории одновременно.\n"
   ]
  },
  {
   "cell_type": "code",
   "execution_count": 85,
   "metadata": {},
   "outputs": [],
   "source": [
    "import numpy as np\n",
    "import matplotlib.pyplot as plt\n",
    "import pandas as pd\n",
    "import re\n",
    "import os, sys\n",
    "import json\n",
    "from urllib.parse import urlparse\n",
    "from urllib.request import urlretrieve, unquote"
   ]
  },
  {
   "cell_type": "markdown",
   "metadata": {},
   "source": [
    "### Обработка данных на вход"
   ]
  },
  {
   "cell_type": "markdown",
   "metadata": {},
   "source": [
    "Загрузим весь датасет в pandas:"
   ]
  },
  {
   "cell_type": "code",
   "execution_count": 86,
   "metadata": {},
   "outputs": [],
   "source": [
    "data_dir = '/data/share/project01'\n",
    "filename = 'gender_age_dataset.txt'\n",
    "file_path = '/'.join([data_dir,filename])\n",
    "df = pd.read_csv(file_path, sep='\\t')"
   ]
  },
  {
   "cell_type": "markdown",
   "metadata": {},
   "source": [
    "И теперь попробуем понять, что у нас есть:"
   ]
  },
  {
   "cell_type": "code",
   "execution_count": 59,
   "metadata": {
    "scrolled": true
   },
   "outputs": [
    {
     "data": {
      "text/html": [
       "<div>\n",
       "<style scoped>\n",
       "    .dataframe tbody tr th:only-of-type {\n",
       "        vertical-align: middle;\n",
       "    }\n",
       "\n",
       "    .dataframe tbody tr th {\n",
       "        vertical-align: top;\n",
       "    }\n",
       "\n",
       "    .dataframe thead th {\n",
       "        text-align: right;\n",
       "    }\n",
       "</style>\n",
       "<table border=\"1\" class=\"dataframe\">\n",
       "  <thead>\n",
       "    <tr style=\"text-align: right;\">\n",
       "      <th></th>\n",
       "      <th>gender</th>\n",
       "      <th>age</th>\n",
       "      <th>uid</th>\n",
       "      <th>user_json</th>\n",
       "    </tr>\n",
       "  </thead>\n",
       "  <tbody>\n",
       "    <tr>\n",
       "      <th>0</th>\n",
       "      <td>F</td>\n",
       "      <td>18-24</td>\n",
       "      <td>d50192e5-c44e-4ae8-ae7a-7cfe67c8b777</td>\n",
       "      <td>{\"visits\": [{\"url\": \"http://zebra-zoya.ru/2000...</td>\n",
       "    </tr>\n",
       "    <tr>\n",
       "      <th>1</th>\n",
       "      <td>M</td>\n",
       "      <td>25-34</td>\n",
       "      <td>d502331d-621e-4721-ada2-5d30b2c3801f</td>\n",
       "      <td>{\"visits\": [{\"url\": \"http://sweetrading.ru/?p=...</td>\n",
       "    </tr>\n",
       "    <tr>\n",
       "      <th>2</th>\n",
       "      <td>F</td>\n",
       "      <td>25-34</td>\n",
       "      <td>d50237ea-747e-48a2-ba46-d08e71dddfdb</td>\n",
       "      <td>{\"visits\": [{\"url\": \"http://ru.oriflame.com/pr...</td>\n",
       "    </tr>\n",
       "    <tr>\n",
       "      <th>3</th>\n",
       "      <td>F</td>\n",
       "      <td>25-34</td>\n",
       "      <td>d502f29f-d57a-46bf-8703-1cb5f8dcdf03</td>\n",
       "      <td>{\"visits\": [{\"url\": \"http://translate-tattoo.r...</td>\n",
       "    </tr>\n",
       "    <tr>\n",
       "      <th>4</th>\n",
       "      <td>M</td>\n",
       "      <td>&gt;=55</td>\n",
       "      <td>d503c3b2-a0c2-4f47-bb27-065058c73008</td>\n",
       "      <td>{\"visits\": [{\"url\": \"https://mail.rambler.ru/#...</td>\n",
       "    </tr>\n",
       "  </tbody>\n",
       "</table>\n",
       "</div>"
      ],
      "text/plain": [
       "  gender    age                                   uid  \\\n",
       "0      F  18-24  d50192e5-c44e-4ae8-ae7a-7cfe67c8b777   \n",
       "1      M  25-34  d502331d-621e-4721-ada2-5d30b2c3801f   \n",
       "2      F  25-34  d50237ea-747e-48a2-ba46-d08e71dddfdb   \n",
       "3      F  25-34  d502f29f-d57a-46bf-8703-1cb5f8dcdf03   \n",
       "4      M   >=55  d503c3b2-a0c2-4f47-bb27-065058c73008   \n",
       "\n",
       "                                           user_json  \n",
       "0  {\"visits\": [{\"url\": \"http://zebra-zoya.ru/2000...  \n",
       "1  {\"visits\": [{\"url\": \"http://sweetrading.ru/?p=...  \n",
       "2  {\"visits\": [{\"url\": \"http://ru.oriflame.com/pr...  \n",
       "3  {\"visits\": [{\"url\": \"http://translate-tattoo.r...  \n",
       "4  {\"visits\": [{\"url\": \"https://mail.rambler.ru/#...  "
      ]
     },
     "execution_count": 59,
     "metadata": {},
     "output_type": "execute_result"
    }
   ],
   "source": [
    "df.head()"
   ]
  },
  {
   "cell_type": "markdown",
   "metadata": {},
   "source": [
    "Скомбинируем пол и возраст вединую категорию"
   ]
  },
  {
   "cell_type": "code",
   "execution_count": 87,
   "metadata": {},
   "outputs": [
    {
     "data": {
      "text/plain": [
       "array(['F18-24', 'M25-34', 'F25-34', 'M>=55', 'F45-54', 'F35-44',\n",
       "       'M35-44', 'F>=55', 'M18-24', 'M45-54', '--'], dtype=object)"
      ]
     },
     "execution_count": 87,
     "metadata": {},
     "output_type": "execute_result"
    }
   ],
   "source": [
    "df['target'] = df[['gender','age']].apply(lambda x: x['gender']+x['age'], axis=1)\n",
    "df['target'].unique()"
   ]
  },
  {
   "cell_type": "markdown",
   "metadata": {},
   "source": [
    "Что содержится в `user_json`?"
   ]
  },
  {
   "cell_type": "code",
   "execution_count": 88,
   "metadata": {},
   "outputs": [
    {
     "data": {
      "text/plain": [
       "'{\"visits\": [{\"url\": \"http://zebra-zoya.ru/200028-chehol-organayzer-dlja-macbook-11-grid-it.html?utm_campaign=397720794&utm_content=397729344&utm_medium=cpc&utm_source=begun\", \"timestamp\": 1419688144068}, {\"url\": \"http://news.yandex.ru/yandsearch?cl4url=chezasite.com/htc/htc-one-m9-delay-86327.html&lr=213&rpt=story\", \"timestamp\": 1426666298001}, {\"url\": \"http://www.sotovik.ru/news/240283-htc-one-m9-zaderzhivaetsja.html\", \"timestamp\": 1426666298000}, {\"url\": \"http://news.yandex.ru/yandsearch?cl4url=chezasite.com/htc/htc-one-m9-delay-86327.html&lr=213&rpt=story\", \"timestamp\": 1426661722001}, {\"url\": \"http://www.sotovik.ru/news/240283-htc-one-m9-zaderzhivaetsja.html\", \"timestamp\": 1426661722000}]}'"
      ]
     },
     "execution_count": 88,
     "metadata": {},
     "output_type": "execute_result"
    }
   ],
   "source": [
    "df.iloc[0].user_json"
   ]
  },
  {
   "cell_type": "markdown",
   "metadata": {},
   "source": [
    "Видим, что это некая сериализованная json-строка, которую можно легко разобрать через модуль `json`:"
   ]
  },
  {
   "cell_type": "code",
   "execution_count": 89,
   "metadata": {
    "scrolled": true
   },
   "outputs": [
    {
     "data": {
      "text/plain": [
       "{'visits': [{'url': 'http://zebra-zoya.ru/200028-chehol-organayzer-dlja-macbook-11-grid-it.html?utm_campaign=397720794&utm_content=397729344&utm_medium=cpc&utm_source=begun',\n",
       "   'timestamp': 1419688144068},\n",
       "  {'url': 'http://news.yandex.ru/yandsearch?cl4url=chezasite.com/htc/htc-one-m9-delay-86327.html&lr=213&rpt=story',\n",
       "   'timestamp': 1426666298001},\n",
       "  {'url': 'http://www.sotovik.ru/news/240283-htc-one-m9-zaderzhivaetsja.html',\n",
       "   'timestamp': 1426666298000},\n",
       "  {'url': 'http://news.yandex.ru/yandsearch?cl4url=chezasite.com/htc/htc-one-m9-delay-86327.html&lr=213&rpt=story',\n",
       "   'timestamp': 1426661722001},\n",
       "  {'url': 'http://www.sotovik.ru/news/240283-htc-one-m9-zaderzhivaetsja.html',\n",
       "   'timestamp': 1426661722000}]}"
      ]
     },
     "execution_count": 89,
     "metadata": {},
     "output_type": "execute_result"
    }
   ],
   "source": [
    "j = json.loads(df.iloc[0].user_json)\n",
    "j"
   ]
  },
  {
   "cell_type": "markdown",
   "metadata": {},
   "source": [
    "### Очистка данных и feature engineering"
   ]
  },
  {
   "cell_type": "markdown",
   "metadata": {},
   "source": [
    "Одна из первых вещей, которые можно попробовать — это вытащить домены и использовать их в качестве признаков. Можно воспользоваться функцией:"
   ]
  },
  {
   "cell_type": "code",
   "execution_count": 90,
   "metadata": {},
   "outputs": [],
   "source": [
    "def url2domain(url):\n",
    "    url = re.sub('(http(s)*://)+', 'http://', url)\n",
    "    parsed_url = urlparse(unquote(url.strip()))\n",
    "    if parsed_url.scheme not in ['http','https']: return None\n",
    "    netloc = re.search(\"(?:www\\.)?(.*)\", parsed_url.netloc).group(1)\n",
    "    #if netloc is not None: return str(netloc.encode('utf8')).strip()\n",
    "    if netloc is not None: return str(netloc.strip())\n",
    "    return None"
   ]
  },
  {
   "cell_type": "code",
   "execution_count": 91,
   "metadata": {},
   "outputs": [],
   "source": [
    "def get_domains(j):\n",
    "    return \" \".join([url2domain(d['url']) for d in json.loads(j)['visits'] ])"
   ]
  },
  {
   "cell_type": "code",
   "execution_count": 92,
   "metadata": {},
   "outputs": [
    {
     "data": {
      "text/plain": [
       "0    zebra-zoya.ru news.yandex.ru sotovik.ru news.y...\n",
       "1    sweetrading.ru sweetrading.ru sweetrading.ru 1...\n",
       "2    ru.oriflame.com ru.oriflame.com ru.oriflame.co...\n",
       "3    translate-tattoo.ru nadietah.ru 1obl.ru 1obl.r...\n",
       "4    mail.rambler.ru news.rambler.ru mail.rambler.r...\n",
       "Name: user_json, dtype: object"
      ]
     },
     "execution_count": 92,
     "metadata": {},
     "output_type": "execute_result"
    }
   ],
   "source": [
    "df['user_json'].head().apply(get_domains, 0)"
   ]
  },
  {
   "cell_type": "code",
   "execution_count": 93,
   "metadata": {},
   "outputs": [
    {
     "name": "stdout",
     "output_type": "stream",
     "text": [
      "CPU times: user 1min 11s, sys: 224 ms, total: 1min 11s\n",
      "Wall time: 1min 11s\n"
     ]
    }
   ],
   "source": [
    "%%time\n",
    "df['urls'] = df['user_json'].apply(get_domains, 0)"
   ]
  },
  {
   "cell_type": "markdown",
   "metadata": {},
   "source": [
    "### Деление на train и test сеты, обучение модели, предсказания для test-сета"
   ]
  },
  {
   "cell_type": "markdown",
   "metadata": {},
   "source": [
    "Давайте теперь оценим размер нашего train и test сетов. Train set:"
   ]
  },
  {
   "cell_type": "code",
   "execution_count": 94,
   "metadata": {},
   "outputs": [
    {
     "data": {
      "text/plain": [
       "36138"
      ]
     },
     "execution_count": 94,
     "metadata": {},
     "output_type": "execute_result"
    }
   ],
   "source": [
    "len(df[~((df.gender == '-') & (df.age == '-'))])"
   ]
  },
  {
   "cell_type": "markdown",
   "metadata": {},
   "source": [
    "Test set:"
   ]
  },
  {
   "cell_type": "code",
   "execution_count": 95,
   "metadata": {},
   "outputs": [
    {
     "data": {
      "text/plain": [
       "5000"
      ]
     },
     "execution_count": 95,
     "metadata": {},
     "output_type": "execute_result"
    }
   ],
   "source": [
    "len(df[(df.gender == '-') & (df.age == '-')])"
   ]
  },
  {
   "cell_type": "code",
   "execution_count": 69,
   "metadata": {
    "scrolled": true
   },
   "outputs": [
    {
     "data": {
      "text/plain": [
       "41138"
      ]
     },
     "execution_count": 69,
     "metadata": {},
     "output_type": "execute_result"
    }
   ],
   "source": [
    "len(df) # Весь датасет"
   ]
  },
  {
   "cell_type": "code",
   "execution_count": 96,
   "metadata": {},
   "outputs": [],
   "source": [
    "df_train = df[~((df.gender == '-') & (df.age == '-'))]\n",
    "df_test = df[(df.gender == '-') & (df.age == '-')]"
   ]
  },
  {
   "cell_type": "code",
   "execution_count": 97,
   "metadata": {
    "scrolled": true
   },
   "outputs": [
    {
     "data": {
      "text/html": [
       "<div>\n",
       "<style scoped>\n",
       "    .dataframe tbody tr th:only-of-type {\n",
       "        vertical-align: middle;\n",
       "    }\n",
       "\n",
       "    .dataframe tbody tr th {\n",
       "        vertical-align: top;\n",
       "    }\n",
       "\n",
       "    .dataframe thead th {\n",
       "        text-align: right;\n",
       "    }\n",
       "</style>\n",
       "<table border=\"1\" class=\"dataframe\">\n",
       "  <thead>\n",
       "    <tr style=\"text-align: right;\">\n",
       "      <th></th>\n",
       "      <th>gender</th>\n",
       "      <th>age</th>\n",
       "      <th>uid</th>\n",
       "      <th>user_json</th>\n",
       "      <th>target</th>\n",
       "      <th>urls</th>\n",
       "    </tr>\n",
       "  </thead>\n",
       "  <tbody>\n",
       "    <tr>\n",
       "      <th>0</th>\n",
       "      <td>F</td>\n",
       "      <td>18-24</td>\n",
       "      <td>d50192e5-c44e-4ae8-ae7a-7cfe67c8b777</td>\n",
       "      <td>{\"visits\": [{\"url\": \"http://zebra-zoya.ru/2000...</td>\n",
       "      <td>F18-24</td>\n",
       "      <td>zebra-zoya.ru news.yandex.ru sotovik.ru news.y...</td>\n",
       "    </tr>\n",
       "    <tr>\n",
       "      <th>1</th>\n",
       "      <td>M</td>\n",
       "      <td>25-34</td>\n",
       "      <td>d502331d-621e-4721-ada2-5d30b2c3801f</td>\n",
       "      <td>{\"visits\": [{\"url\": \"http://sweetrading.ru/?p=...</td>\n",
       "      <td>M25-34</td>\n",
       "      <td>sweetrading.ru sweetrading.ru sweetrading.ru 1...</td>\n",
       "    </tr>\n",
       "    <tr>\n",
       "      <th>2</th>\n",
       "      <td>F</td>\n",
       "      <td>25-34</td>\n",
       "      <td>d50237ea-747e-48a2-ba46-d08e71dddfdb</td>\n",
       "      <td>{\"visits\": [{\"url\": \"http://ru.oriflame.com/pr...</td>\n",
       "      <td>F25-34</td>\n",
       "      <td>ru.oriflame.com ru.oriflame.com ru.oriflame.co...</td>\n",
       "    </tr>\n",
       "    <tr>\n",
       "      <th>3</th>\n",
       "      <td>F</td>\n",
       "      <td>25-34</td>\n",
       "      <td>d502f29f-d57a-46bf-8703-1cb5f8dcdf03</td>\n",
       "      <td>{\"visits\": [{\"url\": \"http://translate-tattoo.r...</td>\n",
       "      <td>F25-34</td>\n",
       "      <td>translate-tattoo.ru nadietah.ru 1obl.ru 1obl.r...</td>\n",
       "    </tr>\n",
       "    <tr>\n",
       "      <th>4</th>\n",
       "      <td>M</td>\n",
       "      <td>&gt;=55</td>\n",
       "      <td>d503c3b2-a0c2-4f47-bb27-065058c73008</td>\n",
       "      <td>{\"visits\": [{\"url\": \"https://mail.rambler.ru/#...</td>\n",
       "      <td>M&gt;=55</td>\n",
       "      <td>mail.rambler.ru news.rambler.ru mail.rambler.r...</td>\n",
       "    </tr>\n",
       "  </tbody>\n",
       "</table>\n",
       "</div>"
      ],
      "text/plain": [
       "  gender    age                                   uid  \\\n",
       "0      F  18-24  d50192e5-c44e-4ae8-ae7a-7cfe67c8b777   \n",
       "1      M  25-34  d502331d-621e-4721-ada2-5d30b2c3801f   \n",
       "2      F  25-34  d50237ea-747e-48a2-ba46-d08e71dddfdb   \n",
       "3      F  25-34  d502f29f-d57a-46bf-8703-1cb5f8dcdf03   \n",
       "4      M   >=55  d503c3b2-a0c2-4f47-bb27-065058c73008   \n",
       "\n",
       "                                           user_json  target  \\\n",
       "0  {\"visits\": [{\"url\": \"http://zebra-zoya.ru/2000...  F18-24   \n",
       "1  {\"visits\": [{\"url\": \"http://sweetrading.ru/?p=...  M25-34   \n",
       "2  {\"visits\": [{\"url\": \"http://ru.oriflame.com/pr...  F25-34   \n",
       "3  {\"visits\": [{\"url\": \"http://translate-tattoo.r...  F25-34   \n",
       "4  {\"visits\": [{\"url\": \"https://mail.rambler.ru/#...   M>=55   \n",
       "\n",
       "                                                urls  \n",
       "0  zebra-zoya.ru news.yandex.ru sotovik.ru news.y...  \n",
       "1  sweetrading.ru sweetrading.ru sweetrading.ru 1...  \n",
       "2  ru.oriflame.com ru.oriflame.com ru.oriflame.co...  \n",
       "3  translate-tattoo.ru nadietah.ru 1obl.ru 1obl.r...  \n",
       "4  mail.rambler.ru news.rambler.ru mail.rambler.r...  "
      ]
     },
     "execution_count": 97,
     "metadata": {},
     "output_type": "execute_result"
    }
   ],
   "source": [
    "df_train.head()"
   ]
  },
  {
   "cell_type": "code",
   "execution_count": 98,
   "metadata": {},
   "outputs": [
    {
     "data": {
      "text/html": [
       "<div>\n",
       "<style scoped>\n",
       "    .dataframe tbody tr th:only-of-type {\n",
       "        vertical-align: middle;\n",
       "    }\n",
       "\n",
       "    .dataframe tbody tr th {\n",
       "        vertical-align: top;\n",
       "    }\n",
       "\n",
       "    .dataframe thead th {\n",
       "        text-align: right;\n",
       "    }\n",
       "</style>\n",
       "<table border=\"1\" class=\"dataframe\">\n",
       "  <thead>\n",
       "    <tr style=\"text-align: right;\">\n",
       "      <th></th>\n",
       "      <th>gender</th>\n",
       "      <th>age</th>\n",
       "      <th>uid</th>\n",
       "      <th>user_json</th>\n",
       "      <th>target</th>\n",
       "      <th>urls</th>\n",
       "    </tr>\n",
       "  </thead>\n",
       "  <tbody>\n",
       "    <tr>\n",
       "      <th>36138</th>\n",
       "      <td>-</td>\n",
       "      <td>-</td>\n",
       "      <td>bd7a30e1-a25d-4cbf-a03f-61748cbe540e</td>\n",
       "      <td>{\"visits\": [{\"url\": \"http://www.interfax.ru/bu...</td>\n",
       "      <td>--</td>\n",
       "      <td>interfax.ru amerikan-gruzovik.ru amerikan-gruz...</td>\n",
       "    </tr>\n",
       "    <tr>\n",
       "      <th>36139</th>\n",
       "      <td>-</td>\n",
       "      <td>-</td>\n",
       "      <td>bd7a6f52-45db-49bf-90f2-a3b07a9b7bcd</td>\n",
       "      <td>{\"visits\": [{\"url\": \"https://www.packagetrackr...</td>\n",
       "      <td>--</td>\n",
       "      <td>packagetrackr.com packagetrackr.com packagetra...</td>\n",
       "    </tr>\n",
       "    <tr>\n",
       "      <th>36140</th>\n",
       "      <td>-</td>\n",
       "      <td>-</td>\n",
       "      <td>bd7a7fd9-ab06-42f5-bf0f-1cbb0463004c</td>\n",
       "      <td>{\"visits\": [{\"url\": \"http://www.mk.ru/incident...</td>\n",
       "      <td>--</td>\n",
       "      <td>mk.ru mk.ru mk.ru m.news.yandex.ru</td>\n",
       "    </tr>\n",
       "    <tr>\n",
       "      <th>36141</th>\n",
       "      <td>-</td>\n",
       "      <td>-</td>\n",
       "      <td>bd7c5d7a-0def-41d1-895f-fdb96c56c2d4</td>\n",
       "      <td>{\"visits\": [{\"url\": \"http://www.24open.ru/user...</td>\n",
       "      <td>--</td>\n",
       "      <td>24open.ru ohotniki.ru ohotniki.ru google.ru oh...</td>\n",
       "    </tr>\n",
       "    <tr>\n",
       "      <th>36142</th>\n",
       "      <td>-</td>\n",
       "      <td>-</td>\n",
       "      <td>bd7e54a2-0215-45cb-a869-9efebf250e38</td>\n",
       "      <td>{\"visits\": [{\"url\": \"http://www.dns-shop.ru/ca...</td>\n",
       "      <td>--</td>\n",
       "      <td>dns-shop.ru easyhelp.ru primpogoda.ru primpogo...</td>\n",
       "    </tr>\n",
       "  </tbody>\n",
       "</table>\n",
       "</div>"
      ],
      "text/plain": [
       "      gender age                                   uid  \\\n",
       "36138      -   -  bd7a30e1-a25d-4cbf-a03f-61748cbe540e   \n",
       "36139      -   -  bd7a6f52-45db-49bf-90f2-a3b07a9b7bcd   \n",
       "36140      -   -  bd7a7fd9-ab06-42f5-bf0f-1cbb0463004c   \n",
       "36141      -   -  bd7c5d7a-0def-41d1-895f-fdb96c56c2d4   \n",
       "36142      -   -  bd7e54a2-0215-45cb-a869-9efebf250e38   \n",
       "\n",
       "                                               user_json target  \\\n",
       "36138  {\"visits\": [{\"url\": \"http://www.interfax.ru/bu...     --   \n",
       "36139  {\"visits\": [{\"url\": \"https://www.packagetrackr...     --   \n",
       "36140  {\"visits\": [{\"url\": \"http://www.mk.ru/incident...     --   \n",
       "36141  {\"visits\": [{\"url\": \"http://www.24open.ru/user...     --   \n",
       "36142  {\"visits\": [{\"url\": \"http://www.dns-shop.ru/ca...     --   \n",
       "\n",
       "                                                    urls  \n",
       "36138  interfax.ru amerikan-gruzovik.ru amerikan-gruz...  \n",
       "36139  packagetrackr.com packagetrackr.com packagetra...  \n",
       "36140                 mk.ru mk.ru mk.ru m.news.yandex.ru  \n",
       "36141  24open.ru ohotniki.ru ohotniki.ru google.ru oh...  \n",
       "36142  dns-shop.ru easyhelp.ru primpogoda.ru primpogo...  "
      ]
     },
     "execution_count": 98,
     "metadata": {},
     "output_type": "execute_result"
    }
   ],
   "source": [
    "df_test.head()"
   ]
  },
  {
   "cell_type": "markdown",
   "metadata": {},
   "source": [
    "### TFIdf"
   ]
  },
  {
   "cell_type": "markdown",
   "metadata": {},
   "source": [
    "Воспользуемся известной нам моделью. По умолчанию, встроенный токенайзер разобьет нам домены по точке, поэтому даем модели опцию, которая описывает регулярным выражением, как выделять токены. В нашем случае, токены - все что не пробелы.\n",
    "Вторая опция позволяет не считать число посещений каждого сайта, а просто выставлять флаг 1, если сайт был посещен. Она сработала лучше, чем дефолтная False."
   ]
  },
  {
   "cell_type": "code",
   "execution_count": 99,
   "metadata": {},
   "outputs": [],
   "source": [
    "from sklearn.feature_extraction.text import TfidfVectorizer\n",
    "\n",
    "tfidf = TfidfVectorizer(\n",
    "    token_pattern = '\\S+',\n",
    "    binary=True,\n",
    ")"
   ]
  },
  {
   "cell_type": "markdown",
   "metadata": {},
   "source": [
    "Мы пока только объявили модель, но не обучили. "
   ]
  },
  {
   "cell_type": "markdown",
   "metadata": {},
   "source": [
    "### Naive Bayes"
   ]
  },
  {
   "cell_type": "markdown",
   "metadata": {},
   "source": [
    "Наивный баейсовский классификатор хорошо зарекомендовал себя в спам-фильтрах. Мы используем многоклассовую его версию. В качестве добавочного бенефита - он работает гораздо быстрее логистической регрессии."
   ]
  },
  {
   "cell_type": "code",
   "execution_count": 100,
   "metadata": {},
   "outputs": [],
   "source": [
    "from sklearn.naive_bayes import MultinomialNB"
   ]
  },
  {
   "cell_type": "code",
   "execution_count": 101,
   "metadata": {},
   "outputs": [],
   "source": [
    "nb = MultinomialNB()"
   ]
  },
  {
   "cell_type": "markdown",
   "metadata": {},
   "source": [
    "## Pipeline"
   ]
  },
  {
   "cell_type": "markdown",
   "metadata": {},
   "source": [
    "Pipeline позволет нам построить сложную модель, состоящую из нескольких шагов-преобразований данных и использовать ее как простую. Разберите примеры из документации этого класса \n",
    "http://scikit-learn.org/stable/modules/generated/sklearn.pipeline.Pipeline.html\n",
    "а так же кернел на Kaggle для каких-то продвинутых трюков\n",
    "https://www.kaggle.com/metadist/work-like-a-pro-with-pipelines-and-feature-unions"
   ]
  },
  {
   "cell_type": "markdown",
   "metadata": {},
   "source": [
    "Определяем пайплайн"
   ]
  },
  {
   "cell_type": "code",
   "execution_count": 102,
   "metadata": {},
   "outputs": [],
   "source": [
    "from sklearn.pipeline import Pipeline\n",
    "\n",
    "model = Pipeline([\n",
    "    ('tfdif', tfidf),\n",
    "    ('nb', nb),\n",
    "])"
   ]
  },
  {
   "cell_type": "markdown",
   "metadata": {},
   "source": [
    "Обучаем эту составную модель"
   ]
  },
  {
   "cell_type": "code",
   "execution_count": 103,
   "metadata": {
    "scrolled": true
   },
   "outputs": [
    {
     "data": {
      "text/plain": [
       "Pipeline(memory=None,\n",
       "     steps=[('tfdif', TfidfVectorizer(analyzer='word', binary=True, decode_error='strict',\n",
       "        dtype=<class 'numpy.int64'>, encoding='utf-8', input='content',\n",
       "        lowercase=True, max_df=1.0, max_features=None, min_df=1,\n",
       "        ngram_range=(1, 1), norm='l2', preprocessor=None, smooth_idf=True,\n",
       "  ...True,\n",
       "        vocabulary=None)), ('nb', MultinomialNB(alpha=1.0, class_prior=None, fit_prior=True))])"
      ]
     },
     "execution_count": 103,
     "metadata": {},
     "output_type": "execute_result"
    }
   ],
   "source": [
    "model.fit(df_train['urls'],df_train['target'])"
   ]
  },
  {
   "cell_type": "code",
   "execution_count": 104,
   "metadata": {},
   "outputs": [],
   "source": [
    "pred = model.predict(df_test['urls'])"
   ]
  },
  {
   "cell_type": "code",
   "execution_count": 105,
   "metadata": {},
   "outputs": [
    {
     "name": "stderr",
     "output_type": "stream",
     "text": [
      "/opt/anaconda/envs/bd9/lib/python3.6/site-packages/ipykernel_launcher.py:1: SettingWithCopyWarning: \n",
      "A value is trying to be set on a copy of a slice from a DataFrame.\n",
      "Try using .loc[row_indexer,col_indexer] = value instead\n",
      "\n",
      "See the caveats in the documentation: http://pandas.pydata.org/pandas-docs/stable/indexing.html#indexing-view-versus-copy\n",
      "  \"\"\"Entry point for launching an IPython kernel.\n"
     ]
    }
   ],
   "source": [
    "df_test['gender'] = [s[:1] for s in pred]"
   ]
  },
  {
   "cell_type": "code",
   "execution_count": 106,
   "metadata": {
    "scrolled": true
   },
   "outputs": [
    {
     "name": "stderr",
     "output_type": "stream",
     "text": [
      "/opt/anaconda/envs/bd9/lib/python3.6/site-packages/ipykernel_launcher.py:1: SettingWithCopyWarning: \n",
      "A value is trying to be set on a copy of a slice from a DataFrame.\n",
      "Try using .loc[row_indexer,col_indexer] = value instead\n",
      "\n",
      "See the caveats in the documentation: http://pandas.pydata.org/pandas-docs/stable/indexing.html#indexing-view-versus-copy\n",
      "  \"\"\"Entry point for launching an IPython kernel.\n"
     ]
    }
   ],
   "source": [
    "df_test['age'] = [s[1:] for s in pred]"
   ]
  },
  {
   "cell_type": "code",
   "execution_count": 81,
   "metadata": {},
   "outputs": [
    {
     "data": {
      "text/plain": [
       "36138    25-34\n",
       "36139    25-34\n",
       "36140    25-34\n",
       "36141    25-34\n",
       "36142    25-34\n",
       "Name: age, dtype: object"
      ]
     },
     "execution_count": 81,
     "metadata": {},
     "output_type": "execute_result"
    }
   ],
   "source": [
    "df_test['age'].head()"
   ]
  },
  {
   "cell_type": "code",
   "execution_count": 107,
   "metadata": {},
   "outputs": [
    {
     "data": {
      "text/html": [
       "<div>\n",
       "<style scoped>\n",
       "    .dataframe tbody tr th:only-of-type {\n",
       "        vertical-align: middle;\n",
       "    }\n",
       "\n",
       "    .dataframe tbody tr th {\n",
       "        vertical-align: top;\n",
       "    }\n",
       "\n",
       "    .dataframe thead th {\n",
       "        text-align: right;\n",
       "    }\n",
       "</style>\n",
       "<table border=\"1\" class=\"dataframe\">\n",
       "  <thead>\n",
       "    <tr style=\"text-align: right;\">\n",
       "      <th></th>\n",
       "      <th>gender</th>\n",
       "      <th>age</th>\n",
       "      <th>uid</th>\n",
       "      <th>user_json</th>\n",
       "      <th>target</th>\n",
       "      <th>urls</th>\n",
       "    </tr>\n",
       "  </thead>\n",
       "  <tbody>\n",
       "    <tr>\n",
       "      <th>36138</th>\n",
       "      <td>M</td>\n",
       "      <td>25-34</td>\n",
       "      <td>bd7a30e1-a25d-4cbf-a03f-61748cbe540e</td>\n",
       "      <td>{\"visits\": [{\"url\": \"http://www.interfax.ru/bu...</td>\n",
       "      <td>--</td>\n",
       "      <td>interfax.ru amerikan-gruzovik.ru amerikan-gruz...</td>\n",
       "    </tr>\n",
       "    <tr>\n",
       "      <th>36139</th>\n",
       "      <td>M</td>\n",
       "      <td>25-34</td>\n",
       "      <td>bd7a6f52-45db-49bf-90f2-a3b07a9b7bcd</td>\n",
       "      <td>{\"visits\": [{\"url\": \"https://www.packagetrackr...</td>\n",
       "      <td>--</td>\n",
       "      <td>packagetrackr.com packagetrackr.com packagetra...</td>\n",
       "    </tr>\n",
       "    <tr>\n",
       "      <th>36140</th>\n",
       "      <td>M</td>\n",
       "      <td>25-34</td>\n",
       "      <td>bd7a7fd9-ab06-42f5-bf0f-1cbb0463004c</td>\n",
       "      <td>{\"visits\": [{\"url\": \"http://www.mk.ru/incident...</td>\n",
       "      <td>--</td>\n",
       "      <td>mk.ru mk.ru mk.ru m.news.yandex.ru</td>\n",
       "    </tr>\n",
       "    <tr>\n",
       "      <th>36141</th>\n",
       "      <td>M</td>\n",
       "      <td>25-34</td>\n",
       "      <td>bd7c5d7a-0def-41d1-895f-fdb96c56c2d4</td>\n",
       "      <td>{\"visits\": [{\"url\": \"http://www.24open.ru/user...</td>\n",
       "      <td>--</td>\n",
       "      <td>24open.ru ohotniki.ru ohotniki.ru google.ru oh...</td>\n",
       "    </tr>\n",
       "    <tr>\n",
       "      <th>36142</th>\n",
       "      <td>M</td>\n",
       "      <td>25-34</td>\n",
       "      <td>bd7e54a2-0215-45cb-a869-9efebf250e38</td>\n",
       "      <td>{\"visits\": [{\"url\": \"http://www.dns-shop.ru/ca...</td>\n",
       "      <td>--</td>\n",
       "      <td>dns-shop.ru easyhelp.ru primpogoda.ru primpogo...</td>\n",
       "    </tr>\n",
       "    <tr>\n",
       "      <th>36143</th>\n",
       "      <td>M</td>\n",
       "      <td>35-44</td>\n",
       "      <td>bd7e9797-4cdb-46e1-a540-f3ea010605ad</td>\n",
       "      <td>{\"visits\": [{\"url\": \"http://news.meta.ua/clust...</td>\n",
       "      <td>--</td>\n",
       "      <td>news.meta.ua</td>\n",
       "    </tr>\n",
       "    <tr>\n",
       "      <th>36144</th>\n",
       "      <td>M</td>\n",
       "      <td>25-34</td>\n",
       "      <td>bd7e9ec7-fb67-45eb-8ad3-209d01d15ae6</td>\n",
       "      <td>{\"visits\": [{\"url\": \"http://dynamobryansk.foru...</td>\n",
       "      <td>--</td>\n",
       "      <td>dynamobryansk.forum24.ru</td>\n",
       "    </tr>\n",
       "    <tr>\n",
       "      <th>36145</th>\n",
       "      <td>F</td>\n",
       "      <td>25-34</td>\n",
       "      <td>bd8056df-cc25-4b63-bc12-a46f888baa49</td>\n",
       "      <td>{\"visits\": [{\"url\": \"http://www.2mm.ru/mzdorov...</td>\n",
       "      <td>--</td>\n",
       "      <td>2mm.ru medlinks.ru</td>\n",
       "    </tr>\n",
       "    <tr>\n",
       "      <th>36146</th>\n",
       "      <td>F</td>\n",
       "      <td>25-34</td>\n",
       "      <td>bd818690-73d2-445d-be5d-5c8f748dbb19</td>\n",
       "      <td>{\"visits\": [{\"url\": \"http://www.lacywear.ru/go...</td>\n",
       "      <td>--</td>\n",
       "      <td>lacywear.ru lacywear.ru cache.betweendigital.com</td>\n",
       "    </tr>\n",
       "    <tr>\n",
       "      <th>36147</th>\n",
       "      <td>M</td>\n",
       "      <td>25-34</td>\n",
       "      <td>bd81e006-f059-4cdd-b716-3467c78d1312</td>\n",
       "      <td>{\"visits\": [{\"url\": \"http://nn.domru.ru/\", \"ti...</td>\n",
       "      <td>--</td>\n",
       "      <td>nn.domru.ru</td>\n",
       "    </tr>\n",
       "    <tr>\n",
       "      <th>36148</th>\n",
       "      <td>M</td>\n",
       "      <td>25-34</td>\n",
       "      <td>bd81e64a-bfa3-4147-b094-e3d248c44e9a</td>\n",
       "      <td>{\"visits\": [{\"url\": \"http://cache.betweendigit...</td>\n",
       "      <td>--</td>\n",
       "      <td>cache.betweendigital.com anistar.ru anistar.ru...</td>\n",
       "    </tr>\n",
       "    <tr>\n",
       "      <th>36149</th>\n",
       "      <td>M</td>\n",
       "      <td>25-34</td>\n",
       "      <td>bd82fee4-afb3-4085-a5da-9bce2b5523ef</td>\n",
       "      <td>{\"visits\": [{\"url\": \"http://apostrophe.com.ua/...</td>\n",
       "      <td>--</td>\n",
       "      <td>apostrophe.com.ua stb.ua tvrain.ru hronika.inf...</td>\n",
       "    </tr>\n",
       "    <tr>\n",
       "      <th>36150</th>\n",
       "      <td>M</td>\n",
       "      <td>25-34</td>\n",
       "      <td>bd83400b-abe2-42fd-b73a-4edb886fb036</td>\n",
       "      <td>{\"visits\": [{\"url\": \"http://index.ru/widget?pe...</td>\n",
       "      <td>--</td>\n",
       "      <td>index.ru com.adv.vz.ru buhonline.ru vz.ru vz.r...</td>\n",
       "    </tr>\n",
       "    <tr>\n",
       "      <th>36151</th>\n",
       "      <td>M</td>\n",
       "      <td>25-34</td>\n",
       "      <td>bd843c8c-dbba-4ecb-b5e8-45ba8c31584e</td>\n",
       "      <td>{\"visits\": [{\"url\": \"http://katushka.net/adver...</td>\n",
       "      <td>--</td>\n",
       "      <td>katushka.net katushka.net katushka.net katushk...</td>\n",
       "    </tr>\n",
       "    <tr>\n",
       "      <th>36152</th>\n",
       "      <td>M</td>\n",
       "      <td>25-34</td>\n",
       "      <td>bd86d250-a6ee-41fe-af7e-c972fd438b70</td>\n",
       "      <td>{\"visits\": [{\"url\": \"http://www.sq.com.ua/\", \"...</td>\n",
       "      <td>--</td>\n",
       "      <td>sq.com.ua news.yandex.ua sq.com.ua news.yandex...</td>\n",
       "    </tr>\n",
       "    <tr>\n",
       "      <th>36153</th>\n",
       "      <td>M</td>\n",
       "      <td>25-34</td>\n",
       "      <td>bd889738-93b2-4025-bd5f-e92e61d64cba</td>\n",
       "      <td>{\"visits\": [{\"url\": \"http://www.proforientator...</td>\n",
       "      <td>--</td>\n",
       "      <td>proforientator.ru content.adspynet.com content...</td>\n",
       "    </tr>\n",
       "    <tr>\n",
       "      <th>36154</th>\n",
       "      <td>M</td>\n",
       "      <td>25-34</td>\n",
       "      <td>bd88fac5-3211-4393-9b75-d688e7d71880</td>\n",
       "      <td>{\"visits\": [{\"url\": \"http://yourlust.com/video...</td>\n",
       "      <td>--</td>\n",
       "      <td>yourlust.com tube4us.com h2porn.com h2porn.com...</td>\n",
       "    </tr>\n",
       "    <tr>\n",
       "      <th>36155</th>\n",
       "      <td>M</td>\n",
       "      <td>25-34</td>\n",
       "      <td>bd89a20f-a7af-4626-9e1d-13df9cadbf44</td>\n",
       "      <td>{\"visits\": [{\"url\": \"http://yandex.ru/clck/jsr...</td>\n",
       "      <td>--</td>\n",
       "      <td>yandex.ru primechaniya.ru yandex.ru primechani...</td>\n",
       "    </tr>\n",
       "    <tr>\n",
       "      <th>36156</th>\n",
       "      <td>F</td>\n",
       "      <td>25-34</td>\n",
       "      <td>bd8c2ee4-9c45-46df-8b3b-b555ee02e5dd</td>\n",
       "      <td>{\"visits\": [{\"url\": \"http://video-dom2.ru/abou...</td>\n",
       "      <td>--</td>\n",
       "      <td>video-dom2.ru video-dom2.ru video-dom2.ru vide...</td>\n",
       "    </tr>\n",
       "    <tr>\n",
       "      <th>36157</th>\n",
       "      <td>M</td>\n",
       "      <td>25-34</td>\n",
       "      <td>bd8f08a1-d845-4cb4-ab61-ad934a36aa0b</td>\n",
       "      <td>{\"visits\": [{\"url\": \"http://live.russia.tv/ind...</td>\n",
       "      <td>--</td>\n",
       "      <td>live.russia.tv live.russia.tv live.russia.tv a...</td>\n",
       "    </tr>\n",
       "    <tr>\n",
       "      <th>36158</th>\n",
       "      <td>M</td>\n",
       "      <td>25-34</td>\n",
       "      <td>bd8f3af4-3e15-4cc3-b621-2e2d90fc71c3</td>\n",
       "      <td>{\"visits\": [{\"url\": \"http://www.novayagazeta.r...</td>\n",
       "      <td>--</td>\n",
       "      <td>novayagazeta.ru novayagazeta.ru novayagazeta.r...</td>\n",
       "    </tr>\n",
       "    <tr>\n",
       "      <th>36159</th>\n",
       "      <td>M</td>\n",
       "      <td>25-34</td>\n",
       "      <td>bd9095f8-2413-4880-8582-0aa1d44ede3c</td>\n",
       "      <td>{\"visits\": [{\"url\": \"http://www.adme.ru/vdohno...</td>\n",
       "      <td>--</td>\n",
       "      <td>adme.ru adme.ru adme.ru adme.ru adme.ru adme.r...</td>\n",
       "    </tr>\n",
       "    <tr>\n",
       "      <th>36160</th>\n",
       "      <td>M</td>\n",
       "      <td>25-34</td>\n",
       "      <td>bd90a2a3-c49a-4d8c-91ca-7524a1f1c44d</td>\n",
       "      <td>{\"visits\": [{\"url\": \"http://ugolzreniya.narod....</td>\n",
       "      <td>--</td>\n",
       "      <td>ugolzreniya.narod.ru yaplakal.com yaplakal.com...</td>\n",
       "    </tr>\n",
       "    <tr>\n",
       "      <th>36161</th>\n",
       "      <td>M</td>\n",
       "      <td>25-34</td>\n",
       "      <td>bd918e32-87c9-4da0-bdfb-b64519148c81</td>\n",
       "      <td>{\"visits\": [{\"url\": \"http://film-adult.com/678...</td>\n",
       "      <td>--</td>\n",
       "      <td>film-adult.com film-adult.com film-adult.com g...</td>\n",
       "    </tr>\n",
       "    <tr>\n",
       "      <th>36162</th>\n",
       "      <td>M</td>\n",
       "      <td>25-34</td>\n",
       "      <td>bd924403-c21c-4ac2-a4bb-8c4b5cf9a3c0</td>\n",
       "      <td>{\"visits\": [{\"url\": \"http://xn----8sbgjprccxgo...</td>\n",
       "      <td>--</td>\n",
       "      <td>xn----8sbgjprccxgonf4d1dya7b.xn--p1ai yandex.r...</td>\n",
       "    </tr>\n",
       "    <tr>\n",
       "      <th>36163</th>\n",
       "      <td>F</td>\n",
       "      <td>35-44</td>\n",
       "      <td>bd932b45-5885-4b15-8ab4-1759acdd8445</td>\n",
       "      <td>{\"visits\": [{\"url\": \"http://www.lascana.ru/lin...</td>\n",
       "      <td>--</td>\n",
       "      <td>lascana.ru lascana.ru lascana.ru lascana.ru la...</td>\n",
       "    </tr>\n",
       "    <tr>\n",
       "      <th>36164</th>\n",
       "      <td>M</td>\n",
       "      <td>25-34</td>\n",
       "      <td>bd9377c2-29d8-4470-8cfa-30738c0bfcf4</td>\n",
       "      <td>{\"visits\": [{\"url\": \"http://glavpost.com/post/...</td>\n",
       "      <td>--</td>\n",
       "      <td>glavpost.com prishistop.ru kavkaz-uzel.ru kavk...</td>\n",
       "    </tr>\n",
       "    <tr>\n",
       "      <th>36165</th>\n",
       "      <td>M</td>\n",
       "      <td>25-34</td>\n",
       "      <td>bd954c4f-69b8-4f16-9d55-7065fd035c40</td>\n",
       "      <td>{\"visits\": [{\"url\": \"http://www.playcast.ru/vi...</td>\n",
       "      <td>--</td>\n",
       "      <td>playcast.ru zhkhtv.ru zhkhtv.ru go.mail.ru lov...</td>\n",
       "    </tr>\n",
       "    <tr>\n",
       "      <th>36166</th>\n",
       "      <td>M</td>\n",
       "      <td>25-34</td>\n",
       "      <td>bd966270-c711-47e2-a7c5-edf148e62a3e</td>\n",
       "      <td>{\"visits\": [{\"url\": \"http://www.hermil.biz/\", ...</td>\n",
       "      <td>--</td>\n",
       "      <td>hermil.biz dbi-germany.de newsyou.info censor....</td>\n",
       "    </tr>\n",
       "    <tr>\n",
       "      <th>36167</th>\n",
       "      <td>M</td>\n",
       "      <td>25-34</td>\n",
       "      <td>bd9778f1-e2dc-4630-b449-1d7265cb5e41</td>\n",
       "      <td>{\"visits\": [{\"url\": \"http://katushka.net/adver...</td>\n",
       "      <td>--</td>\n",
       "      <td>katushka.net katushka.net katushka.net katushk...</td>\n",
       "    </tr>\n",
       "    <tr>\n",
       "      <th>...</th>\n",
       "      <td>...</td>\n",
       "      <td>...</td>\n",
       "      <td>...</td>\n",
       "      <td>...</td>\n",
       "      <td>...</td>\n",
       "      <td>...</td>\n",
       "    </tr>\n",
       "    <tr>\n",
       "      <th>41108</th>\n",
       "      <td>M</td>\n",
       "      <td>25-34</td>\n",
       "      <td>fdfac22d-7ba3-4eda-8838-06dd39cc8c16</td>\n",
       "      <td>{\"visits\": [{\"url\": \"http://www.dns-shop.ru/ca...</td>\n",
       "      <td>--</td>\n",
       "      <td>dns-shop.ru smsochka.ru</td>\n",
       "    </tr>\n",
       "    <tr>\n",
       "      <th>41109</th>\n",
       "      <td>M</td>\n",
       "      <td>25-34</td>\n",
       "      <td>fdfae2a8-b400-421f-b9fe-9b4d416ee6a6</td>\n",
       "      <td>{\"visits\": [{\"url\": \"https://mail.rambler.ru/\"...</td>\n",
       "      <td>--</td>\n",
       "      <td>mail.rambler.ru mail.rambler.ru mail.rambler.r...</td>\n",
       "    </tr>\n",
       "    <tr>\n",
       "      <th>41110</th>\n",
       "      <td>F</td>\n",
       "      <td>25-34</td>\n",
       "      <td>fdfbed91-307f-4dbb-8a5e-511c1146f00f</td>\n",
       "      <td>{\"visits\": [{\"url\": \"http://www.1001eda.com/tu...</td>\n",
       "      <td>--</td>\n",
       "      <td>1001eda.com</td>\n",
       "    </tr>\n",
       "    <tr>\n",
       "      <th>41111</th>\n",
       "      <td>M</td>\n",
       "      <td>25-34</td>\n",
       "      <td>fdfd0fa5-3b05-4c72-9449-e2971c21539b</td>\n",
       "      <td>{\"visits\": [{\"url\": \"http://marketgid.ru/pnews...</td>\n",
       "      <td>--</td>\n",
       "      <td>marketgid.ru rosmeha.ru rosmeha.ru rosmeha.ru ...</td>\n",
       "    </tr>\n",
       "    <tr>\n",
       "      <th>41112</th>\n",
       "      <td>M</td>\n",
       "      <td>25-34</td>\n",
       "      <td>fdfed669-d181-48a1-852c-020eeb8cbdf0</td>\n",
       "      <td>{\"visits\": [{\"url\": \"http://www.studfiles.ru/p...</td>\n",
       "      <td>--</td>\n",
       "      <td>studfiles.ru studfiles.ru b.c8.net.ua</td>\n",
       "    </tr>\n",
       "    <tr>\n",
       "      <th>41113</th>\n",
       "      <td>F</td>\n",
       "      <td>25-34</td>\n",
       "      <td>fdffadd2-1514-4876-954d-e26fea58caaa</td>\n",
       "      <td>{\"visits\": [{\"url\": \"http://alfabank.ru/retail...</td>\n",
       "      <td>--</td>\n",
       "      <td>alfabank.ru alfabank.ru alfabank.ru alfabank.r...</td>\n",
       "    </tr>\n",
       "    <tr>\n",
       "      <th>41114</th>\n",
       "      <td>M</td>\n",
       "      <td>25-34</td>\n",
       "      <td>fe00b233-4e06-4b2f-a972-30c189533f8a</td>\n",
       "      <td>{\"visits\": [{\"url\": \"http://www.enter.ru/speci...</td>\n",
       "      <td>--</td>\n",
       "      <td>enter.ru 217121.ru.all.biz 217121.ru.all.biz 2...</td>\n",
       "    </tr>\n",
       "    <tr>\n",
       "      <th>41115</th>\n",
       "      <td>F</td>\n",
       "      <td>25-34</td>\n",
       "      <td>fe028e61-2b0e-4992-bb0f-3dd1788bba97</td>\n",
       "      <td>{\"visits\": [{\"url\": \"http://dyxioptom.ru/index...</td>\n",
       "      <td>--</td>\n",
       "      <td>dyxioptom.ru alfa-parfume.ru bonaromat.ru fish...</td>\n",
       "    </tr>\n",
       "    <tr>\n",
       "      <th>41116</th>\n",
       "      <td>M</td>\n",
       "      <td>25-34</td>\n",
       "      <td>fe02bee9-91a8-4bb3-bb37-6f08a6e60c42</td>\n",
       "      <td>{\"visits\": [{\"url\": \"http://loveplanet.ru/a-se...</td>\n",
       "      <td>--</td>\n",
       "      <td>loveplanet.ru perm.uraljob.ru perm.uraljob.ru ...</td>\n",
       "    </tr>\n",
       "    <tr>\n",
       "      <th>41117</th>\n",
       "      <td>M</td>\n",
       "      <td>25-34</td>\n",
       "      <td>fe032cf7-3d09-4a05-a7f2-036088ae4f68</td>\n",
       "      <td>{\"visits\": [{\"url\": \"http://ryb.ru/2014/12/25/...</td>\n",
       "      <td>--</td>\n",
       "      <td>ryb.ru 18let.xxx newsfiber.com labirint.ru lab...</td>\n",
       "    </tr>\n",
       "    <tr>\n",
       "      <th>41118</th>\n",
       "      <td>M</td>\n",
       "      <td>25-34</td>\n",
       "      <td>fe03734b-5fa7-415f-95ca-21695ba970c8</td>\n",
       "      <td>{\"visits\": [{\"url\": \"http://ktonanovenkogo.ru/...</td>\n",
       "      <td>--</td>\n",
       "      <td>ktonanovenkogo.ru ktonanovenkogo.ru faytan.ru ...</td>\n",
       "    </tr>\n",
       "    <tr>\n",
       "      <th>41119</th>\n",
       "      <td>M</td>\n",
       "      <td>25-34</td>\n",
       "      <td>fe06daa1-c7ce-4ba7-8819-c35ec5a856a6</td>\n",
       "      <td>{\"visits\": [{\"url\": \"http://www.dns-shop.ru/ca...</td>\n",
       "      <td>--</td>\n",
       "      <td>dns-shop.ru dns-shop.ru dns-shop.ru dns-shop.r...</td>\n",
       "    </tr>\n",
       "    <tr>\n",
       "      <th>41120</th>\n",
       "      <td>M</td>\n",
       "      <td>25-34</td>\n",
       "      <td>fe0797d7-658d-449e-9214-140a02f295d2</td>\n",
       "      <td>{\"visits\": [{\"url\": \"http://kemerovo.tehnosila...</td>\n",
       "      <td>--</td>\n",
       "      <td>kemerovo.tehnosila.ru kemerovo.tehnosila.ru ke...</td>\n",
       "    </tr>\n",
       "    <tr>\n",
       "      <th>41121</th>\n",
       "      <td>M</td>\n",
       "      <td>25-34</td>\n",
       "      <td>fe09feed-eee6-441d-8bef-edda78d89fcb</td>\n",
       "      <td>{\"visits\": [{\"url\": \"http://mnml.ru/default_32...</td>\n",
       "      <td>--</td>\n",
       "      <td>mnml.ru cache.betweendigital.com alina-sharapo...</td>\n",
       "    </tr>\n",
       "    <tr>\n",
       "      <th>41122</th>\n",
       "      <td>M</td>\n",
       "      <td>25-34</td>\n",
       "      <td>fe0e5a52-6749-4977-88d6-ed5f1bd980f4</td>\n",
       "      <td>{\"visits\": [{\"url\": \"http://dic.academic.ru/di...</td>\n",
       "      <td>--</td>\n",
       "      <td>dic.academic.ru labexch.ru labexch.ru labexch....</td>\n",
       "    </tr>\n",
       "    <tr>\n",
       "      <th>41123</th>\n",
       "      <td>M</td>\n",
       "      <td>25-34</td>\n",
       "      <td>fe0fc451-7835-41d2-a6c1-3f34eecaaeaf</td>\n",
       "      <td>{\"visits\": [{\"url\": \"http://live.russia.tv/ind...</td>\n",
       "      <td>--</td>\n",
       "      <td>live.russia.tv live.russia.tv live.russia.tv l...</td>\n",
       "    </tr>\n",
       "    <tr>\n",
       "      <th>41124</th>\n",
       "      <td>M</td>\n",
       "      <td>25-34</td>\n",
       "      <td>fe1068dc-1aa6-447a-bbb6-bb0b41ed5c36</td>\n",
       "      <td>{\"visits\": [{\"url\": \"http://www.plati.ru/asp/p...</td>\n",
       "      <td>--</td>\n",
       "      <td>plati.ru dns-shop.ru community.eu.playstation....</td>\n",
       "    </tr>\n",
       "    <tr>\n",
       "      <th>41125</th>\n",
       "      <td>F</td>\n",
       "      <td>25-34</td>\n",
       "      <td>fe111d88-a833-4cd3-9c90-27ec2f541a81</td>\n",
       "      <td>{\"visits\": [{\"url\": \"http://naturalworld.ru/av...</td>\n",
       "      <td>--</td>\n",
       "      <td>naturalworld.ru naturalworld.ru naturalworld.r...</td>\n",
       "    </tr>\n",
       "    <tr>\n",
       "      <th>41126</th>\n",
       "      <td>M</td>\n",
       "      <td>25-34</td>\n",
       "      <td>fe11ad86-885c-4d01-928a-7a3eb5f4ba16</td>\n",
       "      <td>{\"visits\": [{\"url\": \"http://vz.ru/news/2015/3/...</td>\n",
       "      <td>--</td>\n",
       "      <td>vz.ru vz.ru vz.ru vz.ru vz.ru vz.ru vz.ru vz.r...</td>\n",
       "    </tr>\n",
       "    <tr>\n",
       "      <th>41127</th>\n",
       "      <td>M</td>\n",
       "      <td>25-34</td>\n",
       "      <td>fe11c897-b1d5-4e25-99a9-1c37e78825bb</td>\n",
       "      <td>{\"visits\": [{\"url\": \"http://rusvesna.su/\", \"ti...</td>\n",
       "      <td>--</td>\n",
       "      <td>rusvesna.su rusvesna.su rusvesna.su rusvesna.su</td>\n",
       "    </tr>\n",
       "    <tr>\n",
       "      <th>41128</th>\n",
       "      <td>M</td>\n",
       "      <td>25-34</td>\n",
       "      <td>fe124931-1cc8-4e8c-9b55-286f91354578</td>\n",
       "      <td>{\"visits\": [{\"url\": \"http://www.tendt.ru/flaye...</td>\n",
       "      <td>--</td>\n",
       "      <td>tendt.ru modelboom.ru loveplanet.ru</td>\n",
       "    </tr>\n",
       "    <tr>\n",
       "      <th>41129</th>\n",
       "      <td>M</td>\n",
       "      <td>25-34</td>\n",
       "      <td>fe1274d7-efc6-4ad1-9920-2ca73e21a151</td>\n",
       "      <td>{\"visits\": [{\"url\": \"http://www.kazedu.kz/refe...</td>\n",
       "      <td>--</td>\n",
       "      <td>kazedu.kz</td>\n",
       "    </tr>\n",
       "    <tr>\n",
       "      <th>41130</th>\n",
       "      <td>M</td>\n",
       "      <td>25-34</td>\n",
       "      <td>fe12b4ae-c56d-472c-8266-a32bc8d87a53</td>\n",
       "      <td>{\"visits\": [{\"url\": \"http://www.kt.kz/rus/\", \"...</td>\n",
       "      <td>--</td>\n",
       "      <td>kt.kz go7me.ru xn--273--84d1f.xn--p1ai w1080.a...</td>\n",
       "    </tr>\n",
       "    <tr>\n",
       "      <th>41131</th>\n",
       "      <td>M</td>\n",
       "      <td>25-34</td>\n",
       "      <td>fe154bba-bcc4-4451-8a43-0306c21af296</td>\n",
       "      <td>{\"visits\": [{\"url\": \"http://maminsite.ru/pages...</td>\n",
       "      <td>--</td>\n",
       "      <td>maminsite.ru interfax-russia.ru interfax-russi...</td>\n",
       "    </tr>\n",
       "    <tr>\n",
       "      <th>41132</th>\n",
       "      <td>M</td>\n",
       "      <td>25-34</td>\n",
       "      <td>fe16ce4d-c69a-4c8d-b6eb-eed492e7ff0d</td>\n",
       "      <td>{\"visits\": [{\"url\": \"http://www.sport-express....</td>\n",
       "      <td>--</td>\n",
       "      <td>sport-express.ru sport-express.ru sport-expres...</td>\n",
       "    </tr>\n",
       "    <tr>\n",
       "      <th>41133</th>\n",
       "      <td>M</td>\n",
       "      <td>25-34</td>\n",
       "      <td>fe19213a-103f-4150-8fb3-c2ebf0b16fef</td>\n",
       "      <td>{\"visits\": [{\"url\": \"http://blogvestor.ru/o-de...</td>\n",
       "      <td>--</td>\n",
       "      <td>blogvestor.ru blogvestor.ru blogvestor.ru yand...</td>\n",
       "    </tr>\n",
       "    <tr>\n",
       "      <th>41134</th>\n",
       "      <td>M</td>\n",
       "      <td>25-34</td>\n",
       "      <td>fe1a0088-cf8f-463c-80e1-54723267d0a1</td>\n",
       "      <td>{\"visits\": [{\"url\": \"http://oduvanchik-him.ru/...</td>\n",
       "      <td>--</td>\n",
       "      <td>oduvanchik-him.ru yandex.ru topreg.ru yandex.r...</td>\n",
       "    </tr>\n",
       "    <tr>\n",
       "      <th>41135</th>\n",
       "      <td>M</td>\n",
       "      <td>25-34</td>\n",
       "      <td>fe1c2399-34a5-450b-9e66-f154770b0b1e</td>\n",
       "      <td>{\"visits\": [{\"url\": \"http://afisha.1ru.tv/kure...</td>\n",
       "      <td>--</td>\n",
       "      <td>afisha.1ru.tv jovemody.ru w1000.am15.net jovem...</td>\n",
       "    </tr>\n",
       "    <tr>\n",
       "      <th>41136</th>\n",
       "      <td>M</td>\n",
       "      <td>25-34</td>\n",
       "      <td>fe1dba8f-3131-439f-9031-851c0da0f126</td>\n",
       "      <td>{\"visits\": [{\"url\": \"http://naked-science.ru/a...</td>\n",
       "      <td>--</td>\n",
       "      <td>naked-science.ru naked-science.ru google.ru</td>\n",
       "    </tr>\n",
       "    <tr>\n",
       "      <th>41137</th>\n",
       "      <td>F</td>\n",
       "      <td>25-34</td>\n",
       "      <td>fe1e01f3-5877-4a34-a300-3cfffc2f48e1</td>\n",
       "      <td>{\"visits\": [{\"url\": \"http://cheloveknauka.com/...</td>\n",
       "      <td>--</td>\n",
       "      <td>cheloveknauka.com art-drawing.ru art-drawing.r...</td>\n",
       "    </tr>\n",
       "  </tbody>\n",
       "</table>\n",
       "<p>5000 rows × 6 columns</p>\n",
       "</div>"
      ],
      "text/plain": [
       "      gender    age                                   uid  \\\n",
       "36138      M  25-34  bd7a30e1-a25d-4cbf-a03f-61748cbe540e   \n",
       "36139      M  25-34  bd7a6f52-45db-49bf-90f2-a3b07a9b7bcd   \n",
       "36140      M  25-34  bd7a7fd9-ab06-42f5-bf0f-1cbb0463004c   \n",
       "36141      M  25-34  bd7c5d7a-0def-41d1-895f-fdb96c56c2d4   \n",
       "36142      M  25-34  bd7e54a2-0215-45cb-a869-9efebf250e38   \n",
       "36143      M  35-44  bd7e9797-4cdb-46e1-a540-f3ea010605ad   \n",
       "36144      M  25-34  bd7e9ec7-fb67-45eb-8ad3-209d01d15ae6   \n",
       "36145      F  25-34  bd8056df-cc25-4b63-bc12-a46f888baa49   \n",
       "36146      F  25-34  bd818690-73d2-445d-be5d-5c8f748dbb19   \n",
       "36147      M  25-34  bd81e006-f059-4cdd-b716-3467c78d1312   \n",
       "36148      M  25-34  bd81e64a-bfa3-4147-b094-e3d248c44e9a   \n",
       "36149      M  25-34  bd82fee4-afb3-4085-a5da-9bce2b5523ef   \n",
       "36150      M  25-34  bd83400b-abe2-42fd-b73a-4edb886fb036   \n",
       "36151      M  25-34  bd843c8c-dbba-4ecb-b5e8-45ba8c31584e   \n",
       "36152      M  25-34  bd86d250-a6ee-41fe-af7e-c972fd438b70   \n",
       "36153      M  25-34  bd889738-93b2-4025-bd5f-e92e61d64cba   \n",
       "36154      M  25-34  bd88fac5-3211-4393-9b75-d688e7d71880   \n",
       "36155      M  25-34  bd89a20f-a7af-4626-9e1d-13df9cadbf44   \n",
       "36156      F  25-34  bd8c2ee4-9c45-46df-8b3b-b555ee02e5dd   \n",
       "36157      M  25-34  bd8f08a1-d845-4cb4-ab61-ad934a36aa0b   \n",
       "36158      M  25-34  bd8f3af4-3e15-4cc3-b621-2e2d90fc71c3   \n",
       "36159      M  25-34  bd9095f8-2413-4880-8582-0aa1d44ede3c   \n",
       "36160      M  25-34  bd90a2a3-c49a-4d8c-91ca-7524a1f1c44d   \n",
       "36161      M  25-34  bd918e32-87c9-4da0-bdfb-b64519148c81   \n",
       "36162      M  25-34  bd924403-c21c-4ac2-a4bb-8c4b5cf9a3c0   \n",
       "36163      F  35-44  bd932b45-5885-4b15-8ab4-1759acdd8445   \n",
       "36164      M  25-34  bd9377c2-29d8-4470-8cfa-30738c0bfcf4   \n",
       "36165      M  25-34  bd954c4f-69b8-4f16-9d55-7065fd035c40   \n",
       "36166      M  25-34  bd966270-c711-47e2-a7c5-edf148e62a3e   \n",
       "36167      M  25-34  bd9778f1-e2dc-4630-b449-1d7265cb5e41   \n",
       "...      ...    ...                                   ...   \n",
       "41108      M  25-34  fdfac22d-7ba3-4eda-8838-06dd39cc8c16   \n",
       "41109      M  25-34  fdfae2a8-b400-421f-b9fe-9b4d416ee6a6   \n",
       "41110      F  25-34  fdfbed91-307f-4dbb-8a5e-511c1146f00f   \n",
       "41111      M  25-34  fdfd0fa5-3b05-4c72-9449-e2971c21539b   \n",
       "41112      M  25-34  fdfed669-d181-48a1-852c-020eeb8cbdf0   \n",
       "41113      F  25-34  fdffadd2-1514-4876-954d-e26fea58caaa   \n",
       "41114      M  25-34  fe00b233-4e06-4b2f-a972-30c189533f8a   \n",
       "41115      F  25-34  fe028e61-2b0e-4992-bb0f-3dd1788bba97   \n",
       "41116      M  25-34  fe02bee9-91a8-4bb3-bb37-6f08a6e60c42   \n",
       "41117      M  25-34  fe032cf7-3d09-4a05-a7f2-036088ae4f68   \n",
       "41118      M  25-34  fe03734b-5fa7-415f-95ca-21695ba970c8   \n",
       "41119      M  25-34  fe06daa1-c7ce-4ba7-8819-c35ec5a856a6   \n",
       "41120      M  25-34  fe0797d7-658d-449e-9214-140a02f295d2   \n",
       "41121      M  25-34  fe09feed-eee6-441d-8bef-edda78d89fcb   \n",
       "41122      M  25-34  fe0e5a52-6749-4977-88d6-ed5f1bd980f4   \n",
       "41123      M  25-34  fe0fc451-7835-41d2-a6c1-3f34eecaaeaf   \n",
       "41124      M  25-34  fe1068dc-1aa6-447a-bbb6-bb0b41ed5c36   \n",
       "41125      F  25-34  fe111d88-a833-4cd3-9c90-27ec2f541a81   \n",
       "41126      M  25-34  fe11ad86-885c-4d01-928a-7a3eb5f4ba16   \n",
       "41127      M  25-34  fe11c897-b1d5-4e25-99a9-1c37e78825bb   \n",
       "41128      M  25-34  fe124931-1cc8-4e8c-9b55-286f91354578   \n",
       "41129      M  25-34  fe1274d7-efc6-4ad1-9920-2ca73e21a151   \n",
       "41130      M  25-34  fe12b4ae-c56d-472c-8266-a32bc8d87a53   \n",
       "41131      M  25-34  fe154bba-bcc4-4451-8a43-0306c21af296   \n",
       "41132      M  25-34  fe16ce4d-c69a-4c8d-b6eb-eed492e7ff0d   \n",
       "41133      M  25-34  fe19213a-103f-4150-8fb3-c2ebf0b16fef   \n",
       "41134      M  25-34  fe1a0088-cf8f-463c-80e1-54723267d0a1   \n",
       "41135      M  25-34  fe1c2399-34a5-450b-9e66-f154770b0b1e   \n",
       "41136      M  25-34  fe1dba8f-3131-439f-9031-851c0da0f126   \n",
       "41137      F  25-34  fe1e01f3-5877-4a34-a300-3cfffc2f48e1   \n",
       "\n",
       "                                               user_json target  \\\n",
       "36138  {\"visits\": [{\"url\": \"http://www.interfax.ru/bu...     --   \n",
       "36139  {\"visits\": [{\"url\": \"https://www.packagetrackr...     --   \n",
       "36140  {\"visits\": [{\"url\": \"http://www.mk.ru/incident...     --   \n",
       "36141  {\"visits\": [{\"url\": \"http://www.24open.ru/user...     --   \n",
       "36142  {\"visits\": [{\"url\": \"http://www.dns-shop.ru/ca...     --   \n",
       "36143  {\"visits\": [{\"url\": \"http://news.meta.ua/clust...     --   \n",
       "36144  {\"visits\": [{\"url\": \"http://dynamobryansk.foru...     --   \n",
       "36145  {\"visits\": [{\"url\": \"http://www.2mm.ru/mzdorov...     --   \n",
       "36146  {\"visits\": [{\"url\": \"http://www.lacywear.ru/go...     --   \n",
       "36147  {\"visits\": [{\"url\": \"http://nn.domru.ru/\", \"ti...     --   \n",
       "36148  {\"visits\": [{\"url\": \"http://cache.betweendigit...     --   \n",
       "36149  {\"visits\": [{\"url\": \"http://apostrophe.com.ua/...     --   \n",
       "36150  {\"visits\": [{\"url\": \"http://index.ru/widget?pe...     --   \n",
       "36151  {\"visits\": [{\"url\": \"http://katushka.net/adver...     --   \n",
       "36152  {\"visits\": [{\"url\": \"http://www.sq.com.ua/\", \"...     --   \n",
       "36153  {\"visits\": [{\"url\": \"http://www.proforientator...     --   \n",
       "36154  {\"visits\": [{\"url\": \"http://yourlust.com/video...     --   \n",
       "36155  {\"visits\": [{\"url\": \"http://yandex.ru/clck/jsr...     --   \n",
       "36156  {\"visits\": [{\"url\": \"http://video-dom2.ru/abou...     --   \n",
       "36157  {\"visits\": [{\"url\": \"http://live.russia.tv/ind...     --   \n",
       "36158  {\"visits\": [{\"url\": \"http://www.novayagazeta.r...     --   \n",
       "36159  {\"visits\": [{\"url\": \"http://www.adme.ru/vdohno...     --   \n",
       "36160  {\"visits\": [{\"url\": \"http://ugolzreniya.narod....     --   \n",
       "36161  {\"visits\": [{\"url\": \"http://film-adult.com/678...     --   \n",
       "36162  {\"visits\": [{\"url\": \"http://xn----8sbgjprccxgo...     --   \n",
       "36163  {\"visits\": [{\"url\": \"http://www.lascana.ru/lin...     --   \n",
       "36164  {\"visits\": [{\"url\": \"http://glavpost.com/post/...     --   \n",
       "36165  {\"visits\": [{\"url\": \"http://www.playcast.ru/vi...     --   \n",
       "36166  {\"visits\": [{\"url\": \"http://www.hermil.biz/\", ...     --   \n",
       "36167  {\"visits\": [{\"url\": \"http://katushka.net/adver...     --   \n",
       "...                                                  ...    ...   \n",
       "41108  {\"visits\": [{\"url\": \"http://www.dns-shop.ru/ca...     --   \n",
       "41109  {\"visits\": [{\"url\": \"https://mail.rambler.ru/\"...     --   \n",
       "41110  {\"visits\": [{\"url\": \"http://www.1001eda.com/tu...     --   \n",
       "41111  {\"visits\": [{\"url\": \"http://marketgid.ru/pnews...     --   \n",
       "41112  {\"visits\": [{\"url\": \"http://www.studfiles.ru/p...     --   \n",
       "41113  {\"visits\": [{\"url\": \"http://alfabank.ru/retail...     --   \n",
       "41114  {\"visits\": [{\"url\": \"http://www.enter.ru/speci...     --   \n",
       "41115  {\"visits\": [{\"url\": \"http://dyxioptom.ru/index...     --   \n",
       "41116  {\"visits\": [{\"url\": \"http://loveplanet.ru/a-se...     --   \n",
       "41117  {\"visits\": [{\"url\": \"http://ryb.ru/2014/12/25/...     --   \n",
       "41118  {\"visits\": [{\"url\": \"http://ktonanovenkogo.ru/...     --   \n",
       "41119  {\"visits\": [{\"url\": \"http://www.dns-shop.ru/ca...     --   \n",
       "41120  {\"visits\": [{\"url\": \"http://kemerovo.tehnosila...     --   \n",
       "41121  {\"visits\": [{\"url\": \"http://mnml.ru/default_32...     --   \n",
       "41122  {\"visits\": [{\"url\": \"http://dic.academic.ru/di...     --   \n",
       "41123  {\"visits\": [{\"url\": \"http://live.russia.tv/ind...     --   \n",
       "41124  {\"visits\": [{\"url\": \"http://www.plati.ru/asp/p...     --   \n",
       "41125  {\"visits\": [{\"url\": \"http://naturalworld.ru/av...     --   \n",
       "41126  {\"visits\": [{\"url\": \"http://vz.ru/news/2015/3/...     --   \n",
       "41127  {\"visits\": [{\"url\": \"http://rusvesna.su/\", \"ti...     --   \n",
       "41128  {\"visits\": [{\"url\": \"http://www.tendt.ru/flaye...     --   \n",
       "41129  {\"visits\": [{\"url\": \"http://www.kazedu.kz/refe...     --   \n",
       "41130  {\"visits\": [{\"url\": \"http://www.kt.kz/rus/\", \"...     --   \n",
       "41131  {\"visits\": [{\"url\": \"http://maminsite.ru/pages...     --   \n",
       "41132  {\"visits\": [{\"url\": \"http://www.sport-express....     --   \n",
       "41133  {\"visits\": [{\"url\": \"http://blogvestor.ru/o-de...     --   \n",
       "41134  {\"visits\": [{\"url\": \"http://oduvanchik-him.ru/...     --   \n",
       "41135  {\"visits\": [{\"url\": \"http://afisha.1ru.tv/kure...     --   \n",
       "41136  {\"visits\": [{\"url\": \"http://naked-science.ru/a...     --   \n",
       "41137  {\"visits\": [{\"url\": \"http://cheloveknauka.com/...     --   \n",
       "\n",
       "                                                    urls  \n",
       "36138  interfax.ru amerikan-gruzovik.ru amerikan-gruz...  \n",
       "36139  packagetrackr.com packagetrackr.com packagetra...  \n",
       "36140                 mk.ru mk.ru mk.ru m.news.yandex.ru  \n",
       "36141  24open.ru ohotniki.ru ohotniki.ru google.ru oh...  \n",
       "36142  dns-shop.ru easyhelp.ru primpogoda.ru primpogo...  \n",
       "36143                                       news.meta.ua  \n",
       "36144                           dynamobryansk.forum24.ru  \n",
       "36145                                 2mm.ru medlinks.ru  \n",
       "36146   lacywear.ru lacywear.ru cache.betweendigital.com  \n",
       "36147                                        nn.domru.ru  \n",
       "36148  cache.betweendigital.com anistar.ru anistar.ru...  \n",
       "36149  apostrophe.com.ua stb.ua tvrain.ru hronika.inf...  \n",
       "36150  index.ru com.adv.vz.ru buhonline.ru vz.ru vz.r...  \n",
       "36151  katushka.net katushka.net katushka.net katushk...  \n",
       "36152  sq.com.ua news.yandex.ua sq.com.ua news.yandex...  \n",
       "36153  proforientator.ru content.adspynet.com content...  \n",
       "36154  yourlust.com tube4us.com h2porn.com h2porn.com...  \n",
       "36155  yandex.ru primechaniya.ru yandex.ru primechani...  \n",
       "36156  video-dom2.ru video-dom2.ru video-dom2.ru vide...  \n",
       "36157  live.russia.tv live.russia.tv live.russia.tv a...  \n",
       "36158  novayagazeta.ru novayagazeta.ru novayagazeta.r...  \n",
       "36159  adme.ru adme.ru adme.ru adme.ru adme.ru adme.r...  \n",
       "36160  ugolzreniya.narod.ru yaplakal.com yaplakal.com...  \n",
       "36161  film-adult.com film-adult.com film-adult.com g...  \n",
       "36162  xn----8sbgjprccxgonf4d1dya7b.xn--p1ai yandex.r...  \n",
       "36163  lascana.ru lascana.ru lascana.ru lascana.ru la...  \n",
       "36164  glavpost.com prishistop.ru kavkaz-uzel.ru kavk...  \n",
       "36165  playcast.ru zhkhtv.ru zhkhtv.ru go.mail.ru lov...  \n",
       "36166  hermil.biz dbi-germany.de newsyou.info censor....  \n",
       "36167  katushka.net katushka.net katushka.net katushk...  \n",
       "...                                                  ...  \n",
       "41108                            dns-shop.ru smsochka.ru  \n",
       "41109  mail.rambler.ru mail.rambler.ru mail.rambler.r...  \n",
       "41110                                        1001eda.com  \n",
       "41111  marketgid.ru rosmeha.ru rosmeha.ru rosmeha.ru ...  \n",
       "41112              studfiles.ru studfiles.ru b.c8.net.ua  \n",
       "41113  alfabank.ru alfabank.ru alfabank.ru alfabank.r...  \n",
       "41114  enter.ru 217121.ru.all.biz 217121.ru.all.biz 2...  \n",
       "41115  dyxioptom.ru alfa-parfume.ru bonaromat.ru fish...  \n",
       "41116  loveplanet.ru perm.uraljob.ru perm.uraljob.ru ...  \n",
       "41117  ryb.ru 18let.xxx newsfiber.com labirint.ru lab...  \n",
       "41118  ktonanovenkogo.ru ktonanovenkogo.ru faytan.ru ...  \n",
       "41119  dns-shop.ru dns-shop.ru dns-shop.ru dns-shop.r...  \n",
       "41120  kemerovo.tehnosila.ru kemerovo.tehnosila.ru ke...  \n",
       "41121  mnml.ru cache.betweendigital.com alina-sharapo...  \n",
       "41122  dic.academic.ru labexch.ru labexch.ru labexch....  \n",
       "41123  live.russia.tv live.russia.tv live.russia.tv l...  \n",
       "41124  plati.ru dns-shop.ru community.eu.playstation....  \n",
       "41125  naturalworld.ru naturalworld.ru naturalworld.r...  \n",
       "41126  vz.ru vz.ru vz.ru vz.ru vz.ru vz.ru vz.ru vz.r...  \n",
       "41127    rusvesna.su rusvesna.su rusvesna.su rusvesna.su  \n",
       "41128                tendt.ru modelboom.ru loveplanet.ru  \n",
       "41129                                          kazedu.kz  \n",
       "41130  kt.kz go7me.ru xn--273--84d1f.xn--p1ai w1080.a...  \n",
       "41131  maminsite.ru interfax-russia.ru interfax-russi...  \n",
       "41132  sport-express.ru sport-express.ru sport-expres...  \n",
       "41133  blogvestor.ru blogvestor.ru blogvestor.ru yand...  \n",
       "41134  oduvanchik-him.ru yandex.ru topreg.ru yandex.r...  \n",
       "41135  afisha.1ru.tv jovemody.ru w1000.am15.net jovem...  \n",
       "41136        naked-science.ru naked-science.ru google.ru  \n",
       "41137  cheloveknauka.com art-drawing.ru art-drawing.r...  \n",
       "\n",
       "[5000 rows x 6 columns]"
      ]
     },
     "execution_count": 107,
     "metadata": {},
     "output_type": "execute_result"
    }
   ],
   "source": [
    "df_test"
   ]
  },
  {
   "cell_type": "code",
   "execution_count": 108,
   "metadata": {},
   "outputs": [],
   "source": [
    "outf = \"out1.json\"\n",
    "#outf = sys.stdout\n",
    "df_test[['uid', 'gender', 'age']]\\\n",
    "    .sort_values(by='uid',axis = 0, ascending = True)\\\n",
    "    .to_json(outf, orient='records')"
   ]
  },
  {
   "cell_type": "markdown",
   "metadata": {},
   "source": [
    "### Сохранение модели"
   ]
  },
  {
   "cell_type": "code",
   "execution_count": 84,
   "metadata": {},
   "outputs": [],
   "source": [
    "import pickle\n",
    "    \n",
    "with open('/data/home/oksana.strashynskaya/project01_model.pickle', 'wb') as f:\n",
    "    pickle.dump(model, f)\n"
   ]
  },
  {
   "cell_type": "markdown",
   "metadata": {},
   "source": [
    "Для самопроверки вы можете локально оттестировать свой скрипт, используя следующую команду:"
   ]
  },
  {
   "cell_type": "code",
   "execution_count": 21,
   "metadata": {
    "collapsed": true
   },
   "outputs": [],
   "source": [
    "#!tail -n1000 gender_age_dataset.txt | python3 project01_gender-age.py > output.json"
   ]
  },
  {
   "cell_type": "markdown",
   "metadata": {},
   "source": [
    "### Сhecker"
   ]
  },
  {
   "cell_type": "markdown",
   "metadata": {},
   "source": [
    "Приводится тут для наглядности. Можете сделать copy-paste в `project01_gender-age.py` и заменить строчки для ввода-вывода на те, где используется stdin/stdout"
   ]
  },
  {
   "cell_type": "code",
   "execution_count": 22,
   "metadata": {},
   "outputs": [],
   "source": [
    "import pandas as pd\n",
    "import re, json\n",
    "from urllib.parse import urlparse\n",
    "from urllib.request import urlretrieve, unquote\n",
    "\n",
    "def url2domain(url):\n",
    "    url = re.sub('(http(s)*://)+', 'http://', url)\n",
    "    parsed_url = urlparse(unquote(url.strip()))\n",
    "    if parsed_url.scheme not in ['http','https']: return None\n",
    "    netloc = re.search(\"(?:www\\.)?(.*)\", parsed_url.netloc).group(1)\n",
    "    #if netloc is not None: return str(netloc.encode('utf8')).strip()\n",
    "    if netloc is not None: return str(netloc.strip())\n",
    "    return None\n",
    "\n",
    "def get_domains(j):\n",
    "    return \" \".join([url2domain(d['url']) for d in json.loads(j)['visits'] ])\n",
    "\n",
    "#считываем данные\n",
    "data = pd.DataFrame(columns=['gender','age','uid','user_json'])\n",
    "s=0\n",
    "import sys\n",
    "#for line in sys.stdin:\n",
    "test_lines = !tail -n5000 $file_path\n",
    "for line in test_lines:\n",
    "    data.loc[s] = line.strip().split(\"\\t\")\n",
    "    s+=1"
   ]
  },
  {
   "cell_type": "code",
   "execution_count": 23,
   "metadata": {
    "collapsed": true
   },
   "outputs": [],
   "source": [
    "# преобразование данных\n",
    "data['urls'] = data['user_json'].apply(get_domains, 0)"
   ]
  },
  {
   "cell_type": "code",
   "execution_count": 24,
   "metadata": {
    "collapsed": true
   },
   "outputs": [],
   "source": [
    "# считывание модели\n",
    "import pickle\n",
    "\n",
    "with open('/data/home/oksana.strashynskaya/project01_model.pickle', 'rb') as f:\n",
    "    model = pickle.load( f)    \n",
    "\n",
    "# предсказание\n",
    "pred = model.predict(data['urls'])\n",
    "data['gender'] = [s[:1] for s in pred]\n",
    "data['age'] = [s[1:] for s in pred]\n",
    "\n",
    "# вывод\n",
    "outf = \"out1.json\"\n",
    "#outf = sys.stdout\n",
    "data[['uid', 'gender', 'age']]\\\n",
    "    .sort_values(by='uid',axis = 0, ascending = True)\\\n",
    "    .to_json(outf, orient='records')"
   ]
  },
  {
   "cell_type": "markdown",
   "metadata": {
    "collapsed": true
   },
   "source": [
    "Это решение дает 0.303 на паблике."
   ]
  }
 ],
 "metadata": {
  "kernelspec": {
   "display_name": "Python 3",
   "language": "python",
   "name": "python3"
  },
  "language_info": {
   "codemirror_mode": {
    "name": "ipython",
    "version": 3
   },
   "file_extension": ".py",
   "mimetype": "text/x-python",
   "name": "python",
   "nbconvert_exporter": "python",
   "pygments_lexer": "ipython3",
   "version": "3.6.5"
  }
 },
 "nbformat": 4,
 "nbformat_minor": 2
}
