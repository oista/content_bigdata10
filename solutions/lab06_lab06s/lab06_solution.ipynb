{
 "cells": [
  {
   "cell_type": "markdown",
   "metadata": {},
   "source": [
    "# Lab06 Решение"
   ]
  },
  {
   "cell_type": "markdown",
   "metadata": {},
   "source": [
    "## Задача\n",
    "\n",
    "По имеющимся данным о рейтингах фильмов (MovieLens: 100 000 рейтингов) посчитать агрегированную статистику по ним."
   ]
  },
  {
   "cell_type": "code",
   "execution_count": 1,
   "metadata": {},
   "outputs": [],
   "source": [
    "#Lab06 personal data\n",
    "my_id = 269"
   ]
  },
  {
   "cell_type": "code",
   "execution_count": 2,
   "metadata": {},
   "outputs": [],
   "source": [
    "#Lab06s personal data\n",
    "k = 15\n",
    "z = 3.291"
   ]
  },
  {
   "cell_type": "code",
   "execution_count": 1,
   "metadata": {},
   "outputs": [
    {
     "name": "stdout",
     "output_type": "stream",
     "text": [
      "Welcome to\n",
      "      ____              __\n",
      "     / __/__  ___ _____/ /__\n",
      "    _\\ \\/ _ \\/ _ `/ __/  '_/\n",
      "   /__ / .__/\\_,_/_/ /_/\\_\\   version 2.4.3\n",
      "      /_/\n",
      "\n",
      "Using Python version 3.6.5 (default, Apr 29 2018 16:14:56)\n",
      "SparkSession available as 'spark'.\n"
     ]
    }
   ],
   "source": [
    "import os\n",
    "import sys\n",
    "\n",
    "os.environ[\"PYSPARK_SUBMIT_ARGS\"]='pyspark-shell'\n",
    "os.environ[\"PYSPARK_PYTHON\"]='/opt/anaconda/envs/bd9/bin/python'\n",
    "os.environ[\"SPARK_HOME\"]='/usr/hdp/current/spark2-client'\n",
    "\n",
    "spark_home = os.environ.get('SPARK_HOME', None)\n",
    "if not spark_home:\n",
    "    raise ValueError('SPARK_HOME environment variable is not set')\n",
    "sys.path.insert(0, os.path.join(spark_home, 'python'))\n",
    "sys.path.insert(0, os.path.join(spark_home, 'python/lib/py4j-0.10.7-src.zip'))\n",
    "exec(open(os.path.join(spark_home, 'python/pyspark/shell.py')).read())"
   ]
  },
  {
   "cell_type": "code",
   "execution_count": 2,
   "metadata": {
    "scrolled": false
   },
   "outputs": [
    {
     "data": {
      "text/html": [
       "\n",
       "        <div>\n",
       "            <p><b>SparkContext</b></p>\n",
       "\n",
       "            <p><a href=\"http://master.cluster-lab.com:4042\">Spark UI</a></p>\n",
       "\n",
       "            <dl>\n",
       "              <dt>Version</dt>\n",
       "                <dd><code>v2.4.3</code></dd>\n",
       "              <dt>Master</dt>\n",
       "                <dd><code>yarn</code></dd>\n",
       "              <dt>AppName</dt>\n",
       "                <dd><code>pyspark-shell</code></dd>\n",
       "            </dl>\n",
       "        </div>\n",
       "        "
      ],
      "text/plain": [
       "<SparkContext master=yarn appName=pyspark-shell>"
      ]
     },
     "execution_count": 2,
     "metadata": {},
     "output_type": "execute_result"
    }
   ],
   "source": [
    "sc"
   ]
  },
  {
   "cell_type": "code",
   "execution_count": 5,
   "metadata": {},
   "outputs": [],
   "source": [
    "sc.stop()"
   ]
  },
  {
   "cell_type": "markdown",
   "metadata": {},
   "source": [
    "## Loading user data"
   ]
  },
  {
   "cell_type": "code",
   "execution_count": 5,
   "metadata": {},
   "outputs": [],
   "source": [
    "# Loading from HDFS, make sure you put you data into hdfs first\n",
    "user_data_src = sc.textFile(\"/labs/lab06data/ml-100k/u.data\")"
   ]
  },
  {
   "cell_type": "code",
   "execution_count": 6,
   "metadata": {},
   "outputs": [
    {
     "data": {
      "text/plain": [
       "'196\\t242\\t3\\t881250949'"
      ]
     },
     "execution_count": 6,
     "metadata": {},
     "output_type": "execute_result"
    }
   ],
   "source": [
    "# Data lookup:\n",
    "user_data_src.first()"
   ]
  },
  {
   "cell_type": "code",
   "execution_count": 7,
   "metadata": {},
   "outputs": [],
   "source": [
    "user_data = user_data_src.map(lambda u: u.split(\"\\t\"))"
   ]
  },
  {
   "cell_type": "code",
   "execution_count": 8,
   "metadata": {},
   "outputs": [
    {
     "data": {
      "text/plain": [
       "[['196', '242', '3', '881250949'],\n",
       " ['186', '302', '3', '891717742'],\n",
       " ['22', '377', '1', '878887116'],\n",
       " ['244', '51', '2', '880606923'],\n",
       " ['166', '346', '1', '886397596']]"
      ]
     },
     "execution_count": 8,
     "metadata": {},
     "output_type": "execute_result"
    }
   ],
   "source": [
    "user_data.take(5)"
   ]
  },
  {
   "cell_type": "code",
   "execution_count": 9,
   "metadata": {},
   "outputs": [
    {
     "data": {
      "text/plain": [
       "100000"
      ]
     },
     "execution_count": 9,
     "metadata": {},
     "output_type": "execute_result"
    }
   ],
   "source": [
    "num_users = user_data.count()\n",
    "num_users"
   ]
  },
  {
   "cell_type": "code",
   "execution_count": 10,
   "metadata": {},
   "outputs": [
    {
     "name": "stdout",
     "output_type": "stream",
     "text": [
      "Populating the interactive namespace from numpy and matplotlib\n"
     ]
    }
   ],
   "source": [
    "%pylab inline"
   ]
  },
  {
   "cell_type": "code",
   "execution_count": 11,
   "metadata": {},
   "outputs": [
    {
     "data": {
      "text/plain": [
       "[242, 302, 377, 51, 346]"
      ]
     },
     "execution_count": 11,
     "metadata": {},
     "output_type": "execute_result"
    }
   ],
   "source": [
    "user_ages = user_data.map(lambda u: int(u[1]))\n",
    "user_ages.take(5)"
   ]
  },
  {
   "cell_type": "code",
   "execution_count": 12,
   "metadata": {},
   "outputs": [
    {
     "data": {
      "text/plain": [
       "(array([23671., 28410., 14237., 11567.,  9108.,  5549.,  4332.,  1893.,\n",
       "          851.,   382.]),\n",
       " array([1.0000e+00, 1.6910e+02, 3.3720e+02, 5.0530e+02, 6.7340e+02,\n",
       "        8.4150e+02, 1.0096e+03, 1.1777e+03, 1.3458e+03, 1.5139e+03,\n",
       "        1.6820e+03]),\n",
       " <a list of 10 Patch objects>)"
      ]
     },
     "execution_count": 12,
     "metadata": {},
     "output_type": "execute_result"
    },
    {
     "data": {
      "image/png": "[encoded data removed]",
      "text/plain": [
       "<Figure size 432x288 with 1 Axes>"
      ]
     },
     "metadata": {},
     "output_type": "display_data"
    }
   ],
   "source": [
    "ages = user_ages.collect()\n",
    "hist(ages, bins=10)"
   ]
  },
  {
   "cell_type": "code",
   "execution_count": 13,
   "metadata": {},
   "outputs": [],
   "source": [
    "ages = user_ages.collect"
   ]
  },
  {
   "cell_type": "markdown",
   "metadata": {},
   "source": [
    "## Loading movie data"
   ]
  },
  {
   "cell_type": "code",
   "execution_count": 14,
   "metadata": {},
   "outputs": [
    {
     "data": {
      "text/plain": [
       "'1|Toy Story (1995)|01-Jan-1995||http://us.imdb.com/M/title-exact?Toy%20Story%20(1995)|0|0|0|1|1|1|0|0|0|0|0|0|0|0|0|0|0|0|0'"
      ]
     },
     "execution_count": 14,
     "metadata": {},
     "output_type": "execute_result"
    }
   ],
   "source": [
    "movie_data_src = sc.textFile(\"/tmp/ml-100k/u.item\")\n",
    "movie_data_src.first()"
   ]
  },
  {
   "cell_type": "code",
   "execution_count": 15,
   "metadata": {},
   "outputs": [
    {
     "data": {
      "text/plain": [
       "['1|Toy Story (1995)|01-Jan-1995||http://us.imdb.com/M/title-exact?Toy%20Story%20(1995)|0|0|0|1|1|1|0|0|0|0|0|0|0|0|0|0|0|0|0',\n",
       " '2|GoldenEye (1995)|01-Jan-1995||http://us.imdb.com/M/title-exact?GoldenEye%20(1995)|0|1|1|0|0|0|0|0|0|0|0|0|0|0|0|0|1|0|0',\n",
       " '3|Four Rooms (1995)|01-Jan-1995||http://us.imdb.com/M/title-exact?Four%20Rooms%20(1995)|0|0|0|0|0|0|0|0|0|0|0|0|0|0|0|0|1|0|0',\n",
       " '4|Get Shorty (1995)|01-Jan-1995||http://us.imdb.com/M/title-exact?Get%20Shorty%20(1995)|0|1|0|0|0|1|0|0|1|0|0|0|0|0|0|0|0|0|0',\n",
       " '5|Copycat (1995)|01-Jan-1995||http://us.imdb.com/M/title-exact?Copycat%20(1995)|0|0|0|0|0|0|1|0|1|0|0|0|0|0|0|0|1|0|0',\n",
       " '6|Shanghai Triad (Yao a yao yao dao waipo qiao) (1995)|01-Jan-1995||http://us.imdb.com/Title?Yao+a+yao+yao+dao+waipo+qiao+(1995)|0|0|0|0|0|0|0|0|1|0|0|0|0|0|0|0|0|0|0',\n",
       " '7|Twelve Monkeys (1995)|01-Jan-1995||http://us.imdb.com/M/title-exact?Twelve%20Monkeys%20(1995)|0|0|0|0|0|0|0|0|1|0|0|0|0|0|0|1|0|0|0',\n",
       " '8|Babe (1995)|01-Jan-1995||http://us.imdb.com/M/title-exact?Babe%20(1995)|0|0|0|0|1|1|0|0|1|0|0|0|0|0|0|0|0|0|0',\n",
       " '9|Dead Man Walking (1995)|01-Jan-1995||http://us.imdb.com/M/title-exact?Dead%20Man%20Walking%20(1995)|0|0|0|0|0|0|0|0|1|0|0|0|0|0|0|0|0|0|0',\n",
       " '10|Richard III (1995)|22-Jan-1996||http://us.imdb.com/M/title-exact?Richard%20III%20(1995)|0|0|0|0|0|0|0|0|1|0|0|0|0|0|0|0|0|1|0']"
      ]
     },
     "execution_count": 15,
     "metadata": {},
     "output_type": "execute_result"
    }
   ],
   "source": [
    "movie_data_src.take(10)"
   ]
  },
  {
   "cell_type": "code",
   "execution_count": 16,
   "metadata": {},
   "outputs": [
    {
     "data": {
      "text/plain": [
       "[['1',\n",
       "  'Toy Story (1995)',\n",
       "  '01-Jan-1995',\n",
       "  '',\n",
       "  'http://us.imdb.com/M/title-exact?Toy%20Story%20(1995)',\n",
       "  '0',\n",
       "  '0',\n",
       "  '0',\n",
       "  '1',\n",
       "  '1',\n",
       "  '1',\n",
       "  '0',\n",
       "  '0',\n",
       "  '0',\n",
       "  '0',\n",
       "  '0',\n",
       "  '0',\n",
       "  '0',\n",
       "  '0',\n",
       "  '0',\n",
       "  '0',\n",
       "  '0',\n",
       "  '0',\n",
       "  '0'],\n",
       " ['2',\n",
       "  'GoldenEye (1995)',\n",
       "  '01-Jan-1995',\n",
       "  '',\n",
       "  'http://us.imdb.com/M/title-exact?GoldenEye%20(1995)',\n",
       "  '0',\n",
       "  '1',\n",
       "  '1',\n",
       "  '0',\n",
       "  '0',\n",
       "  '0',\n",
       "  '0',\n",
       "  '0',\n",
       "  '0',\n",
       "  '0',\n",
       "  '0',\n",
       "  '0',\n",
       "  '0',\n",
       "  '0',\n",
       "  '0',\n",
       "  '0',\n",
       "  '1',\n",
       "  '0',\n",
       "  '0'],\n",
       " ['3',\n",
       "  'Four Rooms (1995)',\n",
       "  '01-Jan-1995',\n",
       "  '',\n",
       "  'http://us.imdb.com/M/title-exact?Four%20Rooms%20(1995)',\n",
       "  '0',\n",
       "  '0',\n",
       "  '0',\n",
       "  '0',\n",
       "  '0',\n",
       "  '0',\n",
       "  '0',\n",
       "  '0',\n",
       "  '0',\n",
       "  '0',\n",
       "  '0',\n",
       "  '0',\n",
       "  '0',\n",
       "  '0',\n",
       "  '0',\n",
       "  '0',\n",
       "  '1',\n",
       "  '0',\n",
       "  '0'],\n",
       " ['4',\n",
       "  'Get Shorty (1995)',\n",
       "  '01-Jan-1995',\n",
       "  '',\n",
       "  'http://us.imdb.com/M/title-exact?Get%20Shorty%20(1995)',\n",
       "  '0',\n",
       "  '1',\n",
       "  '0',\n",
       "  '0',\n",
       "  '0',\n",
       "  '1',\n",
       "  '0',\n",
       "  '0',\n",
       "  '1',\n",
       "  '0',\n",
       "  '0',\n",
       "  '0',\n",
       "  '0',\n",
       "  '0',\n",
       "  '0',\n",
       "  '0',\n",
       "  '0',\n",
       "  '0',\n",
       "  '0'],\n",
       " ['5',\n",
       "  'Copycat (1995)',\n",
       "  '01-Jan-1995',\n",
       "  '',\n",
       "  'http://us.imdb.com/M/title-exact?Copycat%20(1995)',\n",
       "  '0',\n",
       "  '0',\n",
       "  '0',\n",
       "  '0',\n",
       "  '0',\n",
       "  '0',\n",
       "  '1',\n",
       "  '0',\n",
       "  '1',\n",
       "  '0',\n",
       "  '0',\n",
       "  '0',\n",
       "  '0',\n",
       "  '0',\n",
       "  '0',\n",
       "  '0',\n",
       "  '1',\n",
       "  '0',\n",
       "  '0']]"
      ]
     },
     "execution_count": 16,
     "metadata": {},
     "output_type": "execute_result"
    }
   ],
   "source": [
    "movie_data = movie_data_src.map(lambda line: line.split(\"|\"))\n",
    "movie_data.take(5)"
   ]
  },
  {
   "cell_type": "code",
   "execution_count": 17,
   "metadata": {},
   "outputs": [],
   "source": [
    "from datetime import datetime\n",
    "\n",
    "def get_year(date_string):\n",
    "    try:\n",
    "        return int(datetime.strptime(date_string, \"%d-%b-%Y\").year)\n",
    "    except:\n",
    "        return 1899"
   ]
  },
  {
   "cell_type": "code",
   "execution_count": 18,
   "metadata": {},
   "outputs": [],
   "source": [
    "movie_years = movie_data.map(lambda m: get_year(m[2]))"
   ]
  },
  {
   "cell_type": "code",
   "execution_count": 19,
   "metadata": {},
   "outputs": [
    {
     "data": {
      "text/plain": [
       "[1995, 1995, 1995, 1995, 1995, 1995, 1995, 1995, 1995, 1996]"
      ]
     },
     "execution_count": 19,
     "metadata": {},
     "output_type": "execute_result"
    }
   ],
   "source": [
    "movie_years.take(10)"
   ]
  },
  {
   "cell_type": "code",
   "execution_count": 20,
   "metadata": {},
   "outputs": [
    {
     "data": {
      "text/plain": [
       "(array([  1.,   0.,   0.,   0.,   0.,   0.,   0.,   0.,   0.,   0.,   0.,\n",
       "          0.,   0.,   0.,   0.,   0.,   0.,   0.,   0.,   0.,   0.,   0.,\n",
       "          0.,   1.,   0.,   0.,   0.,   1.,   0.,   0.,   0.,   1.,   1.,\n",
       "          1.,   2.,   4.,   4.,   2.,   4.,   3.,   7.,   8.,   5.,   2.,\n",
       "          4.,   5.,   4.,   5.,   5.,   3.,   4.,   7.,   5.,   3.,   2.,\n",
       "          7.,   5.,   4.,   8.,   9.,   4.,   5.,   3.,   5.,   6.,   2.,\n",
       "          5.,   2.,   5.,   6.,   4.,   3.,   7.,   3.,   4.,   8.,   6.,\n",
       "          5.,   4.,   4.,   9.,   8.,  12.,  13.,   5.,   8.,   7.,  15.,\n",
       "         13.,  11.,  15.,  24.,  22.,  37., 126., 214., 219., 355., 286.,\n",
       "         65.]),\n",
       " array([1899.  , 1899.99, 1900.98, 1901.97, 1902.96, 1903.95, 1904.94,\n",
       "        1905.93, 1906.92, 1907.91, 1908.9 , 1909.89, 1910.88, 1911.87,\n",
       "        1912.86, 1913.85, 1914.84, 1915.83, 1916.82, 1917.81, 1918.8 ,\n",
       "        1919.79, 1920.78, 1921.77, 1922.76, 1923.75, 1924.74, 1925.73,\n",
       "        1926.72, 1927.71, 1928.7 , 1929.69, 1930.68, 1931.67, 1932.66,\n",
       "        1933.65, 1934.64, 1935.63, 1936.62, 1937.61, 1938.6 , 1939.59,\n",
       "        1940.58, 1941.57, 1942.56, 1943.55, 1944.54, 1945.53, 1946.52,\n",
       "        1947.51, 1948.5 , 1949.49, 1950.48, 1951.47, 1952.46, 1953.45,\n",
       "        1954.44, 1955.43, 1956.42, 1957.41, 1958.4 , 1959.39, 1960.38,\n",
       "        1961.37, 1962.36, 1963.35, 1964.34, 1965.33, 1966.32, 1967.31,\n",
       "        1968.3 , 1969.29, 1970.28, 1971.27, 1972.26, 1973.25, 1974.24,\n",
       "        1975.23, 1976.22, 1977.21, 1978.2 , 1979.19, 1980.18, 1981.17,\n",
       "        1982.16, 1983.15, 1984.14, 1985.13, 1986.12, 1987.11, 1988.1 ,\n",
       "        1989.09, 1990.08, 1991.07, 1992.06, 1993.05, 1994.04, 1995.03,\n",
       "        1996.02, 1997.01, 1998.  ]),\n",
       " <a list of 100 Patch objects>)"
      ]
     },
     "execution_count": 20,
     "metadata": {},
     "output_type": "execute_result"
    },
    {
     "data": {
      "image/png": "[encoded data removed]",
      "text/plain": [
       "<Figure size 432x288 with 1 Axes>"
      ]
     },
     "metadata": {},
     "output_type": "display_data"
    }
   ],
   "source": [
    "years = movie_years.collect()\n",
    "hist(years,bins=100)"
   ]
  },
  {
   "cell_type": "markdown",
   "metadata": {},
   "source": [
    "## Loading ratings data"
   ]
  },
  {
   "cell_type": "code",
   "execution_count": 21,
   "metadata": {},
   "outputs": [
    {
     "data": {
      "text/plain": [
       "'196\\t242\\t3\\t881250949'"
      ]
     },
     "execution_count": 21,
     "metadata": {},
     "output_type": "execute_result"
    }
   ],
   "source": [
    "# user id | item id | rating | timestamp\n",
    "ratings_src = sc.textFile(\"/tmp/ml-100k/u.data\")\n",
    "ratings_src.first()"
   ]
  },
  {
   "cell_type": "code",
   "execution_count": 22,
   "metadata": {},
   "outputs": [
    {
     "data": {
      "text/plain": [
       "[['196', '242', '3', '881250949'],\n",
       " ['186', '302', '3', '891717742'],\n",
       " ['22', '377', '1', '878887116']]"
      ]
     },
     "execution_count": 22,
     "metadata": {},
     "output_type": "execute_result"
    }
   ],
   "source": [
    "ratings_data = ratings_src.map(lambda r: r.split(\"\\t\"))\n",
    "ratings_data.take(3)"
   ]
  },
  {
   "cell_type": "code",
   "execution_count": 23,
   "metadata": {},
   "outputs": [],
   "source": [
    "ratings = ratings_data.map(lambda r: int(r[2])).collect()"
   ]
  },
  {
   "cell_type": "code",
   "execution_count": 24,
   "metadata": {},
   "outputs": [
    {
     "data": {
      "text/plain": [
       "(array([ 6110.,     0., 11370.,     0.,     0., 27145.,     0., 34174.,\n",
       "            0., 21201.]),\n",
       " array([1. , 1.4, 1.8, 2.2, 2.6, 3. , 3.4, 3.8, 4.2, 4.6, 5. ]),\n",
       " <a list of 10 Patch objects>)"
      ]
     },
     "execution_count": 24,
     "metadata": {},
     "output_type": "execute_result"
    },
    {
     "data": {
      "image/png": "[encoded data removed]",
      "text/plain": [
       "<Figure size 432x288 with 1 Axes>"
      ]
     },
     "metadata": {},
     "output_type": "display_data"
    }
   ],
   "source": [
    "hist(ratings)"
   ]
  },
  {
   "cell_type": "code",
   "execution_count": 25,
   "metadata": {},
   "outputs": [
    {
     "data": {
      "text/plain": [
       "(array([ 6110., 11370., 27145., 34174., 21201.]),\n",
       " array([1, 2, 3, 4, 5, 6]),\n",
       " <a list of 5 Patch objects>)"
      ]
     },
     "execution_count": 25,
     "metadata": {},
     "output_type": "execute_result"
    },
    {
     "data": {
      "image/png": "[encoded data removed]",
      "text/plain": [
       "<Figure size 432x288 with 1 Axes>"
      ]
     },
     "metadata": {},
     "output_type": "display_data"
    }
   ],
   "source": [
    "hist(ratings,bins=[1,2,3,4,5,6])"
   ]
  },
  {
   "cell_type": "code",
   "execution_count": 26,
   "metadata": {},
   "outputs": [],
   "source": [
    "# 0: user id | 1: item id | 2: rating | 3: timestamp\n",
    "ratings_map = ratings_data.map(lambda r: (r[1], int(r[2])))"
   ]
  },
  {
   "cell_type": "code",
   "execution_count": 27,
   "metadata": {},
   "outputs": [
    {
     "data": {
      "text/plain": [
       "('242', 3)"
      ]
     },
     "execution_count": 27,
     "metadata": {},
     "output_type": "execute_result"
    }
   ],
   "source": [
    "#item_id, rating\n",
    "ratings_map.first()"
   ]
  },
  {
   "cell_type": "markdown",
   "metadata": {},
   "source": [
    "#### 1. Количество человек n, поставивших рейтинг фильму"
   ]
  },
  {
   "cell_type": "code",
   "execution_count": 28,
   "metadata": {},
   "outputs": [
    {
     "data": {
      "text/plain": [
       "[('346', 126), ('474', 194), ('265', 227), ('465', 85), ('451', 170)]"
      ]
     },
     "execution_count": 28,
     "metadata": {},
     "output_type": "execute_result"
    }
   ],
   "source": [
    "#kv = {item_id: 1}\n",
    "n1_kv_m = ratings_data.map( lambda x: (x[1], 1) )\n",
    "\n",
    "#kv = {item_id: sum}\n",
    "n1 = n1_kv_m.reduceByKey( lambda pv,v: pv+v )\n",
    "\n",
    "n1.take(5)"
   ]
  },
  {
   "cell_type": "markdown",
   "metadata": {},
   "source": [
    "#### 2. Средний рейтинг фильма (сумма рейтингов фильма/количество человек, оценивних фильм)"
   ]
  },
  {
   "cell_type": "code",
   "execution_count": 29,
   "metadata": {},
   "outputs": [
    {
     "data": {
      "text/plain": [
       "('346', (459, 126))"
      ]
     },
     "execution_count": 29,
     "metadata": {},
     "output_type": "execute_result"
    }
   ],
   "source": [
    "#kv = {item_id: (rating, 1)}\n",
    "n2_kv_m = ratings_data.map( lambda x: (x[1], (int(x[2]), 1)) )\n",
    "\n",
    "#kv = {item_id: (rating_sum, count)}\n",
    "n2_kv_r = n2_kv_m.reduceByKey( lambda pv,v: (pv[0]+v[0], pv[1]+v[1]) )\n",
    "n2_kv_r.first()"
   ]
  },
  {
   "cell_type": "code",
   "execution_count": 30,
   "metadata": {
    "scrolled": true
   },
   "outputs": [
    {
     "data": {
      "text/plain": [
       "[('346', 3.642857142857143),\n",
       " ('474', 4.252577319587629),\n",
       " ('265', 3.8634361233480177),\n",
       " ('465', 3.5647058823529414),\n",
       " ('451', 3.347058823529412)]"
      ]
     },
     "execution_count": 30,
     "metadata": {},
     "output_type": "execute_result"
    }
   ],
   "source": [
    "from __future__ import division\n",
    "n2 = n2_kv_r.map( lambda x: (x[0], x[1][0] / x[1][1]) )\n",
    "\n",
    "n2.take(5)"
   ]
  },
  {
   "cell_type": "markdown",
   "metadata": {},
   "source": [
    "#### 3. Количество человек m, оценивших фильм положительно. Оценки 4 и выше -- считаются положительными."
   ]
  },
  {
   "cell_type": "code",
   "execution_count": 31,
   "metadata": {},
   "outputs": [
    {
     "data": {
      "text/plain": [
       "[('242', 0), ('302', 0), ('377', 0), ('51', 0), ('346', 0)]"
      ]
     },
     "execution_count": 31,
     "metadata": {},
     "output_type": "execute_result"
    }
   ],
   "source": [
    "#kv = {item_id: (1 if rating >=4 else 0)}\n",
    "n3_kv_m = ratings_data.map( lambda x: (x[1], 1 if int(x[2]) >=4 else 0) )\n",
    "n3_kv_m.take(5)"
   ]
  },
  {
   "cell_type": "code",
   "execution_count": 32,
   "metadata": {},
   "outputs": [],
   "source": [
    "#kv = {item_id: sum}\n",
    "n3 = n3_kv_m.reduceByKey( lambda pv,v: pv+v )"
   ]
  },
  {
   "cell_type": "code",
   "execution_count": 33,
   "metadata": {},
   "outputs": [
    {
     "data": {
      "text/plain": [
       "[('346', 77), ('474', 154), ('265', 151), ('465', 47), ('451', 87)]"
      ]
     },
     "execution_count": 33,
     "metadata": {},
     "output_type": "execute_result"
    }
   ],
   "source": [
    "n3.take(5)"
   ]
  },
  {
   "cell_type": "markdown",
   "metadata": {},
   "source": [
    "#### 4. Доля людей, оценивших фильм положительно (пункт 3/пункт 1 или m/n).¶"
   ]
  },
  {
   "cell_type": "code",
   "execution_count": 34,
   "metadata": {},
   "outputs": [
    {
     "data": {
      "text/plain": [
       "[('346', 0.6111111111111112),\n",
       " ('474', 0.7938144329896907),\n",
       " ('265', 0.6651982378854625),\n",
       " ('465', 0.5529411764705883),\n",
       " ('451', 0.5117647058823529)]"
      ]
     },
     "execution_count": 34,
     "metadata": {},
     "output_type": "execute_result"
    }
   ],
   "source": [
    "#kv = {item_id: (n1, n3) }\n",
    "n4_kv_m = n1.join(n3)\n",
    "n4 = n4_kv_m.map( lambda x: (x[0], x[1][1] / x[1][0]) )\n",
    "n4.take(5)"
   ]
  },
  {
   "cell_type": "markdown",
   "metadata": {},
   "source": [
    "#### 5. Глобальное среднее по всему датасету. Сумма всех оценок по всем фильмам/Количество всех оценок по всем фильмам"
   ]
  },
  {
   "cell_type": "code",
   "execution_count": 35,
   "metadata": {},
   "outputs": [
    {
     "data": {
      "text/plain": [
       "3.52986"
      ]
     },
     "execution_count": 35,
     "metadata": {},
     "output_type": "execute_result"
    }
   ],
   "source": [
    "#kv = {rating}\n",
    "n5_kv_m = ratings_data.map( lambda x: x[2] )\n",
    "\n",
    "n5 = n5_kv_m.reduce( lambda pv,v: int(pv)+int(v) ) / n5_kv_m.count()\n",
    "n5"
   ]
  },
  {
   "cell_type": "markdown",
   "metadata": {},
   "source": [
    "#### 6. Оценку, поправленную на нехватку данных:"
   ]
  },
  {
   "cell_type": "code",
   "execution_count": 36,
   "metadata": {},
   "outputs": [],
   "source": [
    "\n",
    "#n2_kv_r = {item_id: (rating_sum, count)}\n",
    "#n2_kv_r.take(5)\n",
    "n6 = n2_kv_r.map( lambda x: (x[0], (x[1][0] + k * n5) / (x[1][1] + k) ) )"
   ]
  },
  {
   "cell_type": "code",
   "execution_count": 37,
   "metadata": {},
   "outputs": [
    {
     "data": {
      "text/plain": [
       "[('346', 3.630836170212766),\n",
       " ('474', 4.200707655502392),\n",
       " ('265', 3.8427599173553717),\n",
       " ('465', 3.559479),\n",
       " ('451', 3.3618805405405405)]"
      ]
     },
     "execution_count": 37,
     "metadata": {},
     "output_type": "execute_result"
    }
   ],
   "source": [
    "n6.take(5)"
   ]
  },
  {
   "cell_type": "markdown",
   "metadata": {},
   "source": [
    "#### 7. Нижнюю и верхнюю границы доверительного интервала оценки (Wilson score interval) из лекции с заданным уровнем доверия."
   ]
  },
  {
   "cell_type": "code",
   "execution_count": 38,
   "metadata": {},
   "outputs": [],
   "source": [
    "#kv = {item_id: (n1, n4) }\n",
    "n7_kv_m = n1.join(n4)\n",
    "n7 = n7_kv_m.map( lambda x: ( x[0], (1 / (1 + z**2/x[1][0])) * (x[1][1] + z**2/(2*x[1][0]) - z*(x[1][1]*(1-x[1][1])/x[1][0] + z**2/(4*x[1][0]**2))**0.5 ) ) )\n",
    "\n"
   ]
  },
  {
   "cell_type": "code",
   "execution_count": 39,
   "metadata": {},
   "outputs": [
    {
     "data": {
      "text/plain": [
       "[('346', 0.4648803785564671),\n",
       " ('465', 0.3797042201890603),\n",
       " ('451', 0.3887256186355627),\n",
       " ('86', 0.6231154345351357),\n",
       " ('257', 0.5394262039159652)]"
      ]
     },
     "execution_count": 39,
     "metadata": {},
     "output_type": "execute_result"
    }
   ],
   "source": [
    "n7.take(5)"
   ]
  },
  {
   "cell_type": "markdown",
   "metadata": {},
   "source": [
    "#### Рекомендовать топ 10 фильмов (если рейтинги совпадают, то сортировать по алфавиту названий фильмов от A до Z):\n",
    "\n",
    "#### 1. По откликам (пункт 1) - поле “top10_rates”"
   ]
  },
  {
   "cell_type": "code",
   "execution_count": 40,
   "metadata": {
    "scrolled": true
   },
   "outputs": [
    {
     "data": {
      "text/plain": [
       "[('50', ('Star Wars (1977)', 583)),\n",
       " ('258', ('Contact (1997)', 509)),\n",
       " ('100', ('Fargo (1996)', 508)),\n",
       " ('181', ('Return of the Jedi (1983)', 507)),\n",
       " ('294', ('Liar Liar (1997)', 485)),\n",
       " ('286', ('English Patient, The (1996)', 481)),\n",
       " ('288', ('Scream (1996)', 478)),\n",
       " ('1', ('Toy Story (1995)', 452)),\n",
       " ('300', ('Air Force One (1997)', 431)),\n",
       " ('121', ('Independence Day (ID4) (1996)', 429))]"
      ]
     },
     "execution_count": 40,
     "metadata": {},
     "output_type": "execute_result"
    }
   ],
   "source": [
    "#kv = {item_id: (name, n1) }\n",
    "\n",
    "movie_data_n1 = movie_data.join(n1)\n",
    "top10_rates = [tp[0] for tp in movie_data_n1.top(10, lambda x: x[1][1])]\n",
    "movie_data_n1.top(10, lambda x: x[1][1])"
   ]
  },
  {
   "cell_type": "markdown",
   "metadata": {},
   "source": [
    "#### 2. По среднему рейтингу (пункт 2) - поле “top10_average”"
   ]
  },
  {
   "cell_type": "code",
   "execution_count": 41,
   "metadata": {},
   "outputs": [
    {
     "data": {
      "text/plain": [
       "[('1536', ('Aiqing wansui (1994)', 5.0)),\n",
       " ('1653', ('Entertaining Angels: The Dorothy Day Story (1996)', 5.0)),\n",
       " ('814', ('Great Day in Harlem, A (1994)', 5.0)),\n",
       " ('1201', ('Marlene Dietrich: Shadow and Light (1996) ', 5.0)),\n",
       " ('1189', ('Prefontaine (1997)', 5.0)),\n",
       " ('1467', ('Saint of Fort Washington, The (1993)', 5.0)),\n",
       " ('1500', ('Santa with Muscles (1996)', 5.0)),\n",
       " ('1599', (\"Someone Else's America (1995)\", 5.0)),\n",
       " ('1293', ('Star Kid (1997)', 5.0)),\n",
       " ('1122', ('They Made Me a Criminal (1939)', 5.0))]"
      ]
     },
     "execution_count": 41,
     "metadata": {},
     "output_type": "execute_result"
    }
   ],
   "source": [
    "top10_average = movie_data.join(n2).sortBy(lambda x: (-x[1][1], x[1][0])).keys().take(10)\n",
    "movie_data.join(n2).sortBy(lambda x: (-x[1][1], x[1][0])).take(10)"
   ]
  },
  {
   "cell_type": "markdown",
   "metadata": {},
   "source": [
    "#### 3. По среднему рейтингу с регуляризацией k (пункт 6) - поле “top10_rating”"
   ]
  },
  {
   "cell_type": "code",
   "execution_count": 42,
   "metadata": {
    "scrolled": true
   },
   "outputs": [
    {
     "data": {
      "text/plain": [
       "[('318', (\"Schindler's List (1993)\", 4.4215587859424925)),\n",
       " ('483', ('Casablanca (1942)', 4.402898837209303)),\n",
       " ('64', ('Shawshank Redemption, The (1994)', 4.399154026845638)),\n",
       " ('408', ('Close Shave, A (1995)', 4.377542519685039)),\n",
       " ('169', ('Wrong Trousers, The (1993)', 4.36051052631579)),\n",
       " ('12', ('Usual Suspects, The (1995)', 4.340240780141844)),\n",
       " ('50', ('Star Wars (1977)', 4.337705518394649)),\n",
       " ('603', ('Rear Window (1954)', 4.330124553571428)),\n",
       " ('114',\n",
       "  ('Wallace & Gromit: The Best of Aardman Animation (1996)',\n",
       "   4.27985243902439)),\n",
       " ('98', ('Silence of the Lambs, The (1991)', 4.26159975308642))]"
      ]
     },
     "execution_count": 42,
     "metadata": {},
     "output_type": "execute_result"
    }
   ],
   "source": [
    "top10_rating = movie_data.join(n6).sortBy(lambda x: (-x[1][1], x[1][0])).keys().take(10)\n",
    "movie_data.join(n6).sortBy(lambda x: (-x[1][1], x[1][0])).take(10)"
   ]
  },
  {
   "cell_type": "markdown",
   "metadata": {},
   "source": [
    "#### 4. По нижней границе доверительного интервала Wilson (пункт 7) - поле “top10_lower”"
   ]
  },
  {
   "cell_type": "code",
   "execution_count": 43,
   "metadata": {
    "scrolled": true
   },
   "outputs": [
    {
     "data": {
      "text/plain": [
       "[('64', ('Shawshank Redemption, The (1994)', 0.8270766587313791)),\n",
       " ('98', ('Silence of the Lambs, The (1991)', 0.8177122414044271)),\n",
       " ('318', (\"Schindler's List (1993)\", 0.8152788845229866)),\n",
       " ('479', ('Vertigo (1958)', 0.8081766848989357)),\n",
       " ('50', ('Star Wars (1977)', 0.8053869659117665)),\n",
       " ('483', ('Casablanca (1942)', 0.805291259553674)),\n",
       " ('603', ('Rear Window (1954)', 0.7929240507548225)),\n",
       " ('427', ('To Kill a Mockingbird (1962)', 0.7908311055552744)),\n",
       " ('357', (\"One Flew Over the Cuckoo's Nest (1975)\", 0.7884971562624901)),\n",
       " ('12', ('Usual Suspects, The (1995)', 0.7863629043036243))]"
      ]
     },
     "execution_count": 43,
     "metadata": {},
     "output_type": "execute_result"
    }
   ],
   "source": [
    "top10_lower = movie_data.join(n7).sortBy(lambda x: (-x[1][1], x[1][0])).keys().take(10)\n",
    "movie_data.join(n7).sortBy(lambda x: (-x[1][1], x[1][0])).take(10)"
   ]
  },
  {
   "cell_type": "markdown",
   "metadata": {},
   "source": [
    "#### Для выданного id фильма:\n",
    "\n",
    "#### 1. Построить распределения оценок. Получится таблица, где в первом столбце стоят значения оценки (1, 2, 3, 4, 5), а во втором количество человек, поставивших соответствующую оценку - поле “hist_film”\n"
   ]
  },
  {
   "cell_type": "code",
   "execution_count": 44,
   "metadata": {},
   "outputs": [],
   "source": [
    "\n",
    "hist_film_kv_f = ratings_data.filter(lambda x: (x[1] == str(my_id)))\n",
    "hist_film_kv_m = hist_film_kv_f.map(lambda x: (x[2], 1))\n",
    "hist_film_kv_r = hist_film_kv_m.reduceByKey(lambda x,y: x+y)\n",
    "hist_film = [i[1] for i in hist_film_kv_r.sortByKey().collect()]"
   ]
  },
  {
   "cell_type": "markdown",
   "metadata": {},
   "source": [
    "#### 2. Чтобы понять какие оценки предпочитают ставить пользователи Movielens, постройте аналогичное предыдущему пункту 1 распределение оценок только уже для всего датасета - поле “hist_all”"
   ]
  },
  {
   "cell_type": "code",
   "execution_count": 45,
   "metadata": {},
   "outputs": [],
   "source": [
    "\n",
    "hist_all_kv_m = ratings_data.map(lambda r: (r[2], 1))\n",
    "hist_all_kv_r = hist_all_kv_m.reduceByKey(lambda x,y: x+y)\n",
    "hist_all = [i[1] for i in hist_all_kv_r.sortByKey().collect()]"
   ]
  },
  {
   "cell_type": "code",
   "execution_count": 46,
   "metadata": {},
   "outputs": [],
   "source": [
    "result_json={\n",
    "            \"top10_rates\": top10_rates,\n",
    "            \"top10_average\": top10_average,\n",
    "            \"top10_rating\": top10_rating,\n",
    "            \"top10_lower\": top10_lower,\n",
    "            \"hist_film\": hist_film,\n",
    "            \"hist_all\": hist_all\n",
    "            }"
   ]
  },
  {
   "cell_type": "code",
   "execution_count": 47,
   "metadata": {},
   "outputs": [],
   "source": [
    "import json\n",
    "with open(\"lab06.json\", \"w\") as j:\n",
    "    json.dump(result_json,j)"
   ]
  },
  {
   "cell_type": "code",
   "execution_count": 48,
   "metadata": {},
   "outputs": [],
   "source": [
    "#superachievka\n",
    "import json\n",
    "with open(\"lab06s.json\", \"w\") as j:\n",
    "    json.dump(result_json,j)"
   ]
  },
  {
   "cell_type": "code",
   "execution_count": 5,
   "metadata": {},
   "outputs": [],
   "source": [
    "sc.stop()"
   ]
  },
  {
   "cell_type": "code",
   "execution_count": null,
   "metadata": {},
   "outputs": [],
   "source": []
  }
 ],
 "metadata": {
  "kernelspec": {
   "display_name": "Python 3",
   "language": "python",
   "name": "python3"
  },
  "language_info": {
   "codemirror_mode": {
    "name": "ipython",
    "version": 3
   },
   "file_extension": ".py",
   "mimetype": "text/x-python",
   "name": "python",
   "nbconvert_exporter": "python",
   "pygments_lexer": "ipython3",
   "version": "3.6.5"
  }
 },
 "nbformat": 4,
 "nbformat_minor": 2
}
