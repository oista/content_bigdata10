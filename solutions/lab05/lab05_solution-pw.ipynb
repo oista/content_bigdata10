{
 "cells": [
  {
   "cell_type": "markdown",
   "metadata": {},
   "source": [
    "# Лаба 5: Определение принадлежности текстов к заданной тематике"
   ]
  },
  {
   "cell_type": "code",
   "execution_count": 1,
   "metadata": {},
   "outputs": [],
   "source": [
    "import numpy as np\n",
    "\n",
    "from bs4 import BeautifulSoup\n",
    "\n",
    "from sklearn.feature_extraction.text import TfidfVectorizer\n",
    "\n",
    "%matplotlib inline\n",
    "from matplotlib import pyplot as plt\n",
    "import seaborn"
   ]
  },
  {
   "cell_type": "code",
   "execution_count": 2,
   "metadata": {},
   "outputs": [],
   "source": [
    "from pymystem3 import Mystem\n",
    "m = Mystem()\n",
    "\n",
    "from nltk.tokenize import RegexpTokenizer\n",
    "tokenizer = RegexpTokenizer('[A-Za-zА-Яа-яёЁ]+')"
   ]
  },
  {
   "cell_type": "code",
   "execution_count": 3,
   "metadata": {},
   "outputs": [],
   "source": [
    "#attention - generator\n",
    "def tokenize(text):\n",
    "    tokens = tokenizer.tokenize(text)\n",
    "    for i in tokens:\n",
    "        if len(i)>2:\n",
    "            yield m.lemmatize(i)[0]"
   ]
  },
  {
   "cell_type": "markdown",
   "metadata": {},
   "source": [
    "### Данные из ЛК"
   ]
  },
  {
   "cell_type": "code",
   "execution_count": 4,
   "metadata": {},
   "outputs": [],
   "source": [
    "#ids of texts you need to classify\n",
    "ids=[1025, 4, 3078, 522, 3084, 1550, 3090, 3603, 22, 3607, 1560, 1561, 2224, 859, 31, 3626, 3627, 46, 1076, 2101, 3639, 1717, 3647, 3139, 2634, 1635, 1616, 3154, 3667, 783, 88, 1967, 1117, 1211, 607, 2656, 1634, 1123, 2148, 1125, 1638, 1639, 1131, 2579, 3183, 3184, 2676, 1653, 630, 3703, 2682, 2173, 3203, 2692, 645, 646, 2185, 3214, 1685, 623, 2199, 2200, 1690, 1691, 160, 3233, 3235, 3748, 2215, 3240, 176, 3763, 3253, 2230, 695, 3256, 723, 2235, 1215, 3780, 2758, 2760, 2253, 715, 1741, 3279, 2258, 3795, 1748, 2774, 219, 1244, 1759, 3808, 3299, 742, 1257, 1262, 382, 3827, 468, 3317, 3831, 2812, 766, 1281, 3332, 775, 3852, 2891, 3854, 3343, 274, 3349, 1302, 3352, 133, 1308, 800, 290, 1827, 3292, 1829, 1831, 1323, 3886, 3378, 3892, 2869, 3904, 3906, 1347, 2372, 3398, 840, 3913, 2379, 2896, 3411, 857, 3418, 3931, 352, 3426, 357, 358, 1384, 2922, 2411, 3438, 880, 372, 1909, 888, 1344, 3454, 1920, 386, 3223, 903, 322, 1432, 2288, 414, 2374, 1441, 2067, 421, 1961, 943, 1457, 3509, 3715, 2490, 955, 3744, 958, 3007, 3009, 450, 1806, 3526, 967, 2504, 464, 3025, 3538, 1700, 2517, 1500, 3550, 2026, 2029, 2030, 1519, 503, 3065, 1019, 1020, 510]\n",
    "\n",
    "texts_index = list(zip(range(200), ids))"
   ]
  },
  {
   "cell_type": "code",
   "execution_count": 5,
   "metadata": {},
   "outputs": [
    {
     "data": {
      "text/plain": [
       "(200, 200)"
      ]
     },
     "execution_count": 5,
     "metadata": {},
     "output_type": "execute_result"
    }
   ],
   "source": [
    "len(ids), len(texts_index)"
   ]
  },
  {
   "cell_type": "markdown",
   "metadata": {},
   "source": [
    "### Данные тексты"
   ]
  },
  {
   "cell_type": "code",
   "execution_count": 6,
   "metadata": {},
   "outputs": [
    {
     "data": {
      "text/plain": [
       "20"
      ]
     },
     "execution_count": 6,
     "metadata": {},
     "output_type": "execute_result"
    }
   ],
   "source": [
    "texts = []\n",
    "for i in range(1,21):\n",
    "    #f = codecs.open('/data/lab05data/data/base_'+str(i)+'.txt', 'r', 'utf-8')\n",
    "    f = open('/data/share/lab05data/base_'+str(i)+'.txt', 'r', encoding='utf-8')\n",
    "    text = f.readlines()\n",
    "    texts.append(BeautifulSoup(text[0], \"lxml\").text.lower())\n",
    "len(texts)"
   ]
  },
  {
   "cell_type": "code",
   "execution_count": 7,
   "metadata": {},
   "outputs": [
    {
     "data": {
      "text/plain": [
       "220"
      ]
     },
     "execution_count": 7,
     "metadata": {},
     "output_type": "execute_result"
    }
   ],
   "source": [
    "for i in ids:\n",
    "    #f = codecs.open('/data/lab05data/data/test_'+str(i)+'.txt', 'r', 'utf-8')\n",
    "    f = open('/data/share/lab05data/test_'+str(i)+'.txt', 'r', encoding='utf-8')\n",
    "    text = f.readlines()\n",
    "    texts.append(BeautifulSoup(text[0], \"lxml\").text.lower())\n",
    "len(texts)"
   ]
  },
  {
   "cell_type": "code",
   "execution_count": 8,
   "metadata": {
    "scrolled": true
   },
   "outputs": [
    {
     "name": "stdout",
     "output_type": "stream",
     "text": [
      "ищем прекрасного программиста 1с в дружный отдел сотрудников сферы it с неутомительным режимом работы. у нас есть 1с 8.2, 8.3, бухгалтерия строительной организации, жкх, зуп + самописные. что надо делать: - доработать существующие конфигурации,- разработать новые конфигураций,- отчеты, базы данных...- осуществлять поддержку наших продвинутых пользователей режим работы с 10 до 18 по вторникам и пятницам (строго!).  \n",
      "предлагаем уникальную возможность присоединиться к команде, разрабатывающей и выпускающей следующее поколение корпоративных антивирусных продуктов. вам будет отведена важная роль в разработке как основного продукта так и смежных инфраструктурных проектов и кастомизиций.   чем придется заниматься:   участие в разработке основной линейки антивирусных продуктов лаборатории касперского   работа в ключевой команде опытных разработчиков лк     что нужно знать и уметь:   отличное знание c# и .net framework.   отличное знание c++ и опыт практического использования (win32).   понимание парадигм ооп.   умение разбираться в чужом коде   технический английский   ответственность, исполнительность, инициативность, внимание к деталям.   умение самостоятельно и полностью доводить до конца поставленные задачи.     приветствуется:   опыт работы с tfs     условия:   белая заработная плата   трудоустройство по тк рф   отличная программа дмс  \n",
      "netcracker technology corp., a large software development company and one of the world’s most respected toms solutions (telecommunications operations and management solutions) companies, has an opening for:   technical managerresponsibilities:    managing a team of 3-8 or more developers; carrying out various development projects of the duration from 1 week up to several months through the full cycle starting from the requirements gathering and up to product implementation and documentation preparation; participating customer implementation projects; carrying out presales demonstration projects, resulting in presenting demonstrations basing on customer requirements.  qualification:  high technical degree; minimum of 3 years experience as a developer/lead developer; minimum of 2 years technical management experience; excellent knowledge of java, j2ee; very good technical english verbal/writing skills; successful experience in managing it projects; excellent communication and team building abilities; business-like presence and ability to interact professionally with customers; willingness to work as a lead java developer for the starting period; experience in working in telecommunications areas; excellent english language; ability to travel both within the country and abroad.  we offer:  opportunities for career development; opportunities to make business trips (europe, canada, usa, australia, etc); professional growth in the international business environment; medical insurance for employees; friendly atmosphere, sports activities and corporate events; salary will be discussed individually with the successful candidate. \n",
      "senior java software engineer в отдел разработки графических приложений netcracker technology   о компании: компания netcracker technology – мировой лидер в области создания и внедрения комплексных bss/oss-решений для провайдеров услуг связи, крупных предприятий и государственных учреждений. наши успехи в области предоставления решений и сервисов по управлению телекоммуникационными операциями признаны ведущими консалтинговыми компаниями и аналитическими агентствами, включая gartner, analysys mason и stratecast. вместе с тем, компания netcracker получила наивысшее признание от двух ведущих организаций по стандартизации в индустрии информационно-коммуникационных технологий - tm forum и университета carnegie mellon. благодаря обширным экспертным знаниям и многолетнему опыту разработки и внедрения решений netcracker предоставляет большие возможности для профессионального развития и карьерного роста.   об отделе: мы занимаемся разработкой пользовательских интерфейсов, в которых ключевым элементом является графическое представление данных и манипуляция с данными в графическом виде. иногда лучше увидеть 1 картинку, чем 100 таблиц. схемы топологии сети, представление данных в привязке к географической карте, визуализация телекоммуникационных ресурсов – вот лишь некоторые примеры приложений, которые мы разрабатываем. помимо разработки интерфейсов и рабочих мест, с которыми работают конечные пользователи нашей системы, мы также отвечаем за разработку и развитие платформы netcracker для построения графических приложений. на основе этой платформы строятся наши собственные приложения и приложения, разрабатываемые другими отделами разработки продукта для своих предметных областей, а также решения под конкретных заказчиков, разрабатываемые командами внедрений. мы уделяем большое внимание не только тому, что мы делаем, но и тому, как мы это делаем, активно применяя в своей работе такие практики разработки как unit testing, code review, continuous integration, pair programming. senior java software engineer: вам предстоит:  вместе с командой создавать новые и развивать существующие графические приложения в составе продукта netcracker; принимать непосредственное участие в создании и развитии графической платформы netcracker на базе gwt с использованием средств html5; вместе с командой принимать технические и архитектурные решения.    требования:  опыт промышленной разработки на платформе java- от 3х лет; хорошие знания java se; знание ооп; знание паттернов и анти-паттернов проектирования по; умение написания unit test’ов; ответственность, самостоятельность, организованность; умение работать в команде;  плюсами будут:  понимание основ построения пользовательских интерфейсов; знание и опыт работы с gwt, restful services; опыт разработки ria на любой платформе; знание и опыт работы с maven; опыт работы с di frameworks; опыт применения таких практик разработки как tdd, continuous integration, code review, pair programming; опыт работы по agile методологиям ведения проектов; знание java script; знакомство с html, css; опыт работы c html/js gis библиотеками; опыт работы с графическими библиотеками на базе html5; знание java ee;  условия:  место работы: нижний новгород, деловой центр \"ока\"; возможность для профессионального и карьерного роста в компании; медицинская страховка (включая стоматологию); спортивные и корпоративные мероприятия; дружный коллектив; заработная плата обсуждается по результатам интервью. \n",
      "netcracker technology corp., a large software development company and one of the world’s most respected toms solutions (telecommunications operations and management solutions) companies, has an opening for: software developer responsibilities:  writing code in java and sql; taking part in system design, creating specifications; taking part in internal, customer and pre-sales projects as a developer.  qualification:  high technical degree; minimum 2 years experience as a developer; minimum 1 year experience in java, j2ee technologies; experience in commercial projects; good technical english verbal/writing skills; good english skills is an advantage.   optional requirements:  experience in working in telecommunications areas; experience in working with oracle server (sql, pl-sql); experience in development of web-based systems.  we offer:  opportunities for career development; opportunities to make business trips (europe, canada, usa, australia, etc); professional growth in the international business environment;  medical insurance for employees; friendly atmosphere, sports activities and corporate events; salary will be discussed individually with the successful candidate. \n"
     ]
    }
   ],
   "source": [
    "print(\"\\n\".join(texts[:5]))"
   ]
  },
  {
   "cell_type": "markdown",
   "metadata": {},
   "source": [
    "### Попробуем собственный токенайзер"
   ]
  },
  {
   "cell_type": "code",
   "execution_count": 9,
   "metadata": {},
   "outputs": [],
   "source": [
    "from pymystem3 import Mystem\n",
    "m = Mystem()\n",
    "\n",
    "from nltk.tokenize import RegexpTokenizer\n",
    "tokenizer = RegexpTokenizer('[A-Za-zА-Яа-яёЁ]+')"
   ]
  },
  {
   "cell_type": "code",
   "execution_count": 10,
   "metadata": {},
   "outputs": [],
   "source": [
    "#attention - generator\n",
    "def tokenize(text):\n",
    "    tokens = tokenizer.tokenize(text)\n",
    "    for i in tokens:\n",
    "        if len(i)>2:\n",
    "            yield m.lemmatize(i)[0]"
   ]
  },
  {
   "cell_type": "code",
   "execution_count": 11,
   "metadata": {},
   "outputs": [],
   "source": [
    "stop_words = [\"еще\", \"него\", \"сказать\", \"а\", \"ж\", \"нее\", \"со\", \"без\", \"же\", \"ней\", \"совсем\", \"более\", \"жизнь\", \n",
    "              \"нельзя\", \"так\", \"больше\", \"за\", \"нет\", \"такой\", \"будет\", \"зачем\", \"ни\", \"там\", \"будто\", \"здесь\", \n",
    "              \"нибудь\", \"тебя\", \"бы\", \"и\", \"никогда\", \"тем\", \"был\", \"из\", \"ним\", \"теперь\", \"была\", \"из\", \"за\",\n",
    "              \"них\", \"то\", \"были\", \"или\", \"ничего\", \"тогда\", \"было\", \"им\", \"но\", \"того\", \"быть\", \"иногда\", \"ну\", \n",
    "              \"тоже\", \"в\", \"их\", \"о\", \"только\", \"вам\", \"к\", \"об\", \"том\", \"вас\", \"кажется\", \"один\", \"тот\", \"вдруг\",\n",
    "              \"как\", \"он\", \"три\", \"ведь\", \"какая\", \"она\", \"тут\", \"во\", \"какой\", \"они\", \"ты\", \"вот\", \"когда\", \"опять\",\n",
    "              \"у\", \"впрочем\", \"конечно\", \"от\", \"уж\", \"все\", \"которого\", \"перед\", \"уже\", \"всегда\", \"которые\", \"по\",\n",
    "              \"хорошо\", \"всего\", \"кто\", \"под\", \"хоть\", \"всех\", \"куда\", \"после\", \"чего\", \"всю\", \"ли\", \"потом\", \"человек\",\n",
    "              \"вы\", \"лучше\", \"потому\", \"чем\", \"г\", \"между\", \"почти\", \"через\", \"где\", \"меня\", \"при\", \"что\", \"говорил\",\n",
    "              \"мне\", \"про\", \"чтоб\", \"да\", \"много\", \"раз\", \"чтобы\", \"даже\", \"может\", \"разве\", \"чуть\", \"два\", \"можно\",\n",
    "              \"с\", \"эти\", \"для\", \"мой\", \"сам\", \"этого\", \"до\", \"моя\", \"свое\", \"этой\", \"другой\", \"мы\", \"свою\", \"этом\",\n",
    "              \"его\", \"на\", \"себе\", \"этот\", \"ее\", \"над\", \"себя\", \"эту\", \"ей\", \"надо\", \"сегодня\", \"я\", \"ему\", \"наконец\",\n",
    "              \"сейчас\", \"если\", \"нас\", \"сказал\", \"есть\", \"не\", \"сказала\"]"
   ]
  },
  {
   "cell_type": "markdown",
   "metadata": {},
   "source": [
    "### TFIDF для всех тесктов"
   ]
  },
  {
   "cell_type": "code",
   "execution_count": 12,
   "metadata": {
    "scrolled": true
   },
   "outputs": [],
   "source": [
    "tfidf_vec = TfidfVectorizer(norm=None, \n",
    "                            smooth_idf=False, \n",
    "                            token_pattern='[A-Za-zА-Яа-яёЁ]+', \n",
    "                            stop_words=stop_words)\n",
    "\n",
    "m_tfidf = tfidf_vec.fit_transform(texts)\n",
    "matrix_tfidf = m_tfidf.toarray()"
   ]
  },
  {
   "cell_type": "code",
   "execution_count": 13,
   "metadata": {
    "scrolled": true
   },
   "outputs": [
    {
     "data": {
      "text/plain": [
       "(220, 7217)"
      ]
     },
     "execution_count": 13,
     "metadata": {},
     "output_type": "execute_result"
    }
   ],
   "source": [
    "matrix_tfidf.shape"
   ]
  },
  {
   "cell_type": "code",
   "execution_count": 14,
   "metadata": {
    "scrolled": false
   },
   "outputs": [
    {
     "data": {
      "text/plain": [
       "array([[ 0.        ,  0.        ,  0.        , ...,  0.        ,\n",
       "         0.        ,  0.        ],\n",
       "       [ 0.        ,  0.        ,  0.        , ...,  0.        ,\n",
       "         0.        ,  0.        ],\n",
       "       [18.40747231,  0.        ,  0.        , ...,  0.        ,\n",
       "         0.        ,  0.        ],\n",
       "       ...,\n",
       "       [ 0.        ,  0.        ,  0.        , ...,  0.        ,\n",
       "         0.        ,  0.        ],\n",
       "       [ 0.        ,  0.        ,  0.        , ...,  0.        ,\n",
       "         0.        ,  0.        ],\n",
       "       [ 0.        ,  0.        ,  0.        , ...,  0.        ,\n",
       "         0.        ,  0.        ]])"
      ]
     },
     "execution_count": 14,
     "metadata": {},
     "output_type": "execute_result"
    }
   ],
   "source": [
    "matrix_tfidf"
   ]
  },
  {
   "cell_type": "code",
   "execution_count": 15,
   "metadata": {},
   "outputs": [],
   "source": [
    "from sklearn.metrics.pairwise import pairwise_distances"
   ]
  },
  {
   "cell_type": "code",
   "execution_count": 16,
   "metadata": {
    "scrolled": true
   },
   "outputs": [
    {
     "name": "stdout",
     "output_type": "stream",
     "text": [
      "CPU times: user 2.14 s, sys: 280 ms, total: 2.42 s\n",
      "Wall time: 126 ms\n"
     ]
    }
   ],
   "source": [
    "%%time\n",
    "d = pairwise_distances(matrix_tfidf, metric='cosine')"
   ]
  },
  {
   "cell_type": "code",
   "execution_count": 17,
   "metadata": {
    "scrolled": true
   },
   "outputs": [
    {
     "data": {
      "text/plain": [
       "(220, 220)"
      ]
     },
     "execution_count": 17,
     "metadata": {},
     "output_type": "execute_result"
    }
   ],
   "source": [
    "d.shape"
   ]
  },
  {
   "cell_type": "markdown",
   "metadata": {},
   "source": [
    "\"Так как текстов заданной тематики несколько, результирующую метрику на неизвестный текст можно получить путем сложения косинусной меры этого текста со всеми эталонными текстами. При этом сумма косинусных мер может оказаться больше единицы.\""
   ]
  },
  {
   "cell_type": "code",
   "execution_count": 18,
   "metadata": {},
   "outputs": [],
   "source": [
    "d20 = 1 - abs(d[:20][:])"
   ]
  },
  {
   "cell_type": "code",
   "execution_count": 19,
   "metadata": {},
   "outputs": [
    {
     "data": {
      "text/plain": [
       "(20, 220)"
      ]
     },
     "execution_count": 19,
     "metadata": {},
     "output_type": "execute_result"
    }
   ],
   "source": [
    "d20.shape"
   ]
  },
  {
   "cell_type": "code",
   "execution_count": 20,
   "metadata": {},
   "outputs": [],
   "source": [
    "y=list(d20.sum(axis=0)[20:])"
   ]
  },
  {
   "cell_type": "code",
   "execution_count": 21,
   "metadata": {
    "scrolled": false
   },
   "outputs": [
    {
     "data": {
      "text/plain": [
       "[<matplotlib.lines.Line2D at 0x7ff0988dee10>]"
      ]
     },
     "execution_count": 21,
     "metadata": {},
     "output_type": "execute_result"
    },
    {
     "data": {
      "image/png": "[encoded data removed]",
      "text/plain": [
       "<Figure size 432x288 with 1 Axes>"
      ]
     },
     "metadata": {},
     "output_type": "display_data"
    }
   ],
   "source": [
    "plt.plot(sorted(y))"
   ]
  },
  {
   "cell_type": "code",
   "execution_count": 22,
   "metadata": {},
   "outputs": [],
   "source": [
    "#С токенайзером"
   ]
  },
  {
   "cell_type": "code",
   "execution_count": 22,
   "metadata": {},
   "outputs": [],
   "source": [
    "tfidf_vec = TfidfVectorizer(norm=None, \n",
    "                            smooth_idf=False, \n",
    "                            tokenizer=tokenize, \n",
    "                            stop_words=stop_words)\n",
    "matrix_tfidf = tfidf_vec.fit_transform(texts).toarray()\n"
   ]
  },
  {
   "cell_type": "code",
   "execution_count": 23,
   "metadata": {},
   "outputs": [
    {
     "name": "stdout",
     "output_type": "stream",
     "text": [
      "CPU times: user 876 ms, sys: 180 ms, total: 1.06 s\n",
      "Wall time: 43.4 ms\n"
     ]
    }
   ],
   "source": [
    "%%time\n",
    "d = pairwise_distances(matrix_tfidf, metric='cosine')"
   ]
  },
  {
   "cell_type": "code",
   "execution_count": 24,
   "metadata": {},
   "outputs": [],
   "source": [
    "d20 = 1 - abs(d[:20][:])\n",
    "y=list(d20.sum(axis=0)[20:])"
   ]
  },
  {
   "cell_type": "code",
   "execution_count": 25,
   "metadata": {
    "scrolled": false
   },
   "outputs": [
    {
     "data": {
      "text/plain": [
       "[<matplotlib.lines.Line2D at 0x7ff0989a5588>]"
      ]
     },
     "execution_count": 25,
     "metadata": {},
     "output_type": "execute_result"
    },
    {
     "data": {
      "image/png": "[encoded data removed]",
      "text/plain": [
       "<Figure size 432x288 with 1 Axes>"
      ]
     },
     "metadata": {},
     "output_type": "display_data"
    }
   ],
   "source": [
    "plt.plot(sorted(y))"
   ]
  },
  {
   "cell_type": "code",
   "execution_count": 26,
   "metadata": {},
   "outputs": [
    {
     "name": "stdout",
     "output_type": "stream",
     "text": [
      "200\n",
      "265.1721777748663\n",
      "(220, 4266)\n"
     ]
    }
   ],
   "source": [
    "print(len(y))\n",
    "print(sum(y))\n",
    "print(matrix_tfidf.shape)"
   ]
  },
  {
   "cell_type": "code",
   "execution_count": 27,
   "metadata": {},
   "outputs": [
    {
     "name": "stdout",
     "output_type": "stream",
     "text": [
      "1.3258608888743317\n"
     ]
    }
   ],
   "source": [
    "average = sum(y)/200\n",
    "print(average)"
   ]
  },
  {
   "cell_type": "code",
   "execution_count": 28,
   "metadata": {
    "scrolled": false
   },
   "outputs": [
    {
     "name": "stdout",
     "output_type": "stream",
     "text": [
      "{'defined': [4, 3090, 3603, 22, 3607, 31, 3626, 3627, 1076, 3139, 3154, 3667, 783, 88, 1211, 607, 2656, 1123, 2148, 1125, 1639, 1653, 2173, 3203, 2692, 645, 646, 2185, 3214, 2199, 1690, 3748, 3240, 176, 3763, 3253, 2230, 3256, 2235, 1215, 2758, 715, 1741, 2258, 1748, 219, 1244, 1759, 3808, 742, 1262, 382, 468, 3317, 1281, 3332, 775, 3854, 3343, 3349, 800, 3886, 3892, 2869, 3904, 1347, 840, 2379, 2896, 3411, 857, 3418, 3426, 357, 358, 2411, 3438, 372, 3454, 1920, 3223, 1432, 2288, 421, 943, 1457, 2490, 955, 958, 3007, 450, 2504, 464, 1700, 2517, 2026, 2030, 1519, 3065, 510], 'other': [1025, 3078, 522, 3084, 1550, 1560, 1561, 2224, 859, 46, 2101, 3639, 1717, 3647, 2634, 1635, 1616, 1967, 1117, 1634, 1638, 1131, 2579, 3183, 3184, 2676, 630, 3703, 2682, 1685, 623, 2200, 1691, 160, 3233, 3235, 2215, 695, 723, 3780, 2760, 2253, 3279, 3795, 2774, 3299, 1257, 3827, 3831, 2812, 766, 3852, 2891, 274, 1302, 3352, 133, 1308, 290, 1827, 3292, 1829, 1831, 1323, 3378, 3906, 2372, 3398, 3913, 3931, 352, 1384, 2922, 880, 1909, 888, 1344, 386, 903, 322, 414, 2374, 1441, 2067, 1961, 3509, 3715, 3744, 3009, 1806, 3526, 967, 3025, 3538, 1500, 3550, 2029, 503, 1019, 1020]}\n"
     ]
    }
   ],
   "source": [
    "result = {\n",
    "    'defined': [],\n",
    "    'other': []\n",
    "}\n",
    "\n",
    "for i in y:\n",
    "    if i > average:\n",
    "        result['defined'].append(texts_index[y.index(i)][1])\n",
    "    else:\n",
    "        result['other'].append(texts_index[y.index(i)][1])\n",
    "print(result)"
   ]
  },
  {
   "cell_type": "markdown",
   "metadata": {},
   "source": [
    "\"Выходной файл должен быть расположен в корне вашей директории в файле lab05.json. Чекер будет брать файл именно оттуда.\""
   ]
  },
  {
   "cell_type": "code",
   "execution_count": 29,
   "metadata": {},
   "outputs": [],
   "source": [
    "import json\n",
    "with open(\"lab05.json\", \"w\") as outfile:\n",
    "    json.dump(result, outfile)"
   ]
  },
  {
   "cell_type": "markdown",
   "metadata": {},
   "source": [
    "Лабораторная будет считаться пройденной, если метрики:\n",
    "\n",
    "len(TrueDefined.intersection(YourDefined))/len(YourDefined)\n",
    "\n",
    "len(TrueDefined.intersection(YourDefined))/len(TrueDefined)\n",
    "\n",
    "будут больше 0.9."
   ]
  },
  {
   "cell_type": "markdown",
   "metadata": {},
   "source": [
    "```\n",
    "time: 2019-20-04 11:56\n",
    "result is correct: True\n",
    "len(TrueDefined.intersection(YourDefined))/len(TrueDefined): 1.0\n",
    "len(TrueDefined.intersection(YourDefined))/len(YourDefined): 1.0\n",
    "checker has successfully read all data in file: True\n",
    "file lab05.json exists in your dir: True\n",
    "file has size less than 20 000 bytes: True\n",
    "```"
   ]
  },
  {
   "cell_type": "code",
   "execution_count": null,
   "metadata": {},
   "outputs": [],
   "source": []
  }
 ],
 "metadata": {
  "kernelspec": {
   "display_name": "Python 3",
   "language": "python",
   "name": "python3"
  },
  "language_info": {
   "codemirror_mode": {
    "name": "ipython",
    "version": 3
   },
   "file_extension": ".py",
   "mimetype": "text/x-python",
   "name": "python",
   "nbconvert_exporter": "python",
   "pygments_lexer": "ipython3",
   "version": "3.6.5"
  }
 },
 "nbformat": 4,
 "nbformat_minor": 1
}
