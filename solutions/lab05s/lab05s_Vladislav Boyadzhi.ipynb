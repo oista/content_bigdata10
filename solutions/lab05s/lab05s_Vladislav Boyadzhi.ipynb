{
 "cells": [
  {
   "cell_type": "code",
   "execution_count": 1,
   "metadata": {
    "_cell_guid": "b1076dfc-b9ad-4769-8c92-a6c4dae69d19",
    "_uuid": "8f2839f25d086af736a60e9eeb907d3b93b6e0e5"
   },
   "outputs": [
    {
     "name": "stderr",
     "output_type": "stream",
     "text": [
      "/opt/conda/lib/python3.6/site-packages/smart_open/ssh.py:34: UserWarning: paramiko missing, opening SSH/SCP/SFTP paths will be disabled.  `pip install paramiko` to suppress\n",
      "  warnings.warn('paramiko missing, opening SSH/SCP/SFTP paths will be disabled.  `pip install paramiko` to suppress')\n"
     ]
    },
    {
     "name": "stdout",
     "output_type": "stream",
     "text": [
      "['imdb_master.csv']\n"
     ]
    }
   ],
   "source": [
    "# This Python 3 environment comes with many helpful analytics libraries installed\n",
    "# It is defined by the kaggle/python docker image: https://github.com/kaggle/docker-python\n",
    "# For example, here's several helpful packages to load in \n",
    "\n",
    "import numpy as np # linear algebra\n",
    "import pandas as pd # data processing, CSV file I/O (e.g. pd.read_csv)\n",
    "\n",
    "import re\n",
    "from bs4 import BeautifulSoup\n",
    "from nltk import word_tokenize\n",
    "from nltk.corpus import stopwords\n",
    "from nltk.stem import WordNetLemmatizer\n",
    "from gensim.models import Word2Vec, Phrases\n",
    "# Input data files are available in the \"../input/\" directory.\n",
    "# For example, running this (by clicking run or pressing Shift+Enter) will list the files in the input directory\n",
    "\n",
    "import os\n",
    "print(os.listdir(\"../input/imdb-review-dataset\"))\n",
    "\n",
    "# Any results you write to the current directory are saved as output."
   ]
  },
  {
   "cell_type": "code",
   "execution_count": 2,
   "metadata": {},
   "outputs": [],
   "source": [
    "import warnings\n",
    "import sys\n",
    "warnings.filterwarnings('ignore')\n",
    "if sys.version[0] == '2':\n",
    "    reload(sys)\n",
    "    sys.setdefaultencoding(\"utf-8\")"
   ]
  },
  {
   "cell_type": "code",
   "execution_count": 3,
   "metadata": {
    "_cell_guid": "79c7e3d0-c299-4dcb-8224-4455121ee9b0",
    "_uuid": "d629ff2d2480ee46fbb7e2d37f6b5fab8052498a"
   },
   "outputs": [
    {
     "name": "stderr",
     "output_type": "stream",
     "text": [
      "b'Skipping line 43043: expected 2 fields, saw 3\\n'\n"
     ]
    }
   ],
   "source": [
    "train_data = pd.read_csv('../input/word2vec-nlp-tutorial/labeledTrainData.tsv', sep='\\t')[['sentiment','review']]\n",
    "unlabeled_data = pd.read_csv(\"../input/word2vec-nlp-tutorial/unlabeledTrainData.tsv\", error_bad_lines=False, sep='\\t')\n",
    "test_data = pd.read_csv(\"../input/word2vec-nlp-tutorial/testData.tsv\", sep='\\t')\n",
    "\n",
    "additional_data = pd.read_csv('../input/imdb-review-dataset/imdb_master.csv',encoding=\"latin-1\")[['label','review']].rename(columns={'label':'sentiment'})\n",
    "additional_data['sentiment'] = additional_data['sentiment'].map({'neg':0, 'pos':1, 'unsup':-1})\n",
    "additional_data = additional_data[~(additional_data['review'].isin(train_data['review']))]\n",
    "additional_data = additional_data[~(additional_data['review'].isin(test_data['review']))]\n",
    "additional_data = additional_data[~(additional_data['review'].isin(unlabeled_data['review']))]\n",
    "\n",
    "train_data = pd.concat([train_data,additional_data[additional_data['sentiment']!=-1]],ignore_index=True)\n",
    "unlabeled_data = pd.concat([unlabeled_data,additional_data[additional_data['sentiment']==-1].drop(columns='sentiment')],ignore_index=True)\n",
    "del additional_data"
   ]
  },
  {
   "cell_type": "code",
   "execution_count": 4,
   "metadata": {},
   "outputs": [
    {
     "data": {
      "text/plain": [
       "0    25810\n",
       "1    24518\n",
       "Name: sentiment, dtype: int64"
      ]
     },
     "execution_count": 4,
     "metadata": {},
     "output_type": "execute_result"
    }
   ],
   "source": [
    "train_data.sentiment.value_counts()"
   ]
  },
  {
   "cell_type": "code",
   "execution_count": 5,
   "metadata": {},
   "outputs": [
    {
     "name": "stdout",
     "output_type": "stream",
     "text": [
      "train_data - start\n",
      "train_data - end\n",
      "unlabeled_data - start\n",
      "unlabeled_data - end\n",
      "test_data - start\n",
      "test_data - end\n"
     ]
    }
   ],
   "source": [
    "lemmatizer = WordNetLemmatizer()\n",
    "stop_words = set(stopwords.words(\"english\")) \n",
    "\n",
    "def clean_review(text: str):\n",
    "    # 1. Remove HTML\n",
    "    text = BeautifulSoup(text, \"lxml\").get_text()\n",
    "    # 2. Remove non-letters\n",
    "    r = re.compile(r'[^A-Za-z\\s]')\n",
    "    text = re.sub(r, \" \", text)\n",
    "    # 3. Convert to lower case\n",
    "    text = text.lower()\n",
    "    text = word_tokenize(text)\n",
    "    text = [lemmatizer.lemmatize(x) for x in text]\n",
    "    text = [lemmatizer.lemmatize(x, 'v') for x in text] \n",
    "    text = [word for word in text if not word in stop_words]\n",
    "    return text\n",
    "\n",
    "print('train_data - start')\n",
    "train_data['review'] = train_data['review'].apply(lambda x: clean_review(x))\n",
    "print('train_data - end')\n",
    "print('unlabeled_data - start')\n",
    "unlabeled_data['review'] = unlabeled_data['review'].apply(lambda x: clean_review(x))\n",
    "print('unlabeled_data - end')\n",
    "print('test_data - start')\n",
    "test_data['review'] = test_data['review'].apply(lambda x: clean_review(x))\n",
    "print('test_data - end')"
   ]
  },
  {
   "cell_type": "code",
   "execution_count": 6,
   "metadata": {},
   "outputs": [
    {
     "data": {
      "text/plain": [
       "((50328, 2), (75673, 2), (25000, 2))"
      ]
     },
     "execution_count": 6,
     "metadata": {},
     "output_type": "execute_result"
    }
   ],
   "source": [
    "train_data.shape,unlabeled_data.shape,test_data.shape"
   ]
  },
  {
   "cell_type": "code",
   "execution_count": 7,
   "metadata": {},
   "outputs": [],
   "source": [
    "all_reviews = np.hstack((train_data['review'],unlabeled_data['review'],test_data['review']))\n"
   ]
  },
  {
   "cell_type": "code",
   "execution_count": 8,
   "metadata": {},
   "outputs": [],
   "source": [
    "bigrams = Phrases(sentences=all_reviews)\n",
    "trigrams = Phrases(sentences=bigrams[all_reviews])"
   ]
  },
  {
   "cell_type": "code",
   "execution_count": 9,
   "metadata": {},
   "outputs": [
    {
     "name": "stdout",
     "output_type": "stream",
     "text": [
      "['space_station', 'near', 'the', 'solar_system']\n"
     ]
    }
   ],
   "source": [
    "print(trigrams[bigrams['space station near the solar system'.split()]])"
   ]
  },
  {
   "cell_type": "code",
   "execution_count": 10,
   "metadata": {},
   "outputs": [],
   "source": [
    "embedding_vector_size = 256\n",
    "trigrams_model = Word2Vec(\n",
    "    sentences = trigrams[bigrams[all_reviews]],\n",
    "    size = embedding_vector_size,\n",
    "    min_count=3, window=5, workers=4)"
   ]
  },
  {
   "cell_type": "code",
   "execution_count": 11,
   "metadata": {},
   "outputs": [
    {
     "name": "stdout",
     "output_type": "stream",
     "text": [
      "Vocabulary size: 120331\n"
     ]
    }
   ],
   "source": [
    "print(\"Vocabulary size:\", len(trigrams_model.wv.vocab))"
   ]
  },
  {
   "cell_type": "code",
   "execution_count": 12,
   "metadata": {},
   "outputs": [
    {
     "data": {
      "text/plain": [
       "[('planet', 0.7405821084976196),\n",
       " ('continent', 0.7067104578018188),\n",
       " ('wormhole', 0.7008349895477295),\n",
       " ('portal', 0.6928468346595764),\n",
       " ('starship', 0.6907411813735962),\n",
       " ('spacecraft', 0.6872769594192505),\n",
       " ('sphere', 0.678518533706665),\n",
       " ('space_station', 0.671869695186615),\n",
       " ('orbit', 0.6677983999252319),\n",
       " ('spaceship', 0.6667606830596924)]"
      ]
     },
     "execution_count": 12,
     "metadata": {},
     "output_type": "execute_result"
    }
   ],
   "source": [
    "trigrams_model.wv.most_similar('galaxy')"
   ]
  },
  {
   "cell_type": "code",
   "execution_count": 13,
   "metadata": {},
   "outputs": [
    {
     "data": {
      "text/plain": [
       "'dog'"
      ]
     },
     "execution_count": 13,
     "metadata": {},
     "output_type": "execute_result"
    }
   ],
   "source": [
    "trigrams_model.wv.doesnt_match(['galaxy', 'starship', 'planet', 'dog'])"
   ]
  },
  {
   "cell_type": "code",
   "execution_count": 14,
   "metadata": {},
   "outputs": [
    {
     "name": "stderr",
     "output_type": "stream",
     "text": [
      "Using TensorFlow backend.\n"
     ]
    }
   ],
   "source": [
    "\n",
    "# Tools for building a model\n",
    "from sklearn.model_selection import train_test_split\n",
    "from keras.models import Sequential\n",
    "from keras.layers import Dense, LSTM, Dropout, Bidirectional\n",
    "from keras.layers.embeddings import Embedding\n",
    "from keras.preprocessing.sequence import pad_sequences\n",
    "\n",
    "# Tools for assessing the quality of model prediction\n",
    "from sklearn.metrics import accuracy_score, confusion_matrix"
   ]
  },
  {
   "cell_type": "code",
   "execution_count": 15,
   "metadata": {},
   "outputs": [
    {
     "name": "stdout",
     "output_type": "stream",
     "text": [
      "Convert sentences to sentences with ngrams... (done)\n",
      "Vectorize sentences... (done)\n",
      "Transform sentences to sequences... (done)\n",
      "CPU times: user 12min 3s, sys: 524 ms, total: 12min 3s\n",
      "Wall time: 12min 4s\n"
     ]
    }
   ],
   "source": [
    "%%time\n",
    "def vectorize_data(data, vocab: dict) -> list:\n",
    "    print('Vectorize sentences...', end='\\r')\n",
    "    keys = list(vocab.keys())\n",
    "    filter_unknown = lambda word: vocab.get(word, None) is not None\n",
    "    encode = lambda review: list(map(keys.index, filter(filter_unknown, review)))\n",
    "    vectorized = list(map(encode, data))\n",
    "    print('Vectorize sentences... (done)')\n",
    "    return vectorized\n",
    "\n",
    "print('Convert sentences to sentences with ngrams...', end='\\r')\n",
    "X_data = trigrams[bigrams[train_data['review']]]\n",
    "print('Convert sentences to sentences with ngrams... (done)')\n",
    "input_length = 150\n",
    "X_pad = pad_sequences(\n",
    "    sequences=vectorize_data(X_data, vocab=trigrams_model.wv.vocab),\n",
    "    maxlen=input_length,\n",
    "    padding='post')\n",
    "print('Transform sentences to sequences... (done)')"
   ]
  },
  {
   "cell_type": "code",
   "execution_count": 16,
   "metadata": {},
   "outputs": [],
   "source": [
    "X_train, X_test, y_train, y_test = train_test_split(\n",
    "    X_pad,\n",
    "    train_data['sentiment'],\n",
    "    test_size=0.05,\n",
    "    shuffle=True,\n",
    "    random_state=42)"
   ]
  },
  {
   "cell_type": "code",
   "execution_count": 17,
   "metadata": {},
   "outputs": [],
   "source": [
    "def build_model(embedding_matrix: np.ndarray, input_length: int):\n",
    "    model = Sequential()\n",
    "    model.add(Embedding(\n",
    "        input_dim = embedding_matrix.shape[0],\n",
    "        output_dim = embedding_matrix.shape[1], \n",
    "        input_length = input_length,\n",
    "        weights = [embedding_matrix],\n",
    "        trainable=False))\n",
    "    model.add(Bidirectional(LSTM(128, recurrent_dropout=0.1)))\n",
    "    model.add(Dropout(0.25))\n",
    "    model.add(Dense(64))\n",
    "    model.add(Dropout(0.3))\n",
    "    model.add(Dense(1, activation='sigmoid'))\n",
    "    model.summary()\n",
    "    return model"
   ]
  },
  {
   "cell_type": "code",
   "execution_count": 18,
   "metadata": {},
   "outputs": [
    {
     "name": "stdout",
     "output_type": "stream",
     "text": [
      "WARNING:tensorflow:From /opt/conda/lib/python3.6/site-packages/tensorflow/python/framework/op_def_library.py:263: colocate_with (from tensorflow.python.framework.ops) is deprecated and will be removed in a future version.\n",
      "Instructions for updating:\n",
      "Colocations handled automatically by placer.\n",
      "WARNING:tensorflow:From /opt/conda/lib/python3.6/site-packages/keras/backend/tensorflow_backend.py:3445: calling dropout (from tensorflow.python.ops.nn_ops) with keep_prob is deprecated and will be removed in a future version.\n",
      "Instructions for updating:\n",
      "Please use `rate` instead of `keep_prob`. Rate should be set to `rate = 1 - keep_prob`.\n",
      "_________________________________________________________________\n",
      "Layer (type)                 Output Shape              Param #   \n",
      "=================================================================\n",
      "embedding_1 (Embedding)      (None, 150, 256)          30804736  \n",
      "_________________________________________________________________\n",
      "bidirectional_1 (Bidirection (None, 256)               394240    \n",
      "_________________________________________________________________\n",
      "dropout_1 (Dropout)          (None, 256)               0         \n",
      "_________________________________________________________________\n",
      "dense_1 (Dense)              (None, 64)                16448     \n",
      "_________________________________________________________________\n",
      "dropout_2 (Dropout)          (None, 64)                0         \n",
      "_________________________________________________________________\n",
      "dense_2 (Dense)              (None, 1)                 65        \n",
      "=================================================================\n",
      "Total params: 31,215,489\n",
      "Trainable params: 410,753\n",
      "Non-trainable params: 30,804,736\n",
      "_________________________________________________________________\n"
     ]
    }
   ],
   "source": [
    "model = build_model(\n",
    "    embedding_matrix=trigrams_model.wv.vectors,\n",
    "    input_length=input_length)"
   ]
  },
  {
   "cell_type": "code",
   "execution_count": 19,
   "metadata": {},
   "outputs": [
    {
     "name": "stdout",
     "output_type": "stream",
     "text": [
      "WARNING:tensorflow:From /opt/conda/lib/python3.6/site-packages/tensorflow/python/ops/math_ops.py:3066: to_int32 (from tensorflow.python.ops.math_ops) is deprecated and will be removed in a future version.\n",
      "Instructions for updating:\n",
      "Use tf.cast instead.\n",
      "Train on 47811 samples, validate on 2517 samples\n",
      "Epoch 1/10\n",
      "47811/47811 [==============================] - 49s 1ms/step - loss: 0.6279 - acc: 0.6404 - val_loss: 0.4945 - val_acc: 0.7608\n",
      "Epoch 2/10\n",
      "47811/47811 [==============================] - 45s 951us/step - loss: 0.4773 - acc: 0.7837 - val_loss: 0.4184 - val_acc: 0.8157\n",
      "Epoch 3/10\n",
      "47811/47811 [==============================] - 45s 933us/step - loss: 0.4080 - acc: 0.8200 - val_loss: 0.3837 - val_acc: 0.8252\n",
      "Epoch 4/10\n",
      "47811/47811 [==============================] - 46s 956us/step - loss: 0.3592 - acc: 0.8449 - val_loss: 0.3496 - val_acc: 0.8502\n",
      "Epoch 5/10\n",
      "47811/47811 [==============================] - 45s 935us/step - loss: 0.3159 - acc: 0.8671 - val_loss: 0.3566 - val_acc: 0.8419\n",
      "Epoch 6/10\n",
      "47811/47811 [==============================] - 46s 954us/step - loss: 0.2757 - acc: 0.8865 - val_loss: 0.3361 - val_acc: 0.8562\n",
      "Epoch 7/10\n",
      "47811/47811 [==============================] - 45s 932us/step - loss: 0.2509 - acc: 0.8974 - val_loss: 0.3123 - val_acc: 0.8705\n",
      "Epoch 8/10\n",
      "47811/47811 [==============================] - 47s 990us/step - loss: 0.2109 - acc: 0.9168 - val_loss: 0.3266 - val_acc: 0.8788\n",
      "Epoch 9/10\n",
      "47811/47811 [==============================] - 45s 944us/step - loss: 0.1695 - acc: 0.9341 - val_loss: 0.3234 - val_acc: 0.8884\n",
      "Epoch 10/10\n",
      "47811/47811 [==============================] - 45s 932us/step - loss: 0.1419 - acc: 0.9456 - val_loss: 0.3241 - val_acc: 0.8911\n"
     ]
    }
   ],
   "source": [
    "model.compile(\n",
    "    loss=\"binary_crossentropy\",\n",
    "    optimizer='adam',\n",
    "    metrics=['accuracy'])\n",
    "\n",
    "history = model.fit(\n",
    "    x=X_train,\n",
    "    y=y_train,\n",
    "    validation_data=(X_test, y_test),\n",
    "    batch_size=500,\n",
    "    epochs=10)"
   ]
  },
  {
   "cell_type": "code",
   "execution_count": 20,
   "metadata": {},
   "outputs": [
    {
     "name": "stdout",
     "output_type": "stream",
     "text": [
      "CPU times: user 6min 30s, sys: 1min 55s, total: 8min 25s\n",
      "Wall time: 4min 42s\n"
     ]
    }
   ],
   "source": [
    "%%time\n",
    "y_train_pred = model.predict_classes(X_train)\n",
    "y_test_pred = model.predict_classes(X_test)"
   ]
  },
  {
   "cell_type": "code",
   "execution_count": 21,
   "metadata": {},
   "outputs": [],
   "source": [
    "def plot_confusion_matrix(y_true, y_pred, ax, class_names=['Positive', 'Negative'], vmax=None,\n",
    "                          normed=True, title='Confusion matrix'):\n",
    "    matrix = confusion_matrix(y_true,y_pred)\n",
    "    if normed:\n",
    "        matrix = matrix.astype('float') / matrix.sum(axis=1)[:, np.newaxis]\n",
    "    sns.heatmap(matrix, vmax=vmax, annot=True, square=True, ax=ax,\n",
    "               cmap=plt.cm.Blues_r, cbar=False, linecolor='black',\n",
    "               linewidths=1, xticklabels=class_names)\n",
    "    ax.set_title(title, y=1.20, fontsize=16)\n",
    "    #ax.set_ylabel('True labels', fontsize=12)\n",
    "    ax.set_xlabel('Predicted labels', y=1.10, fontsize=12)\n",
    "    ax.set_yticklabels(class_names, rotation=0)"
   ]
  },
  {
   "cell_type": "code",
   "execution_count": 22,
   "metadata": {},
   "outputs": [
    {
     "data": {
      "image/png": "[encoded data removed]",
      "text/plain": [
       "<Figure size 432x288 with 1 Axes>"
      ]
     },
     "metadata": {},
     "output_type": "display_data"
    }
   ],
   "source": [
    "import seaborn as sns\n",
    "import pandas as pd\n",
    "import matplotlib.pyplot as plt\n",
    "\n",
    "fig, ax = plt.subplots()\n",
    "\n",
    "plot_confusion_matrix(y_test, y_test_pred, ax=ax, #normed=False,\n",
    "                      title='Confusion matrix (test data)',\n",
    "                      class_names=['Positive', 'Negative'])"
   ]
  },
  {
   "cell_type": "code",
   "execution_count": 23,
   "metadata": {},
   "outputs": [
    {
     "data": {
      "image/png": "[encoded data removed]",
      "text/plain": [
       "<Figure size 1152x432 with 2 Axes>"
      ]
     },
     "metadata": {},
     "output_type": "display_data"
    }
   ],
   "source": [
    "fig, (axis1, axis2) = plt.subplots(nrows=1, ncols=2, figsize=(16,6))\n",
    "\n",
    "# summarize history for accuracy\n",
    "axis1.plot(history.history['acc'], label='Train', linewidth=3)\n",
    "axis1.plot(history.history['val_acc'], label='Validation', linewidth=3)\n",
    "axis1.set_title('Model accuracy', fontsize=16)\n",
    "axis1.set_ylabel('accuracy')\n",
    "axis1.set_xlabel('epoch')\n",
    "axis1.legend(loc='upper left')\n",
    "\n",
    "# summarize history for loss\n",
    "axis2.plot(history.history['loss'], label='Train', linewidth=3)\n",
    "axis2.plot(history.history['val_loss'], label='Validation', linewidth=3)\n",
    "axis2.set_title('Model loss', fontsize=16)\n",
    "axis2.set_ylabel('loss')\n",
    "axis2.set_xlabel('epoch')\n",
    "axis2.legend(loc='upper right')\n",
    "plt.show()"
   ]
  },
  {
   "cell_type": "code",
   "execution_count": 24,
   "metadata": {},
   "outputs": [
    {
     "name": "stdout",
     "output_type": "stream",
     "text": [
      "Convert sentences to sentences with ngrams... (done)\n",
      "Vectorize sentences... (done)\n",
      "Transform sentences to sequences... (done)\n"
     ]
    }
   ],
   "source": [
    "print('Convert sentences to sentences with ngrams...', end='\\r')\n",
    "X_submit = trigrams[bigrams[test_data['review']]]\n",
    "print('Convert sentences to sentences with ngrams... (done)')\n",
    "X_sub = pad_sequences(\n",
    "    sequences=vectorize_data(X_submit, vocab=trigrams_model.wv.vocab),\n",
    "    maxlen=input_length,\n",
    "    padding='post')\n",
    "print('Transform sentences to sequences... (done)')\n",
    "Y_sub_pred = model.predict_classes(X_sub)\n",
    "test_data['sentiment'] = Y_sub_pred\n",
    "test_data.to_csv('submission.csv', index=False, columns=['id','sentiment'])"
   ]
  },
  {
   "cell_type": "code",
   "execution_count": 25,
   "metadata": {},
   "outputs": [],
   "source": []
  }
 ],
 "metadata": {
  "kernelspec": {
   "display_name": "Python 3",
   "language": "python",
   "name": "python3"
  },
  "language_info": {
   "codemirror_mode": {
    "name": "ipython",
    "version": 3
   },
   "file_extension": ".py",
   "mimetype": "text/x-python",
   "name": "python",
   "nbconvert_exporter": "python",
   "pygments_lexer": "ipython3",
   "version": "3.6.4"
  }
 },
 "nbformat": 4,
 "nbformat_minor": 1
}
