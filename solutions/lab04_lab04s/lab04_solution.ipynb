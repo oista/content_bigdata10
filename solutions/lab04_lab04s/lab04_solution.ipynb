{
 "cells": [
  {
   "cell_type": "markdown",
   "metadata": {},
   "source": [
    "# Решение лабораторной работы №4 и суперачивки"
   ]
  },
  {
   "cell_type": "code",
   "execution_count": 1,
   "metadata": {
    "scrolled": true
   },
   "outputs": [],
   "source": [
    "import sys\n",
    "import pandas as pd\n",
    "import numpy as np\n",
    "%matplotlib inline\n",
    "from matplotlib import pyplot as plt\n",
    "import seaborn as sns"
   ]
  },
  {
   "cell_type": "markdown",
   "metadata": {},
   "source": [
    "### Читаем Данные"
   ]
  },
  {
   "cell_type": "code",
   "execution_count": 2,
   "metadata": {},
   "outputs": [],
   "source": [
    "data_train = pd.read_csv('/data/share/lab04data/lab04_train.csv', sep=',')"
   ]
  },
  {
   "cell_type": "code",
   "execution_count": 3,
   "metadata": {},
   "outputs": [],
   "source": [
    "#сразу отсекаем целевой столбец\n",
    "y_train = data_train['TARGET'].fillna(0)\n",
    "data_train.drop(['TARGET'], axis=1, inplace=True)"
   ]
  },
  {
   "cell_type": "code",
   "execution_count": 4,
   "metadata": {},
   "outputs": [],
   "source": [
    "data_test = pd.read_csv('/data/share/lab04data/lab04_test.csv', sep=',')"
   ]
  },
  {
   "cell_type": "code",
   "execution_count": 5,
   "metadata": {},
   "outputs": [],
   "source": [
    "#объединяем для удобства работы над признаками.\n",
    "data = pd.concat([data_train, data_test])"
   ]
  },
  {
   "cell_type": "code",
   "execution_count": 6,
   "metadata": {},
   "outputs": [
    {
     "data": {
      "text/plain": [
       "((320764, 116), (44399, 116))"
      ]
     },
     "execution_count": 6,
     "metadata": {},
     "output_type": "execute_result"
    }
   ],
   "source": [
    "data_train.shape, data_test.shape"
   ]
  },
  {
   "cell_type": "code",
   "execution_count": 7,
   "metadata": {
    "scrolled": true
   },
   "outputs": [
    {
     "data": {
      "text/html": [
       "<div>\n",
       "<style scoped>\n",
       "    .dataframe tbody tr th:only-of-type {\n",
       "        vertical-align: middle;\n",
       "    }\n",
       "\n",
       "    .dataframe tbody tr th {\n",
       "        vertical-align: top;\n",
       "    }\n",
       "\n",
       "    .dataframe thead th {\n",
       "        text-align: right;\n",
       "    }\n",
       "</style>\n",
       "<table border=\"1\" class=\"dataframe\">\n",
       "  <thead>\n",
       "    <tr style=\"text-align: right;\">\n",
       "      <th></th>\n",
       "      <th>Unnamed: 0</th>\n",
       "      <th>ID</th>\n",
       "      <th>CR_PROD_CNT_IL</th>\n",
       "      <th>AMOUNT_RUB_CLO_PRC</th>\n",
       "      <th>PRC_ACCEPTS_A_EMAIL_LINK</th>\n",
       "      <th>APP_REGISTR_RGN_CODE</th>\n",
       "      <th>PRC_ACCEPTS_A_POS</th>\n",
       "      <th>PRC_ACCEPTS_A_TK</th>\n",
       "      <th>TURNOVER_DYNAMIC_IL_1M</th>\n",
       "      <th>CNT_TRAN_AUT_TENDENCY1M</th>\n",
       "      <th>...</th>\n",
       "      <th>LDEAL_ACT_DAYS_ACC_PCT_AVG</th>\n",
       "      <th>REST_DYNAMIC_CC_3M</th>\n",
       "      <th>MED_DEBT_PRC_YWZ</th>\n",
       "      <th>LDEAL_ACT_DAYS_PCT_TR3</th>\n",
       "      <th>LDEAL_ACT_DAYS_PCT_AAVG</th>\n",
       "      <th>LDEAL_DELINQ_PER_MAXYWZ</th>\n",
       "      <th>TURNOVER_DYNAMIC_CC_3M</th>\n",
       "      <th>LDEAL_ACT_DAYS_PCT_TR</th>\n",
       "      <th>LDEAL_ACT_DAYS_PCT_TR4</th>\n",
       "      <th>LDEAL_ACT_DAYS_PCT_CURR</th>\n",
       "    </tr>\n",
       "  </thead>\n",
       "  <tbody>\n",
       "    <tr>\n",
       "      <th>0</th>\n",
       "      <td>333149</td>\n",
       "      <td>479990</td>\n",
       "      <td>0</td>\n",
       "      <td>0.0</td>\n",
       "      <td>0.0</td>\n",
       "      <td>NaN</td>\n",
       "      <td>0.0</td>\n",
       "      <td>0.0</td>\n",
       "      <td>0.0</td>\n",
       "      <td>NaN</td>\n",
       "      <td>...</td>\n",
       "      <td>0.003524</td>\n",
       "      <td>0.0</td>\n",
       "      <td>0.0</td>\n",
       "      <td>0.0</td>\n",
       "      <td>0.0</td>\n",
       "      <td>0.0</td>\n",
       "      <td>0.0</td>\n",
       "      <td>0.0</td>\n",
       "      <td>0.0</td>\n",
       "      <td>0.0</td>\n",
       "    </tr>\n",
       "    <tr>\n",
       "      <th>1</th>\n",
       "      <td>303639</td>\n",
       "      <td>450480</td>\n",
       "      <td>0</td>\n",
       "      <td>0.0</td>\n",
       "      <td>0.0</td>\n",
       "      <td>NaN</td>\n",
       "      <td>0.0</td>\n",
       "      <td>0.0</td>\n",
       "      <td>0.0</td>\n",
       "      <td>NaN</td>\n",
       "      <td>...</td>\n",
       "      <td>0.000618</td>\n",
       "      <td>0.0</td>\n",
       "      <td>0.0</td>\n",
       "      <td>0.0</td>\n",
       "      <td>0.0</td>\n",
       "      <td>0.0</td>\n",
       "      <td>0.0</td>\n",
       "      <td>0.0</td>\n",
       "      <td>0.0</td>\n",
       "      <td>0.0</td>\n",
       "    </tr>\n",
       "    <tr>\n",
       "      <th>2</th>\n",
       "      <td>327113</td>\n",
       "      <td>473954</td>\n",
       "      <td>0</td>\n",
       "      <td>0.0</td>\n",
       "      <td>0.0</td>\n",
       "      <td>NaN</td>\n",
       "      <td>0.0</td>\n",
       "      <td>0.0</td>\n",
       "      <td>0.0</td>\n",
       "      <td>NaN</td>\n",
       "      <td>...</td>\n",
       "      <td>0.027484</td>\n",
       "      <td>0.0</td>\n",
       "      <td>0.0</td>\n",
       "      <td>0.0</td>\n",
       "      <td>0.0</td>\n",
       "      <td>0.0</td>\n",
       "      <td>0.0</td>\n",
       "      <td>0.0</td>\n",
       "      <td>0.0</td>\n",
       "      <td>0.0</td>\n",
       "    </tr>\n",
       "    <tr>\n",
       "      <th>3</th>\n",
       "      <td>384197</td>\n",
       "      <td>531038</td>\n",
       "      <td>0</td>\n",
       "      <td>0.0</td>\n",
       "      <td>NaN</td>\n",
       "      <td>NaN</td>\n",
       "      <td>NaN</td>\n",
       "      <td>NaN</td>\n",
       "      <td>0.0</td>\n",
       "      <td>NaN</td>\n",
       "      <td>...</td>\n",
       "      <td>NaN</td>\n",
       "      <td>0.0</td>\n",
       "      <td>NaN</td>\n",
       "      <td>NaN</td>\n",
       "      <td>NaN</td>\n",
       "      <td>NaN</td>\n",
       "      <td>0.0</td>\n",
       "      <td>NaN</td>\n",
       "      <td>NaN</td>\n",
       "      <td>NaN</td>\n",
       "    </tr>\n",
       "    <tr>\n",
       "      <th>4</th>\n",
       "      <td>202462</td>\n",
       "      <td>349303</td>\n",
       "      <td>0</td>\n",
       "      <td>0.0</td>\n",
       "      <td>0.0</td>\n",
       "      <td>NaN</td>\n",
       "      <td>0.0</td>\n",
       "      <td>0.0</td>\n",
       "      <td>0.0</td>\n",
       "      <td>NaN</td>\n",
       "      <td>...</td>\n",
       "      <td>NaN</td>\n",
       "      <td>0.0</td>\n",
       "      <td>NaN</td>\n",
       "      <td>NaN</td>\n",
       "      <td>NaN</td>\n",
       "      <td>NaN</td>\n",
       "      <td>0.0</td>\n",
       "      <td>NaN</td>\n",
       "      <td>NaN</td>\n",
       "      <td>NaN</td>\n",
       "    </tr>\n",
       "  </tbody>\n",
       "</table>\n",
       "<p>5 rows × 116 columns</p>\n",
       "</div>"
      ],
      "text/plain": [
       "   Unnamed: 0      ID  CR_PROD_CNT_IL  AMOUNT_RUB_CLO_PRC  \\\n",
       "0      333149  479990               0                 0.0   \n",
       "1      303639  450480               0                 0.0   \n",
       "2      327113  473954               0                 0.0   \n",
       "3      384197  531038               0                 0.0   \n",
       "4      202462  349303               0                 0.0   \n",
       "\n",
       "   PRC_ACCEPTS_A_EMAIL_LINK  APP_REGISTR_RGN_CODE  PRC_ACCEPTS_A_POS  \\\n",
       "0                       0.0                   NaN                0.0   \n",
       "1                       0.0                   NaN                0.0   \n",
       "2                       0.0                   NaN                0.0   \n",
       "3                       NaN                   NaN                NaN   \n",
       "4                       0.0                   NaN                0.0   \n",
       "\n",
       "   PRC_ACCEPTS_A_TK  TURNOVER_DYNAMIC_IL_1M  CNT_TRAN_AUT_TENDENCY1M  \\\n",
       "0               0.0                     0.0                      NaN   \n",
       "1               0.0                     0.0                      NaN   \n",
       "2               0.0                     0.0                      NaN   \n",
       "3               NaN                     0.0                      NaN   \n",
       "4               0.0                     0.0                      NaN   \n",
       "\n",
       "            ...             LDEAL_ACT_DAYS_ACC_PCT_AVG  REST_DYNAMIC_CC_3M  \\\n",
       "0           ...                               0.003524                 0.0   \n",
       "1           ...                               0.000618                 0.0   \n",
       "2           ...                               0.027484                 0.0   \n",
       "3           ...                                    NaN                 0.0   \n",
       "4           ...                                    NaN                 0.0   \n",
       "\n",
       "   MED_DEBT_PRC_YWZ  LDEAL_ACT_DAYS_PCT_TR3 LDEAL_ACT_DAYS_PCT_AAVG  \\\n",
       "0               0.0                     0.0                     0.0   \n",
       "1               0.0                     0.0                     0.0   \n",
       "2               0.0                     0.0                     0.0   \n",
       "3               NaN                     NaN                     NaN   \n",
       "4               NaN                     NaN                     NaN   \n",
       "\n",
       "   LDEAL_DELINQ_PER_MAXYWZ  TURNOVER_DYNAMIC_CC_3M  LDEAL_ACT_DAYS_PCT_TR  \\\n",
       "0                      0.0                     0.0                    0.0   \n",
       "1                      0.0                     0.0                    0.0   \n",
       "2                      0.0                     0.0                    0.0   \n",
       "3                      NaN                     0.0                    NaN   \n",
       "4                      NaN                     0.0                    NaN   \n",
       "\n",
       "   LDEAL_ACT_DAYS_PCT_TR4  LDEAL_ACT_DAYS_PCT_CURR  \n",
       "0                     0.0                      0.0  \n",
       "1                     0.0                      0.0  \n",
       "2                     0.0                      0.0  \n",
       "3                     NaN                      NaN  \n",
       "4                     NaN                      NaN  \n",
       "\n",
       "[5 rows x 116 columns]"
      ]
     },
     "execution_count": 7,
     "metadata": {},
     "output_type": "execute_result"
    }
   ],
   "source": [
    "#pd.options.display.max_info_columns = 150\n",
    "data_train.head()"
   ]
  },
  {
   "cell_type": "code",
   "execution_count": 8,
   "metadata": {},
   "outputs": [
    {
     "data": {
      "text/html": [
       "<div>\n",
       "<style scoped>\n",
       "    .dataframe tbody tr th:only-of-type {\n",
       "        vertical-align: middle;\n",
       "    }\n",
       "\n",
       "    .dataframe tbody tr th {\n",
       "        vertical-align: top;\n",
       "    }\n",
       "\n",
       "    .dataframe thead th {\n",
       "        text-align: right;\n",
       "    }\n",
       "</style>\n",
       "<table border=\"1\" class=\"dataframe\">\n",
       "  <thead>\n",
       "    <tr style=\"text-align: right;\">\n",
       "      <th></th>\n",
       "      <th>Unnamed: 0</th>\n",
       "      <th>ID</th>\n",
       "      <th>CR_PROD_CNT_IL</th>\n",
       "      <th>AMOUNT_RUB_CLO_PRC</th>\n",
       "      <th>PRC_ACCEPTS_A_EMAIL_LINK</th>\n",
       "      <th>APP_REGISTR_RGN_CODE</th>\n",
       "      <th>PRC_ACCEPTS_A_POS</th>\n",
       "      <th>PRC_ACCEPTS_A_TK</th>\n",
       "      <th>TURNOVER_DYNAMIC_IL_1M</th>\n",
       "      <th>CNT_TRAN_AUT_TENDENCY1M</th>\n",
       "      <th>...</th>\n",
       "      <th>LDEAL_ACT_DAYS_ACC_PCT_AVG</th>\n",
       "      <th>REST_DYNAMIC_CC_3M</th>\n",
       "      <th>MED_DEBT_PRC_YWZ</th>\n",
       "      <th>LDEAL_ACT_DAYS_PCT_TR3</th>\n",
       "      <th>LDEAL_ACT_DAYS_PCT_AAVG</th>\n",
       "      <th>LDEAL_DELINQ_PER_MAXYWZ</th>\n",
       "      <th>TURNOVER_DYNAMIC_CC_3M</th>\n",
       "      <th>LDEAL_ACT_DAYS_PCT_TR</th>\n",
       "      <th>LDEAL_ACT_DAYS_PCT_TR4</th>\n",
       "      <th>LDEAL_ACT_DAYS_PCT_CURR</th>\n",
       "    </tr>\n",
       "  </thead>\n",
       "  <tbody>\n",
       "    <tr>\n",
       "      <th>0</th>\n",
       "      <td>372289</td>\n",
       "      <td>519130</td>\n",
       "      <td>0</td>\n",
       "      <td>0.000000</td>\n",
       "      <td>NaN</td>\n",
       "      <td>NaN</td>\n",
       "      <td>NaN</td>\n",
       "      <td>NaN</td>\n",
       "      <td>0.0</td>\n",
       "      <td>NaN</td>\n",
       "      <td>...</td>\n",
       "      <td>NaN</td>\n",
       "      <td>0.0</td>\n",
       "      <td>NaN</td>\n",
       "      <td>NaN</td>\n",
       "      <td>NaN</td>\n",
       "      <td>NaN</td>\n",
       "      <td>0.0</td>\n",
       "      <td>NaN</td>\n",
       "      <td>NaN</td>\n",
       "      <td>NaN</td>\n",
       "    </tr>\n",
       "    <tr>\n",
       "      <th>1</th>\n",
       "      <td>87204</td>\n",
       "      <td>234045</td>\n",
       "      <td>0</td>\n",
       "      <td>0.013322</td>\n",
       "      <td>0.0</td>\n",
       "      <td>NaN</td>\n",
       "      <td>0.0</td>\n",
       "      <td>0.0</td>\n",
       "      <td>0.0</td>\n",
       "      <td>NaN</td>\n",
       "      <td>...</td>\n",
       "      <td>NaN</td>\n",
       "      <td>0.0</td>\n",
       "      <td>NaN</td>\n",
       "      <td>NaN</td>\n",
       "      <td>NaN</td>\n",
       "      <td>NaN</td>\n",
       "      <td>0.0</td>\n",
       "      <td>NaN</td>\n",
       "      <td>NaN</td>\n",
       "      <td>NaN</td>\n",
       "    </tr>\n",
       "    <tr>\n",
       "      <th>2</th>\n",
       "      <td>254415</td>\n",
       "      <td>401256</td>\n",
       "      <td>0</td>\n",
       "      <td>0.011870</td>\n",
       "      <td>0.0</td>\n",
       "      <td>NaN</td>\n",
       "      <td>0.0</td>\n",
       "      <td>0.0</td>\n",
       "      <td>0.0</td>\n",
       "      <td>0.666667</td>\n",
       "      <td>...</td>\n",
       "      <td>NaN</td>\n",
       "      <td>0.0</td>\n",
       "      <td>NaN</td>\n",
       "      <td>NaN</td>\n",
       "      <td>NaN</td>\n",
       "      <td>NaN</td>\n",
       "      <td>0.0</td>\n",
       "      <td>NaN</td>\n",
       "      <td>NaN</td>\n",
       "      <td>NaN</td>\n",
       "    </tr>\n",
       "    <tr>\n",
       "      <th>3</th>\n",
       "      <td>404229</td>\n",
       "      <td>551070</td>\n",
       "      <td>0</td>\n",
       "      <td>0.000000</td>\n",
       "      <td>NaN</td>\n",
       "      <td>NaN</td>\n",
       "      <td>NaN</td>\n",
       "      <td>NaN</td>\n",
       "      <td>0.0</td>\n",
       "      <td>NaN</td>\n",
       "      <td>...</td>\n",
       "      <td>NaN</td>\n",
       "      <td>0.0</td>\n",
       "      <td>NaN</td>\n",
       "      <td>NaN</td>\n",
       "      <td>NaN</td>\n",
       "      <td>NaN</td>\n",
       "      <td>0.0</td>\n",
       "      <td>NaN</td>\n",
       "      <td>NaN</td>\n",
       "      <td>NaN</td>\n",
       "    </tr>\n",
       "    <tr>\n",
       "      <th>4</th>\n",
       "      <td>220444</td>\n",
       "      <td>367285</td>\n",
       "      <td>0</td>\n",
       "      <td>NaN</td>\n",
       "      <td>NaN</td>\n",
       "      <td>NaN</td>\n",
       "      <td>NaN</td>\n",
       "      <td>NaN</td>\n",
       "      <td>0.0</td>\n",
       "      <td>NaN</td>\n",
       "      <td>...</td>\n",
       "      <td>NaN</td>\n",
       "      <td>0.0</td>\n",
       "      <td>NaN</td>\n",
       "      <td>NaN</td>\n",
       "      <td>NaN</td>\n",
       "      <td>NaN</td>\n",
       "      <td>0.0</td>\n",
       "      <td>NaN</td>\n",
       "      <td>NaN</td>\n",
       "      <td>NaN</td>\n",
       "    </tr>\n",
       "  </tbody>\n",
       "</table>\n",
       "<p>5 rows × 116 columns</p>\n",
       "</div>"
      ],
      "text/plain": [
       "   Unnamed: 0      ID  CR_PROD_CNT_IL  AMOUNT_RUB_CLO_PRC  \\\n",
       "0      372289  519130               0            0.000000   \n",
       "1       87204  234045               0            0.013322   \n",
       "2      254415  401256               0            0.011870   \n",
       "3      404229  551070               0            0.000000   \n",
       "4      220444  367285               0                 NaN   \n",
       "\n",
       "   PRC_ACCEPTS_A_EMAIL_LINK  APP_REGISTR_RGN_CODE  PRC_ACCEPTS_A_POS  \\\n",
       "0                       NaN                   NaN                NaN   \n",
       "1                       0.0                   NaN                0.0   \n",
       "2                       0.0                   NaN                0.0   \n",
       "3                       NaN                   NaN                NaN   \n",
       "4                       NaN                   NaN                NaN   \n",
       "\n",
       "   PRC_ACCEPTS_A_TK  TURNOVER_DYNAMIC_IL_1M  CNT_TRAN_AUT_TENDENCY1M  \\\n",
       "0               NaN                     0.0                      NaN   \n",
       "1               0.0                     0.0                      NaN   \n",
       "2               0.0                     0.0                 0.666667   \n",
       "3               NaN                     0.0                      NaN   \n",
       "4               NaN                     0.0                      NaN   \n",
       "\n",
       "            ...             LDEAL_ACT_DAYS_ACC_PCT_AVG  REST_DYNAMIC_CC_3M  \\\n",
       "0           ...                                    NaN                 0.0   \n",
       "1           ...                                    NaN                 0.0   \n",
       "2           ...                                    NaN                 0.0   \n",
       "3           ...                                    NaN                 0.0   \n",
       "4           ...                                    NaN                 0.0   \n",
       "\n",
       "   MED_DEBT_PRC_YWZ  LDEAL_ACT_DAYS_PCT_TR3 LDEAL_ACT_DAYS_PCT_AAVG  \\\n",
       "0               NaN                     NaN                     NaN   \n",
       "1               NaN                     NaN                     NaN   \n",
       "2               NaN                     NaN                     NaN   \n",
       "3               NaN                     NaN                     NaN   \n",
       "4               NaN                     NaN                     NaN   \n",
       "\n",
       "   LDEAL_DELINQ_PER_MAXYWZ  TURNOVER_DYNAMIC_CC_3M  LDEAL_ACT_DAYS_PCT_TR  \\\n",
       "0                      NaN                     0.0                    NaN   \n",
       "1                      NaN                     0.0                    NaN   \n",
       "2                      NaN                     0.0                    NaN   \n",
       "3                      NaN                     0.0                    NaN   \n",
       "4                      NaN                     0.0                    NaN   \n",
       "\n",
       "   LDEAL_ACT_DAYS_PCT_TR4  LDEAL_ACT_DAYS_PCT_CURR  \n",
       "0                     NaN                      NaN  \n",
       "1                     NaN                      NaN  \n",
       "2                     NaN                      NaN  \n",
       "3                     NaN                      NaN  \n",
       "4                     NaN                      NaN  \n",
       "\n",
       "[5 rows x 116 columns]"
      ]
     },
     "execution_count": 8,
     "metadata": {},
     "output_type": "execute_result"
    }
   ],
   "source": [
    "data_test.head()"
   ]
  },
  {
   "cell_type": "code",
   "execution_count": 9,
   "metadata": {},
   "outputs": [],
   "source": [
    "pd.options.display.max_info_columns = 150"
   ]
  },
  {
   "cell_type": "code",
   "execution_count": 10,
   "metadata": {
    "scrolled": true
   },
   "outputs": [
    {
     "name": "stdout",
     "output_type": "stream",
     "text": [
      "<class 'pandas.core.frame.DataFrame'>\n",
      "Int64Index: 365163 entries, 0 to 44398\n",
      "Data columns (total 116 columns):\n",
      "Unnamed: 0                     365163 non-null int64\n",
      "ID                             365163 non-null int64\n",
      "CR_PROD_CNT_IL                 365163 non-null int64\n",
      "AMOUNT_RUB_CLO_PRC             325819 non-null float64\n",
      "PRC_ACCEPTS_A_EMAIL_LINK       159328 non-null float64\n",
      "APP_REGISTR_RGN_CODE           62375 non-null float64\n",
      "PRC_ACCEPTS_A_POS              159328 non-null float64\n",
      "PRC_ACCEPTS_A_TK               159328 non-null float64\n",
      "TURNOVER_DYNAMIC_IL_1M         365162 non-null float64\n",
      "CNT_TRAN_AUT_TENDENCY1M        79202 non-null float64\n",
      "SUM_TRAN_AUT_TENDENCY1M        79202 non-null float64\n",
      "AMOUNT_RUB_SUP_PRC             325818 non-null float64\n",
      "PRC_ACCEPTS_A_AMOBILE          159328 non-null float64\n",
      "SUM_TRAN_AUT_TENDENCY3M        113975 non-null float64\n",
      "CLNT_TRUST_RELATION            71477 non-null object\n",
      "PRC_ACCEPTS_TK                 159328 non-null float64\n",
      "PRC_ACCEPTS_A_MTP              159328 non-null float64\n",
      "REST_DYNAMIC_FDEP_1M           365162 non-null float64\n",
      "CNT_TRAN_AUT_TENDENCY3M        113975 non-null float64\n",
      "CNT_ACCEPTS_TK                 159328 non-null float64\n",
      "APP_MARITAL_STATUS             70244 non-null object\n",
      "REST_DYNAMIC_SAVE_3M           365162 non-null float64\n",
      "CR_PROD_CNT_VCU                365162 non-null float64\n",
      "REST_AVG_CUR                   365162 non-null float64\n",
      "CNT_TRAN_MED_TENDENCY1M        70976 non-null float64\n",
      "APP_KIND_OF_PROP_HABITATION    61100 non-null object\n",
      "CLNT_JOB_POSITION_TYPE         46070 non-null object\n",
      "AMOUNT_RUB_NAS_PRC             325818 non-null float64\n",
      "CLNT_JOB_POSITION              216753 non-null object\n",
      "APP_DRIVING_LICENSE            59024 non-null object\n",
      "TRANS_COUNT_SUP_PRC            325818 non-null float64\n",
      "APP_EDUCATION                  70118 non-null object\n",
      "CNT_TRAN_CLO_TENDENCY1M        68024 non-null float64\n",
      "SUM_TRAN_MED_TENDENCY1M        70976 non-null float64\n",
      "PRC_ACCEPTS_A_ATM              159328 non-null float64\n",
      "PRC_ACCEPTS_MTP                159328 non-null float64\n",
      "TRANS_COUNT_NAS_PRC            325818 non-null float64\n",
      "APP_TRAVEL_PASS                59024 non-null object\n",
      "CNT_ACCEPTS_MTP                159328 non-null float64\n",
      "CR_PROD_CNT_TOVR               365162 non-null float64\n",
      "APP_CAR                        59023 non-null object\n",
      "CR_PROD_CNT_PIL                365162 non-null float64\n",
      "SUM_TRAN_CLO_TENDENCY1M        68024 non-null float64\n",
      "APP_POSITION_TYPE              62308 non-null object\n",
      "TURNOVER_CC                    365162 non-null float64\n",
      "TRANS_COUNT_ATM_PRC            325818 non-null float64\n",
      "AMOUNT_RUB_ATM_PRC             325818 non-null float64\n",
      "TURNOVER_PAYM                  365162 non-null float64\n",
      "AGE                            365162 non-null float64\n",
      "CNT_TRAN_MED_TENDENCY3M        119128 non-null float64\n",
      "CR_PROD_CNT_CC                 365162 non-null float64\n",
      "SUM_TRAN_MED_TENDENCY3M        119128 non-null float64\n",
      "REST_DYNAMIC_FDEP_3M           365162 non-null float64\n",
      "REST_DYNAMIC_IL_1M             365162 non-null float64\n",
      "APP_EMP_TYPE                   69351 non-null object\n",
      "SUM_TRAN_CLO_TENDENCY3M        118005 non-null float64\n",
      "LDEAL_TENOR_MAX                8339 non-null float64\n",
      "LDEAL_YQZ_CHRG                 1296 non-null float64\n",
      "CR_PROD_CNT_CCFP               365162 non-null float64\n",
      "DEAL_YQZ_IR_MAX                8339 non-null float64\n",
      "LDEAL_YQZ_COM                  1273 non-null float64\n",
      "DEAL_YQZ_IR_MIN                8339 non-null float64\n",
      "CNT_TRAN_CLO_TENDENCY3M        118005 non-null float64\n",
      "REST_DYNAMIC_CUR_1M            365162 non-null float64\n",
      "REST_AVG_PAYM                  365162 non-null float64\n",
      "LDEAL_TENOR_MIN                8339 non-null float64\n",
      "LDEAL_AMT_MONTH                1937 non-null float64\n",
      "APP_COMP_TYPE                  69351 non-null object\n",
      "LDEAL_GRACE_DAYS_PCT_MED       365162 non-null float64\n",
      "REST_DYNAMIC_CUR_3M            365162 non-null float64\n",
      "CNT_TRAN_SUP_TENDENCY3M        204358 non-null float64\n",
      "TURNOVER_DYNAMIC_CUR_1M        365162 non-null float64\n",
      "REST_DYNAMIC_PAYM_3M           365162 non-null float64\n",
      "SUM_TRAN_SUP_TENDENCY3M        204358 non-null float64\n",
      "REST_DYNAMIC_IL_3M             365162 non-null float64\n",
      "CNT_TRAN_ATM_TENDENCY3M        262618 non-null float64\n",
      "CNT_TRAN_ATM_TENDENCY1M        211526 non-null float64\n",
      "TURNOVER_DYNAMIC_IL_3M         365162 non-null float64\n",
      "SUM_TRAN_ATM_TENDENCY3M        262618 non-null float64\n",
      "DEAL_GRACE_DAYS_ACC_S1X1       72487 non-null float64\n",
      "AVG_PCT_MONTH_TO_PCLOSE        1669 non-null float64\n",
      "DEAL_YWZ_IR_MIN                98539 non-null float64\n",
      "SUM_TRAN_SUP_TENDENCY1M        160359 non-null float64\n",
      "DEAL_YWZ_IR_MAX                98539 non-null float64\n",
      "SUM_TRAN_ATM_TENDENCY1M        211526 non-null float64\n",
      "REST_DYNAMIC_PAYM_1M           365162 non-null float64\n",
      "CNT_TRAN_SUP_TENDENCY1M        160359 non-null float64\n",
      "DEAL_GRACE_DAYS_ACC_AVG        71444 non-null float64\n",
      "TURNOVER_DYNAMIC_CUR_3M        365162 non-null float64\n",
      "PACK                           365162 non-null object\n",
      "MAX_PCLOSE_DATE                1931 non-null float64\n",
      "LDEAL_YQZ_PC                   2885 non-null float64\n",
      "CLNT_SETUP_TENOR               365162 non-null float64\n",
      "DEAL_GRACE_DAYS_ACC_MAX        71444 non-null float64\n",
      "TURNOVER_DYNAMIC_PAYM_3M       365162 non-null float64\n",
      "LDEAL_DELINQ_PER_MAXYQZ        8339 non-null float64\n",
      "TURNOVER_DYNAMIC_PAYM_1M       365162 non-null float64\n",
      "CLNT_SALARY_VALUE              729 non-null float64\n",
      "TRANS_AMOUNT_TENDENCY3M        311792 non-null float64\n",
      "MED_DEBT_PRC_YQZ               8339 non-null float64\n",
      "TRANS_CNT_TENDENCY3M           311792 non-null float64\n",
      "LDEAL_USED_AMT_AVG_YQZ         8339 non-null float64\n",
      "REST_DYNAMIC_CC_1M             365162 non-null float64\n",
      "LDEAL_USED_AMT_AVG_YWZ         98539 non-null float64\n",
      "TURNOVER_DYNAMIC_CC_1M         365162 non-null float64\n",
      "AVG_PCT_DEBT_TO_DEAL_AMT       1937 non-null float64\n",
      "LDEAL_ACT_DAYS_ACC_PCT_AVG     96209 non-null float64\n",
      "REST_DYNAMIC_CC_3M             365162 non-null float64\n",
      "MED_DEBT_PRC_YWZ               98539 non-null float64\n",
      "LDEAL_ACT_DAYS_PCT_TR3         96209 non-null float64\n",
      "LDEAL_ACT_DAYS_PCT_AAVG        101060 non-null float64\n",
      "LDEAL_DELINQ_PER_MAXYWZ        98539 non-null float64\n",
      "TURNOVER_DYNAMIC_CC_3M         365162 non-null float64\n",
      "LDEAL_ACT_DAYS_PCT_TR          96209 non-null float64\n",
      "LDEAL_ACT_DAYS_PCT_TR4         96209 non-null float64\n",
      "LDEAL_ACT_DAYS_PCT_CURR        96209 non-null float64\n",
      "dtypes: float64(100), int64(3), object(13)\n",
      "memory usage: 326.0+ MB\n"
     ]
    }
   ],
   "source": [
    "data.info()"
   ]
  },
  {
   "cell_type": "markdown",
   "metadata": {},
   "source": [
    "### Очистка данных"
   ]
  },
  {
   "cell_type": "code",
   "execution_count": 11,
   "metadata": {},
   "outputs": [],
   "source": [
    "#наполняем пропуски нулями для чисел и UNKNOWN для строк\n",
    "data_filled = pd.concat([\n",
    "    data.loc[:, data.dtypes==np.object].fillna('UNKNOWN'),\n",
    "    data.loc[:, data.dtypes==np.float64].fillna(0),\n",
    "    data.loc[:, data.dtypes==np.int64].fillna(0),\n",
    "], axis=1)"
   ]
  },
  {
   "cell_type": "code",
   "execution_count": 12,
   "metadata": {},
   "outputs": [],
   "source": [
    "#убираем ненужные (неинформативные) колонки\n",
    "data_clean = data_filled.drop(['ID', \"Unnamed: 0\", 'CLNT_JOB_POSITION'],axis=1)"
   ]
  },
  {
   "cell_type": "code",
   "execution_count": 13,
   "metadata": {},
   "outputs": [],
   "source": [
    "# а может еще что-то убрать? Колонки, в которых слишком много пропусков?\n",
    "# Ваш код здесь\n"
   ]
  },
  {
   "cell_type": "markdown",
   "metadata": {},
   "source": [
    "### Новые признаки"
   ]
  },
  {
   "cell_type": "code",
   "execution_count": 14,
   "metadata": {},
   "outputs": [],
   "source": [
    "### One Hot Encoding категориальных переменных (числовые остаются как есть)\n",
    "data_clean_dummies = pd.get_dummies(data_clean)"
   ]
  },
  {
   "cell_type": "code",
   "execution_count": 15,
   "metadata": {},
   "outputs": [],
   "source": [
    "data_clean_dummies_columns = list(data_clean_dummies.columns)"
   ]
  },
  {
   "cell_type": "markdown",
   "metadata": {},
   "source": [
    "### Подготовка к обучению"
   ]
  },
  {
   "cell_type": "code",
   "execution_count": 16,
   "metadata": {},
   "outputs": [],
   "source": [
    "#масштабирование\n",
    "from sklearn.preprocessing import StandardScaler\n",
    "\n",
    "data_clean_dummies = StandardScaler().fit_transform(data_clean_dummies)"
   ]
  },
  {
   "cell_type": "code",
   "execution_count": 17,
   "metadata": {},
   "outputs": [],
   "source": [
    "#сначала разбиваем объединенный датафрейм назад на тест и трейн\n",
    "assert data_train.shape[0] + data_test.shape[0] == data_clean_dummies.shape[0]\n",
    "\n",
    "train, test = data_clean_dummies[:data_train.shape[0]], \\\n",
    "              data_clean_dummies[data_train.shape[0]:]\n",
    "    \n",
    "#train, test = data_clean_dummies.iloc[:data_train.shape[0]], \\\n",
    "#              data_clean_dummies.iloc[data_train.shape[0]:]"
   ]
  },
  {
   "cell_type": "code",
   "execution_count": 18,
   "metadata": {},
   "outputs": [],
   "source": [
    "#from sklearn.preprocessing import scale\n",
    "\n",
    "#train[['AGE', 'CLNT_SETUP_TENOR', 'REST_AVG_CUR']] = train[['AGE', 'CLNT_SETUP_TENOR', 'REST_AVG_CUR']].fillna(0).apply(scale)\n",
    "\n",
    "#test[['AGE', 'CLNT_SETUP_TENOR', 'REST_AVG_CUR']] = test[['AGE', 'CLNT_SETUP_TENOR', 'REST_AVG_CUR']].fillna(0).apply(scale)"
   ]
  },
  {
   "cell_type": "code",
   "execution_count": 18,
   "metadata": {},
   "outputs": [],
   "source": [
    "#Разбиваем данные на train + validation set\n",
    "from sklearn.model_selection import train_test_split\n",
    "x_tr, x_val, y_tr, y_val = train_test_split(train, y_train, test_size=0.1, random_state=42)"
   ]
  },
  {
   "cell_type": "markdown",
   "metadata": {},
   "source": [
    "### Модель Logistic Regression"
   ]
  },
  {
   "cell_type": "code",
   "execution_count": 19,
   "metadata": {},
   "outputs": [],
   "source": [
    "from sklearn.linear_model import LogisticRegression\n",
    "from sklearn.metrics import roc_auc_score, roc_curve, precision_recall_curve\n"
   ]
  },
  {
   "cell_type": "code",
   "execution_count": 20,
   "metadata": {
    "scrolled": false
   },
   "outputs": [
    {
     "data": {
      "text/plain": [
       "LogisticRegression(C=1.0, class_weight=None, dual=False, fit_intercept=True,\n",
       "          intercept_scaling=1, max_iter=100, multi_class='ovr', n_jobs=1,\n",
       "          penalty='l2', random_state=42, solver='liblinear', tol=0.0001,\n",
       "          verbose=0, warm_start=False)"
      ]
     },
     "execution_count": 20,
     "metadata": {},
     "output_type": "execute_result"
    }
   ],
   "source": [
    "#все параметры по умолчанию\n",
    "lr_model=LogisticRegression(random_state=42)\n",
    "\n",
    "lr_model.fit(x_tr, y_tr)"
   ]
  },
  {
   "cell_type": "code",
   "execution_count": 21,
   "metadata": {
    "scrolled": true
   },
   "outputs": [
    {
     "data": {
      "text/plain": [
       "0.7353356771146403"
      ]
     },
     "execution_count": 21,
     "metadata": {},
     "output_type": "execute_result"
    }
   ],
   "source": [
    "#предскажываем для валидационного датасета\n",
    "pred = lr_model.predict_proba(x_val)\n",
    "#cчитаем скор для валидационного\n",
    "roc_auc_score(y_val, pred[:, 1])"
   ]
  },
  {
   "cell_type": "markdown",
   "metadata": {},
   "source": [
    "### Модель Logistic Regression c перекрестной валидацией и подбором параметра регуляризации (L2)"
   ]
  },
  {
   "cell_type": "code",
   "execution_count": 22,
   "metadata": {
    "scrolled": true
   },
   "outputs": [
    {
     "data": {
      "text/plain": [
       "LogisticRegressionCV(Cs=array([0.01   , 0.03162, 0.1    , 0.31623, 1.     ]),\n",
       "           class_weight='balanced',\n",
       "           cv=StratifiedKFold(n_splits=5, random_state=42, shuffle=False),\n",
       "           dual=False, fit_intercept=True, intercept_scaling=1.0,\n",
       "           max_iter=100, multi_class='ovr', n_jobs=8, penalty='l2',\n",
       "           random_state=42, refit=True, scoring='roc_auc', solver='lbfgs',\n",
       "           tol=0.0001, verbose=0)"
      ]
     },
     "execution_count": 22,
     "metadata": {},
     "output_type": "execute_result"
    }
   ],
   "source": [
    "from sklearn.linear_model import LogisticRegressionCV\n",
    "from sklearn.model_selection import StratifiedKFold\n",
    "\n",
    "#определяем объект для стратифицированной разбивки, фиксируем seed для повторяемости результата.\n",
    "skf = StratifiedKFold(n_splits=5, random_state=42)\n",
    "\n",
    "# Модели *CV умеют подбирать гиперпараметры на кросвалидации, \n",
    "# и делают более оптимально, нежели обертка в GridSearchCV\n",
    "# В этой модели можно подобрать коэффициент регуляризации С\n",
    "# из заданного множества.\n",
    "lr_model1 = LogisticRegressionCV(\n",
    "    random_state=42, \n",
    "    class_weight='balanced', # компенсация дисбаланса классов\n",
    "    Cs=np.logspace(-2, 0, num=5, base=10), # 0.01, 0.1, 1, 10, 100\n",
    "    cv=skf, \n",
    "    scoring='roc_auc',\n",
    "    n_jobs=8,\n",
    ")\n",
    "\n",
    "lr_model1.fit(x_tr, y_tr)"
   ]
  },
  {
   "cell_type": "code",
   "execution_count": 23,
   "metadata": {},
   "outputs": [
    {
     "data": {
      "text/plain": [
       "array([1.])"
      ]
     },
     "execution_count": 23,
     "metadata": {},
     "output_type": "execute_result"
    }
   ],
   "source": [
    "#какой коеффициент подобрала модель?\n",
    "lr_model1.C_"
   ]
  },
  {
   "cell_type": "code",
   "execution_count": 24,
   "metadata": {},
   "outputs": [
    {
     "data": {
      "text/plain": [
       "0.7322257183196864"
      ]
     },
     "execution_count": 24,
     "metadata": {},
     "output_type": "execute_result"
    }
   ],
   "source": [
    "#предсказания на валидации\n",
    "pred = lr_model1.predict_proba(x_val)\n",
    "roc_auc_score(y_val, pred[:, 1])"
   ]
  },
  {
   "cell_type": "markdown",
   "metadata": {},
   "source": [
    "### Модель Logistic Regression c L1 регуляризацией"
   ]
  },
  {
   "cell_type": "code",
   "execution_count": 25,
   "metadata": {
    "scrolled": true
   },
   "outputs": [
    {
     "name": "stdout",
     "output_type": "stream",
     "text": [
      "CPU times: user 20min 16s, sys: 9.42 s, total: 20min 25s\n",
      "Wall time: 20min 17s\n"
     ]
    }
   ],
   "source": [
    "%%time\n",
    "#давайте попробуем с регуляризацией L1.\n",
    "#! долгое обучение ~20 минут\n",
    "lr_model2=LogisticRegression(\n",
    "    random_state=42, \n",
    "    penalty='l1', \n",
    "    class_weight='balanced', \n",
    "#    solver='saga', n_jobs=12,\n",
    ")\n",
    "\n",
    "lr_model2.fit(x_tr, y_tr)"
   ]
  },
  {
   "cell_type": "code",
   "execution_count": 26,
   "metadata": {
    "scrolled": true
   },
   "outputs": [
    {
     "data": {
      "text/plain": [
       "0.732235955892431"
      ]
     },
     "execution_count": 26,
     "metadata": {},
     "output_type": "execute_result"
    }
   ],
   "source": [
    "pred = lr_model2.predict_proba(x_val)\n",
    "roc_auc_score(y_val, pred[:, 1])"
   ]
  },
  {
   "cell_type": "markdown",
   "metadata": {},
   "source": [
    "### Модель DecisionTree"
   ]
  },
  {
   "cell_type": "code",
   "execution_count": 27,
   "metadata": {},
   "outputs": [],
   "source": [
    "from sklearn.tree import DecisionTreeClassifier"
   ]
  },
  {
   "cell_type": "code",
   "execution_count": 28,
   "metadata": {},
   "outputs": [
    {
     "data": {
      "text/plain": [
       "DecisionTreeClassifier(class_weight='balanced', criterion='gini', max_depth=7,\n",
       "            max_features=None, max_leaf_nodes=None,\n",
       "            min_impurity_decrease=0.0, min_impurity_split=None,\n",
       "            min_samples_leaf=1, min_samples_split=2,\n",
       "            min_weight_fraction_leaf=0.0, presort=False, random_state=42,\n",
       "            splitter='best')"
      ]
     },
     "execution_count": 28,
     "metadata": {},
     "output_type": "execute_result"
    }
   ],
   "source": [
    "# пробуем глубину дерева 7. \n",
    "# Проведите поиск сами\n",
    "dt_model = DecisionTreeClassifier(random_state=42, \n",
    "                                  class_weight='balanced',\n",
    "                                  max_depth=7)\n",
    "\n",
    "dt_model.fit(x_tr, y_tr)"
   ]
  },
  {
   "cell_type": "code",
   "execution_count": 29,
   "metadata": {
    "scrolled": true
   },
   "outputs": [
    {
     "data": {
      "text/plain": [
       "0.8113690706031441"
      ]
     },
     "execution_count": 29,
     "metadata": {},
     "output_type": "execute_result"
    }
   ],
   "source": [
    "pred = dt_model.predict_proba(x_val)\n",
    "roc_auc_score(y_val, pred[:, 1])"
   ]
  },
  {
   "cell_type": "markdown",
   "metadata": {},
   "source": [
    "### Ура, наконец-то! "
   ]
  },
  {
   "cell_type": "code",
   "execution_count": 30,
   "metadata": {},
   "outputs": [
    {
     "data": {
      "text/plain": [
       "DecisionTreeClassifier(class_weight='balanced', criterion='gini', max_depth=7,\n",
       "            max_features=None, max_leaf_nodes=None,\n",
       "            min_impurity_decrease=0.0, min_impurity_split=None,\n",
       "            min_samples_leaf=1, min_samples_split=2,\n",
       "            min_weight_fraction_leaf=0.0, presort=False, random_state=42,\n",
       "            splitter='best')"
      ]
     },
     "execution_count": 30,
     "metadata": {},
     "output_type": "execute_result"
    }
   ],
   "source": [
    "#обучим на полной выборке - для более точного результата.\n",
    "dt_model.fit(train, y_train)"
   ]
  },
  {
   "cell_type": "code",
   "execution_count": 31,
   "metadata": {},
   "outputs": [],
   "source": [
    "#предсказывем на данной нам тестовой выборке\n",
    "pred1 = dt_model.predict_proba(test)"
   ]
  },
  {
   "cell_type": "markdown",
   "metadata": {},
   "source": [
    "### Вывод результатата"
   ]
  },
  {
   "cell_type": "code",
   "execution_count": 32,
   "metadata": {},
   "outputs": [],
   "source": [
    "#сразу в файл\n",
    "pd.DataFrame(\n",
    "    {'id':data_test['ID'].values, \n",
    "     'target':pred1[:,1]}\n",
    ").to_csv('lab04.csv', index=False, sep='\\t')"
   ]
  },
  {
   "cell_type": "markdown",
   "metadata": {},
   "source": [
    "### Отрисуем дерево для наглядности"
   ]
  },
  {
   "cell_type": "code",
   "execution_count": 33,
   "metadata": {},
   "outputs": [
    {
     "data": {
      "text/plain": [
       "array([[-3.79630982e-01,  0.00000000e+00, -4.10960935e-01, ...,\n",
       "        -4.37834318e-03, -4.07439267e-01, -1.65484458e-03],\n",
       "       [-3.79630982e-01,  0.00000000e+00, -4.10960935e-01, ...,\n",
       "        -4.37834318e-03, -4.07439267e-01, -1.65484458e-03],\n",
       "       [-3.79630982e-01,  0.00000000e+00, -4.10960935e-01, ...,\n",
       "        -4.37834318e-03, -4.07439267e-01, -1.65484458e-03],\n",
       "       ...,\n",
       "       [-7.70522121e-02,  0.00000000e+00, -4.10960935e-01, ...,\n",
       "        -4.37834318e-03, -4.07439267e-01, -1.65484458e-03],\n",
       "       [-3.27872688e-01,  0.00000000e+00,  3.22297275e+00, ...,\n",
       "        -4.37834318e-03,  2.45435352e+00, -1.65484458e-03],\n",
       "       [-8.50724242e-02,  0.00000000e+00, -4.10960935e-01, ...,\n",
       "        -4.37834318e-03,  2.45435352e+00, -1.65484458e-03]])"
      ]
     },
     "execution_count": 33,
     "metadata": {},
     "output_type": "execute_result"
    }
   ],
   "source": [
    "#нш очищенный и  преобразованный датасет\n",
    "data_clean_dummies"
   ]
  },
  {
   "cell_type": "code",
   "execution_count": 34,
   "metadata": {
    "scrolled": false
   },
   "outputs": [
    {
     "name": "stdout",
     "output_type": "stream",
     "text": [
      "dot: graph is too large for cairo-renderer bitmaps. Scaling by 0.893832 to fit\n",
      "\n"
     ]
    },
    {
     "data": {
      "application/vnd.jupyter.widget-view+json": {
       "model_id": "7ae25a1fcccd455d87d19679cc4ca8e6",
       "version_major": 2,
       "version_minor": 0
      },
      "text/plain": [
       "Image(value=b'\\x89PNG\\r\\n\\x1a\\n\\x00\\x00\\x00\\rIHDR\\x00\\x00\\x7f\\xff\\x00\\x00\\x03\\xac\\x08\\x06\\x00\\x00\\x00\\xe8 \\xc6…"
      ]
     },
     "metadata": {},
     "output_type": "display_data"
    }
   ],
   "source": [
    "#используем библиотеку graphviz\n",
    "#без промежуточного сохранения файла\n",
    "from io import StringIO\n",
    "import pydotplus \n",
    "from sklearn.tree import export_graphviz\n",
    "\n",
    "dot_data = StringIO()\n",
    "export_graphviz(dt_model, feature_names=data_clean_dummies_columns, \n",
    "                out_file=dot_data, filled=True)\n",
    "graph = pydotplus.graph_from_dot_data(dot_data.getvalue())  \n",
    "\n",
    "from ipywidgets import Image\n",
    "Image(value=graph.create_png())"
   ]
  },
  {
   "cell_type": "code",
   "execution_count": 35,
   "metadata": {
    "scrolled": true
   },
   "outputs": [
    {
     "name": "stdout",
     "output_type": "stream",
     "text": [
      "dot: graph is too large for cairo-renderer bitmaps. Scaling by 0.893832 to fit\n",
      "\n"
     ]
    }
   ],
   "source": [
    "# это картинка для просмотра в юпитере, который не показывает виджеты\n",
    "with open(\"lab04_tree.png\", \"wb\") as im:\n",
    "    im.write(graph.create_png())"
   ]
  },
  {
   "cell_type": "markdown",
   "metadata": {},
   "source": [
    "![title](tree.png)"
   ]
  },
  {
   "cell_type": "markdown",
   "metadata": {},
   "source": [
    "### Модель RandomForest"
   ]
  },
  {
   "cell_type": "code",
   "execution_count": 36,
   "metadata": {
    "scrolled": true
   },
   "outputs": [
    {
     "data": {
      "text/plain": [
       "RandomForestClassifier(bootstrap=True, class_weight=None, criterion='gini',\n",
       "            max_depth=None, max_features='auto', max_leaf_nodes=None,\n",
       "            min_impurity_decrease=0.0, min_impurity_split=None,\n",
       "            min_samples_leaf=1, min_samples_split=2,\n",
       "            min_weight_fraction_leaf=0.0, n_estimators=300, n_jobs=8,\n",
       "            oob_score=False, random_state=42, verbose=0, warm_start=False)"
      ]
     },
     "execution_count": 36,
     "metadata": {},
     "output_type": "execute_result"
    }
   ],
   "source": [
    "from sklearn.ensemble import RandomForestClassifier\n",
    "\n",
    "# Выбираем главный параметр модели - число деревьев. n_jobs - число параллельнно вычисляемых деревьев\n",
    "rf_model = RandomForestClassifier(random_state=42, n_estimators=300, n_jobs=8)\n",
    "rf_model.fit(x_tr, y_tr)"
   ]
  },
  {
   "cell_type": "code",
   "execution_count": 37,
   "metadata": {},
   "outputs": [
    {
     "data": {
      "text/plain": [
       "0.8342350709345362"
      ]
     },
     "execution_count": 37,
     "metadata": {},
     "output_type": "execute_result"
    }
   ],
   "source": [
    "pred = rf_model.predict_proba(x_val)\n",
    "roc_auc_score(y_val, pred[:, 1])"
   ]
  },
  {
   "cell_type": "markdown",
   "metadata": {},
   "source": [
    "# Суперачивка"
   ]
  },
  {
   "cell_type": "markdown",
   "metadata": {
    "collapsed": true
   },
   "source": [
    "### Модель Градиентый бустинг"
   ]
  },
  {
   "cell_type": "code",
   "execution_count": 68,
   "metadata": {},
   "outputs": [
    {
     "name": "stdout",
     "output_type": "stream",
     "text": [
      "CPU times: user 1h 37min 35s, sys: 2min 46s, total: 1h 40min 22s\n",
      "Wall time: 1h 10min 28s\n"
     ]
    }
   ],
   "source": [
    "%%time\n",
    "#! очень медленный однопоточный алгоритм\n",
    "# время выполнения ~1ч\n",
    "from sklearn.ensemble import GradientBoostingClassifier\n",
    "\n",
    "# о бустинге еще будет на занятиях\n",
    "boost_model = GradientBoostingClassifier(n_estimators=300, max_depth=7, random_state=42)\n",
    "boost_model.fit(x_tr, y_tr)\n",
    "pred = boost_model.predict_proba(x_val)"
   ]
  },
  {
   "cell_type": "code",
   "execution_count": 69,
   "metadata": {
    "scrolled": true
   },
   "outputs": [
    {
     "data": {
      "text/plain": [
       "0.8517032255038833"
      ]
     },
     "execution_count": 69,
     "metadata": {},
     "output_type": "execute_result"
    }
   ],
   "source": [
    "roc_auc_score(y_val, pred[:, 1])"
   ]
  },
  {
   "cell_type": "markdown",
   "metadata": {
    "collapsed": true
   },
   "source": [
    "### Catboost"
   ]
  },
  {
   "cell_type": "code",
   "execution_count": 38,
   "metadata": {},
   "outputs": [],
   "source": [
    "import catboost"
   ]
  },
  {
   "cell_type": "code",
   "execution_count": 39,
   "metadata": {
    "scrolled": true
   },
   "outputs": [
    {
     "data": {
      "text/plain": [
       "'0.9.1.1'"
      ]
     },
     "execution_count": 39,
     "metadata": {},
     "output_type": "execute_result"
    }
   ],
   "source": [
    "catboost.__version__"
   ]
  },
  {
   "cell_type": "code",
   "execution_count": 40,
   "metadata": {},
   "outputs": [],
   "source": [
    "#будем учитывать умение катбуста работать с категориальными признаками\n",
    "#для этого нам не нужны ОНЕ. Масштабирование деревьям тоже не нужно.\n",
    "#разделим очищенные данные, до ОНЕ кодировки\n",
    "\n",
    "assert data_train.shape[0] + data_test.shape[0] == data_clean.shape[0]\n",
    "\n",
    "train, test = data_clean.iloc[:data_train.shape[0]], \\\n",
    "              data_clean.iloc[data_train.shape[0]:]"
   ]
  },
  {
   "cell_type": "code",
   "execution_count": 41,
   "metadata": {},
   "outputs": [],
   "source": [
    "#Разбиваем данные на train + validation set\n",
    "x_tr, x_val, y_tr, y_val = train_test_split(train, y_train, test_size=0.1, random_state=42)"
   ]
  },
  {
   "cell_type": "code",
   "execution_count": 42,
   "metadata": {},
   "outputs": [],
   "source": [
    "#получим индексы категориальных колонок \n",
    "types = data_train.columns.to_series().groupby(data_train.dtypes).groups\n",
    "cat_column_names = [v for k, v in types.items() if k.name=='object']\n",
    "cat_column_indices = [i for i,col in enumerate(train.columns) if col in list(cat_column_names[0])]"
   ]
  },
  {
   "cell_type": "code",
   "execution_count": 43,
   "metadata": {},
   "outputs": [
    {
     "data": {
      "text/plain": [
       "[(0, 'CLNT_TRUST_RELATION'),\n",
       " (1, 'APP_MARITAL_STATUS'),\n",
       " (2, 'APP_KIND_OF_PROP_HABITATION'),\n",
       " (3, 'CLNT_JOB_POSITION_TYPE'),\n",
       " (4, 'CLNT_JOB_POSITION'),\n",
       " (5, 'APP_DRIVING_LICENSE'),\n",
       " (6, 'APP_EDUCATION'),\n",
       " (7, 'APP_TRAVEL_PASS'),\n",
       " (8, 'APP_CAR'),\n",
       " (9, 'APP_POSITION_TYPE'),\n",
       " (10, 'APP_EMP_TYPE'),\n",
       " (11, 'APP_COMP_TYPE')]"
      ]
     },
     "execution_count": 43,
     "metadata": {},
     "output_type": "execute_result"
    }
   ],
   "source": [
    "#вот они, категориальные колонки со своими индексами\n",
    "list(zip(cat_column_indices, cat_column_names[0]))"
   ]
  },
  {
   "cell_type": "code",
   "execution_count": 44,
   "metadata": {},
   "outputs": [],
   "source": [
    "cb_model = catboost.CatBoostClassifier(iterations=500, \n",
    "                                       depth=7, \n",
    "                                       learning_rate=0.2, \n",
    "                                       random_seed=42, verbose=False)\n"
   ]
  },
  {
   "cell_type": "code",
   "execution_count": 45,
   "metadata": {
    "scrolled": true
   },
   "outputs": [
    {
     "data": {
      "text/plain": [
       "<catboost.core.CatBoostClassifier at 0x7faa7d5966d8>"
      ]
     },
     "execution_count": 45,
     "metadata": {},
     "output_type": "execute_result"
    }
   ],
   "source": [
    "cb_model.fit(x_tr, y_tr, cat_features=cat_column_indices)"
   ]
  },
  {
   "cell_type": "code",
   "execution_count": 46,
   "metadata": {
    "scrolled": true
   },
   "outputs": [
    {
     "data": {
      "text/plain": [
       "0.8509148271318733"
      ]
     },
     "execution_count": 46,
     "metadata": {},
     "output_type": "execute_result"
    }
   ],
   "source": [
    "pred=cb_model.predict_proba(x_val)\n",
    "roc_auc_score(y_val, pred[:, 1])"
   ]
  },
  {
   "cell_type": "code",
   "execution_count": 47,
   "metadata": {},
   "outputs": [],
   "source": [
    "#0.8464 depth=5 \n",
    "#0.8509 depth=7, i=500, lr-0.2"
   ]
  },
  {
   "cell_type": "code",
   "execution_count": 48,
   "metadata": {
    "scrolled": true
   },
   "outputs": [],
   "source": [
    "#на всех данных\n",
    "cb_model.fit(train, y_train, cat_features=cat_column_indices)\n",
    "pred=cb_model.predict_proba(test)"
   ]
  },
  {
   "cell_type": "code",
   "execution_count": 49,
   "metadata": {},
   "outputs": [],
   "source": [
    "#сразу в файл\n",
    "pd.DataFrame(\n",
    "    {'id':data_test['ID'].values, \n",
    "     'target':pred[:,1]}\n",
    ").to_csv('lab04s.csv', index=False, sep='\\t')"
   ]
  },
  {
   "cell_type": "markdown",
   "metadata": {},
   "source": [
    "## Попробуйте сами\n",
    "\n",
    "- тюнинг гиперпараметров\n",
    "- xgboost, lightgbm - другие алгоритмы бустинга."
   ]
  }
 ],
 "metadata": {
  "kernelspec": {
   "display_name": "Python 3",
   "language": "python",
   "name": "python3"
  },
  "language_info": {
   "codemirror_mode": {
    "name": "ipython",
    "version": 3
   },
   "file_extension": ".py",
   "mimetype": "text/x-python",
   "name": "python",
   "nbconvert_exporter": "python",
   "pygments_lexer": "ipython3",
   "version": "3.6.5"
  }
 },
 "nbformat": 4,
 "nbformat_minor": 2
}
