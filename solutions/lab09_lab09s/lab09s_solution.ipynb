{
 "cells": [
  {
   "cell_type": "code",
   "execution_count": 1,
   "metadata": {},
   "outputs": [
    {
     "name": "stdout",
     "output_type": "stream",
     "text": [
      "Welcome to\n",
      "      ____              __\n",
      "     / __/__  ___ _____/ /__\n",
      "    _\\ \\/ _ \\/ _ `/ __/  '_/\n",
      "   /__ / .__/\\_,_/_/ /_/\\_\\   version 2.3.2\n",
      "      /_/\n",
      "\n",
      "Using Python version 3.6.5 (default, Apr 29 2018 16:14:56)\n",
      "SparkSession available as 'spark'.\n"
     ]
    }
   ],
   "source": [
    "import os\n",
    "import sys\n",
    "\n",
    "os.environ[\"PYSPARK_SUBMIT_ARGS\"]='pyspark-shell'\n",
    "os.environ[\"PYSPARK_PYTHON\"]='/opt/anaconda/envs/bd9/bin/python'\n",
    "os.environ[\"SPARK_HOME\"]='/usr/hdp/current/spark2-client'\n",
    "\n",
    "spark_home = os.environ.get('SPARK_HOME', None)\n",
    "if not spark_home:\n",
    "    raise ValueError('SPARK_HOME environment variable is not set')\n",
    "sys.path.insert(0, os.path.join(spark_home, 'python'))\n",
    "sys.path.insert(0, os.path.join(spark_home, 'python/lib/py4j-0.10.7-src.zip'))\n",
    "exec(open(os.path.join(spark_home, 'python/pyspark/shell.py')).read())"
   ]
  },
  {
   "cell_type": "code",
   "execution_count": 2,
   "metadata": {},
   "outputs": [],
   "source": [
    "sc.setCheckpointDir('checkpoint/')"
   ]
  },
  {
   "cell_type": "code",
   "execution_count": 3,
   "metadata": {},
   "outputs": [],
   "source": [
    "import pyspark.sql.functions as F\n",
    "from pyspark.ml.recommendation import ALS\n",
    "from pyspark.sql.types import StructType,\\\n",
    "                              StructField,\\\n",
    "                              IntegerType,\\\n",
    "                              FloatType"
   ]
  },
  {
   "cell_type": "code",
   "execution_count": 4,
   "metadata": {},
   "outputs": [],
   "source": [
    "test = spark.read.csv(\n",
    "    '/labs/lab09data/test.csv',\n",
    "    sep=',',\n",
    "    header=True,\n",
    "    schema=StructType([StructField(\"userId\", IntegerType(), True),\n",
    "                       StructField(\"movieId\", IntegerType(), True),\n",
    "                       StructField(\"rating\", FloatType(), True)]))"
   ]
  },
  {
   "cell_type": "code",
   "execution_count": 5,
   "metadata": {},
   "outputs": [],
   "source": [
    "train = spark.read.csv(\n",
    "    '/labs/lab09data/train.csv',\n",
    "    sep=',',\n",
    "    header=True,\n",
    "    schema=StructType([StructField(\"userId\", IntegerType(), True),\n",
    "                       StructField(\"movieId\", IntegerType(), True),\n",
    "                       StructField(\"rating\", FloatType(), True)]))\n",
    "\n",
    "train_count = train.count()"
   ]
  },
  {
   "cell_type": "code",
   "execution_count": 6,
   "metadata": {},
   "outputs": [],
   "source": [
    "train_avg = train.groupBy('movieId').agg(F.avg(F.col('rating')).name('avg'))"
   ]
  },
  {
   "cell_type": "code",
   "execution_count": 7,
   "metadata": {},
   "outputs": [
    {
     "data": {
      "text/plain": [
       "ALS_44d39174169e93e9ec8d"
      ]
     },
     "execution_count": 7,
     "metadata": {},
     "output_type": "execute_result"
    }
   ],
   "source": [
    "als = ALS()\n",
    "als.setMaxIter(20)\\\n",
    "   .setRank(26)\\\n",
    "   .setSeed(train_count)\\\n",
    "   .setRegParam(0.1)\\\n",
    "   .setUserCol('userId')\\\n",
    "   .setItemCol('movieId')\\\n",
    "   .setRatingCol('rating') "
   ]
  },
  {
   "cell_type": "code",
   "execution_count": 8,
   "metadata": {},
   "outputs": [],
   "source": [
    "model = als.fit(train)"
   ]
  },
  {
   "cell_type": "code",
   "execution_count": 11,
   "metadata": {},
   "outputs": [],
   "source": [
    "df = model.transform(test)\\\n",
    ".join(train_avg.select(['movieId', 'avg']), on='movieId', how='left')\\\n",
    "          .select('userId', \n",
    "                  'movieId', \n",
    "                  'rating',\n",
    "                  F.nanvl(F.col('prediction'), F.col('avg')).name('prediction'))\\\n",
    "          .select('userId', 'movieId', F.col('prediction').name('rating'))\\\n",
    "          .orderBy(['userId', 'movieId'])"
   ]
  },
  {
   "cell_type": "code",
   "execution_count": 12,
   "metadata": {},
   "outputs": [],
   "source": [
    "#write to HDFS\n",
    "# df.coalesce(1)\\\n",
    "#   .write\\\n",
    "#   .format(\"com.databricks.spark.csv\")\\\n",
    "#   .option(\"header\", \"true\")\\\n",
    "#   .save('lab09.csv')"
   ]
  },
  {
   "cell_type": "code",
   "execution_count": 13,
   "metadata": {},
   "outputs": [
    {
     "data": {
      "text/plain": [
       "[Row(userId=1, movieId=1414, rating=3.9007809162139893),\n",
       " Row(userId=1, movieId=2346, rating=3.8205642700195312),\n",
       " Row(userId=1, movieId=5278, rating=2.7914698123931885),\n",
       " Row(userId=1, movieId=9303, rating=4.027804374694824),\n",
       " Row(userId=1, movieId=11817, rating=4.475154399871826)]"
      ]
     },
     "execution_count": 13,
     "metadata": {},
     "output_type": "execute_result"
    }
   ],
   "source": [
    "df.take(5)"
   ]
  },
  {
   "cell_type": "code",
   "execution_count": 14,
   "metadata": {},
   "outputs": [],
   "source": [
    "#write to local file system\n",
    "#spark.conf.set(\"spark.sql.execution.arrow.enabled\", \"false\")\n",
    "\n",
    "df.toPandas().to_csv(\"/data/home/oksana.strashynskaya/lab09s.csv\",index=False)"
   ]
  }
 ],
 "metadata": {
  "kernelspec": {
   "display_name": "Python 3",
   "language": "python",
   "name": "python3"
  },
  "language_info": {
   "codemirror_mode": {
    "name": "ipython",
    "version": 3
   },
   "file_extension": ".py",
   "mimetype": "text/x-python",
   "name": "python",
   "nbconvert_exporter": "python",
   "pygments_lexer": "ipython3",
   "version": "3.6.5"
  }
 },
 "nbformat": 4,
 "nbformat_minor": 2
}
